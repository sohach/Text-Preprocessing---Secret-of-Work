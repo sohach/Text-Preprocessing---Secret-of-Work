{
  "nbformat": 4,
  "nbformat_minor": 0,
  "metadata": {
    "colab": {
      "name": "Text Processing-Secret of Work.ipynb",
      "provenance": [],
      "collapsed_sections": [],
      "authorship_tag": "ABX9TyOGwO/w/6pFDMJYbTDBLheu"
    },
    "kernelspec": {
      "name": "python3",
      "display_name": "Python 3"
    },
    "language_info": {
      "name": "python"
    }
  },
  "cells": [
    {
      "cell_type": "markdown",
      "metadata": {
        "id": "4ug3gocrizaW"
      },
      "source": [
        "### Pre-processing :\n",
        "- 1.Word Count\n",
        "- 2.Char Count\n",
        "- 3.Avg Word Count\n",
        "- 4.Stopwords Count\n",
        "- 5.Upper_counts\n",
        "- 6.Numeric_counts\n",
        "- 7.Non_stop_words\n",
        "- 8.Special Character Removal\n",
        "- 9.Word Cloud\n",
        "- 10.Exploratory Data Analysis - Distribution of Word count, Char count, Avg Word count, Non-stop words, Rare words, Top 20 - Unigram, Bigram, Tri-gram with Stopwords, Top 20 - Unigram, Bigram, Tri-gram without Stopwords, Top 20 Parts of Speech Tags Distribution "
      ]
    },
    {
      "cell_type": "code",
      "metadata": {
        "id": "if7FjgKeXEQc"
      },
      "source": [
        "from bs4 import BeautifulSoup \n",
        "from urllib.request import urlopen"
      ],
      "execution_count": null,
      "outputs": []
    },
    {
      "cell_type": "code",
      "metadata": {
        "id": "uupqiHlYvd8v",
        "colab": {
          "base_uri": "https://localhost:8080/"
        },
        "outputId": "98e2a26e-4664-4010-f03c-a73b9cb2be02"
      },
      "source": [
        "url = \"https://www.ramakrishnavivekananda.info/vivekananda/volume_1/karma-yoga/secret_of_work.htm\"\n",
        "html = urlopen(url).read()\n",
        "soup = BeautifulSoup(html)\n",
        "for script in soup([\"script\", \"style\"]):\n",
        "  script.decompose() \n",
        "\n",
        "strips = list(soup.stripped_strings)\n",
        "print(strips[13:]) "
      ],
      "execution_count": null,
      "outputs": [
        {
          "output_type": "stream",
          "text": [
            "[\"Helping\\nothers physically, by removing their physical needs, is indeed great,\\nbut the help is great according as the need is greater and according as\\nthe help is far reaching. If a man's wants can be removed for an hour,\\nit is helping him indeed; if his wants can be removed for a year, it\\nwill be more help to him; but if his wants can be removed for ever, it\\nis surely the greatest help that can be given him. Spiritual knowledge\\nis the only thing that can destroy our miseries for ever; any other\\nknowledge satisfies wants only for a time. It is only with the\\nknowledge of the spirit that the faculty of want is annihilated for\\never; so helping man spiritually is the highest help that can be given\\nto him. He who gives man spiritual knowledge is the greatest benefactor\\nof mankind and as such we always find that those were the most powerful\\nof men who helped man in his spiritual needs, because spirituality is\\nthe true basis of all our activities in life. A spiritually strong and\\nsound man will be strong in every other respect, if he so wishes. Until\\nthere is spiritual strength in man even physical needs cannot be well\\nsatisfied. Next to spiritual comes intellectual help. The gift of\\nknowledge is a far higher gift than that of food and clothes; it is\\neven higher than giving life to a man, because the real life of man\\nconsists of knowledge. Ignorance is death, knowledge is life. Life is\\nof very little value, if it is a life in the dark, groping through\\nignorance and misery. Next in order comes, of course, helping a man\\nphysically. Therefore, in considering the question of helping others,\\nwe must always strive not to commit the mistake of thinking that\\nphysical help is the only help that can be given. It is not only the\\nlast but the least, because it cannot bring\", 'about permanent satisfaction. The misery that\\nI feel when I am hungry is satisfied by eating, but hunger returns; my\\nmisery can cease only when I am satisfied beyond all want. Then hunger\\nwill not make me miserable; no distress, no sorrow will be able to move\\nme. So, that help which tends to make us strong spiritually is the\\nhighest, next to it comes intellectual help, and after that physical\\nhelp.', \"The\\nmiseries of the world cannot be cured by physical help only. Until\\nman's nature changes, these physical needs will always arise, and\\nmiseries will always be felt, and no amount of physical help will cure\\nthem completely. The only solution of this problem is to make mankind\\npure. Ignorance is the mother of all the evil and all the misery we\\nsee. Let men have light, let them be pure and spiritually strong and\\neducated, then alone will misery cease in the world, not before. We may\\nconvert every house in the country into a charity asylum, we may fill\\nthe land with hospitals, but the misery of man will still continue to\\nexist until man's character changes.\", 'We read in the\\nBhagavad-Gita again and again that we must all work incessantly. All\\nwork is by nature composed of good and evil. We cannot do any work\\nwhich will not do some good somewhere; there cannot be any work which\\nwill not cause some harm somewhere. Every work must necessarily be a\\nmixture of good and evil; yet we are commanded to work incessantly.\\nGood and evil will both have their results, will produce their Karma.\\nGood action will entail upon us good effect; bad action, bad. But good\\nand bad are both bondages of the soul. The solution reached in the Gita\\nin regard to this bondage-producing nature of work is that, if we do\\nnot attach ourselves to the work we do, it will not have any binding\\neffect on our soul. We shall try to understand what is meant by this\\n“non-attachment to” to work.', 'This is the one central idea in the Gita: work incessantly,\\nbut be not attached to it. Samskâra can be', 'translated very nearly by \"inherent tendency\". Using the simile of a\\nlake for the mind, every ripple, every wave that rises in the mind,\\nwhen it subsides, does not die out entirely, but leaves a mark and a\\nfuture possibility of that wave coming out again. This mark, with the\\npossibility of the wave reappearing, is what is called Samskâra. Every\\nwork that we do, every movement of the body, every thought that we\\nthink, leaves such an impression on the mind-stuff, and even when such\\nimpressions are not obvious on the surface, they are sufficiently\\nstrong to work beneath the surface, subconsciously. What we are every\\nmoment is determined by the sum total of these impressions on the mind.\\nWhat I am just at this moment is the effect of the sum total of all the\\nimpressions of my past life. This is really what is meant by character;\\neach man\\'s character is determined by the sum total of these\\nimpressions. If good impressions prevail, the character becomes good;\\nif bad, it becomes bad. If a man continuously hears bad words, thinks\\nbad thoughts, does bad actions, his mind will be full of bad\\nimpressions; and they will influence his thought and work without his\\nbeing conscious of the fact. In fact, these bad impressions are always\\nworking, and their resultant must be evil, and that man will be a bad\\nman; he cannot help it. The sum total of these impressions in him will\\ncreate the strong motive power for doing bad actions. He will be like a\\nmachine in the hands of his impressions, and they will force him to do\\nevil. Similarly, if a man thinks good thoughts and does good works, the\\nsum total of these impressions will be good; and they, in a similar\\nmanner, will force him to do good even in spite of himself. When a man\\nhas done so much good work and thought so many good thoughts that there\\nis an irresistible tendency in him to do good in spite of himself and\\neven if he wishes to do evil, his mind, as the sum total of his\\ntendencies, will not allow him to do so; the tendencies will turn him', \"back; he is completely under the influence of\\nthe good tendencies. When such is the case, a man's good character is\\nsaid to be established.\", 'As\\nthe tortoise tucks its feet and head inside the shell, and you may kill\\nit and break it in pieces, and yet it will not come out, even so the\\ncharacter of that man who has control over his motives and organs is\\nunchangeably established. He controls his own inner forces, and nothing\\ncan draw them out against his will. By this continuous reflex of good\\nthoughts, good impressions moving over the surface of the mind, the\\ntendency for doing good becomes strong, and as the result we feel able\\nto control the Indriyas (the sense-organs, the nerve-centres). Thus\\nalone will character be established, then alone a man gets to truth.\\nSuch a man is safe for ever; he cannot do any evil. You may place him\\nin any company, there will be no danger for him. There is a still\\nhigher state than having this good tendency, and that is the desire for\\nliberation. You must remember that freedom of the soul is the goal of\\nall Yogas, and each one equally leads to the same result. By work alone\\nmen may get to where Buddha got largely by meditation or Christ by\\nprayer. Buddha was a working Jnâni, Christ was a Bhakta, but the same\\ngoal was reached by both of them. The difficulty is here. Liberation\\nmeans entire freedom — freedom from the bondage of good, as well as\\nfrom the bondage of evil. A golden chain is as much a chain as an iron\\none. There is a thorn in my finger, and I use another to take the first\\none out; and when I have taken it out, I throw both of them aside; I\\nhave no necessity for keeping the second thorn, because both are thorns\\nafter all. So the bad tendencies are to be counteracted by the good\\nones, and the bad impressions on the mind should be removed by the\\nfresh waves of good ones, until all that is evil almost disappears, or\\nis subdued and held in control in a corner of the mind; but after that,\\nthe good tendencies', 'have also to\\nbe conquered. Thus the\\n\"attached\" becomes the \"unattached\". Work, but let not the action or\\nthe thought produce a deep impression on the mind. Let the ripples come\\nand go, let huge actions proceed from the muscles and the brain, but\\nlet them not make any deep impression on the soul.', 'How\\ncan this be done? We see that the impression of any action, to which we\\nattach ourselves, remains. I may meet hundreds of persons during the\\nday, and among them meet also one whom I love; and when I retire at\\nnight, I may try to think of all the faces I saw, but only that face\\ncomes before the mind — the face which I met perhaps only for one\\nminute, and which I loved; all the others have vanished. My attachment\\nto this particular person caused a deeper impression on my mind than\\nall the other faces. Physiologically the impressions have all been the\\nsame; every one of the faces that I saw pictured itself on the retina,\\nand the brain took the pictures in, and yet there was no similarity of\\neffect upon the mind. Most of the faces, perhaps, were entirely new\\nfaces, about which I had never thought before, but that one face of\\nwhich I got only a glimpse found associations inside. Perhaps I had\\npictured him in my mind for years, knew hundreds of things about him,\\nand this one new vision of him awakened hundreds of sleeping memories\\nin my mind; and this one impression having been repeated perhaps a\\nhundred times more than those of the different faces together, will\\nproduce a great effect on the mind.', 'Therefore, be\\n\"unattached\"; let things work; let brain centres work; work\\nincessantly, but let not a ripple conquer the mind. Work as if you were\\na stranger in this land, a sojourner; work incessantly, but do not bind\\nyourselves; bondage is terrible. This world is not our habitation, it\\nis only one of the many stages through which we are passing. Remember\\nthat great saying of the', 'Sânkhya,\\n\"The whole of nature is for the\\nsoul, not the soul for nature.\" The very reason of nature\\'s existence\\nis for the education of the soul; it has no other meaning; it is there\\nbecause the soul must have knowledge, and through knowledge free\\nitself. If we remember this always, we shall never be attached to\\nnature; we shall know that nature is a book in which we are to read,\\nand that when we have gained the required knowledge, the book is of no\\nmore value to us. Instead of that, however, we are identifying\\nourselves with nature; we are thinking that the soul is for nature,\\nthat the spirit is for the flesh, and, as the common saying has it, we\\nthink that man \"lives to eat\" and not \"eats to live\". We are\\ncontinually making this mistake; we are regarding nature as ourselves\\nand are becoming attached to it; and as soon as this attachment comes,\\nthere is the deep impression on the soul, which binds us down and makes\\nus work not from freedom but like slaves.', 'The whole gist of this teaching is that you should work like a', 'master', 'and not as a', 'slave', ';\\nwork incessantly, but do not do slave\\'s work. Do you not see how\\neverybody works? Nobody can be altogether at rest; ninety-nine per cent\\nof mankind work like slaves, and the result is misery; it is all\\nselfish work. Work through freedom! Work through love! The word \"love\"\\nis very difficult to understand; love never comes until there is\\nfreedom. There is no true love possible in the slave. If you buy a\\nslave and tie him down in chains and make him work for you, he will\\nwork like a drudge, but there will be no love in him. So when we\\nourselves work for the things of the world as slaves, there can be no\\nlove in us, and our work is not true work. This is true of work done\\nfor relatives and friends, and is true of work done for our own selves.\\nSelfish work is slave\\'s work; and here is a test. Every act of love\\nbrings happiness; there is no act of love which does not bring peace\\nand blessedness as', 'its reaction.\\nReal existence, real knowledge,\\nand real love are eternally connected with one another, the three in\\none: where one of them is, the others also must be; they are the three\\naspects of the One without a second — the Existence - Knowledge -\\nBliss. When that existence becomes relative, we see it as the world;\\nthat knowledge becomes in its turn modified into the knowledge of the\\nthings of the world; and that bliss forms the foundation of all true\\nlove known to the heart of man. Therefore true love can never react so\\nas to cause pain either to the lover or to the beloved. Suppose a man\\nloves a woman; he wishes to have her all to himself and feels extremely\\njealous about her every movement; he wants her to sit near him, to\\nstand near him, and to eat and move at his bidding. He is a slave to\\nher and wishes to have her as his slave. That is not love; it is a kind\\nof morbid affection of the slave, insinuating itself as love. It cannot\\nbe love, because it is painful; if she does not do what he wants, it\\nbrings him pain. With love there is no painful reaction; love only\\nbrings a reaction of bliss; if it does not, it is not love; it is\\nmistaking something else for love. When you have succeeded in loving\\nyour husband, your wife, your children, the whole world, the universe,\\nin such a manner that there is no reaction of pain or jealousy, no\\nselfish feeling, then you are in a fit state to be unattached.', 'Krishna\\nsays, \"Look at Me, Arjuna! If I stop from work for one moment, the\\nwhole universe will die. I have nothing to gain from work; I am the one\\nLord, but why do I work? Because I love the world.\" God is unattached\\nbecause He loves; that real love makes us unattached. Wherever there is\\nattachment, the clinging to the things of the world, you must know that\\nit is all physical attraction between sets of particles of matter —\\nsomething that attracts two bodies nearer and nearer all the time and,\\nif they cannot get near enough, produces pain; but where', 'there is', 'real', 'love, it does not\\nrest on physical attachment at all. Such lovers may be a thousand miles\\naway from one another, but their love will be all the same; it does not\\ndie, and will never produce any painful reaction.', 'To\\nattain this unattachment is almost a life-work, but as soon as we have\\nreached this point, we have attained the goal of love and become free;\\nthe bondage of nature falls from us, and we see nature as she is; she\\nforges no more chains for us; we stand entirely free and take not the\\nresults of work into consideration; who then cares for what the results\\nmay be?', 'Do you ask anything from your children in return\\nfor what you have given them? It is your duty to work for them, and\\nthere the matter ends. In whatever you do for a particular person, a\\ncity, or a state, assume the same attitude towards it as you have\\ntowards your children — expect nothing in return. If you can invariably\\ntake the position of a giver, in which everything given by you is a\\nfree offering to the world, without any thought of return, then will\\nyour work bring you no attachment. Attachment comes only where we\\nexpect a return.', 'If working like slaves results in\\nselfishness and attachment, working as master of our own mind gives\\nrise to the bliss of non-attachment. We often talk of right and\\njustice, but we find that in the world right and justice are mere\\nbaby\\'s talk. There are two things which guide the conduct of men: might\\nand mercy. The exercise of might is invariably the exercise of\\nselfishness. All men and women try to make the most of whatever power\\nor advantage they have. Mercy is heaven itself; to be good, we have all\\nto be merciful. Even justice and right should stand on mercy. All\\nthought of obtaining return for the work we do hinders our spiritual\\nprogress; nay, in the end it brings misery. There is another way in\\nwhich this idea of mercy and selfless charity can be put into practice;\\nthat is, by looking upon work as \"worship\" in', 'case we believe in a Personal God. Here we\\ngive up all the fruits our work unto the Lord, and worshipping Him\\nthus, we have no right to expect anything from mankind for the work we\\ndo. The Lord Himself works incessantly and is ever without attachment.\\nJust as water cannot wet the lotus leaf, so work cannot bind the\\nunselfish man by giving rise to attachment to results. The selfless and\\nunattached man may live in the very heart of a crowded and sinful city;\\nhe will not be touched by sin.', 'This\\nidea of complete self-sacrifice is illustrated in the following story:\\nAfter the battle of Kurukshetra the five Pândava brothers performed a\\ngreat sacrifice and made very large gifts to the poor. All people\\nexpressed amazement at the greatness and richness of the sacrifice, and\\nsaid that such a sacrifice the world had never seen before. But, after\\nthe ceremony, there came a little mongoose, half of whose body was\\ngolden, and the other half brown; and he began to roll on the floor of\\nthe sacrificial hall. He said to those around, \"You are all liars; this\\nis no sacrifice.\" \"What!\" they exclaimed, \"you say this is no\\nsacrifice; do you not know how money and jewels were poured out to the\\npoor and every one became rich and happy? This was the most wonderful\\nsacrifice any man ever performed.\" But the mongoose said, \"There was\\nonce a little village, and in it there dwelt a poor Brahmin with his\\nwife, his son, and his son\\'s wife. They were very poor and lived on\\nsmall gifts made to them for preaching and teaching. There came in that\\nland a three years\\' famine, and the poor Brahmin suffered more than\\never. At last when the family had starved for days, the father brought\\nhome one morning a little barley flour, which he had been fortunate\\nenough to obtain, and he divided it into four parts, one for each\\nmember of the family. They prepared it for their meal, and just as they\\nwere about to eat, there was a knock at the door. The father opened it,\\nand there stood a guest. Now in', 'India a guest is a sacred person; he is as a\\ngod for the time being, and must be treated as such. So the poor\\nBrahmin said, \\'Come in, sir; you are welcome,\\' He set before the guest\\nhis own portion of the food, which the guest quickly ate and said, \\'Oh,\\nsir, you have killed me; I have been starving for ten days, and this\\nlittle bit has but increased my hunger.\\' Then the wife said to her\\nhusband, \\'Give him my share,\\' but the husband said, \\'Not so.\\' The wife\\nhowever insisted, saying, \\'Here is a poor man, and it is our duty as\\nhouseholders to see that he is fed, and it is my duty as a wife to give\\nhim my portion, seeing that you have no more to offer him.\\' Then she\\ngave her share to the guest, which he ate, and said he was still\\nburning with hunger. So the son said, \\'Take my portion also; it is the\\nduty of a son to help his father to fulfil his obligations.\\' The guest\\nate that, but remained still unsatisfied; so the son\\'s wife gave him\\nher portion also. That was sufficient, and the guest departed, blessing\\nthem. That night those four people died of starvation. A few granules\\nof that flour had fallen on the floor; and when I rolled my body on\\nthem, half of it became golden, as you see. Since then I have been\\ntravelling all over the world, hoping to find another sacrifice like\\nthat, but nowhere have I found one; nowhere else has the other half of\\nmy body been turned into gold. That is why I say this is no sacrifice.\"', 'This\\nidea of charity is going out of India; great men are becoming fewer and\\nfewer. When I was first learning English, I read an English story book\\nin which there was a story about a dutiful boy who had gone out to work\\nand had given some of his money to his old mother, and this was praised\\nin three or four pages. What was that? No Hindu boy can ever understand\\nthe moral of that story. Now I understand it when I hear the Western\\nidea — every man for himself. And some men take everything for\\nthemselves, and fathers and mothers and wives and', 'children go to the wall. That should never and nowhere be the ideal of\\nthe householder.', 'Now\\nyou see what Karma-Yoga means; even at the point of death to help any\\none, without asking questions. Be cheated millions of times and never\\nask a question, and never think of what you are doing. Never vaunt\\nof\\xa0 your gifts to the poor or expect their gratitude, but\\nrather\\nbe grateful to them for giving you the occasion of practicing charity\\nto them. Thus it is plain that to be an ideal householder is a much\\nmore difficult task than to be an ideal Sannyasin; the true life of\\nwork is indeed as hard as, if not harder than, the equally true life of\\nrenunciation.']\n"
          ],
          "name": "stdout"
        }
      ]
    },
    {
      "cell_type": "code",
      "metadata": {
        "id": "E0tYlDQvZXmY"
      },
      "source": [
        "text=strips[13:]"
      ],
      "execution_count": null,
      "outputs": []
    },
    {
      "cell_type": "code",
      "metadata": {
        "colab": {
          "base_uri": "https://localhost:8080/"
        },
        "id": "kszqYRn4-Jyl",
        "outputId": "5f669f76-0583-40ab-f536-09b132cd3897"
      },
      "source": [
        "text"
      ],
      "execution_count": null,
      "outputs": [
        {
          "output_type": "execute_result",
          "data": {
            "text/plain": [
              "[\"Helping\\nothers physically, by removing their physical needs, is indeed great,\\nbut the help is great according as the need is greater and according as\\nthe help is far reaching. If a man's wants can be removed for an hour,\\nit is helping him indeed; if his wants can be removed for a year, it\\nwill be more help to him; but if his wants can be removed for ever, it\\nis surely the greatest help that can be given him. Spiritual knowledge\\nis the only thing that can destroy our miseries for ever; any other\\nknowledge satisfies wants only for a time. It is only with the\\nknowledge of the spirit that the faculty of want is annihilated for\\never; so helping man spiritually is the highest help that can be given\\nto him. He who gives man spiritual knowledge is the greatest benefactor\\nof mankind and as such we always find that those were the most powerful\\nof men who helped man in his spiritual needs, because spirituality is\\nthe true basis of all our activities in life. A spiritually strong and\\nsound man will be strong in every other respect, if he so wishes. Until\\nthere is spiritual strength in man even physical needs cannot be well\\nsatisfied. Next to spiritual comes intellectual help. The gift of\\nknowledge is a far higher gift than that of food and clothes; it is\\neven higher than giving life to a man, because the real life of man\\nconsists of knowledge. Ignorance is death, knowledge is life. Life is\\nof very little value, if it is a life in the dark, groping through\\nignorance and misery. Next in order comes, of course, helping a man\\nphysically. Therefore, in considering the question of helping others,\\nwe must always strive not to commit the mistake of thinking that\\nphysical help is the only help that can be given. It is not only the\\nlast but the least, because it cannot bring\",\n",
              " 'about permanent satisfaction. The misery that\\nI feel when I am hungry is satisfied by eating, but hunger returns; my\\nmisery can cease only when I am satisfied beyond all want. Then hunger\\nwill not make me miserable; no distress, no sorrow will be able to move\\nme. So, that help which tends to make us strong spiritually is the\\nhighest, next to it comes intellectual help, and after that physical\\nhelp.',\n",
              " \"The\\nmiseries of the world cannot be cured by physical help only. Until\\nman's nature changes, these physical needs will always arise, and\\nmiseries will always be felt, and no amount of physical help will cure\\nthem completely. The only solution of this problem is to make mankind\\npure. Ignorance is the mother of all the evil and all the misery we\\nsee. Let men have light, let them be pure and spiritually strong and\\neducated, then alone will misery cease in the world, not before. We may\\nconvert every house in the country into a charity asylum, we may fill\\nthe land with hospitals, but the misery of man will still continue to\\nexist until man's character changes.\",\n",
              " 'We read in the\\nBhagavad-Gita again and again that we must all work incessantly. All\\nwork is by nature composed of good and evil. We cannot do any work\\nwhich will not do some good somewhere; there cannot be any work which\\nwill not cause some harm somewhere. Every work must necessarily be a\\nmixture of good and evil; yet we are commanded to work incessantly.\\nGood and evil will both have their results, will produce their Karma.\\nGood action will entail upon us good effect; bad action, bad. But good\\nand bad are both bondages of the soul. The solution reached in the Gita\\nin regard to this bondage-producing nature of work is that, if we do\\nnot attach ourselves to the work we do, it will not have any binding\\neffect on our soul. We shall try to understand what is meant by this\\n“non-attachment to” to work.',\n",
              " 'This is the one central idea in the Gita: work incessantly,\\nbut be not attached to it. Samskâra can be',\n",
              " 'translated very nearly by \"inherent tendency\". Using the simile of a\\nlake for the mind, every ripple, every wave that rises in the mind,\\nwhen it subsides, does not die out entirely, but leaves a mark and a\\nfuture possibility of that wave coming out again. This mark, with the\\npossibility of the wave reappearing, is what is called Samskâra. Every\\nwork that we do, every movement of the body, every thought that we\\nthink, leaves such an impression on the mind-stuff, and even when such\\nimpressions are not obvious on the surface, they are sufficiently\\nstrong to work beneath the surface, subconsciously. What we are every\\nmoment is determined by the sum total of these impressions on the mind.\\nWhat I am just at this moment is the effect of the sum total of all the\\nimpressions of my past life. This is really what is meant by character;\\neach man\\'s character is determined by the sum total of these\\nimpressions. If good impressions prevail, the character becomes good;\\nif bad, it becomes bad. If a man continuously hears bad words, thinks\\nbad thoughts, does bad actions, his mind will be full of bad\\nimpressions; and they will influence his thought and work without his\\nbeing conscious of the fact. In fact, these bad impressions are always\\nworking, and their resultant must be evil, and that man will be a bad\\nman; he cannot help it. The sum total of these impressions in him will\\ncreate the strong motive power for doing bad actions. He will be like a\\nmachine in the hands of his impressions, and they will force him to do\\nevil. Similarly, if a man thinks good thoughts and does good works, the\\nsum total of these impressions will be good; and they, in a similar\\nmanner, will force him to do good even in spite of himself. When a man\\nhas done so much good work and thought so many good thoughts that there\\nis an irresistible tendency in him to do good in spite of himself and\\neven if he wishes to do evil, his mind, as the sum total of his\\ntendencies, will not allow him to do so; the tendencies will turn him',\n",
              " \"back; he is completely under the influence of\\nthe good tendencies. When such is the case, a man's good character is\\nsaid to be established.\",\n",
              " 'As\\nthe tortoise tucks its feet and head inside the shell, and you may kill\\nit and break it in pieces, and yet it will not come out, even so the\\ncharacter of that man who has control over his motives and organs is\\nunchangeably established. He controls his own inner forces, and nothing\\ncan draw them out against his will. By this continuous reflex of good\\nthoughts, good impressions moving over the surface of the mind, the\\ntendency for doing good becomes strong, and as the result we feel able\\nto control the Indriyas (the sense-organs, the nerve-centres). Thus\\nalone will character be established, then alone a man gets to truth.\\nSuch a man is safe for ever; he cannot do any evil. You may place him\\nin any company, there will be no danger for him. There is a still\\nhigher state than having this good tendency, and that is the desire for\\nliberation. You must remember that freedom of the soul is the goal of\\nall Yogas, and each one equally leads to the same result. By work alone\\nmen may get to where Buddha got largely by meditation or Christ by\\nprayer. Buddha was a working Jnâni, Christ was a Bhakta, but the same\\ngoal was reached by both of them. The difficulty is here. Liberation\\nmeans entire freedom — freedom from the bondage of good, as well as\\nfrom the bondage of evil. A golden chain is as much a chain as an iron\\none. There is a thorn in my finger, and I use another to take the first\\none out; and when I have taken it out, I throw both of them aside; I\\nhave no necessity for keeping the second thorn, because both are thorns\\nafter all. So the bad tendencies are to be counteracted by the good\\nones, and the bad impressions on the mind should be removed by the\\nfresh waves of good ones, until all that is evil almost disappears, or\\nis subdued and held in control in a corner of the mind; but after that,\\nthe good tendencies',\n",
              " 'have also to\\nbe conquered. Thus the\\n\"attached\" becomes the \"unattached\". Work, but let not the action or\\nthe thought produce a deep impression on the mind. Let the ripples come\\nand go, let huge actions proceed from the muscles and the brain, but\\nlet them not make any deep impression on the soul.',\n",
              " 'How\\ncan this be done? We see that the impression of any action, to which we\\nattach ourselves, remains. I may meet hundreds of persons during the\\nday, and among them meet also one whom I love; and when I retire at\\nnight, I may try to think of all the faces I saw, but only that face\\ncomes before the mind — the face which I met perhaps only for one\\nminute, and which I loved; all the others have vanished. My attachment\\nto this particular person caused a deeper impression on my mind than\\nall the other faces. Physiologically the impressions have all been the\\nsame; every one of the faces that I saw pictured itself on the retina,\\nand the brain took the pictures in, and yet there was no similarity of\\neffect upon the mind. Most of the faces, perhaps, were entirely new\\nfaces, about which I had never thought before, but that one face of\\nwhich I got only a glimpse found associations inside. Perhaps I had\\npictured him in my mind for years, knew hundreds of things about him,\\nand this one new vision of him awakened hundreds of sleeping memories\\nin my mind; and this one impression having been repeated perhaps a\\nhundred times more than those of the different faces together, will\\nproduce a great effect on the mind.',\n",
              " 'Therefore, be\\n\"unattached\"; let things work; let brain centres work; work\\nincessantly, but let not a ripple conquer the mind. Work as if you were\\na stranger in this land, a sojourner; work incessantly, but do not bind\\nyourselves; bondage is terrible. This world is not our habitation, it\\nis only one of the many stages through which we are passing. Remember\\nthat great saying of the',\n",
              " 'Sânkhya,\\n\"The whole of nature is for the\\nsoul, not the soul for nature.\" The very reason of nature\\'s existence\\nis for the education of the soul; it has no other meaning; it is there\\nbecause the soul must have knowledge, and through knowledge free\\nitself. If we remember this always, we shall never be attached to\\nnature; we shall know that nature is a book in which we are to read,\\nand that when we have gained the required knowledge, the book is of no\\nmore value to us. Instead of that, however, we are identifying\\nourselves with nature; we are thinking that the soul is for nature,\\nthat the spirit is for the flesh, and, as the common saying has it, we\\nthink that man \"lives to eat\" and not \"eats to live\". We are\\ncontinually making this mistake; we are regarding nature as ourselves\\nand are becoming attached to it; and as soon as this attachment comes,\\nthere is the deep impression on the soul, which binds us down and makes\\nus work not from freedom but like slaves.',\n",
              " 'The whole gist of this teaching is that you should work like a',\n",
              " 'master',\n",
              " 'and not as a',\n",
              " 'slave',\n",
              " ';\\nwork incessantly, but do not do slave\\'s work. Do you not see how\\neverybody works? Nobody can be altogether at rest; ninety-nine per cent\\nof mankind work like slaves, and the result is misery; it is all\\nselfish work. Work through freedom! Work through love! The word \"love\"\\nis very difficult to understand; love never comes until there is\\nfreedom. There is no true love possible in the slave. If you buy a\\nslave and tie him down in chains and make him work for you, he will\\nwork like a drudge, but there will be no love in him. So when we\\nourselves work for the things of the world as slaves, there can be no\\nlove in us, and our work is not true work. This is true of work done\\nfor relatives and friends, and is true of work done for our own selves.\\nSelfish work is slave\\'s work; and here is a test. Every act of love\\nbrings happiness; there is no act of love which does not bring peace\\nand blessedness as',\n",
              " 'its reaction.\\nReal existence, real knowledge,\\nand real love are eternally connected with one another, the three in\\none: where one of them is, the others also must be; they are the three\\naspects of the One without a second — the Existence - Knowledge -\\nBliss. When that existence becomes relative, we see it as the world;\\nthat knowledge becomes in its turn modified into the knowledge of the\\nthings of the world; and that bliss forms the foundation of all true\\nlove known to the heart of man. Therefore true love can never react so\\nas to cause pain either to the lover or to the beloved. Suppose a man\\nloves a woman; he wishes to have her all to himself and feels extremely\\njealous about her every movement; he wants her to sit near him, to\\nstand near him, and to eat and move at his bidding. He is a slave to\\nher and wishes to have her as his slave. That is not love; it is a kind\\nof morbid affection of the slave, insinuating itself as love. It cannot\\nbe love, because it is painful; if she does not do what he wants, it\\nbrings him pain. With love there is no painful reaction; love only\\nbrings a reaction of bliss; if it does not, it is not love; it is\\nmistaking something else for love. When you have succeeded in loving\\nyour husband, your wife, your children, the whole world, the universe,\\nin such a manner that there is no reaction of pain or jealousy, no\\nselfish feeling, then you are in a fit state to be unattached.',\n",
              " 'Krishna\\nsays, \"Look at Me, Arjuna! If I stop from work for one moment, the\\nwhole universe will die. I have nothing to gain from work; I am the one\\nLord, but why do I work? Because I love the world.\" God is unattached\\nbecause He loves; that real love makes us unattached. Wherever there is\\nattachment, the clinging to the things of the world, you must know that\\nit is all physical attraction between sets of particles of matter —\\nsomething that attracts two bodies nearer and nearer all the time and,\\nif they cannot get near enough, produces pain; but where',\n",
              " 'there is',\n",
              " 'real',\n",
              " 'love, it does not\\nrest on physical attachment at all. Such lovers may be a thousand miles\\naway from one another, but their love will be all the same; it does not\\ndie, and will never produce any painful reaction.',\n",
              " 'To\\nattain this unattachment is almost a life-work, but as soon as we have\\nreached this point, we have attained the goal of love and become free;\\nthe bondage of nature falls from us, and we see nature as she is; she\\nforges no more chains for us; we stand entirely free and take not the\\nresults of work into consideration; who then cares for what the results\\nmay be?',\n",
              " 'Do you ask anything from your children in return\\nfor what you have given them? It is your duty to work for them, and\\nthere the matter ends. In whatever you do for a particular person, a\\ncity, or a state, assume the same attitude towards it as you have\\ntowards your children — expect nothing in return. If you can invariably\\ntake the position of a giver, in which everything given by you is a\\nfree offering to the world, without any thought of return, then will\\nyour work bring you no attachment. Attachment comes only where we\\nexpect a return.',\n",
              " 'If working like slaves results in\\nselfishness and attachment, working as master of our own mind gives\\nrise to the bliss of non-attachment. We often talk of right and\\njustice, but we find that in the world right and justice are mere\\nbaby\\'s talk. There are two things which guide the conduct of men: might\\nand mercy. The exercise of might is invariably the exercise of\\nselfishness. All men and women try to make the most of whatever power\\nor advantage they have. Mercy is heaven itself; to be good, we have all\\nto be merciful. Even justice and right should stand on mercy. All\\nthought of obtaining return for the work we do hinders our spiritual\\nprogress; nay, in the end it brings misery. There is another way in\\nwhich this idea of mercy and selfless charity can be put into practice;\\nthat is, by looking upon work as \"worship\" in',\n",
              " 'case we believe in a Personal God. Here we\\ngive up all the fruits our work unto the Lord, and worshipping Him\\nthus, we have no right to expect anything from mankind for the work we\\ndo. The Lord Himself works incessantly and is ever without attachment.\\nJust as water cannot wet the lotus leaf, so work cannot bind the\\nunselfish man by giving rise to attachment to results. The selfless and\\nunattached man may live in the very heart of a crowded and sinful city;\\nhe will not be touched by sin.',\n",
              " 'This\\nidea of complete self-sacrifice is illustrated in the following story:\\nAfter the battle of Kurukshetra the five Pândava brothers performed a\\ngreat sacrifice and made very large gifts to the poor. All people\\nexpressed amazement at the greatness and richness of the sacrifice, and\\nsaid that such a sacrifice the world had never seen before. But, after\\nthe ceremony, there came a little mongoose, half of whose body was\\ngolden, and the other half brown; and he began to roll on the floor of\\nthe sacrificial hall. He said to those around, \"You are all liars; this\\nis no sacrifice.\" \"What!\" they exclaimed, \"you say this is no\\nsacrifice; do you not know how money and jewels were poured out to the\\npoor and every one became rich and happy? This was the most wonderful\\nsacrifice any man ever performed.\" But the mongoose said, \"There was\\nonce a little village, and in it there dwelt a poor Brahmin with his\\nwife, his son, and his son\\'s wife. They were very poor and lived on\\nsmall gifts made to them for preaching and teaching. There came in that\\nland a three years\\' famine, and the poor Brahmin suffered more than\\never. At last when the family had starved for days, the father brought\\nhome one morning a little barley flour, which he had been fortunate\\nenough to obtain, and he divided it into four parts, one for each\\nmember of the family. They prepared it for their meal, and just as they\\nwere about to eat, there was a knock at the door. The father opened it,\\nand there stood a guest. Now in',\n",
              " 'India a guest is a sacred person; he is as a\\ngod for the time being, and must be treated as such. So the poor\\nBrahmin said, \\'Come in, sir; you are welcome,\\' He set before the guest\\nhis own portion of the food, which the guest quickly ate and said, \\'Oh,\\nsir, you have killed me; I have been starving for ten days, and this\\nlittle bit has but increased my hunger.\\' Then the wife said to her\\nhusband, \\'Give him my share,\\' but the husband said, \\'Not so.\\' The wife\\nhowever insisted, saying, \\'Here is a poor man, and it is our duty as\\nhouseholders to see that he is fed, and it is my duty as a wife to give\\nhim my portion, seeing that you have no more to offer him.\\' Then she\\ngave her share to the guest, which he ate, and said he was still\\nburning with hunger. So the son said, \\'Take my portion also; it is the\\nduty of a son to help his father to fulfil his obligations.\\' The guest\\nate that, but remained still unsatisfied; so the son\\'s wife gave him\\nher portion also. That was sufficient, and the guest departed, blessing\\nthem. That night those four people died of starvation. A few granules\\nof that flour had fallen on the floor; and when I rolled my body on\\nthem, half of it became golden, as you see. Since then I have been\\ntravelling all over the world, hoping to find another sacrifice like\\nthat, but nowhere have I found one; nowhere else has the other half of\\nmy body been turned into gold. That is why I say this is no sacrifice.\"',\n",
              " 'This\\nidea of charity is going out of India; great men are becoming fewer and\\nfewer. When I was first learning English, I read an English story book\\nin which there was a story about a dutiful boy who had gone out to work\\nand had given some of his money to his old mother, and this was praised\\nin three or four pages. What was that? No Hindu boy can ever understand\\nthe moral of that story. Now I understand it when I hear the Western\\nidea — every man for himself. And some men take everything for\\nthemselves, and fathers and mothers and wives and',\n",
              " 'children go to the wall. That should never and nowhere be the ideal of\\nthe householder.',\n",
              " 'Now\\nyou see what Karma-Yoga means; even at the point of death to help any\\none, without asking questions. Be cheated millions of times and never\\nask a question, and never think of what you are doing. Never vaunt\\nof\\xa0 your gifts to the poor or expect their gratitude, but\\nrather\\nbe grateful to them for giving you the occasion of practicing charity\\nto them. Thus it is plain that to be an ideal householder is a much\\nmore difficult task than to be an ideal Sannyasin; the true life of\\nwork is indeed as hard as, if not harder than, the equally true life of\\nrenunciation.']"
            ]
          },
          "metadata": {
            "tags": []
          },
          "execution_count": 34
        }
      ]
    },
    {
      "cell_type": "code",
      "metadata": {
        "id": "iBe-S4ZJYl-R"
      },
      "source": [
        "import pandas as pd"
      ],
      "execution_count": null,
      "outputs": []
    },
    {
      "cell_type": "code",
      "metadata": {
        "id": "F9iskHBAXLy9",
        "colab": {
          "base_uri": "https://localhost:8080/",
          "height": 204
        },
        "outputId": "e7abe074-6d70-455a-a03c-04431ab4db4a"
      },
      "source": [
        "df=pd.DataFrame(text,columns=['Text'])\n",
        "df.head(5)"
      ],
      "execution_count": null,
      "outputs": [
        {
          "output_type": "execute_result",
          "data": {
            "text/html": [
              "<div>\n",
              "<style scoped>\n",
              "    .dataframe tbody tr th:only-of-type {\n",
              "        vertical-align: middle;\n",
              "    }\n",
              "\n",
              "    .dataframe tbody tr th {\n",
              "        vertical-align: top;\n",
              "    }\n",
              "\n",
              "    .dataframe thead th {\n",
              "        text-align: right;\n",
              "    }\n",
              "</style>\n",
              "<table border=\"1\" class=\"dataframe\">\n",
              "  <thead>\n",
              "    <tr style=\"text-align: right;\">\n",
              "      <th></th>\n",
              "      <th>Text</th>\n",
              "    </tr>\n",
              "  </thead>\n",
              "  <tbody>\n",
              "    <tr>\n",
              "      <th>0</th>\n",
              "      <td>Helping\\nothers physically, by removing their ...</td>\n",
              "    </tr>\n",
              "    <tr>\n",
              "      <th>1</th>\n",
              "      <td>about permanent satisfaction. The misery that\\...</td>\n",
              "    </tr>\n",
              "    <tr>\n",
              "      <th>2</th>\n",
              "      <td>The\\nmiseries of the world cannot be cured by ...</td>\n",
              "    </tr>\n",
              "    <tr>\n",
              "      <th>3</th>\n",
              "      <td>We read in the\\nBhagavad-Gita again and again ...</td>\n",
              "    </tr>\n",
              "    <tr>\n",
              "      <th>4</th>\n",
              "      <td>This is the one central idea in the Gita: work...</td>\n",
              "    </tr>\n",
              "  </tbody>\n",
              "</table>\n",
              "</div>"
            ],
            "text/plain": [
              "                                                Text\n",
              "0  Helping\\nothers physically, by removing their ...\n",
              "1  about permanent satisfaction. The misery that\\...\n",
              "2  The\\nmiseries of the world cannot be cured by ...\n",
              "3  We read in the\\nBhagavad-Gita again and again ...\n",
              "4  This is the one central idea in the Gita: work..."
            ]
          },
          "metadata": {
            "tags": []
          },
          "execution_count": 36
        }
      ]
    },
    {
      "cell_type": "code",
      "metadata": {
        "colab": {
          "base_uri": "https://localhost:8080/",
          "height": 204
        },
        "id": "oKj541s052N6",
        "outputId": "829dfc4c-2340-4d76-c516-e250a3b51cbe"
      },
      "source": [
        "df = df.replace('\\n',' ', regex=True)\n",
        "df.head(5)"
      ],
      "execution_count": null,
      "outputs": [
        {
          "output_type": "execute_result",
          "data": {
            "text/html": [
              "<div>\n",
              "<style scoped>\n",
              "    .dataframe tbody tr th:only-of-type {\n",
              "        vertical-align: middle;\n",
              "    }\n",
              "\n",
              "    .dataframe tbody tr th {\n",
              "        vertical-align: top;\n",
              "    }\n",
              "\n",
              "    .dataframe thead th {\n",
              "        text-align: right;\n",
              "    }\n",
              "</style>\n",
              "<table border=\"1\" class=\"dataframe\">\n",
              "  <thead>\n",
              "    <tr style=\"text-align: right;\">\n",
              "      <th></th>\n",
              "      <th>Text</th>\n",
              "    </tr>\n",
              "  </thead>\n",
              "  <tbody>\n",
              "    <tr>\n",
              "      <th>0</th>\n",
              "      <td>Helping others physically, by removing their p...</td>\n",
              "    </tr>\n",
              "    <tr>\n",
              "      <th>1</th>\n",
              "      <td>about permanent satisfaction. The misery that ...</td>\n",
              "    </tr>\n",
              "    <tr>\n",
              "      <th>2</th>\n",
              "      <td>The miseries of the world cannot be cured by p...</td>\n",
              "    </tr>\n",
              "    <tr>\n",
              "      <th>3</th>\n",
              "      <td>We read in the Bhagavad-Gita again and again t...</td>\n",
              "    </tr>\n",
              "    <tr>\n",
              "      <th>4</th>\n",
              "      <td>This is the one central idea in the Gita: work...</td>\n",
              "    </tr>\n",
              "  </tbody>\n",
              "</table>\n",
              "</div>"
            ],
            "text/plain": [
              "                                                Text\n",
              "0  Helping others physically, by removing their p...\n",
              "1  about permanent satisfaction. The misery that ...\n",
              "2  The miseries of the world cannot be cured by p...\n",
              "3  We read in the Bhagavad-Gita again and again t...\n",
              "4  This is the one central idea in the Gita: work..."
            ]
          },
          "metadata": {
            "tags": []
          },
          "execution_count": 37
        }
      ]
    },
    {
      "cell_type": "code",
      "metadata": {
        "colab": {
          "base_uri": "https://localhost:8080/"
        },
        "id": "8Eiiq4wS_aS2",
        "outputId": "ddebf730-b8a0-4c49-e068-09cc8e344375"
      },
      "source": [
        "df.shape"
      ],
      "execution_count": null,
      "outputs": [
        {
          "output_type": "execute_result",
          "data": {
            "text/plain": [
              "(31, 1)"
            ]
          },
          "metadata": {
            "tags": []
          },
          "execution_count": 38
        }
      ]
    },
    {
      "cell_type": "code",
      "metadata": {
        "colab": {
          "base_uri": "https://localhost:8080/",
          "height": 173
        },
        "id": "lew_pAPp_cmm",
        "outputId": "3b104074-a665-4ce3-99c7-31a004817a06"
      },
      "source": [
        "df.describe()"
      ],
      "execution_count": null,
      "outputs": [
        {
          "output_type": "execute_result",
          "data": {
            "text/html": [
              "<div>\n",
              "<style scoped>\n",
              "    .dataframe tbody tr th:only-of-type {\n",
              "        vertical-align: middle;\n",
              "    }\n",
              "\n",
              "    .dataframe tbody tr th {\n",
              "        vertical-align: top;\n",
              "    }\n",
              "\n",
              "    .dataframe thead th {\n",
              "        text-align: right;\n",
              "    }\n",
              "</style>\n",
              "<table border=\"1\" class=\"dataframe\">\n",
              "  <thead>\n",
              "    <tr style=\"text-align: right;\">\n",
              "      <th></th>\n",
              "      <th>Text</th>\n",
              "    </tr>\n",
              "  </thead>\n",
              "  <tbody>\n",
              "    <tr>\n",
              "      <th>count</th>\n",
              "      <td>31</td>\n",
              "    </tr>\n",
              "    <tr>\n",
              "      <th>unique</th>\n",
              "      <td>31</td>\n",
              "    </tr>\n",
              "    <tr>\n",
              "      <th>top</th>\n",
              "      <td>case we believe in a Personal God. Here we giv...</td>\n",
              "    </tr>\n",
              "    <tr>\n",
              "      <th>freq</th>\n",
              "      <td>1</td>\n",
              "    </tr>\n",
              "  </tbody>\n",
              "</table>\n",
              "</div>"
            ],
            "text/plain": [
              "                                                     Text\n",
              "count                                                  31\n",
              "unique                                                 31\n",
              "top     case we believe in a Personal God. Here we giv...\n",
              "freq                                                    1"
            ]
          },
          "metadata": {
            "tags": []
          },
          "execution_count": 39
        }
      ]
    },
    {
      "cell_type": "markdown",
      "metadata": {
        "id": "sqxtbZmIjIyM"
      },
      "source": [
        "### 2.Word Counts"
      ]
    },
    {
      "cell_type": "code",
      "metadata": {
        "id": "Ly6IEzP9zA1i"
      },
      "source": [
        "df['word_counts']=df['Text'].apply(lambda x:len(str(x).split()))"
      ],
      "execution_count": null,
      "outputs": []
    },
    {
      "cell_type": "code",
      "metadata": {
        "colab": {
          "base_uri": "https://localhost:8080/",
          "height": 204
        },
        "id": "mpAnnbWzzxkN",
        "outputId": "977366d7-fa69-4ac0-e39c-1d92d534834c"
      },
      "source": [
        "df.head(5)"
      ],
      "execution_count": null,
      "outputs": [
        {
          "output_type": "execute_result",
          "data": {
            "text/html": [
              "<div>\n",
              "<style scoped>\n",
              "    .dataframe tbody tr th:only-of-type {\n",
              "        vertical-align: middle;\n",
              "    }\n",
              "\n",
              "    .dataframe tbody tr th {\n",
              "        vertical-align: top;\n",
              "    }\n",
              "\n",
              "    .dataframe thead th {\n",
              "        text-align: right;\n",
              "    }\n",
              "</style>\n",
              "<table border=\"1\" class=\"dataframe\">\n",
              "  <thead>\n",
              "    <tr style=\"text-align: right;\">\n",
              "      <th></th>\n",
              "      <th>Text</th>\n",
              "      <th>word_counts</th>\n",
              "    </tr>\n",
              "  </thead>\n",
              "  <tbody>\n",
              "    <tr>\n",
              "      <th>0</th>\n",
              "      <td>Helping others physically, by removing their p...</td>\n",
              "      <td>329</td>\n",
              "    </tr>\n",
              "    <tr>\n",
              "      <th>1</th>\n",
              "      <td>about permanent satisfaction. The misery that ...</td>\n",
              "      <td>72</td>\n",
              "    </tr>\n",
              "    <tr>\n",
              "      <th>2</th>\n",
              "      <td>The miseries of the world cannot be cured by p...</td>\n",
              "      <td>119</td>\n",
              "    </tr>\n",
              "    <tr>\n",
              "      <th>3</th>\n",
              "      <td>We read in the Bhagavad-Gita again and again t...</td>\n",
              "      <td>150</td>\n",
              "    </tr>\n",
              "    <tr>\n",
              "      <th>4</th>\n",
              "      <td>This is the one central idea in the Gita: work...</td>\n",
              "      <td>20</td>\n",
              "    </tr>\n",
              "  </tbody>\n",
              "</table>\n",
              "</div>"
            ],
            "text/plain": [
              "                                                Text  word_counts\n",
              "0  Helping others physically, by removing their p...          329\n",
              "1  about permanent satisfaction. The misery that ...           72\n",
              "2  The miseries of the world cannot be cured by p...          119\n",
              "3  We read in the Bhagavad-Gita again and again t...          150\n",
              "4  This is the one central idea in the Gita: work...           20"
            ]
          },
          "metadata": {
            "tags": []
          },
          "execution_count": 41
        }
      ]
    },
    {
      "cell_type": "markdown",
      "metadata": {
        "id": "WrCChVTkjOi7"
      },
      "source": [
        "### 3.Char Counts"
      ]
    },
    {
      "cell_type": "code",
      "metadata": {
        "id": "YLPO2A-PYufG"
      },
      "source": [
        "def char_counts(x):\n",
        "  s=x.split()\n",
        "  print(s)\n",
        "  x=''.join(s)\n",
        "  print(x)\n",
        "  return len(x)"
      ],
      "execution_count": null,
      "outputs": []
    },
    {
      "cell_type": "code",
      "metadata": {
        "id": "ZYGGCsdbAqAH"
      },
      "source": [
        "x='This is a new'"
      ],
      "execution_count": null,
      "outputs": []
    },
    {
      "cell_type": "code",
      "metadata": {
        "colab": {
          "base_uri": "https://localhost:8080/"
        },
        "id": "Vu_JxeiYA2Qk",
        "outputId": "dc37a7de-a8c5-4618-b2db-198c2d1a4417"
      },
      "source": [
        "char_counts(x)"
      ],
      "execution_count": null,
      "outputs": [
        {
          "output_type": "stream",
          "text": [
            "['This', 'is', 'a', 'new']\n",
            "Thisisanew\n"
          ],
          "name": "stdout"
        },
        {
          "output_type": "execute_result",
          "data": {
            "text/plain": [
              "10"
            ]
          },
          "metadata": {
            "tags": []
          },
          "execution_count": 163
        }
      ]
    },
    {
      "cell_type": "code",
      "metadata": {
        "id": "JVw19U7YB92f"
      },
      "source": [
        "def char_counts(x):\n",
        "  s=x.split()\n",
        "  x=''.join(s)\n",
        "  return len(x)"
      ],
      "execution_count": null,
      "outputs": []
    },
    {
      "cell_type": "code",
      "metadata": {
        "id": "_1twOgzTZvoq"
      },
      "source": [
        "df['char_counts']=df['Text'].apply(lambda x: char_counts(str(x)))"
      ],
      "execution_count": null,
      "outputs": []
    },
    {
      "cell_type": "code",
      "metadata": {
        "colab": {
          "base_uri": "https://localhost:8080/",
          "height": 204
        },
        "id": "TrrLueYxZzXz",
        "outputId": "4fca64cf-8eb2-4262-86c4-7f05b9d67254"
      },
      "source": [
        "df.head(5)"
      ],
      "execution_count": null,
      "outputs": [
        {
          "output_type": "execute_result",
          "data": {
            "text/html": [
              "<div>\n",
              "<style scoped>\n",
              "    .dataframe tbody tr th:only-of-type {\n",
              "        vertical-align: middle;\n",
              "    }\n",
              "\n",
              "    .dataframe tbody tr th {\n",
              "        vertical-align: top;\n",
              "    }\n",
              "\n",
              "    .dataframe thead th {\n",
              "        text-align: right;\n",
              "    }\n",
              "</style>\n",
              "<table border=\"1\" class=\"dataframe\">\n",
              "  <thead>\n",
              "    <tr style=\"text-align: right;\">\n",
              "      <th></th>\n",
              "      <th>Text</th>\n",
              "      <th>word_counts</th>\n",
              "      <th>char_counts</th>\n",
              "    </tr>\n",
              "  </thead>\n",
              "  <tbody>\n",
              "    <tr>\n",
              "      <th>0</th>\n",
              "      <td>Helping others physically, by removing their p...</td>\n",
              "      <td>329</td>\n",
              "      <td>1455</td>\n",
              "    </tr>\n",
              "    <tr>\n",
              "      <th>1</th>\n",
              "      <td>about permanent satisfaction. The misery that ...</td>\n",
              "      <td>72</td>\n",
              "      <td>330</td>\n",
              "    </tr>\n",
              "    <tr>\n",
              "      <th>2</th>\n",
              "      <td>The miseries of the world cannot be cured by p...</td>\n",
              "      <td>119</td>\n",
              "      <td>545</td>\n",
              "    </tr>\n",
              "    <tr>\n",
              "      <th>3</th>\n",
              "      <td>We read in the Bhagavad-Gita again and again t...</td>\n",
              "      <td>150</td>\n",
              "      <td>657</td>\n",
              "    </tr>\n",
              "    <tr>\n",
              "      <th>4</th>\n",
              "      <td>This is the one central idea in the Gita: work...</td>\n",
              "      <td>20</td>\n",
              "      <td>83</td>\n",
              "    </tr>\n",
              "  </tbody>\n",
              "</table>\n",
              "</div>"
            ],
            "text/plain": [
              "                                                Text  word_counts  char_counts\n",
              "0  Helping others physically, by removing their p...          329         1455\n",
              "1  about permanent satisfaction. The misery that ...           72          330\n",
              "2  The miseries of the world cannot be cured by p...          119          545\n",
              "3  We read in the Bhagavad-Gita again and again t...          150          657\n",
              "4  This is the one central idea in the Gita: work...           20           83"
            ]
          },
          "metadata": {
            "tags": []
          },
          "execution_count": 44
        }
      ]
    },
    {
      "cell_type": "markdown",
      "metadata": {
        "id": "C7HLzQZLjR6p"
      },
      "source": [
        "### 4.Average Word Length"
      ]
    },
    {
      "cell_type": "code",
      "metadata": {
        "id": "YVQz4tNusHK5"
      },
      "source": [
        "df['avg_word_len']=df['char_counts']/df['word_counts']"
      ],
      "execution_count": null,
      "outputs": []
    },
    {
      "cell_type": "code",
      "metadata": {
        "colab": {
          "base_uri": "https://localhost:8080/",
          "height": 204
        },
        "id": "p3cV_LN8Z_Rh",
        "outputId": "5456e4b9-a4c4-4671-aea3-175822cae518"
      },
      "source": [
        "df.head(5)"
      ],
      "execution_count": null,
      "outputs": [
        {
          "output_type": "execute_result",
          "data": {
            "text/html": [
              "<div>\n",
              "<style scoped>\n",
              "    .dataframe tbody tr th:only-of-type {\n",
              "        vertical-align: middle;\n",
              "    }\n",
              "\n",
              "    .dataframe tbody tr th {\n",
              "        vertical-align: top;\n",
              "    }\n",
              "\n",
              "    .dataframe thead th {\n",
              "        text-align: right;\n",
              "    }\n",
              "</style>\n",
              "<table border=\"1\" class=\"dataframe\">\n",
              "  <thead>\n",
              "    <tr style=\"text-align: right;\">\n",
              "      <th></th>\n",
              "      <th>Text</th>\n",
              "      <th>word_counts</th>\n",
              "      <th>char_counts</th>\n",
              "      <th>avg_word_len</th>\n",
              "    </tr>\n",
              "  </thead>\n",
              "  <tbody>\n",
              "    <tr>\n",
              "      <th>0</th>\n",
              "      <td>Helping others physically, by removing their p...</td>\n",
              "      <td>329</td>\n",
              "      <td>1455</td>\n",
              "      <td>4.422492</td>\n",
              "    </tr>\n",
              "    <tr>\n",
              "      <th>1</th>\n",
              "      <td>about permanent satisfaction. The misery that ...</td>\n",
              "      <td>72</td>\n",
              "      <td>330</td>\n",
              "      <td>4.583333</td>\n",
              "    </tr>\n",
              "    <tr>\n",
              "      <th>2</th>\n",
              "      <td>The miseries of the world cannot be cured by p...</td>\n",
              "      <td>119</td>\n",
              "      <td>545</td>\n",
              "      <td>4.579832</td>\n",
              "    </tr>\n",
              "    <tr>\n",
              "      <th>3</th>\n",
              "      <td>We read in the Bhagavad-Gita again and again t...</td>\n",
              "      <td>150</td>\n",
              "      <td>657</td>\n",
              "      <td>4.380000</td>\n",
              "    </tr>\n",
              "    <tr>\n",
              "      <th>4</th>\n",
              "      <td>This is the one central idea in the Gita: work...</td>\n",
              "      <td>20</td>\n",
              "      <td>83</td>\n",
              "      <td>4.150000</td>\n",
              "    </tr>\n",
              "  </tbody>\n",
              "</table>\n",
              "</div>"
            ],
            "text/plain": [
              "                                                Text  ...  avg_word_len\n",
              "0  Helping others physically, by removing their p...  ...      4.422492\n",
              "1  about permanent satisfaction. The misery that ...  ...      4.583333\n",
              "2  The miseries of the world cannot be cured by p...  ...      4.579832\n",
              "3  We read in the Bhagavad-Gita again and again t...  ...      4.380000\n",
              "4  This is the one central idea in the Gita: work...  ...      4.150000\n",
              "\n",
              "[5 rows x 4 columns]"
            ]
          },
          "metadata": {
            "tags": []
          },
          "execution_count": 46
        }
      ]
    },
    {
      "cell_type": "markdown",
      "metadata": {
        "id": "cpq1gjvHjZHg"
      },
      "source": [
        "### 5.Stopwords Length"
      ]
    },
    {
      "cell_type": "code",
      "metadata": {
        "id": "TTXgLkurDckU"
      },
      "source": [
        "from spacy.lang.en.stop_words import STOP_WORDS as stopwords"
      ],
      "execution_count": null,
      "outputs": []
    },
    {
      "cell_type": "code",
      "metadata": {
        "id": "TVi9EvAzMQxw"
      },
      "source": [
        "df['stop_words_len']=df['Text'].apply(lambda x: len([t for t in x.split() if t in stopwords]))"
      ],
      "execution_count": null,
      "outputs": []
    },
    {
      "cell_type": "code",
      "metadata": {
        "colab": {
          "base_uri": "https://localhost:8080/",
          "height": 204
        },
        "id": "yfwpzUkKNG39",
        "outputId": "56e3e348-9ff6-4540-cff1-04cf0ff69b3d"
      },
      "source": [
        "df.head(5)"
      ],
      "execution_count": null,
      "outputs": [
        {
          "output_type": "execute_result",
          "data": {
            "text/html": [
              "<div>\n",
              "<style scoped>\n",
              "    .dataframe tbody tr th:only-of-type {\n",
              "        vertical-align: middle;\n",
              "    }\n",
              "\n",
              "    .dataframe tbody tr th {\n",
              "        vertical-align: top;\n",
              "    }\n",
              "\n",
              "    .dataframe thead th {\n",
              "        text-align: right;\n",
              "    }\n",
              "</style>\n",
              "<table border=\"1\" class=\"dataframe\">\n",
              "  <thead>\n",
              "    <tr style=\"text-align: right;\">\n",
              "      <th></th>\n",
              "      <th>Text</th>\n",
              "      <th>word_counts</th>\n",
              "      <th>char_counts</th>\n",
              "      <th>avg_word_len</th>\n",
              "      <th>stop_words_len</th>\n",
              "    </tr>\n",
              "  </thead>\n",
              "  <tbody>\n",
              "    <tr>\n",
              "      <th>0</th>\n",
              "      <td>Helping others physically, by removing their p...</td>\n",
              "      <td>329</td>\n",
              "      <td>1455</td>\n",
              "      <td>4.422492</td>\n",
              "      <td>178</td>\n",
              "    </tr>\n",
              "    <tr>\n",
              "      <th>1</th>\n",
              "      <td>about permanent satisfaction. The misery that ...</td>\n",
              "      <td>72</td>\n",
              "      <td>330</td>\n",
              "      <td>4.583333</td>\n",
              "      <td>37</td>\n",
              "    </tr>\n",
              "    <tr>\n",
              "      <th>2</th>\n",
              "      <td>The miseries of the world cannot be cured by p...</td>\n",
              "      <td>119</td>\n",
              "      <td>545</td>\n",
              "      <td>4.579832</td>\n",
              "      <td>61</td>\n",
              "    </tr>\n",
              "    <tr>\n",
              "      <th>3</th>\n",
              "      <td>We read in the Bhagavad-Gita again and again t...</td>\n",
              "      <td>150</td>\n",
              "      <td>657</td>\n",
              "      <td>4.380000</td>\n",
              "      <td>81</td>\n",
              "    </tr>\n",
              "    <tr>\n",
              "      <th>4</th>\n",
              "      <td>This is the one central idea in the Gita: work...</td>\n",
              "      <td>20</td>\n",
              "      <td>83</td>\n",
              "      <td>4.150000</td>\n",
              "      <td>11</td>\n",
              "    </tr>\n",
              "  </tbody>\n",
              "</table>\n",
              "</div>"
            ],
            "text/plain": [
              "                                                Text  ...  stop_words_len\n",
              "0  Helping others physically, by removing their p...  ...             178\n",
              "1  about permanent satisfaction. The misery that ...  ...              37\n",
              "2  The miseries of the world cannot be cured by p...  ...              61\n",
              "3  We read in the Bhagavad-Gita again and again t...  ...              81\n",
              "4  This is the one central idea in the Gita: work...  ...              11\n",
              "\n",
              "[5 rows x 5 columns]"
            ]
          },
          "metadata": {
            "tags": []
          },
          "execution_count": 49
        }
      ]
    },
    {
      "cell_type": "markdown",
      "metadata": {
        "id": "Hy5Qei1_jevU"
      },
      "source": [
        "### 6.Upper Counts"
      ]
    },
    {
      "cell_type": "code",
      "metadata": {
        "id": "xdb4KjaHNcJ8"
      },
      "source": [
        "df['upper_counts']=df['Text'].apply(lambda x: len([t for t in x.split() if t.isupper()]))"
      ],
      "execution_count": null,
      "outputs": []
    },
    {
      "cell_type": "code",
      "metadata": {
        "colab": {
          "base_uri": "https://localhost:8080/",
          "height": 204
        },
        "id": "Y4Bdka8HNo5G",
        "outputId": "4ae8fa36-5fb8-4a2f-cfb0-25676b86e4b0"
      },
      "source": [
        "df.head(5)"
      ],
      "execution_count": null,
      "outputs": [
        {
          "output_type": "execute_result",
          "data": {
            "text/html": [
              "<div>\n",
              "<style scoped>\n",
              "    .dataframe tbody tr th:only-of-type {\n",
              "        vertical-align: middle;\n",
              "    }\n",
              "\n",
              "    .dataframe tbody tr th {\n",
              "        vertical-align: top;\n",
              "    }\n",
              "\n",
              "    .dataframe thead th {\n",
              "        text-align: right;\n",
              "    }\n",
              "</style>\n",
              "<table border=\"1\" class=\"dataframe\">\n",
              "  <thead>\n",
              "    <tr style=\"text-align: right;\">\n",
              "      <th></th>\n",
              "      <th>Text</th>\n",
              "      <th>word_counts</th>\n",
              "      <th>char_counts</th>\n",
              "      <th>avg_word_len</th>\n",
              "      <th>stop_words_len</th>\n",
              "      <th>upper_counts</th>\n",
              "    </tr>\n",
              "  </thead>\n",
              "  <tbody>\n",
              "    <tr>\n",
              "      <th>0</th>\n",
              "      <td>Helping others physically, by removing their p...</td>\n",
              "      <td>329</td>\n",
              "      <td>1455</td>\n",
              "      <td>4.422492</td>\n",
              "      <td>178</td>\n",
              "      <td>1</td>\n",
              "    </tr>\n",
              "    <tr>\n",
              "      <th>1</th>\n",
              "      <td>about permanent satisfaction. The misery that ...</td>\n",
              "      <td>72</td>\n",
              "      <td>330</td>\n",
              "      <td>4.583333</td>\n",
              "      <td>37</td>\n",
              "      <td>3</td>\n",
              "    </tr>\n",
              "    <tr>\n",
              "      <th>2</th>\n",
              "      <td>The miseries of the world cannot be cured by p...</td>\n",
              "      <td>119</td>\n",
              "      <td>545</td>\n",
              "      <td>4.579832</td>\n",
              "      <td>61</td>\n",
              "      <td>0</td>\n",
              "    </tr>\n",
              "    <tr>\n",
              "      <th>3</th>\n",
              "      <td>We read in the Bhagavad-Gita again and again t...</td>\n",
              "      <td>150</td>\n",
              "      <td>657</td>\n",
              "      <td>4.380000</td>\n",
              "      <td>81</td>\n",
              "      <td>0</td>\n",
              "    </tr>\n",
              "    <tr>\n",
              "      <th>4</th>\n",
              "      <td>This is the one central idea in the Gita: work...</td>\n",
              "      <td>20</td>\n",
              "      <td>83</td>\n",
              "      <td>4.150000</td>\n",
              "      <td>11</td>\n",
              "      <td>0</td>\n",
              "    </tr>\n",
              "  </tbody>\n",
              "</table>\n",
              "</div>"
            ],
            "text/plain": [
              "                                                Text  ...  upper_counts\n",
              "0  Helping others physically, by removing their p...  ...             1\n",
              "1  about permanent satisfaction. The misery that ...  ...             3\n",
              "2  The miseries of the world cannot be cured by p...  ...             0\n",
              "3  We read in the Bhagavad-Gita again and again t...  ...             0\n",
              "4  This is the one central idea in the Gita: work...  ...             0\n",
              "\n",
              "[5 rows x 6 columns]"
            ]
          },
          "metadata": {
            "tags": []
          },
          "execution_count": 51
        }
      ]
    },
    {
      "cell_type": "markdown",
      "metadata": {
        "id": "228vb7l0jium"
      },
      "source": [
        "### 7.Lowering the Text"
      ]
    },
    {
      "cell_type": "code",
      "metadata": {
        "id": "xYRjWaoqN-nm"
      },
      "source": [
        "df['Text']=df['Text'].apply(lambda x: str(x).lower())"
      ],
      "execution_count": null,
      "outputs": []
    },
    {
      "cell_type": "code",
      "metadata": {
        "colab": {
          "base_uri": "https://localhost:8080/",
          "height": 204
        },
        "id": "Y61nDMgHOD7w",
        "outputId": "c2316f8f-3874-48ad-d809-f25e91665680"
      },
      "source": [
        "df.head(5)"
      ],
      "execution_count": null,
      "outputs": [
        {
          "output_type": "execute_result",
          "data": {
            "text/html": [
              "<div>\n",
              "<style scoped>\n",
              "    .dataframe tbody tr th:only-of-type {\n",
              "        vertical-align: middle;\n",
              "    }\n",
              "\n",
              "    .dataframe tbody tr th {\n",
              "        vertical-align: top;\n",
              "    }\n",
              "\n",
              "    .dataframe thead th {\n",
              "        text-align: right;\n",
              "    }\n",
              "</style>\n",
              "<table border=\"1\" class=\"dataframe\">\n",
              "  <thead>\n",
              "    <tr style=\"text-align: right;\">\n",
              "      <th></th>\n",
              "      <th>Text</th>\n",
              "      <th>word_counts</th>\n",
              "      <th>char_counts</th>\n",
              "      <th>avg_word_len</th>\n",
              "      <th>stop_words_len</th>\n",
              "      <th>upper_counts</th>\n",
              "    </tr>\n",
              "  </thead>\n",
              "  <tbody>\n",
              "    <tr>\n",
              "      <th>0</th>\n",
              "      <td>helping others physically, by removing their p...</td>\n",
              "      <td>329</td>\n",
              "      <td>1455</td>\n",
              "      <td>4.422492</td>\n",
              "      <td>178</td>\n",
              "      <td>1</td>\n",
              "    </tr>\n",
              "    <tr>\n",
              "      <th>1</th>\n",
              "      <td>about permanent satisfaction. the misery that ...</td>\n",
              "      <td>72</td>\n",
              "      <td>330</td>\n",
              "      <td>4.583333</td>\n",
              "      <td>37</td>\n",
              "      <td>3</td>\n",
              "    </tr>\n",
              "    <tr>\n",
              "      <th>2</th>\n",
              "      <td>the miseries of the world cannot be cured by p...</td>\n",
              "      <td>119</td>\n",
              "      <td>545</td>\n",
              "      <td>4.579832</td>\n",
              "      <td>61</td>\n",
              "      <td>0</td>\n",
              "    </tr>\n",
              "    <tr>\n",
              "      <th>3</th>\n",
              "      <td>we read in the bhagavad-gita again and again t...</td>\n",
              "      <td>150</td>\n",
              "      <td>657</td>\n",
              "      <td>4.380000</td>\n",
              "      <td>81</td>\n",
              "      <td>0</td>\n",
              "    </tr>\n",
              "    <tr>\n",
              "      <th>4</th>\n",
              "      <td>this is the one central idea in the gita: work...</td>\n",
              "      <td>20</td>\n",
              "      <td>83</td>\n",
              "      <td>4.150000</td>\n",
              "      <td>11</td>\n",
              "      <td>0</td>\n",
              "    </tr>\n",
              "  </tbody>\n",
              "</table>\n",
              "</div>"
            ],
            "text/plain": [
              "                                                Text  ...  upper_counts\n",
              "0  helping others physically, by removing their p...  ...             1\n",
              "1  about permanent satisfaction. the misery that ...  ...             3\n",
              "2  the miseries of the world cannot be cured by p...  ...             0\n",
              "3  we read in the bhagavad-gita again and again t...  ...             0\n",
              "4  this is the one central idea in the gita: work...  ...             0\n",
              "\n",
              "[5 rows x 6 columns]"
            ]
          },
          "metadata": {
            "tags": []
          },
          "execution_count": 53
        }
      ]
    },
    {
      "cell_type": "code",
      "metadata": {
        "id": "yrbpi7nSPIyS"
      },
      "source": [
        "# df = df.drop(['lower_counts'],axis=1)"
      ],
      "execution_count": null,
      "outputs": []
    },
    {
      "cell_type": "code",
      "metadata": {
        "colab": {
          "base_uri": "https://localhost:8080/",
          "height": 204
        },
        "id": "LY33RwlCOK7l",
        "outputId": "7abec3b9-6711-451a-fb1d-4f268026ecc8"
      },
      "source": [
        "# df.head(5)"
      ],
      "execution_count": null,
      "outputs": [
        {
          "output_type": "execute_result",
          "data": {
            "text/html": [
              "<div>\n",
              "<style scoped>\n",
              "    .dataframe tbody tr th:only-of-type {\n",
              "        vertical-align: middle;\n",
              "    }\n",
              "\n",
              "    .dataframe tbody tr th {\n",
              "        vertical-align: top;\n",
              "    }\n",
              "\n",
              "    .dataframe thead th {\n",
              "        text-align: right;\n",
              "    }\n",
              "</style>\n",
              "<table border=\"1\" class=\"dataframe\">\n",
              "  <thead>\n",
              "    <tr style=\"text-align: right;\">\n",
              "      <th></th>\n",
              "      <th>Text</th>\n",
              "      <th>word_counts</th>\n",
              "      <th>char_counts</th>\n",
              "      <th>avg_word_len</th>\n",
              "      <th>stop_words_len</th>\n",
              "      <th>upper_counts</th>\n",
              "    </tr>\n",
              "  </thead>\n",
              "  <tbody>\n",
              "    <tr>\n",
              "      <th>0</th>\n",
              "      <td>helping others physically, by removing their p...</td>\n",
              "      <td>329</td>\n",
              "      <td>1455</td>\n",
              "      <td>4.422492</td>\n",
              "      <td>178</td>\n",
              "      <td>1</td>\n",
              "    </tr>\n",
              "    <tr>\n",
              "      <th>1</th>\n",
              "      <td>about permanent satisfaction. the misery that ...</td>\n",
              "      <td>72</td>\n",
              "      <td>330</td>\n",
              "      <td>4.583333</td>\n",
              "      <td>37</td>\n",
              "      <td>3</td>\n",
              "    </tr>\n",
              "    <tr>\n",
              "      <th>2</th>\n",
              "      <td>the miseries of the world cannot be cured by p...</td>\n",
              "      <td>119</td>\n",
              "      <td>545</td>\n",
              "      <td>4.579832</td>\n",
              "      <td>61</td>\n",
              "      <td>0</td>\n",
              "    </tr>\n",
              "    <tr>\n",
              "      <th>3</th>\n",
              "      <td>we read in the bhagavad-gita again and again t...</td>\n",
              "      <td>150</td>\n",
              "      <td>657</td>\n",
              "      <td>4.380000</td>\n",
              "      <td>81</td>\n",
              "      <td>0</td>\n",
              "    </tr>\n",
              "    <tr>\n",
              "      <th>4</th>\n",
              "      <td>this is the one central idea in the gita: work...</td>\n",
              "      <td>20</td>\n",
              "      <td>83</td>\n",
              "      <td>4.150000</td>\n",
              "      <td>11</td>\n",
              "      <td>0</td>\n",
              "    </tr>\n",
              "  </tbody>\n",
              "</table>\n",
              "</div>"
            ],
            "text/plain": [
              "                                                Text  ...  upper_counts\n",
              "0  helping others physically, by removing their p...  ...             1\n",
              "1  about permanent satisfaction. the misery that ...  ...             3\n",
              "2  the miseries of the world cannot be cured by p...  ...             0\n",
              "3  we read in the bhagavad-gita again and again t...  ...             0\n",
              "4  this is the one central idea in the gita: work...  ...             0\n",
              "\n",
              "[5 rows x 6 columns]"
            ]
          },
          "metadata": {
            "tags": []
          },
          "execution_count": 163
        }
      ]
    },
    {
      "cell_type": "markdown",
      "metadata": {
        "id": "Sa9wCa7Zjpw-"
      },
      "source": [
        "### Special Character Removal"
      ]
    },
    {
      "cell_type": "code",
      "metadata": {
        "id": "hbGZsPL9Ro-0"
      },
      "source": [
        "import re\n",
        "df['Text']=df['Text'].apply(lambda x:re.sub(r'[^\\w ]+','',x))"
      ],
      "execution_count": null,
      "outputs": []
    },
    {
      "cell_type": "code",
      "metadata": {
        "colab": {
          "base_uri": "https://localhost:8080/",
          "height": 204
        },
        "id": "att3vKfDSDoE",
        "outputId": "3fc8e7b0-6be2-4a62-9eaf-d0bbd3bb7b43"
      },
      "source": [
        "df.head(5)"
      ],
      "execution_count": null,
      "outputs": [
        {
          "output_type": "execute_result",
          "data": {
            "text/html": [
              "<div>\n",
              "<style scoped>\n",
              "    .dataframe tbody tr th:only-of-type {\n",
              "        vertical-align: middle;\n",
              "    }\n",
              "\n",
              "    .dataframe tbody tr th {\n",
              "        vertical-align: top;\n",
              "    }\n",
              "\n",
              "    .dataframe thead th {\n",
              "        text-align: right;\n",
              "    }\n",
              "</style>\n",
              "<table border=\"1\" class=\"dataframe\">\n",
              "  <thead>\n",
              "    <tr style=\"text-align: right;\">\n",
              "      <th></th>\n",
              "      <th>Text</th>\n",
              "      <th>word_counts</th>\n",
              "      <th>char_counts</th>\n",
              "      <th>avg_word_len</th>\n",
              "      <th>stop_words_len</th>\n",
              "      <th>upper_counts</th>\n",
              "    </tr>\n",
              "  </thead>\n",
              "  <tbody>\n",
              "    <tr>\n",
              "      <th>0</th>\n",
              "      <td>helping others physically by removing their ph...</td>\n",
              "      <td>329</td>\n",
              "      <td>1455</td>\n",
              "      <td>4.422492</td>\n",
              "      <td>178</td>\n",
              "      <td>1</td>\n",
              "    </tr>\n",
              "    <tr>\n",
              "      <th>1</th>\n",
              "      <td>about permanent satisfaction the misery that i...</td>\n",
              "      <td>72</td>\n",
              "      <td>330</td>\n",
              "      <td>4.583333</td>\n",
              "      <td>37</td>\n",
              "      <td>3</td>\n",
              "    </tr>\n",
              "    <tr>\n",
              "      <th>2</th>\n",
              "      <td>the miseries of the world cannot be cured by p...</td>\n",
              "      <td>119</td>\n",
              "      <td>545</td>\n",
              "      <td>4.579832</td>\n",
              "      <td>61</td>\n",
              "      <td>0</td>\n",
              "    </tr>\n",
              "    <tr>\n",
              "      <th>3</th>\n",
              "      <td>we read in the bhagavadgita again and again th...</td>\n",
              "      <td>150</td>\n",
              "      <td>657</td>\n",
              "      <td>4.380000</td>\n",
              "      <td>81</td>\n",
              "      <td>0</td>\n",
              "    </tr>\n",
              "    <tr>\n",
              "      <th>4</th>\n",
              "      <td>this is the one central idea in the gita work ...</td>\n",
              "      <td>20</td>\n",
              "      <td>83</td>\n",
              "      <td>4.150000</td>\n",
              "      <td>11</td>\n",
              "      <td>0</td>\n",
              "    </tr>\n",
              "  </tbody>\n",
              "</table>\n",
              "</div>"
            ],
            "text/plain": [
              "                                                Text  ...  upper_counts\n",
              "0  helping others physically by removing their ph...  ...             1\n",
              "1  about permanent satisfaction the misery that i...  ...             3\n",
              "2  the miseries of the world cannot be cured by p...  ...             0\n",
              "3  we read in the bhagavadgita again and again th...  ...             0\n",
              "4  this is the one central idea in the gita work ...  ...             0\n",
              "\n",
              "[5 rows x 6 columns]"
            ]
          },
          "metadata": {
            "tags": []
          },
          "execution_count": 59
        }
      ]
    },
    {
      "cell_type": "code",
      "metadata": {
        "id": "Ud_z04LJyApG"
      },
      "source": [
        "df['numeric_counts']=df['Text'].apply(lambda x: len([t for t in x.split() if t.isdigit()]))"
      ],
      "execution_count": null,
      "outputs": []
    },
    {
      "cell_type": "code",
      "metadata": {
        "colab": {
          "base_uri": "https://localhost:8080/",
          "height": 204
        },
        "id": "mCHJwjoozQ7G",
        "outputId": "b6536095-b8d1-4946-8517-a7b418d1e64d"
      },
      "source": [
        "df.head(5)"
      ],
      "execution_count": null,
      "outputs": [
        {
          "output_type": "execute_result",
          "data": {
            "text/html": [
              "<div>\n",
              "<style scoped>\n",
              "    .dataframe tbody tr th:only-of-type {\n",
              "        vertical-align: middle;\n",
              "    }\n",
              "\n",
              "    .dataframe tbody tr th {\n",
              "        vertical-align: top;\n",
              "    }\n",
              "\n",
              "    .dataframe thead th {\n",
              "        text-align: right;\n",
              "    }\n",
              "</style>\n",
              "<table border=\"1\" class=\"dataframe\">\n",
              "  <thead>\n",
              "    <tr style=\"text-align: right;\">\n",
              "      <th></th>\n",
              "      <th>Text</th>\n",
              "      <th>word_counts</th>\n",
              "      <th>char_counts</th>\n",
              "      <th>avg_word_len</th>\n",
              "      <th>stop_words_len</th>\n",
              "      <th>upper_counts</th>\n",
              "      <th>numeric_counts</th>\n",
              "    </tr>\n",
              "  </thead>\n",
              "  <tbody>\n",
              "    <tr>\n",
              "      <th>0</th>\n",
              "      <td>helping others physically by removing their ph...</td>\n",
              "      <td>329</td>\n",
              "      <td>1455</td>\n",
              "      <td>4.422492</td>\n",
              "      <td>178</td>\n",
              "      <td>1</td>\n",
              "      <td>0</td>\n",
              "    </tr>\n",
              "    <tr>\n",
              "      <th>1</th>\n",
              "      <td>about permanent satisfaction the misery that i...</td>\n",
              "      <td>72</td>\n",
              "      <td>330</td>\n",
              "      <td>4.583333</td>\n",
              "      <td>37</td>\n",
              "      <td>3</td>\n",
              "      <td>0</td>\n",
              "    </tr>\n",
              "    <tr>\n",
              "      <th>2</th>\n",
              "      <td>the miseries of the world cannot be cured by p...</td>\n",
              "      <td>119</td>\n",
              "      <td>545</td>\n",
              "      <td>4.579832</td>\n",
              "      <td>61</td>\n",
              "      <td>0</td>\n",
              "      <td>0</td>\n",
              "    </tr>\n",
              "    <tr>\n",
              "      <th>3</th>\n",
              "      <td>we read in the bhagavadgita again and again th...</td>\n",
              "      <td>150</td>\n",
              "      <td>657</td>\n",
              "      <td>4.380000</td>\n",
              "      <td>81</td>\n",
              "      <td>0</td>\n",
              "      <td>0</td>\n",
              "    </tr>\n",
              "    <tr>\n",
              "      <th>4</th>\n",
              "      <td>this is the one central idea in the gita work ...</td>\n",
              "      <td>20</td>\n",
              "      <td>83</td>\n",
              "      <td>4.150000</td>\n",
              "      <td>11</td>\n",
              "      <td>0</td>\n",
              "      <td>0</td>\n",
              "    </tr>\n",
              "  </tbody>\n",
              "</table>\n",
              "</div>"
            ],
            "text/plain": [
              "                                                Text  ...  numeric_counts\n",
              "0  helping others physically by removing their ph...  ...               0\n",
              "1  about permanent satisfaction the misery that i...  ...               0\n",
              "2  the miseries of the world cannot be cured by p...  ...               0\n",
              "3  we read in the bhagavadgita again and again th...  ...               0\n",
              "4  this is the one central idea in the gita work ...  ...               0\n",
              "\n",
              "[5 rows x 7 columns]"
            ]
          },
          "metadata": {
            "tags": []
          },
          "execution_count": 61
        }
      ]
    },
    {
      "cell_type": "markdown",
      "metadata": {
        "id": "M-hSLZ_FjvBs"
      },
      "source": [
        "### Non-Stopwords Count"
      ]
    },
    {
      "cell_type": "code",
      "metadata": {
        "id": "Gl2KZLCbz1ec"
      },
      "source": [
        "df['non_stop_words'] = df['Text'].apply(lambda x: len([t for t in x.split() if t not in stopwords]))"
      ],
      "execution_count": null,
      "outputs": []
    },
    {
      "cell_type": "code",
      "metadata": {
        "colab": {
          "base_uri": "https://localhost:8080/",
          "height": 204
        },
        "id": "tOOSDoxz0Sjm",
        "outputId": "36e839d1-f6c3-49b8-88d6-133d5ef55fac"
      },
      "source": [
        "df.head(5)"
      ],
      "execution_count": null,
      "outputs": [
        {
          "output_type": "execute_result",
          "data": {
            "text/html": [
              "<div>\n",
              "<style scoped>\n",
              "    .dataframe tbody tr th:only-of-type {\n",
              "        vertical-align: middle;\n",
              "    }\n",
              "\n",
              "    .dataframe tbody tr th {\n",
              "        vertical-align: top;\n",
              "    }\n",
              "\n",
              "    .dataframe thead th {\n",
              "        text-align: right;\n",
              "    }\n",
              "</style>\n",
              "<table border=\"1\" class=\"dataframe\">\n",
              "  <thead>\n",
              "    <tr style=\"text-align: right;\">\n",
              "      <th></th>\n",
              "      <th>Text</th>\n",
              "      <th>word_counts</th>\n",
              "      <th>char_counts</th>\n",
              "      <th>avg_word_len</th>\n",
              "      <th>stop_words_len</th>\n",
              "      <th>upper_counts</th>\n",
              "      <th>numeric_counts</th>\n",
              "      <th>non_stop_words</th>\n",
              "    </tr>\n",
              "  </thead>\n",
              "  <tbody>\n",
              "    <tr>\n",
              "      <th>0</th>\n",
              "      <td>helping others physically by removing their ph...</td>\n",
              "      <td>329</td>\n",
              "      <td>1455</td>\n",
              "      <td>4.422492</td>\n",
              "      <td>178</td>\n",
              "      <td>1</td>\n",
              "      <td>0</td>\n",
              "      <td>132</td>\n",
              "    </tr>\n",
              "    <tr>\n",
              "      <th>1</th>\n",
              "      <td>about permanent satisfaction the misery that i...</td>\n",
              "      <td>72</td>\n",
              "      <td>330</td>\n",
              "      <td>4.583333</td>\n",
              "      <td>37</td>\n",
              "      <td>3</td>\n",
              "      <td>0</td>\n",
              "      <td>28</td>\n",
              "    </tr>\n",
              "    <tr>\n",
              "      <th>2</th>\n",
              "      <td>the miseries of the world cannot be cured by p...</td>\n",
              "      <td>119</td>\n",
              "      <td>545</td>\n",
              "      <td>4.579832</td>\n",
              "      <td>61</td>\n",
              "      <td>0</td>\n",
              "      <td>0</td>\n",
              "      <td>51</td>\n",
              "    </tr>\n",
              "    <tr>\n",
              "      <th>3</th>\n",
              "      <td>we read in the bhagavadgita again and again th...</td>\n",
              "      <td>150</td>\n",
              "      <td>657</td>\n",
              "      <td>4.380000</td>\n",
              "      <td>81</td>\n",
              "      <td>0</td>\n",
              "      <td>0</td>\n",
              "      <td>57</td>\n",
              "    </tr>\n",
              "    <tr>\n",
              "      <th>4</th>\n",
              "      <td>this is the one central idea in the gita work ...</td>\n",
              "      <td>20</td>\n",
              "      <td>83</td>\n",
              "      <td>4.150000</td>\n",
              "      <td>11</td>\n",
              "      <td>0</td>\n",
              "      <td>0</td>\n",
              "      <td>7</td>\n",
              "    </tr>\n",
              "  </tbody>\n",
              "</table>\n",
              "</div>"
            ],
            "text/plain": [
              "                                                Text  ...  non_stop_words\n",
              "0  helping others physically by removing their ph...  ...             132\n",
              "1  about permanent satisfaction the misery that i...  ...              28\n",
              "2  the miseries of the world cannot be cured by p...  ...              51\n",
              "3  we read in the bhagavadgita again and again th...  ...              57\n",
              "4  this is the one central idea in the gita work ...  ...               7\n",
              "\n",
              "[5 rows x 8 columns]"
            ]
          },
          "metadata": {
            "tags": []
          },
          "execution_count": 63
        }
      ]
    },
    {
      "cell_type": "markdown",
      "metadata": {
        "id": "6EYVD8Vij2Vo"
      },
      "source": [
        "### Rare Words "
      ]
    },
    {
      "cell_type": "code",
      "metadata": {
        "id": "aj-MBYBU2gjI"
      },
      "source": [
        "text = df['Text'].apply(lambda x: ' '.join([t for t in x.split() if t not in stopwords]))"
      ],
      "execution_count": null,
      "outputs": []
    },
    {
      "cell_type": "code",
      "metadata": {
        "id": "L2m01h9lKtO0"
      },
      "source": [
        "text = ''.join(text)"
      ],
      "execution_count": null,
      "outputs": []
    },
    {
      "cell_type": "code",
      "metadata": {
        "colab": {
          "base_uri": "https://localhost:8080/",
          "height": 137
        },
        "id": "kntu2LFoKz4R",
        "outputId": "feaf8023-20d1-4268-ad0c-31f9a083025f"
      },
      "source": [
        "text"
      ],
      "execution_count": null,
      "outputs": [
        {
          "output_type": "execute_result",
          "data": {
            "application/vnd.google.colaboratory.intrinsic+json": {
              "type": "string"
            },
            "text/plain": [
              "'helping physically removing physical needs great help great according need greater according help far reaching mans wants removed hour helping wants removed year help wants removed surely greatest help given spiritual knowledge thing destroy miseries knowledge satisfies wants time knowledge spirit faculty want annihilated helping man spiritually highest help given gives man spiritual knowledge greatest benefactor mankind find powerful men helped man spiritual needs spirituality true basis activities life spiritually strong sound man strong respect wishes spiritual strength man physical needs satisfied spiritual comes intellectual help gift knowledge far higher gift food clothes higher giving life man real life man consists knowledge ignorance death knowledge life life little value life dark groping ignorance misery order comes course helping man physically considering question helping strive commit mistake thinking physical help help given bringpermanent satisfaction misery feel hungry satisfied eating hunger returns misery cease satisfied want hunger miserable distress sorrow able help tends strong spiritually highest comes intellectual help physical helpmiseries world cured physical help mans nature changes physical needs arise miseries felt physical help cure completely solution problem mankind pure ignorance mother evil misery let men light let pure spiritually strong educated misery cease world convert house country charity asylum fill land hospitals misery man continue exist mans character changesread bhagavadgita work incessantly work nature composed good evil work good work cause harm work necessarily mixture good evil commanded work incessantly good evil results produce karma good action entail good effect bad action bad good bad bondages soul solution reached gita regard bondageproducing nature work attach work binding effect soul shall try understand meant nonattachment workcentral idea gita work incessantly attached samskâratranslated nearly inherent tendency simile lake mind ripple wave rises mind subsides die entirely leaves mark future possibility wave coming mark possibility wave reappearing called samskâra work movement body thought think leaves impression mindstuff impressions obvious surface sufficiently strong work beneath surface subconsciously moment determined sum total impressions mind moment effect sum total impressions past life meant character mans character determined sum total impressions good impressions prevail character good bad bad man continuously hears bad words thinks bad thoughts bad actions mind bad impressions influence thought work conscious fact fact bad impressions working resultant evil man bad man help sum total impressions create strong motive power bad actions like machine hands impressions force evil similarly man thinks good thoughts good works sum total impressions good similar manner force good spite man good work thought good thoughts irresistible tendency good spite wishes evil mind sum total tendencies allow tendencies turncompletely influence good tendencies case mans good character said establishedtortoise tucks feet head inside shell kill break pieces come character man control motives organs unchangeably established controls inner forces draw continuous reflex good thoughts good impressions moving surface mind tendency good strong result feel able control indriyas senseorgans nervecentres character established man gets truth man safe evil place company danger higher state having good tendency desire liberation remember freedom soul goal yogas equally leads result work men buddha got largely meditation christ prayer buddha working jnâni christ bhakta goal reached difficulty liberation means entire freedom freedom bondage good bondage evil golden chain chain iron thorn finger use taken throw aside necessity keeping second thorn thorns bad tendencies counteracted good ones bad impressions mind removed fresh waves good ones evil disappears subdued held control corner mind good tendenciesconquered attached unattached work let action thought produce deep impression mind let ripples come let huge actions proceed muscles brain let deep impression soulimpression action attach remains meet hundreds persons day meet love retire night try think faces saw face comes mind face met minute loved vanished attachment particular person caused deeper impression mind faces physiologically impressions faces saw pictured retina brain took pictures similarity effect mind faces entirely new faces thought face got glimpse found associations inside pictured mind years knew hundreds things new vision awakened hundreds sleeping memories mind impression having repeated times different faces produce great effect mindunattached let things work let brain centres work work incessantly let ripple conquer mind work stranger land sojourner work incessantly bind bondage terrible world habitation stages passing remember great sayingsânkhya nature soul soul nature reason natures existence education soul meaning soul knowledge knowledge free remember shall attached nature shall know nature book read gained required knowledge book value instead identifying nature thinking soul nature spirit flesh common saying think man lives eat eats live continually making mistake nature attached soon attachment comes deep impression soul binds makes work freedom like slavesgist teaching work likemasterslavework incessantly slaves work everybody works altogether rest ninetynine cent mankind work like slaves result misery selfish work work freedom work love word love difficult understand love comes freedom true love possible slave buy slave tie chains work work like drudge love work things world slaves love work true work true work relatives friends true work selves selfish work slaves work test act love brings happiness act love bring peace blessednessreaction real existence real knowledge real love eternally connected aspects second existence knowledge bliss existence relative world knowledge turn modified knowledge things world bliss forms foundation true love known heart man true love react cause pain lover beloved suppose man loves woman wishes feels extremely jealous movement wants sit near stand near eat bidding slave wishes slave love kind morbid affection slave insinuating love love painful wants brings pain love painful reaction love brings reaction bliss love mistaking love succeeded loving husband wife children world universe manner reaction pain jealousy selfish feeling fit state unattachedkrishna says look arjuna stop work moment universe die gain work lord work love world god unattached loves real love makes unattached attachment clinging things world know physical attraction sets particles matter attracts bodies nearer nearer time near produces painreallove rest physical attachment lovers thousand miles away love die produce painful reactionattain unattachment lifework soon reached point attained goal love free bondage nature falls nature forges chains stand entirely free results work consideration cares resultsask children return given duty work matter ends particular person city state assume attitude children expect return invariably position giver given free offering world thought return work bring attachment attachment comes expect returnworking like slaves results selfishness attachment working master mind gives rise bliss nonattachment talk right justice find world right justice mere babys talk things guide conduct men mercy exercise invariably exercise selfishness men women try power advantage mercy heaven good merciful justice right stand mercy thought obtaining return work hinders spiritual progress nay end brings misery way idea mercy selfless charity practice looking work worshipcase believe personal god fruits work unto lord worshipping right expect mankind work lord works incessantly attachment water wet lotus leaf work bind unselfish man giving rise attachment results selfless unattached man live heart crowded sinful city touched sinidea complete selfsacrifice illustrated following story battle kurukshetra pândava brothers performed great sacrifice large gifts poor people expressed amazement greatness richness sacrifice said sacrifice world seen ceremony came little mongoose half body golden half brown began roll floor sacrificial hall said liars sacrifice exclaimed sacrifice know money jewels poured poor rich happy wonderful sacrifice man performed mongoose said little village dwelt poor brahmin wife son sons wife poor lived small gifts preaching teaching came land years famine poor brahmin suffered family starved days father brought home morning little barley flour fortunate obtain divided parts member family prepared meal eat knock door father opened stood guestindia guest sacred person god time treated poor brahmin said come sir welcome set guest portion food guest quickly ate said oh sir killed starving days little bit increased hunger wife said husband share husband said wife insisted saying poor man duty householders fed duty wife portion seeing offer gave share guest ate said burning hunger son said portion duty son help father fulfil obligations guest ate remained unsatisfied sons wife gave portion sufficient guest departed blessing night people died starvation granules flour fallen floor rolled body half golden travelling world hoping find sacrifice like found half body turned gold sacrificeidea charity going india great men fewer fewer learning english read english story book story dutiful boy gone work given money old mother praised pages hindu boy understand moral story understand hear western idea man men fathers mothers wiveschildren wall ideal householderkarmayoga means point death help asking questions cheated millions times ask question think vaunt gifts poor expect gratitude grateful giving occasion practicing charity plain ideal householder difficult task ideal sannyasin true life work hard harder equally true life renunciation'"
            ]
          },
          "metadata": {
            "tags": []
          },
          "execution_count": 66
        }
      ]
    },
    {
      "cell_type": "code",
      "metadata": {
        "colab": {
          "base_uri": "https://localhost:8080/"
        },
        "id": "Hqt3Q0NlLNKm",
        "outputId": "9a959301-3eaa-42f2-ca32-de25cf8bea7b"
      },
      "source": [
        "len(text)"
      ],
      "execution_count": null,
      "outputs": [
        {
          "output_type": "execute_result",
          "data": {
            "text/plain": [
              "9966"
            ]
          },
          "metadata": {
            "tags": []
          },
          "execution_count": 67
        }
      ]
    },
    {
      "cell_type": "code",
      "metadata": {
        "colab": {
          "base_uri": "https://localhost:8080/"
        },
        "id": "XjI5i9Jg3NmU",
        "outputId": "f131899e-221e-46c8-9a54-654231f9e482"
      },
      "source": [
        "text=text.split()\n",
        "len(text)"
      ],
      "execution_count": null,
      "outputs": [
        {
          "output_type": "execute_result",
          "data": {
            "text/plain": [
              "1403"
            ]
          },
          "metadata": {
            "tags": []
          },
          "execution_count": 68
        }
      ]
    },
    {
      "cell_type": "code",
      "metadata": {
        "colab": {
          "base_uri": "https://localhost:8080/"
        },
        "id": "85vQsnRTLTB-",
        "outputId": "af889077-0263-4d21-ef4c-cc1de688efd5"
      },
      "source": [
        "text"
      ],
      "execution_count": null,
      "outputs": [
        {
          "output_type": "execute_result",
          "data": {
            "text/plain": [
              "['helping',\n",
              " 'physically',\n",
              " 'removing',\n",
              " 'physical',\n",
              " 'needs',\n",
              " 'great',\n",
              " 'help',\n",
              " 'great',\n",
              " 'according',\n",
              " 'need',\n",
              " 'greater',\n",
              " 'according',\n",
              " 'help',\n",
              " 'far',\n",
              " 'reaching',\n",
              " 'mans',\n",
              " 'wants',\n",
              " 'removed',\n",
              " 'hour',\n",
              " 'helping',\n",
              " 'wants',\n",
              " 'removed',\n",
              " 'year',\n",
              " 'help',\n",
              " 'wants',\n",
              " 'removed',\n",
              " 'surely',\n",
              " 'greatest',\n",
              " 'help',\n",
              " 'given',\n",
              " 'spiritual',\n",
              " 'knowledge',\n",
              " 'thing',\n",
              " 'destroy',\n",
              " 'miseries',\n",
              " 'knowledge',\n",
              " 'satisfies',\n",
              " 'wants',\n",
              " 'time',\n",
              " 'knowledge',\n",
              " 'spirit',\n",
              " 'faculty',\n",
              " 'want',\n",
              " 'annihilated',\n",
              " 'helping',\n",
              " 'man',\n",
              " 'spiritually',\n",
              " 'highest',\n",
              " 'help',\n",
              " 'given',\n",
              " 'gives',\n",
              " 'man',\n",
              " 'spiritual',\n",
              " 'knowledge',\n",
              " 'greatest',\n",
              " 'benefactor',\n",
              " 'mankind',\n",
              " 'find',\n",
              " 'powerful',\n",
              " 'men',\n",
              " 'helped',\n",
              " 'man',\n",
              " 'spiritual',\n",
              " 'needs',\n",
              " 'spirituality',\n",
              " 'true',\n",
              " 'basis',\n",
              " 'activities',\n",
              " 'life',\n",
              " 'spiritually',\n",
              " 'strong',\n",
              " 'sound',\n",
              " 'man',\n",
              " 'strong',\n",
              " 'respect',\n",
              " 'wishes',\n",
              " 'spiritual',\n",
              " 'strength',\n",
              " 'man',\n",
              " 'physical',\n",
              " 'needs',\n",
              " 'satisfied',\n",
              " 'spiritual',\n",
              " 'comes',\n",
              " 'intellectual',\n",
              " 'help',\n",
              " 'gift',\n",
              " 'knowledge',\n",
              " 'far',\n",
              " 'higher',\n",
              " 'gift',\n",
              " 'food',\n",
              " 'clothes',\n",
              " 'higher',\n",
              " 'giving',\n",
              " 'life',\n",
              " 'man',\n",
              " 'real',\n",
              " 'life',\n",
              " 'man',\n",
              " 'consists',\n",
              " 'knowledge',\n",
              " 'ignorance',\n",
              " 'death',\n",
              " 'knowledge',\n",
              " 'life',\n",
              " 'life',\n",
              " 'little',\n",
              " 'value',\n",
              " 'life',\n",
              " 'dark',\n",
              " 'groping',\n",
              " 'ignorance',\n",
              " 'misery',\n",
              " 'order',\n",
              " 'comes',\n",
              " 'course',\n",
              " 'helping',\n",
              " 'man',\n",
              " 'physically',\n",
              " 'considering',\n",
              " 'question',\n",
              " 'helping',\n",
              " 'strive',\n",
              " 'commit',\n",
              " 'mistake',\n",
              " 'thinking',\n",
              " 'physical',\n",
              " 'help',\n",
              " 'help',\n",
              " 'given',\n",
              " 'bringpermanent',\n",
              " 'satisfaction',\n",
              " 'misery',\n",
              " 'feel',\n",
              " 'hungry',\n",
              " 'satisfied',\n",
              " 'eating',\n",
              " 'hunger',\n",
              " 'returns',\n",
              " 'misery',\n",
              " 'cease',\n",
              " 'satisfied',\n",
              " 'want',\n",
              " 'hunger',\n",
              " 'miserable',\n",
              " 'distress',\n",
              " 'sorrow',\n",
              " 'able',\n",
              " 'help',\n",
              " 'tends',\n",
              " 'strong',\n",
              " 'spiritually',\n",
              " 'highest',\n",
              " 'comes',\n",
              " 'intellectual',\n",
              " 'help',\n",
              " 'physical',\n",
              " 'helpmiseries',\n",
              " 'world',\n",
              " 'cured',\n",
              " 'physical',\n",
              " 'help',\n",
              " 'mans',\n",
              " 'nature',\n",
              " 'changes',\n",
              " 'physical',\n",
              " 'needs',\n",
              " 'arise',\n",
              " 'miseries',\n",
              " 'felt',\n",
              " 'physical',\n",
              " 'help',\n",
              " 'cure',\n",
              " 'completely',\n",
              " 'solution',\n",
              " 'problem',\n",
              " 'mankind',\n",
              " 'pure',\n",
              " 'ignorance',\n",
              " 'mother',\n",
              " 'evil',\n",
              " 'misery',\n",
              " 'let',\n",
              " 'men',\n",
              " 'light',\n",
              " 'let',\n",
              " 'pure',\n",
              " 'spiritually',\n",
              " 'strong',\n",
              " 'educated',\n",
              " 'misery',\n",
              " 'cease',\n",
              " 'world',\n",
              " 'convert',\n",
              " 'house',\n",
              " 'country',\n",
              " 'charity',\n",
              " 'asylum',\n",
              " 'fill',\n",
              " 'land',\n",
              " 'hospitals',\n",
              " 'misery',\n",
              " 'man',\n",
              " 'continue',\n",
              " 'exist',\n",
              " 'mans',\n",
              " 'character',\n",
              " 'changesread',\n",
              " 'bhagavadgita',\n",
              " 'work',\n",
              " 'incessantly',\n",
              " 'work',\n",
              " 'nature',\n",
              " 'composed',\n",
              " 'good',\n",
              " 'evil',\n",
              " 'work',\n",
              " 'good',\n",
              " 'work',\n",
              " 'cause',\n",
              " 'harm',\n",
              " 'work',\n",
              " 'necessarily',\n",
              " 'mixture',\n",
              " 'good',\n",
              " 'evil',\n",
              " 'commanded',\n",
              " 'work',\n",
              " 'incessantly',\n",
              " 'good',\n",
              " 'evil',\n",
              " 'results',\n",
              " 'produce',\n",
              " 'karma',\n",
              " 'good',\n",
              " 'action',\n",
              " 'entail',\n",
              " 'good',\n",
              " 'effect',\n",
              " 'bad',\n",
              " 'action',\n",
              " 'bad',\n",
              " 'good',\n",
              " 'bad',\n",
              " 'bondages',\n",
              " 'soul',\n",
              " 'solution',\n",
              " 'reached',\n",
              " 'gita',\n",
              " 'regard',\n",
              " 'bondageproducing',\n",
              " 'nature',\n",
              " 'work',\n",
              " 'attach',\n",
              " 'work',\n",
              " 'binding',\n",
              " 'effect',\n",
              " 'soul',\n",
              " 'shall',\n",
              " 'try',\n",
              " 'understand',\n",
              " 'meant',\n",
              " 'nonattachment',\n",
              " 'workcentral',\n",
              " 'idea',\n",
              " 'gita',\n",
              " 'work',\n",
              " 'incessantly',\n",
              " 'attached',\n",
              " 'samskâratranslated',\n",
              " 'nearly',\n",
              " 'inherent',\n",
              " 'tendency',\n",
              " 'simile',\n",
              " 'lake',\n",
              " 'mind',\n",
              " 'ripple',\n",
              " 'wave',\n",
              " 'rises',\n",
              " 'mind',\n",
              " 'subsides',\n",
              " 'die',\n",
              " 'entirely',\n",
              " 'leaves',\n",
              " 'mark',\n",
              " 'future',\n",
              " 'possibility',\n",
              " 'wave',\n",
              " 'coming',\n",
              " 'mark',\n",
              " 'possibility',\n",
              " 'wave',\n",
              " 'reappearing',\n",
              " 'called',\n",
              " 'samskâra',\n",
              " 'work',\n",
              " 'movement',\n",
              " 'body',\n",
              " 'thought',\n",
              " 'think',\n",
              " 'leaves',\n",
              " 'impression',\n",
              " 'mindstuff',\n",
              " 'impressions',\n",
              " 'obvious',\n",
              " 'surface',\n",
              " 'sufficiently',\n",
              " 'strong',\n",
              " 'work',\n",
              " 'beneath',\n",
              " 'surface',\n",
              " 'subconsciously',\n",
              " 'moment',\n",
              " 'determined',\n",
              " 'sum',\n",
              " 'total',\n",
              " 'impressions',\n",
              " 'mind',\n",
              " 'moment',\n",
              " 'effect',\n",
              " 'sum',\n",
              " 'total',\n",
              " 'impressions',\n",
              " 'past',\n",
              " 'life',\n",
              " 'meant',\n",
              " 'character',\n",
              " 'mans',\n",
              " 'character',\n",
              " 'determined',\n",
              " 'sum',\n",
              " 'total',\n",
              " 'impressions',\n",
              " 'good',\n",
              " 'impressions',\n",
              " 'prevail',\n",
              " 'character',\n",
              " 'good',\n",
              " 'bad',\n",
              " 'bad',\n",
              " 'man',\n",
              " 'continuously',\n",
              " 'hears',\n",
              " 'bad',\n",
              " 'words',\n",
              " 'thinks',\n",
              " 'bad',\n",
              " 'thoughts',\n",
              " 'bad',\n",
              " 'actions',\n",
              " 'mind',\n",
              " 'bad',\n",
              " 'impressions',\n",
              " 'influence',\n",
              " 'thought',\n",
              " 'work',\n",
              " 'conscious',\n",
              " 'fact',\n",
              " 'fact',\n",
              " 'bad',\n",
              " 'impressions',\n",
              " 'working',\n",
              " 'resultant',\n",
              " 'evil',\n",
              " 'man',\n",
              " 'bad',\n",
              " 'man',\n",
              " 'help',\n",
              " 'sum',\n",
              " 'total',\n",
              " 'impressions',\n",
              " 'create',\n",
              " 'strong',\n",
              " 'motive',\n",
              " 'power',\n",
              " 'bad',\n",
              " 'actions',\n",
              " 'like',\n",
              " 'machine',\n",
              " 'hands',\n",
              " 'impressions',\n",
              " 'force',\n",
              " 'evil',\n",
              " 'similarly',\n",
              " 'man',\n",
              " 'thinks',\n",
              " 'good',\n",
              " 'thoughts',\n",
              " 'good',\n",
              " 'works',\n",
              " 'sum',\n",
              " 'total',\n",
              " 'impressions',\n",
              " 'good',\n",
              " 'similar',\n",
              " 'manner',\n",
              " 'force',\n",
              " 'good',\n",
              " 'spite',\n",
              " 'man',\n",
              " 'good',\n",
              " 'work',\n",
              " 'thought',\n",
              " 'good',\n",
              " 'thoughts',\n",
              " 'irresistible',\n",
              " 'tendency',\n",
              " 'good',\n",
              " 'spite',\n",
              " 'wishes',\n",
              " 'evil',\n",
              " 'mind',\n",
              " 'sum',\n",
              " 'total',\n",
              " 'tendencies',\n",
              " 'allow',\n",
              " 'tendencies',\n",
              " 'turncompletely',\n",
              " 'influence',\n",
              " 'good',\n",
              " 'tendencies',\n",
              " 'case',\n",
              " 'mans',\n",
              " 'good',\n",
              " 'character',\n",
              " 'said',\n",
              " 'establishedtortoise',\n",
              " 'tucks',\n",
              " 'feet',\n",
              " 'head',\n",
              " 'inside',\n",
              " 'shell',\n",
              " 'kill',\n",
              " 'break',\n",
              " 'pieces',\n",
              " 'come',\n",
              " 'character',\n",
              " 'man',\n",
              " 'control',\n",
              " 'motives',\n",
              " 'organs',\n",
              " 'unchangeably',\n",
              " 'established',\n",
              " 'controls',\n",
              " 'inner',\n",
              " 'forces',\n",
              " 'draw',\n",
              " 'continuous',\n",
              " 'reflex',\n",
              " 'good',\n",
              " 'thoughts',\n",
              " 'good',\n",
              " 'impressions',\n",
              " 'moving',\n",
              " 'surface',\n",
              " 'mind',\n",
              " 'tendency',\n",
              " 'good',\n",
              " 'strong',\n",
              " 'result',\n",
              " 'feel',\n",
              " 'able',\n",
              " 'control',\n",
              " 'indriyas',\n",
              " 'senseorgans',\n",
              " 'nervecentres',\n",
              " 'character',\n",
              " 'established',\n",
              " 'man',\n",
              " 'gets',\n",
              " 'truth',\n",
              " 'man',\n",
              " 'safe',\n",
              " 'evil',\n",
              " 'place',\n",
              " 'company',\n",
              " 'danger',\n",
              " 'higher',\n",
              " 'state',\n",
              " 'having',\n",
              " 'good',\n",
              " 'tendency',\n",
              " 'desire',\n",
              " 'liberation',\n",
              " 'remember',\n",
              " 'freedom',\n",
              " 'soul',\n",
              " 'goal',\n",
              " 'yogas',\n",
              " 'equally',\n",
              " 'leads',\n",
              " 'result',\n",
              " 'work',\n",
              " 'men',\n",
              " 'buddha',\n",
              " 'got',\n",
              " 'largely',\n",
              " 'meditation',\n",
              " 'christ',\n",
              " 'prayer',\n",
              " 'buddha',\n",
              " 'working',\n",
              " 'jnâni',\n",
              " 'christ',\n",
              " 'bhakta',\n",
              " 'goal',\n",
              " 'reached',\n",
              " 'difficulty',\n",
              " 'liberation',\n",
              " 'means',\n",
              " 'entire',\n",
              " 'freedom',\n",
              " 'freedom',\n",
              " 'bondage',\n",
              " 'good',\n",
              " 'bondage',\n",
              " 'evil',\n",
              " 'golden',\n",
              " 'chain',\n",
              " 'chain',\n",
              " 'iron',\n",
              " 'thorn',\n",
              " 'finger',\n",
              " 'use',\n",
              " 'taken',\n",
              " 'throw',\n",
              " 'aside',\n",
              " 'necessity',\n",
              " 'keeping',\n",
              " 'second',\n",
              " 'thorn',\n",
              " 'thorns',\n",
              " 'bad',\n",
              " 'tendencies',\n",
              " 'counteracted',\n",
              " 'good',\n",
              " 'ones',\n",
              " 'bad',\n",
              " 'impressions',\n",
              " 'mind',\n",
              " 'removed',\n",
              " 'fresh',\n",
              " 'waves',\n",
              " 'good',\n",
              " 'ones',\n",
              " 'evil',\n",
              " 'disappears',\n",
              " 'subdued',\n",
              " 'held',\n",
              " 'control',\n",
              " 'corner',\n",
              " 'mind',\n",
              " 'good',\n",
              " 'tendenciesconquered',\n",
              " 'attached',\n",
              " 'unattached',\n",
              " 'work',\n",
              " 'let',\n",
              " 'action',\n",
              " 'thought',\n",
              " 'produce',\n",
              " 'deep',\n",
              " 'impression',\n",
              " 'mind',\n",
              " 'let',\n",
              " 'ripples',\n",
              " 'come',\n",
              " 'let',\n",
              " 'huge',\n",
              " 'actions',\n",
              " 'proceed',\n",
              " 'muscles',\n",
              " 'brain',\n",
              " 'let',\n",
              " 'deep',\n",
              " 'impression',\n",
              " 'soulimpression',\n",
              " 'action',\n",
              " 'attach',\n",
              " 'remains',\n",
              " 'meet',\n",
              " 'hundreds',\n",
              " 'persons',\n",
              " 'day',\n",
              " 'meet',\n",
              " 'love',\n",
              " 'retire',\n",
              " 'night',\n",
              " 'try',\n",
              " 'think',\n",
              " 'faces',\n",
              " 'saw',\n",
              " 'face',\n",
              " 'comes',\n",
              " 'mind',\n",
              " 'face',\n",
              " 'met',\n",
              " 'minute',\n",
              " 'loved',\n",
              " 'vanished',\n",
              " 'attachment',\n",
              " 'particular',\n",
              " 'person',\n",
              " 'caused',\n",
              " 'deeper',\n",
              " 'impression',\n",
              " 'mind',\n",
              " 'faces',\n",
              " 'physiologically',\n",
              " 'impressions',\n",
              " 'faces',\n",
              " 'saw',\n",
              " 'pictured',\n",
              " 'retina',\n",
              " 'brain',\n",
              " 'took',\n",
              " 'pictures',\n",
              " 'similarity',\n",
              " 'effect',\n",
              " 'mind',\n",
              " 'faces',\n",
              " 'entirely',\n",
              " 'new',\n",
              " 'faces',\n",
              " 'thought',\n",
              " 'face',\n",
              " 'got',\n",
              " 'glimpse',\n",
              " 'found',\n",
              " 'associations',\n",
              " 'inside',\n",
              " 'pictured',\n",
              " 'mind',\n",
              " 'years',\n",
              " 'knew',\n",
              " 'hundreds',\n",
              " 'things',\n",
              " 'new',\n",
              " 'vision',\n",
              " 'awakened',\n",
              " 'hundreds',\n",
              " 'sleeping',\n",
              " 'memories',\n",
              " 'mind',\n",
              " 'impression',\n",
              " 'having',\n",
              " 'repeated',\n",
              " 'times',\n",
              " 'different',\n",
              " 'faces',\n",
              " 'produce',\n",
              " 'great',\n",
              " 'effect',\n",
              " 'mindunattached',\n",
              " 'let',\n",
              " 'things',\n",
              " 'work',\n",
              " 'let',\n",
              " 'brain',\n",
              " 'centres',\n",
              " 'work',\n",
              " 'work',\n",
              " 'incessantly',\n",
              " 'let',\n",
              " 'ripple',\n",
              " 'conquer',\n",
              " 'mind',\n",
              " 'work',\n",
              " 'stranger',\n",
              " 'land',\n",
              " 'sojourner',\n",
              " 'work',\n",
              " 'incessantly',\n",
              " 'bind',\n",
              " 'bondage',\n",
              " 'terrible',\n",
              " 'world',\n",
              " 'habitation',\n",
              " 'stages',\n",
              " 'passing',\n",
              " 'remember',\n",
              " 'great',\n",
              " 'sayingsânkhya',\n",
              " 'nature',\n",
              " 'soul',\n",
              " 'soul',\n",
              " 'nature',\n",
              " 'reason',\n",
              " 'natures',\n",
              " 'existence',\n",
              " 'education',\n",
              " 'soul',\n",
              " 'meaning',\n",
              " 'soul',\n",
              " 'knowledge',\n",
              " 'knowledge',\n",
              " 'free',\n",
              " 'remember',\n",
              " 'shall',\n",
              " 'attached',\n",
              " 'nature',\n",
              " 'shall',\n",
              " 'know',\n",
              " 'nature',\n",
              " 'book',\n",
              " 'read',\n",
              " 'gained',\n",
              " 'required',\n",
              " 'knowledge',\n",
              " 'book',\n",
              " 'value',\n",
              " 'instead',\n",
              " 'identifying',\n",
              " 'nature',\n",
              " 'thinking',\n",
              " 'soul',\n",
              " 'nature',\n",
              " 'spirit',\n",
              " 'flesh',\n",
              " 'common',\n",
              " 'saying',\n",
              " 'think',\n",
              " 'man',\n",
              " 'lives',\n",
              " 'eat',\n",
              " 'eats',\n",
              " 'live',\n",
              " 'continually',\n",
              " 'making',\n",
              " 'mistake',\n",
              " 'nature',\n",
              " 'attached',\n",
              " 'soon',\n",
              " 'attachment',\n",
              " 'comes',\n",
              " 'deep',\n",
              " 'impression',\n",
              " 'soul',\n",
              " 'binds',\n",
              " 'makes',\n",
              " 'work',\n",
              " 'freedom',\n",
              " 'like',\n",
              " 'slavesgist',\n",
              " 'teaching',\n",
              " 'work',\n",
              " 'likemasterslavework',\n",
              " 'incessantly',\n",
              " 'slaves',\n",
              " 'work',\n",
              " 'everybody',\n",
              " 'works',\n",
              " 'altogether',\n",
              " 'rest',\n",
              " 'ninetynine',\n",
              " 'cent',\n",
              " 'mankind',\n",
              " 'work',\n",
              " 'like',\n",
              " 'slaves',\n",
              " 'result',\n",
              " 'misery',\n",
              " 'selfish',\n",
              " 'work',\n",
              " 'work',\n",
              " 'freedom',\n",
              " 'work',\n",
              " 'love',\n",
              " 'word',\n",
              " 'love',\n",
              " 'difficult',\n",
              " 'understand',\n",
              " 'love',\n",
              " 'comes',\n",
              " 'freedom',\n",
              " 'true',\n",
              " 'love',\n",
              " 'possible',\n",
              " 'slave',\n",
              " 'buy',\n",
              " 'slave',\n",
              " 'tie',\n",
              " 'chains',\n",
              " 'work',\n",
              " 'work',\n",
              " 'like',\n",
              " 'drudge',\n",
              " 'love',\n",
              " 'work',\n",
              " 'things',\n",
              " 'world',\n",
              " 'slaves',\n",
              " 'love',\n",
              " 'work',\n",
              " 'true',\n",
              " 'work',\n",
              " 'true',\n",
              " 'work',\n",
              " 'relatives',\n",
              " 'friends',\n",
              " 'true',\n",
              " 'work',\n",
              " 'selves',\n",
              " 'selfish',\n",
              " 'work',\n",
              " 'slaves',\n",
              " 'work',\n",
              " 'test',\n",
              " 'act',\n",
              " 'love',\n",
              " 'brings',\n",
              " 'happiness',\n",
              " 'act',\n",
              " 'love',\n",
              " 'bring',\n",
              " 'peace',\n",
              " 'blessednessreaction',\n",
              " 'real',\n",
              " 'existence',\n",
              " 'real',\n",
              " 'knowledge',\n",
              " 'real',\n",
              " 'love',\n",
              " 'eternally',\n",
              " 'connected',\n",
              " 'aspects',\n",
              " 'second',\n",
              " 'existence',\n",
              " 'knowledge',\n",
              " 'bliss',\n",
              " 'existence',\n",
              " 'relative',\n",
              " 'world',\n",
              " 'knowledge',\n",
              " 'turn',\n",
              " 'modified',\n",
              " 'knowledge',\n",
              " 'things',\n",
              " 'world',\n",
              " 'bliss',\n",
              " 'forms',\n",
              " 'foundation',\n",
              " 'true',\n",
              " 'love',\n",
              " 'known',\n",
              " 'heart',\n",
              " 'man',\n",
              " 'true',\n",
              " 'love',\n",
              " 'react',\n",
              " 'cause',\n",
              " 'pain',\n",
              " 'lover',\n",
              " 'beloved',\n",
              " 'suppose',\n",
              " 'man',\n",
              " 'loves',\n",
              " 'woman',\n",
              " 'wishes',\n",
              " 'feels',\n",
              " 'extremely',\n",
              " 'jealous',\n",
              " 'movement',\n",
              " 'wants',\n",
              " 'sit',\n",
              " 'near',\n",
              " 'stand',\n",
              " 'near',\n",
              " 'eat',\n",
              " 'bidding',\n",
              " 'slave',\n",
              " 'wishes',\n",
              " 'slave',\n",
              " 'love',\n",
              " 'kind',\n",
              " 'morbid',\n",
              " 'affection',\n",
              " 'slave',\n",
              " 'insinuating',\n",
              " 'love',\n",
              " 'love',\n",
              " 'painful',\n",
              " 'wants',\n",
              " 'brings',\n",
              " 'pain',\n",
              " 'love',\n",
              " 'painful',\n",
              " 'reaction',\n",
              " 'love',\n",
              " 'brings',\n",
              " 'reaction',\n",
              " 'bliss',\n",
              " 'love',\n",
              " 'mistaking',\n",
              " 'love',\n",
              " 'succeeded',\n",
              " 'loving',\n",
              " 'husband',\n",
              " 'wife',\n",
              " 'children',\n",
              " 'world',\n",
              " 'universe',\n",
              " 'manner',\n",
              " 'reaction',\n",
              " 'pain',\n",
              " 'jealousy',\n",
              " 'selfish',\n",
              " 'feeling',\n",
              " 'fit',\n",
              " 'state',\n",
              " 'unattachedkrishna',\n",
              " 'says',\n",
              " 'look',\n",
              " 'arjuna',\n",
              " 'stop',\n",
              " 'work',\n",
              " 'moment',\n",
              " 'universe',\n",
              " 'die',\n",
              " 'gain',\n",
              " 'work',\n",
              " 'lord',\n",
              " 'work',\n",
              " 'love',\n",
              " 'world',\n",
              " 'god',\n",
              " 'unattached',\n",
              " 'loves',\n",
              " 'real',\n",
              " 'love',\n",
              " 'makes',\n",
              " 'unattached',\n",
              " 'attachment',\n",
              " 'clinging',\n",
              " 'things',\n",
              " 'world',\n",
              " 'know',\n",
              " 'physical',\n",
              " 'attraction',\n",
              " 'sets',\n",
              " 'particles',\n",
              " 'matter',\n",
              " 'attracts',\n",
              " 'bodies',\n",
              " 'nearer',\n",
              " 'nearer',\n",
              " 'time',\n",
              " 'near',\n",
              " 'produces',\n",
              " 'painreallove',\n",
              " 'rest',\n",
              " 'physical',\n",
              " 'attachment',\n",
              " 'lovers',\n",
              " 'thousand',\n",
              " 'miles',\n",
              " 'away',\n",
              " 'love',\n",
              " 'die',\n",
              " 'produce',\n",
              " 'painful',\n",
              " 'reactionattain',\n",
              " 'unattachment',\n",
              " 'lifework',\n",
              " 'soon',\n",
              " 'reached',\n",
              " 'point',\n",
              " 'attained',\n",
              " 'goal',\n",
              " 'love',\n",
              " 'free',\n",
              " 'bondage',\n",
              " 'nature',\n",
              " 'falls',\n",
              " 'nature',\n",
              " 'forges',\n",
              " 'chains',\n",
              " 'stand',\n",
              " 'entirely',\n",
              " 'free',\n",
              " 'results',\n",
              " 'work',\n",
              " 'consideration',\n",
              " 'cares',\n",
              " 'resultsask',\n",
              " 'children',\n",
              " 'return',\n",
              " 'given',\n",
              " 'duty',\n",
              " 'work',\n",
              " 'matter',\n",
              " 'ends',\n",
              " 'particular',\n",
              " 'person',\n",
              " 'city',\n",
              " 'state',\n",
              " 'assume',\n",
              " 'attitude',\n",
              " 'children',\n",
              " ...]"
            ]
          },
          "metadata": {
            "tags": []
          },
          "execution_count": 69
        }
      ]
    },
    {
      "cell_type": "code",
      "metadata": {
        "id": "0lJBA8ID35mN"
      },
      "source": [
        "rare_words = pd.Series(text).value_counts()"
      ],
      "execution_count": null,
      "outputs": []
    },
    {
      "cell_type": "code",
      "metadata": {
        "colab": {
          "base_uri": "https://localhost:8080/"
        },
        "id": "QXWP06PeZqPV",
        "outputId": "76887444-65c4-48cf-bca7-0faf0a7a7146"
      },
      "source": [
        "rare_words"
      ],
      "execution_count": null,
      "outputs": [
        {
          "output_type": "execute_result",
          "data": {
            "text/plain": [
              "work            49\n",
              "good            27\n",
              "man             25\n",
              "love            23\n",
              "mind            16\n",
              "                ..\n",
              "occasion         1\n",
              "aspects          1\n",
              "forms            1\n",
              "door             1\n",
              "renunciation     1\n",
              "Length: 678, dtype: int64"
            ]
          },
          "metadata": {
            "tags": []
          },
          "execution_count": 71
        }
      ]
    },
    {
      "cell_type": "markdown",
      "metadata": {
        "id": "1ZRSiQkwkLFP"
      },
      "source": [
        "### Word Cloud"
      ]
    },
    {
      "cell_type": "code",
      "metadata": {
        "id": "SclK4mi3NcPn"
      },
      "source": [
        "w_c_text = ' '.join(df['Text'].tolist())"
      ],
      "execution_count": null,
      "outputs": []
    },
    {
      "cell_type": "code",
      "metadata": {
        "id": "XjhYctAAM7MA"
      },
      "source": [
        "from wordcloud import WordCloud\n",
        "import matplotlib.pyplot as plt"
      ],
      "execution_count": null,
      "outputs": []
    },
    {
      "cell_type": "code",
      "metadata": {
        "colab": {
          "base_uri": "https://localhost:8080/",
          "height": 361
        },
        "id": "M20zmI1xL6Mf",
        "outputId": "ae14e5d5-8e07-4bf8-b1e0-10bc5a141d45"
      },
      "source": [
        "wordcloud = WordCloud(width=1920,height=1080).generate(w_c_text)\n",
        "plt.figure(figsize=(10,10))\n",
        "plt.title('Word Cloud of Secret of Work')\n",
        "plt.imshow(wordcloud)\n",
        "plt.axis('off')\n",
        "plt.show()"
      ],
      "execution_count": null,
      "outputs": [
        {
          "output_type": "display_data",
          "data": {
            "image/png": "[encoded data removed]",
            "text/plain": [
              "<Figure size 720x720 with 1 Axes>"
            ]
          },
          "metadata": {
            "tags": [],
            "needs_background": "light"
          }
        }
      ]
    },
    {
      "cell_type": "code",
      "metadata": {
        "colab": {
          "base_uri": "https://localhost:8080/"
        },
        "id": "qbwC4gBTUWKW",
        "outputId": "619c657e-88d6-49c5-9bd3-ff3156b93190"
      },
      "source": [
        "df.info()"
      ],
      "execution_count": null,
      "outputs": [
        {
          "output_type": "stream",
          "text": [
            "<class 'pandas.core.frame.DataFrame'>\n",
            "RangeIndex: 31 entries, 0 to 30\n",
            "Data columns (total 8 columns):\n",
            " #   Column          Non-Null Count  Dtype  \n",
            "---  ------          --------------  -----  \n",
            " 0   Text            31 non-null     object \n",
            " 1   word_counts     31 non-null     int64  \n",
            " 2   char_counts     31 non-null     int64  \n",
            " 3   avg_word_len    31 non-null     float64\n",
            " 4   stop_words_len  31 non-null     int64  \n",
            " 5   upper_counts    31 non-null     int64  \n",
            " 6   numeric_counts  31 non-null     int64  \n",
            " 7   non_stop_words  31 non-null     int64  \n",
            "dtypes: float64(1), int64(6), object(1)\n",
            "memory usage: 2.1+ KB\n"
          ],
          "name": "stdout"
        }
      ]
    },
    {
      "cell_type": "code",
      "metadata": {
        "colab": {
          "base_uri": "https://localhost:8080/"
        },
        "id": "Zdtgj1EhPO3r",
        "outputId": "6c22bce7-5cca-4e88-a57b-da7ecb5f3c52"
      },
      "source": [
        "df['word_counts'][:5]"
      ],
      "execution_count": null,
      "outputs": [
        {
          "output_type": "execute_result",
          "data": {
            "text/plain": [
              "0    329\n",
              "1     72\n",
              "2    119\n",
              "3    150\n",
              "4     20\n",
              "Name: word_counts, dtype: int64"
            ]
          },
          "metadata": {
            "tags": []
          },
          "execution_count": 234
        }
      ]
    },
    {
      "cell_type": "markdown",
      "metadata": {
        "id": "62muU4BCkP2Y"
      },
      "source": [
        "Data Visualization : Word Length, Char Length, Average Word Length, Non- Stop-words,Rare Words\n"
      ]
    },
    {
      "cell_type": "code",
      "metadata": {
        "colab": {
          "base_uri": "https://localhost:8080/",
          "height": 542
        },
        "id": "KDr9vPjVQ8XS",
        "outputId": "da703c41-6f6e-4ca3-b0b3-e72c7ceedc9b"
      },
      "source": [
        "import plotly.express as px\n",
        "fig = px.histogram(df, x=df['word_counts'], nbins=15,color_discrete_sequence=['turquoise'])\n",
        "                   \n",
        "fig.update_layout(xaxis_title_text='Word Length', yaxis_title_text='Count', title_text='Word Length Distribution')\n",
        "\n",
        "fig.show()"
      ],
      "execution_count": null,
      "outputs": [
        {
          "output_type": "display_data",
          "data": {
            "text/html": [
              "<html>\n",
              "<head><meta charset=\"utf-8\" /></head>\n",
              "<body>\n",
              "    <div>\n",
              "            <script src=\"https://cdnjs.cloudflare.com/ajax/libs/mathjax/2.7.5/MathJax.js?config=TeX-AMS-MML_SVG\"></script><script type=\"text/javascript\">if (window.MathJax) {MathJax.Hub.Config({SVG: {font: \"STIX-Web\"}});}</script>\n",
              "                <script type=\"text/javascript\">window.PlotlyConfig = {MathJaxConfig: 'local'};</script>\n",
              "        <script src=\"https://cdn.plot.ly/plotly-latest.min.js\"></script>    \n",
              "            <div id=\"678ed9ea-cb81-406c-92e5-7832cdb534a9\" class=\"plotly-graph-div\" style=\"height:525px; width:100%;\"></div>\n",
              "            <script type=\"text/javascript\">\n",
              "                \n",
              "                    window.PLOTLYENV=window.PLOTLYENV || {};\n",
              "                    \n",
              "                if (document.getElementById(\"678ed9ea-cb81-406c-92e5-7832cdb534a9\")) {\n",
              "                    Plotly.newPlot(\n",
              "                        '678ed9ea-cb81-406c-92e5-7832cdb534a9',\n",
              "                        [{\"alignmentgroup\": \"True\", \"bingroup\": \"x\", \"hoverlabel\": {\"namelength\": 0}, \"hovertemplate\": \"word_counts=%{x}<br>count=%{y}\", \"legendgroup\": \"\", \"marker\": {\"color\": \"turquoise\"}, \"name\": \"\", \"nbinsx\": 15, \"offsetgroup\": \"\", \"orientation\": \"v\", \"showlegend\": false, \"type\": \"histogram\", \"x\": [329, 72, 119, 150, 20, 371, 25, 350, 54, 227, 67, 182, 13, 1, 4, 1, 178, 274, 103, 2, 1, 40, 70, 102, 152, 93, 274, 283, 107, 16, 107], \"xaxis\": \"x\", \"yaxis\": \"y\"}],\n",
              "                        {\"barmode\": \"relative\", \"legend\": {\"tracegroupgap\": 0}, \"margin\": {\"t\": 60}, \"template\": {\"data\": {\"bar\": [{\"error_x\": {\"color\": \"#2a3f5f\"}, \"error_y\": {\"color\": \"#2a3f5f\"}, \"marker\": {\"line\": {\"color\": \"#E5ECF6\", \"width\": 0.5}}, \"type\": \"bar\"}], \"barpolar\": [{\"marker\": {\"line\": {\"color\": \"#E5ECF6\", \"width\": 0.5}}, \"type\": \"barpolar\"}], \"carpet\": [{\"aaxis\": {\"endlinecolor\": \"#2a3f5f\", \"gridcolor\": \"white\", \"linecolor\": \"white\", \"minorgridcolor\": \"white\", \"startlinecolor\": \"#2a3f5f\"}, \"baxis\": {\"endlinecolor\": \"#2a3f5f\", \"gridcolor\": \"white\", \"linecolor\": \"white\", \"minorgridcolor\": \"white\", \"startlinecolor\": \"#2a3f5f\"}, \"type\": \"carpet\"}], \"choropleth\": [{\"colorbar\": {\"outlinewidth\": 0, \"ticks\": \"\"}, \"type\": \"choropleth\"}], \"contour\": [{\"colorbar\": {\"outlinewidth\": 0, \"ticks\": \"\"}, \"colorscale\": [[0.0, \"#0d0887\"], [0.1111111111111111, \"#46039f\"], [0.2222222222222222, \"#7201a8\"], [0.3333333333333333, \"#9c179e\"], [0.4444444444444444, \"#bd3786\"], [0.5555555555555556, \"#d8576b\"], [0.6666666666666666, \"#ed7953\"], [0.7777777777777778, \"#fb9f3a\"], [0.8888888888888888, \"#fdca26\"], [1.0, \"#f0f921\"]], \"type\": \"contour\"}], \"contourcarpet\": [{\"colorbar\": {\"outlinewidth\": 0, \"ticks\": \"\"}, \"type\": \"contourcarpet\"}], \"heatmap\": [{\"colorbar\": {\"outlinewidth\": 0, \"ticks\": \"\"}, \"colorscale\": [[0.0, \"#0d0887\"], [0.1111111111111111, \"#46039f\"], [0.2222222222222222, \"#7201a8\"], [0.3333333333333333, \"#9c179e\"], [0.4444444444444444, \"#bd3786\"], [0.5555555555555556, \"#d8576b\"], [0.6666666666666666, \"#ed7953\"], [0.7777777777777778, \"#fb9f3a\"], [0.8888888888888888, \"#fdca26\"], [1.0, \"#f0f921\"]], \"type\": \"heatmap\"}], \"heatmapgl\": [{\"colorbar\": {\"outlinewidth\": 0, \"ticks\": \"\"}, \"colorscale\": [[0.0, \"#0d0887\"], [0.1111111111111111, \"#46039f\"], [0.2222222222222222, \"#7201a8\"], [0.3333333333333333, \"#9c179e\"], [0.4444444444444444, \"#bd3786\"], [0.5555555555555556, \"#d8576b\"], [0.6666666666666666, \"#ed7953\"], [0.7777777777777778, \"#fb9f3a\"], [0.8888888888888888, \"#fdca26\"], [1.0, \"#f0f921\"]], \"type\": \"heatmapgl\"}], \"histogram\": [{\"marker\": {\"colorbar\": {\"outlinewidth\": 0, \"ticks\": \"\"}}, \"type\": \"histogram\"}], \"histogram2d\": [{\"colorbar\": {\"outlinewidth\": 0, \"ticks\": \"\"}, \"colorscale\": [[0.0, \"#0d0887\"], [0.1111111111111111, \"#46039f\"], [0.2222222222222222, \"#7201a8\"], [0.3333333333333333, \"#9c179e\"], [0.4444444444444444, \"#bd3786\"], [0.5555555555555556, \"#d8576b\"], [0.6666666666666666, \"#ed7953\"], [0.7777777777777778, \"#fb9f3a\"], [0.8888888888888888, \"#fdca26\"], [1.0, \"#f0f921\"]], \"type\": \"histogram2d\"}], \"histogram2dcontour\": [{\"colorbar\": {\"outlinewidth\": 0, \"ticks\": \"\"}, \"colorscale\": [[0.0, \"#0d0887\"], [0.1111111111111111, \"#46039f\"], [0.2222222222222222, \"#7201a8\"], [0.3333333333333333, \"#9c179e\"], [0.4444444444444444, \"#bd3786\"], [0.5555555555555556, \"#d8576b\"], [0.6666666666666666, \"#ed7953\"], [0.7777777777777778, \"#fb9f3a\"], [0.8888888888888888, \"#fdca26\"], [1.0, \"#f0f921\"]], \"type\": \"histogram2dcontour\"}], \"mesh3d\": [{\"colorbar\": {\"outlinewidth\": 0, \"ticks\": \"\"}, \"type\": \"mesh3d\"}], \"parcoords\": [{\"line\": {\"colorbar\": {\"outlinewidth\": 0, \"ticks\": \"\"}}, \"type\": \"parcoords\"}], \"pie\": [{\"automargin\": true, \"type\": \"pie\"}], \"scatter\": [{\"marker\": {\"colorbar\": {\"outlinewidth\": 0, \"ticks\": \"\"}}, \"type\": \"scatter\"}], \"scatter3d\": [{\"line\": {\"colorbar\": {\"outlinewidth\": 0, \"ticks\": \"\"}}, \"marker\": {\"colorbar\": {\"outlinewidth\": 0, \"ticks\": \"\"}}, \"type\": \"scatter3d\"}], \"scattercarpet\": [{\"marker\": {\"colorbar\": {\"outlinewidth\": 0, \"ticks\": \"\"}}, \"type\": \"scattercarpet\"}], \"scattergeo\": [{\"marker\": {\"colorbar\": {\"outlinewidth\": 0, \"ticks\": \"\"}}, \"type\": \"scattergeo\"}], \"scattergl\": [{\"marker\": {\"colorbar\": {\"outlinewidth\": 0, \"ticks\": \"\"}}, \"type\": \"scattergl\"}], \"scattermapbox\": [{\"marker\": {\"colorbar\": {\"outlinewidth\": 0, \"ticks\": \"\"}}, \"type\": \"scattermapbox\"}], \"scatterpolar\": [{\"marker\": {\"colorbar\": {\"outlinewidth\": 0, \"ticks\": \"\"}}, \"type\": \"scatterpolar\"}], \"scatterpolargl\": [{\"marker\": {\"colorbar\": {\"outlinewidth\": 0, \"ticks\": \"\"}}, \"type\": \"scatterpolargl\"}], \"scatterternary\": [{\"marker\": {\"colorbar\": {\"outlinewidth\": 0, \"ticks\": \"\"}}, \"type\": \"scatterternary\"}], \"surface\": [{\"colorbar\": {\"outlinewidth\": 0, \"ticks\": \"\"}, \"colorscale\": [[0.0, \"#0d0887\"], [0.1111111111111111, \"#46039f\"], [0.2222222222222222, \"#7201a8\"], [0.3333333333333333, \"#9c179e\"], [0.4444444444444444, \"#bd3786\"], [0.5555555555555556, \"#d8576b\"], [0.6666666666666666, \"#ed7953\"], [0.7777777777777778, \"#fb9f3a\"], [0.8888888888888888, \"#fdca26\"], [1.0, \"#f0f921\"]], \"type\": \"surface\"}], \"table\": [{\"cells\": {\"fill\": {\"color\": \"#EBF0F8\"}, \"line\": {\"color\": \"white\"}}, \"header\": {\"fill\": {\"color\": \"#C8D4E3\"}, \"line\": {\"color\": \"white\"}}, \"type\": \"table\"}]}, \"layout\": {\"annotationdefaults\": {\"arrowcolor\": \"#2a3f5f\", \"arrowhead\": 0, \"arrowwidth\": 1}, \"coloraxis\": {\"colorbar\": {\"outlinewidth\": 0, \"ticks\": \"\"}}, \"colorscale\": {\"diverging\": [[0, \"#8e0152\"], [0.1, \"#c51b7d\"], [0.2, \"#de77ae\"], [0.3, \"#f1b6da\"], [0.4, \"#fde0ef\"], [0.5, \"#f7f7f7\"], [0.6, \"#e6f5d0\"], [0.7, \"#b8e186\"], [0.8, \"#7fbc41\"], [0.9, \"#4d9221\"], [1, \"#276419\"]], \"sequential\": [[0.0, \"#0d0887\"], [0.1111111111111111, \"#46039f\"], [0.2222222222222222, \"#7201a8\"], [0.3333333333333333, \"#9c179e\"], [0.4444444444444444, \"#bd3786\"], [0.5555555555555556, \"#d8576b\"], [0.6666666666666666, \"#ed7953\"], [0.7777777777777778, \"#fb9f3a\"], [0.8888888888888888, \"#fdca26\"], [1.0, \"#f0f921\"]], \"sequentialminus\": [[0.0, \"#0d0887\"], [0.1111111111111111, \"#46039f\"], [0.2222222222222222, \"#7201a8\"], [0.3333333333333333, \"#9c179e\"], [0.4444444444444444, \"#bd3786\"], [0.5555555555555556, \"#d8576b\"], [0.6666666666666666, \"#ed7953\"], [0.7777777777777778, \"#fb9f3a\"], [0.8888888888888888, \"#fdca26\"], [1.0, \"#f0f921\"]]}, \"colorway\": [\"#636efa\", \"#EF553B\", \"#00cc96\", \"#ab63fa\", \"#FFA15A\", \"#19d3f3\", \"#FF6692\", \"#B6E880\", \"#FF97FF\", \"#FECB52\"], \"font\": {\"color\": \"#2a3f5f\"}, \"geo\": {\"bgcolor\": \"white\", \"lakecolor\": \"white\", \"landcolor\": \"#E5ECF6\", \"showlakes\": true, \"showland\": true, \"subunitcolor\": \"white\"}, \"hoverlabel\": {\"align\": \"left\"}, \"hovermode\": \"closest\", \"mapbox\": {\"style\": \"light\"}, \"paper_bgcolor\": \"white\", \"plot_bgcolor\": \"#E5ECF6\", \"polar\": {\"angularaxis\": {\"gridcolor\": \"white\", \"linecolor\": \"white\", \"ticks\": \"\"}, \"bgcolor\": \"#E5ECF6\", \"radialaxis\": {\"gridcolor\": \"white\", \"linecolor\": \"white\", \"ticks\": \"\"}}, \"scene\": {\"xaxis\": {\"backgroundcolor\": \"#E5ECF6\", \"gridcolor\": \"white\", \"gridwidth\": 2, \"linecolor\": \"white\", \"showbackground\": true, \"ticks\": \"\", \"zerolinecolor\": \"white\"}, \"yaxis\": {\"backgroundcolor\": \"#E5ECF6\", \"gridcolor\": \"white\", \"gridwidth\": 2, \"linecolor\": \"white\", \"showbackground\": true, \"ticks\": \"\", \"zerolinecolor\": \"white\"}, \"zaxis\": {\"backgroundcolor\": \"#E5ECF6\", \"gridcolor\": \"white\", \"gridwidth\": 2, \"linecolor\": \"white\", \"showbackground\": true, \"ticks\": \"\", \"zerolinecolor\": \"white\"}}, \"shapedefaults\": {\"line\": {\"color\": \"#2a3f5f\"}}, \"ternary\": {\"aaxis\": {\"gridcolor\": \"white\", \"linecolor\": \"white\", \"ticks\": \"\"}, \"baxis\": {\"gridcolor\": \"white\", \"linecolor\": \"white\", \"ticks\": \"\"}, \"bgcolor\": \"#E5ECF6\", \"caxis\": {\"gridcolor\": \"white\", \"linecolor\": \"white\", \"ticks\": \"\"}}, \"title\": {\"x\": 0.05}, \"xaxis\": {\"automargin\": true, \"gridcolor\": \"white\", \"linecolor\": \"white\", \"ticks\": \"\", \"title\": {\"standoff\": 15}, \"zerolinecolor\": \"white\", \"zerolinewidth\": 2}, \"yaxis\": {\"automargin\": true, \"gridcolor\": \"white\", \"linecolor\": \"white\", \"ticks\": \"\", \"title\": {\"standoff\": 15}, \"zerolinecolor\": \"white\", \"zerolinewidth\": 2}}}, \"title\": {\"text\": \"Word Length Distribution\"}, \"xaxis\": {\"anchor\": \"y\", \"domain\": [0.0, 1.0], \"title\": {\"text\": \"Word Length\"}}, \"yaxis\": {\"anchor\": \"x\", \"domain\": [0.0, 1.0], \"title\": {\"text\": \"Count\"}}},\n",
              "                        {\"responsive\": true}\n",
              "                    ).then(function(){\n",
              "                            \n",
              "var gd = document.getElementById('678ed9ea-cb81-406c-92e5-7832cdb534a9');\n",
              "var x = new MutationObserver(function (mutations, observer) {{\n",
              "        var display = window.getComputedStyle(gd).display;\n",
              "        if (!display || display === 'none') {{\n",
              "            console.log([gd, 'removed!']);\n",
              "            Plotly.purge(gd);\n",
              "            observer.disconnect();\n",
              "        }}\n",
              "}});\n",
              "\n",
              "// Listen for the removal of the full notebook cells\n",
              "var notebookContainer = gd.closest('#notebook-container');\n",
              "if (notebookContainer) {{\n",
              "    x.observe(notebookContainer, {childList: true});\n",
              "}}\n",
              "\n",
              "// Listen for the clearing of the current output cell\n",
              "var outputEl = gd.closest('.output');\n",
              "if (outputEl) {{\n",
              "    x.observe(outputEl, {childList: true});\n",
              "}}\n",
              "\n",
              "                        })\n",
              "                };\n",
              "                \n",
              "            </script>\n",
              "        </div>\n",
              "</body>\n",
              "</html>"
            ]
          },
          "metadata": {
            "tags": []
          }
        }
      ]
    },
    {
      "cell_type": "code",
      "metadata": {
        "colab": {
          "base_uri": "https://localhost:8080/",
          "height": 542
        },
        "id": "s6nZoLHLUdHo",
        "outputId": "b70f372a-c41e-457c-a821-22fa637a5cd9"
      },
      "source": [
        "import plotly.express as px\n",
        "fig = px.histogram(df, x=df['char_counts'], nbins=15,color_discrete_sequence=['turquoise'])\n",
        "                   \n",
        "fig.update_layout(xaxis_title_text='Character Count', yaxis_title_text='Count', title_text='Character Length Distribution')\n",
        "\n",
        "fig.show()"
      ],
      "execution_count": null,
      "outputs": [
        {
          "output_type": "display_data",
          "data": {
            "text/html": [
              "<html>\n",
              "<head><meta charset=\"utf-8\" /></head>\n",
              "<body>\n",
              "    <div>\n",
              "            <script src=\"https://cdnjs.cloudflare.com/ajax/libs/mathjax/2.7.5/MathJax.js?config=TeX-AMS-MML_SVG\"></script><script type=\"text/javascript\">if (window.MathJax) {MathJax.Hub.Config({SVG: {font: \"STIX-Web\"}});}</script>\n",
              "                <script type=\"text/javascript\">window.PlotlyConfig = {MathJaxConfig: 'local'};</script>\n",
              "        <script src=\"https://cdn.plot.ly/plotly-latest.min.js\"></script>    \n",
              "            <div id=\"ad2c4d38-5cc6-4096-8341-fb9751c7a6eb\" class=\"plotly-graph-div\" style=\"height:525px; width:100%;\"></div>\n",
              "            <script type=\"text/javascript\">\n",
              "                \n",
              "                    window.PLOTLYENV=window.PLOTLYENV || {};\n",
              "                    \n",
              "                if (document.getElementById(\"ad2c4d38-5cc6-4096-8341-fb9751c7a6eb\")) {\n",
              "                    Plotly.newPlot(\n",
              "                        'ad2c4d38-5cc6-4096-8341-fb9751c7a6eb',\n",
              "                        [{\"alignmentgroup\": \"True\", \"bingroup\": \"x\", \"hoverlabel\": {\"namelength\": 0}, \"hovertemplate\": \"char_counts=%{x}<br>count=%{y}\", \"legendgroup\": \"\", \"marker\": {\"color\": \"turquoise\"}, \"name\": \"\", \"nbinsx\": 15, \"offsetgroup\": \"\", \"orientation\": \"v\", \"showlegend\": false, \"type\": \"histogram\", \"x\": [1455, 330, 545, 657, 83, 1640, 115, 1487, 243, 989, 316, 789, 50, 6, 9, 5, 729, 1151, 454, 7, 4, 172, 295, 442, 678, 399, 1221, 1152, 439, 72, 460], \"xaxis\": \"x\", \"yaxis\": \"y\"}],\n",
              "                        {\"barmode\": \"relative\", \"legend\": {\"tracegroupgap\": 0}, \"margin\": {\"t\": 60}, \"template\": {\"data\": {\"bar\": [{\"error_x\": {\"color\": \"#2a3f5f\"}, \"error_y\": {\"color\": \"#2a3f5f\"}, \"marker\": {\"line\": {\"color\": \"#E5ECF6\", \"width\": 0.5}}, \"type\": \"bar\"}], \"barpolar\": [{\"marker\": {\"line\": {\"color\": \"#E5ECF6\", \"width\": 0.5}}, \"type\": \"barpolar\"}], \"carpet\": [{\"aaxis\": {\"endlinecolor\": \"#2a3f5f\", \"gridcolor\": \"white\", \"linecolor\": \"white\", \"minorgridcolor\": \"white\", \"startlinecolor\": \"#2a3f5f\"}, \"baxis\": {\"endlinecolor\": \"#2a3f5f\", \"gridcolor\": \"white\", \"linecolor\": \"white\", \"minorgridcolor\": \"white\", \"startlinecolor\": \"#2a3f5f\"}, \"type\": \"carpet\"}], \"choropleth\": [{\"colorbar\": {\"outlinewidth\": 0, \"ticks\": \"\"}, \"type\": \"choropleth\"}], \"contour\": [{\"colorbar\": {\"outlinewidth\": 0, \"ticks\": \"\"}, \"colorscale\": [[0.0, \"#0d0887\"], [0.1111111111111111, \"#46039f\"], [0.2222222222222222, \"#7201a8\"], [0.3333333333333333, \"#9c179e\"], [0.4444444444444444, \"#bd3786\"], [0.5555555555555556, \"#d8576b\"], [0.6666666666666666, \"#ed7953\"], [0.7777777777777778, \"#fb9f3a\"], [0.8888888888888888, \"#fdca26\"], [1.0, \"#f0f921\"]], \"type\": \"contour\"}], \"contourcarpet\": [{\"colorbar\": {\"outlinewidth\": 0, \"ticks\": \"\"}, \"type\": \"contourcarpet\"}], \"heatmap\": [{\"colorbar\": {\"outlinewidth\": 0, \"ticks\": \"\"}, \"colorscale\": [[0.0, \"#0d0887\"], [0.1111111111111111, \"#46039f\"], [0.2222222222222222, \"#7201a8\"], [0.3333333333333333, \"#9c179e\"], [0.4444444444444444, \"#bd3786\"], [0.5555555555555556, \"#d8576b\"], [0.6666666666666666, \"#ed7953\"], [0.7777777777777778, \"#fb9f3a\"], [0.8888888888888888, \"#fdca26\"], [1.0, \"#f0f921\"]], \"type\": \"heatmap\"}], \"heatmapgl\": [{\"colorbar\": {\"outlinewidth\": 0, \"ticks\": \"\"}, \"colorscale\": [[0.0, \"#0d0887\"], [0.1111111111111111, \"#46039f\"], [0.2222222222222222, \"#7201a8\"], [0.3333333333333333, \"#9c179e\"], [0.4444444444444444, \"#bd3786\"], [0.5555555555555556, \"#d8576b\"], [0.6666666666666666, \"#ed7953\"], [0.7777777777777778, \"#fb9f3a\"], [0.8888888888888888, \"#fdca26\"], [1.0, \"#f0f921\"]], \"type\": \"heatmapgl\"}], \"histogram\": [{\"marker\": {\"colorbar\": {\"outlinewidth\": 0, \"ticks\": \"\"}}, \"type\": \"histogram\"}], \"histogram2d\": [{\"colorbar\": {\"outlinewidth\": 0, \"ticks\": \"\"}, \"colorscale\": [[0.0, \"#0d0887\"], [0.1111111111111111, \"#46039f\"], [0.2222222222222222, \"#7201a8\"], [0.3333333333333333, \"#9c179e\"], [0.4444444444444444, \"#bd3786\"], [0.5555555555555556, \"#d8576b\"], [0.6666666666666666, \"#ed7953\"], [0.7777777777777778, \"#fb9f3a\"], [0.8888888888888888, \"#fdca26\"], [1.0, \"#f0f921\"]], \"type\": \"histogram2d\"}], \"histogram2dcontour\": [{\"colorbar\": {\"outlinewidth\": 0, \"ticks\": \"\"}, \"colorscale\": [[0.0, \"#0d0887\"], [0.1111111111111111, \"#46039f\"], [0.2222222222222222, \"#7201a8\"], [0.3333333333333333, \"#9c179e\"], [0.4444444444444444, \"#bd3786\"], [0.5555555555555556, \"#d8576b\"], [0.6666666666666666, \"#ed7953\"], [0.7777777777777778, \"#fb9f3a\"], [0.8888888888888888, \"#fdca26\"], [1.0, \"#f0f921\"]], \"type\": \"histogram2dcontour\"}], \"mesh3d\": [{\"colorbar\": {\"outlinewidth\": 0, \"ticks\": \"\"}, \"type\": \"mesh3d\"}], \"parcoords\": [{\"line\": {\"colorbar\": {\"outlinewidth\": 0, \"ticks\": \"\"}}, \"type\": \"parcoords\"}], \"pie\": [{\"automargin\": true, \"type\": \"pie\"}], \"scatter\": [{\"marker\": {\"colorbar\": {\"outlinewidth\": 0, \"ticks\": \"\"}}, \"type\": \"scatter\"}], \"scatter3d\": [{\"line\": {\"colorbar\": {\"outlinewidth\": 0, \"ticks\": \"\"}}, \"marker\": {\"colorbar\": {\"outlinewidth\": 0, \"ticks\": \"\"}}, \"type\": \"scatter3d\"}], \"scattercarpet\": [{\"marker\": {\"colorbar\": {\"outlinewidth\": 0, \"ticks\": \"\"}}, \"type\": \"scattercarpet\"}], \"scattergeo\": [{\"marker\": {\"colorbar\": {\"outlinewidth\": 0, \"ticks\": \"\"}}, \"type\": \"scattergeo\"}], \"scattergl\": [{\"marker\": {\"colorbar\": {\"outlinewidth\": 0, \"ticks\": \"\"}}, \"type\": \"scattergl\"}], \"scattermapbox\": [{\"marker\": {\"colorbar\": {\"outlinewidth\": 0, \"ticks\": \"\"}}, \"type\": \"scattermapbox\"}], \"scatterpolar\": [{\"marker\": {\"colorbar\": {\"outlinewidth\": 0, \"ticks\": \"\"}}, \"type\": \"scatterpolar\"}], \"scatterpolargl\": [{\"marker\": {\"colorbar\": {\"outlinewidth\": 0, \"ticks\": \"\"}}, \"type\": \"scatterpolargl\"}], \"scatterternary\": [{\"marker\": {\"colorbar\": {\"outlinewidth\": 0, \"ticks\": \"\"}}, \"type\": \"scatterternary\"}], \"surface\": [{\"colorbar\": {\"outlinewidth\": 0, \"ticks\": \"\"}, \"colorscale\": [[0.0, \"#0d0887\"], [0.1111111111111111, \"#46039f\"], [0.2222222222222222, \"#7201a8\"], [0.3333333333333333, \"#9c179e\"], [0.4444444444444444, \"#bd3786\"], [0.5555555555555556, \"#d8576b\"], [0.6666666666666666, \"#ed7953\"], [0.7777777777777778, \"#fb9f3a\"], [0.8888888888888888, \"#fdca26\"], [1.0, \"#f0f921\"]], \"type\": \"surface\"}], \"table\": [{\"cells\": {\"fill\": {\"color\": \"#EBF0F8\"}, \"line\": {\"color\": \"white\"}}, \"header\": {\"fill\": {\"color\": \"#C8D4E3\"}, \"line\": {\"color\": \"white\"}}, \"type\": \"table\"}]}, \"layout\": {\"annotationdefaults\": {\"arrowcolor\": \"#2a3f5f\", \"arrowhead\": 0, \"arrowwidth\": 1}, \"coloraxis\": {\"colorbar\": {\"outlinewidth\": 0, \"ticks\": \"\"}}, \"colorscale\": {\"diverging\": [[0, \"#8e0152\"], [0.1, \"#c51b7d\"], [0.2, \"#de77ae\"], [0.3, \"#f1b6da\"], [0.4, \"#fde0ef\"], [0.5, \"#f7f7f7\"], [0.6, \"#e6f5d0\"], [0.7, \"#b8e186\"], [0.8, \"#7fbc41\"], [0.9, \"#4d9221\"], [1, \"#276419\"]], \"sequential\": [[0.0, \"#0d0887\"], [0.1111111111111111, \"#46039f\"], [0.2222222222222222, \"#7201a8\"], [0.3333333333333333, \"#9c179e\"], [0.4444444444444444, \"#bd3786\"], [0.5555555555555556, \"#d8576b\"], [0.6666666666666666, \"#ed7953\"], [0.7777777777777778, \"#fb9f3a\"], [0.8888888888888888, \"#fdca26\"], [1.0, \"#f0f921\"]], \"sequentialminus\": [[0.0, \"#0d0887\"], [0.1111111111111111, \"#46039f\"], [0.2222222222222222, \"#7201a8\"], [0.3333333333333333, \"#9c179e\"], [0.4444444444444444, \"#bd3786\"], [0.5555555555555556, \"#d8576b\"], [0.6666666666666666, \"#ed7953\"], [0.7777777777777778, \"#fb9f3a\"], [0.8888888888888888, \"#fdca26\"], [1.0, \"#f0f921\"]]}, \"colorway\": [\"#636efa\", \"#EF553B\", \"#00cc96\", \"#ab63fa\", \"#FFA15A\", \"#19d3f3\", \"#FF6692\", \"#B6E880\", \"#FF97FF\", \"#FECB52\"], \"font\": {\"color\": \"#2a3f5f\"}, \"geo\": {\"bgcolor\": \"white\", \"lakecolor\": \"white\", \"landcolor\": \"#E5ECF6\", \"showlakes\": true, \"showland\": true, \"subunitcolor\": \"white\"}, \"hoverlabel\": {\"align\": \"left\"}, \"hovermode\": \"closest\", \"mapbox\": {\"style\": \"light\"}, \"paper_bgcolor\": \"white\", \"plot_bgcolor\": \"#E5ECF6\", \"polar\": {\"angularaxis\": {\"gridcolor\": \"white\", \"linecolor\": \"white\", \"ticks\": \"\"}, \"bgcolor\": \"#E5ECF6\", \"radialaxis\": {\"gridcolor\": \"white\", \"linecolor\": \"white\", \"ticks\": \"\"}}, \"scene\": {\"xaxis\": {\"backgroundcolor\": \"#E5ECF6\", \"gridcolor\": \"white\", \"gridwidth\": 2, \"linecolor\": \"white\", \"showbackground\": true, \"ticks\": \"\", \"zerolinecolor\": \"white\"}, \"yaxis\": {\"backgroundcolor\": \"#E5ECF6\", \"gridcolor\": \"white\", \"gridwidth\": 2, \"linecolor\": \"white\", \"showbackground\": true, \"ticks\": \"\", \"zerolinecolor\": \"white\"}, \"zaxis\": {\"backgroundcolor\": \"#E5ECF6\", \"gridcolor\": \"white\", \"gridwidth\": 2, \"linecolor\": \"white\", \"showbackground\": true, \"ticks\": \"\", \"zerolinecolor\": \"white\"}}, \"shapedefaults\": {\"line\": {\"color\": \"#2a3f5f\"}}, \"ternary\": {\"aaxis\": {\"gridcolor\": \"white\", \"linecolor\": \"white\", \"ticks\": \"\"}, \"baxis\": {\"gridcolor\": \"white\", \"linecolor\": \"white\", \"ticks\": \"\"}, \"bgcolor\": \"#E5ECF6\", \"caxis\": {\"gridcolor\": \"white\", \"linecolor\": \"white\", \"ticks\": \"\"}}, \"title\": {\"x\": 0.05}, \"xaxis\": {\"automargin\": true, \"gridcolor\": \"white\", \"linecolor\": \"white\", \"ticks\": \"\", \"title\": {\"standoff\": 15}, \"zerolinecolor\": \"white\", \"zerolinewidth\": 2}, \"yaxis\": {\"automargin\": true, \"gridcolor\": \"white\", \"linecolor\": \"white\", \"ticks\": \"\", \"title\": {\"standoff\": 15}, \"zerolinecolor\": \"white\", \"zerolinewidth\": 2}}}, \"title\": {\"text\": \"Character Length Distribution\"}, \"xaxis\": {\"anchor\": \"y\", \"domain\": [0.0, 1.0], \"title\": {\"text\": \"Character Count\"}}, \"yaxis\": {\"anchor\": \"x\", \"domain\": [0.0, 1.0], \"title\": {\"text\": \"Count\"}}},\n",
              "                        {\"responsive\": true}\n",
              "                    ).then(function(){\n",
              "                            \n",
              "var gd = document.getElementById('ad2c4d38-5cc6-4096-8341-fb9751c7a6eb');\n",
              "var x = new MutationObserver(function (mutations, observer) {{\n",
              "        var display = window.getComputedStyle(gd).display;\n",
              "        if (!display || display === 'none') {{\n",
              "            console.log([gd, 'removed!']);\n",
              "            Plotly.purge(gd);\n",
              "            observer.disconnect();\n",
              "        }}\n",
              "}});\n",
              "\n",
              "// Listen for the removal of the full notebook cells\n",
              "var notebookContainer = gd.closest('#notebook-container');\n",
              "if (notebookContainer) {{\n",
              "    x.observe(notebookContainer, {childList: true});\n",
              "}}\n",
              "\n",
              "// Listen for the clearing of the current output cell\n",
              "var outputEl = gd.closest('.output');\n",
              "if (outputEl) {{\n",
              "    x.observe(outputEl, {childList: true});\n",
              "}}\n",
              "\n",
              "                        })\n",
              "                };\n",
              "                \n",
              "            </script>\n",
              "        </div>\n",
              "</body>\n",
              "</html>"
            ]
          },
          "metadata": {
            "tags": []
          }
        }
      ]
    },
    {
      "cell_type": "code",
      "metadata": {
        "colab": {
          "base_uri": "https://localhost:8080/",
          "height": 542
        },
        "id": "wH4CwDpATqe5",
        "outputId": "f95ff6ab-48ea-477d-9c42-6ff0601cc76b"
      },
      "source": [
        "import plotly.express as px\n",
        "fig = px.histogram(df, x=df['avg_word_len'], nbins=15,color_discrete_sequence=['turquoise'])\n",
        "                   \n",
        "fig.update_layout(xaxis_title_text='Average Word Length', yaxis_title_text='Count', title_text='Average Word Length Distribution')\n",
        "\n",
        "fig.show()"
      ],
      "execution_count": null,
      "outputs": [
        {
          "output_type": "display_data",
          "data": {
            "text/html": [
              "<html>\n",
              "<head><meta charset=\"utf-8\" /></head>\n",
              "<body>\n",
              "    <div>\n",
              "            <script src=\"https://cdnjs.cloudflare.com/ajax/libs/mathjax/2.7.5/MathJax.js?config=TeX-AMS-MML_SVG\"></script><script type=\"text/javascript\">if (window.MathJax) {MathJax.Hub.Config({SVG: {font: \"STIX-Web\"}});}</script>\n",
              "                <script type=\"text/javascript\">window.PlotlyConfig = {MathJaxConfig: 'local'};</script>\n",
              "        <script src=\"https://cdn.plot.ly/plotly-latest.min.js\"></script>    \n",
              "            <div id=\"afa1398d-ac01-4c0e-a56e-9d9025a17177\" class=\"plotly-graph-div\" style=\"height:525px; width:100%;\"></div>\n",
              "            <script type=\"text/javascript\">\n",
              "                \n",
              "                    window.PLOTLYENV=window.PLOTLYENV || {};\n",
              "                    \n",
              "                if (document.getElementById(\"afa1398d-ac01-4c0e-a56e-9d9025a17177\")) {\n",
              "                    Plotly.newPlot(\n",
              "                        'afa1398d-ac01-4c0e-a56e-9d9025a17177',\n",
              "                        [{\"alignmentgroup\": \"True\", \"bingroup\": \"x\", \"hoverlabel\": {\"namelength\": 0}, \"hovertemplate\": \"avg_word_len=%{x}<br>count=%{y}\", \"legendgroup\": \"\", \"marker\": {\"color\": \"turquoise\"}, \"name\": \"\", \"nbinsx\": 15, \"offsetgroup\": \"\", \"orientation\": \"v\", \"showlegend\": false, \"type\": \"histogram\", \"x\": [4.422492401215806, 4.583333333333333, 4.579831932773109, 4.38, 4.15, 4.420485175202156, 4.6, 4.248571428571428, 4.5, 4.356828193832599, 4.7164179104477615, 4.335164835164835, 3.8461538461538463, 6.0, 2.25, 5.0, 4.095505617977528, 4.200729927007299, 4.407766990291262, 3.5, 4.0, 4.3, 4.214285714285714, 4.333333333333333, 4.4605263157894735, 4.290322580645161, 4.456204379562044, 4.070671378091872, 4.102803738317757, 4.5, 4.299065420560748], \"xaxis\": \"x\", \"yaxis\": \"y\"}],\n",
              "                        {\"barmode\": \"relative\", \"legend\": {\"tracegroupgap\": 0}, \"margin\": {\"t\": 60}, \"template\": {\"data\": {\"bar\": [{\"error_x\": {\"color\": \"#2a3f5f\"}, \"error_y\": {\"color\": \"#2a3f5f\"}, \"marker\": {\"line\": {\"color\": \"#E5ECF6\", \"width\": 0.5}}, \"type\": \"bar\"}], \"barpolar\": [{\"marker\": {\"line\": {\"color\": \"#E5ECF6\", \"width\": 0.5}}, \"type\": \"barpolar\"}], \"carpet\": [{\"aaxis\": {\"endlinecolor\": \"#2a3f5f\", \"gridcolor\": \"white\", \"linecolor\": \"white\", \"minorgridcolor\": \"white\", \"startlinecolor\": \"#2a3f5f\"}, \"baxis\": {\"endlinecolor\": \"#2a3f5f\", \"gridcolor\": \"white\", \"linecolor\": \"white\", \"minorgridcolor\": \"white\", \"startlinecolor\": \"#2a3f5f\"}, \"type\": \"carpet\"}], \"choropleth\": [{\"colorbar\": {\"outlinewidth\": 0, \"ticks\": \"\"}, \"type\": \"choropleth\"}], \"contour\": [{\"colorbar\": {\"outlinewidth\": 0, \"ticks\": \"\"}, \"colorscale\": [[0.0, \"#0d0887\"], [0.1111111111111111, \"#46039f\"], [0.2222222222222222, \"#7201a8\"], [0.3333333333333333, \"#9c179e\"], [0.4444444444444444, \"#bd3786\"], [0.5555555555555556, \"#d8576b\"], [0.6666666666666666, \"#ed7953\"], [0.7777777777777778, \"#fb9f3a\"], [0.8888888888888888, \"#fdca26\"], [1.0, \"#f0f921\"]], \"type\": \"contour\"}], \"contourcarpet\": [{\"colorbar\": {\"outlinewidth\": 0, \"ticks\": \"\"}, \"type\": \"contourcarpet\"}], \"heatmap\": [{\"colorbar\": {\"outlinewidth\": 0, \"ticks\": \"\"}, \"colorscale\": [[0.0, \"#0d0887\"], [0.1111111111111111, \"#46039f\"], [0.2222222222222222, \"#7201a8\"], [0.3333333333333333, \"#9c179e\"], [0.4444444444444444, \"#bd3786\"], [0.5555555555555556, \"#d8576b\"], [0.6666666666666666, \"#ed7953\"], [0.7777777777777778, \"#fb9f3a\"], [0.8888888888888888, \"#fdca26\"], [1.0, \"#f0f921\"]], \"type\": \"heatmap\"}], \"heatmapgl\": [{\"colorbar\": {\"outlinewidth\": 0, \"ticks\": \"\"}, \"colorscale\": [[0.0, \"#0d0887\"], [0.1111111111111111, \"#46039f\"], [0.2222222222222222, \"#7201a8\"], [0.3333333333333333, \"#9c179e\"], [0.4444444444444444, \"#bd3786\"], [0.5555555555555556, \"#d8576b\"], [0.6666666666666666, \"#ed7953\"], [0.7777777777777778, \"#fb9f3a\"], [0.8888888888888888, \"#fdca26\"], [1.0, \"#f0f921\"]], \"type\": \"heatmapgl\"}], \"histogram\": [{\"marker\": {\"colorbar\": {\"outlinewidth\": 0, \"ticks\": \"\"}}, \"type\": \"histogram\"}], \"histogram2d\": [{\"colorbar\": {\"outlinewidth\": 0, \"ticks\": \"\"}, \"colorscale\": [[0.0, \"#0d0887\"], [0.1111111111111111, \"#46039f\"], [0.2222222222222222, \"#7201a8\"], [0.3333333333333333, \"#9c179e\"], [0.4444444444444444, \"#bd3786\"], [0.5555555555555556, \"#d8576b\"], [0.6666666666666666, \"#ed7953\"], [0.7777777777777778, \"#fb9f3a\"], [0.8888888888888888, \"#fdca26\"], [1.0, \"#f0f921\"]], \"type\": \"histogram2d\"}], \"histogram2dcontour\": [{\"colorbar\": {\"outlinewidth\": 0, \"ticks\": \"\"}, \"colorscale\": [[0.0, \"#0d0887\"], [0.1111111111111111, \"#46039f\"], [0.2222222222222222, \"#7201a8\"], [0.3333333333333333, \"#9c179e\"], [0.4444444444444444, \"#bd3786\"], [0.5555555555555556, \"#d8576b\"], [0.6666666666666666, \"#ed7953\"], [0.7777777777777778, \"#fb9f3a\"], [0.8888888888888888, \"#fdca26\"], [1.0, \"#f0f921\"]], \"type\": \"histogram2dcontour\"}], \"mesh3d\": [{\"colorbar\": {\"outlinewidth\": 0, \"ticks\": \"\"}, \"type\": \"mesh3d\"}], \"parcoords\": [{\"line\": {\"colorbar\": {\"outlinewidth\": 0, \"ticks\": \"\"}}, \"type\": \"parcoords\"}], \"pie\": [{\"automargin\": true, \"type\": \"pie\"}], \"scatter\": [{\"marker\": {\"colorbar\": {\"outlinewidth\": 0, \"ticks\": \"\"}}, \"type\": \"scatter\"}], \"scatter3d\": [{\"line\": {\"colorbar\": {\"outlinewidth\": 0, \"ticks\": \"\"}}, \"marker\": {\"colorbar\": {\"outlinewidth\": 0, \"ticks\": \"\"}}, \"type\": \"scatter3d\"}], \"scattercarpet\": [{\"marker\": {\"colorbar\": {\"outlinewidth\": 0, \"ticks\": \"\"}}, \"type\": \"scattercarpet\"}], \"scattergeo\": [{\"marker\": {\"colorbar\": {\"outlinewidth\": 0, \"ticks\": \"\"}}, \"type\": \"scattergeo\"}], \"scattergl\": [{\"marker\": {\"colorbar\": {\"outlinewidth\": 0, \"ticks\": \"\"}}, \"type\": \"scattergl\"}], \"scattermapbox\": [{\"marker\": {\"colorbar\": {\"outlinewidth\": 0, \"ticks\": \"\"}}, \"type\": \"scattermapbox\"}], \"scatterpolar\": [{\"marker\": {\"colorbar\": {\"outlinewidth\": 0, \"ticks\": \"\"}}, \"type\": \"scatterpolar\"}], \"scatterpolargl\": [{\"marker\": {\"colorbar\": {\"outlinewidth\": 0, \"ticks\": \"\"}}, \"type\": \"scatterpolargl\"}], \"scatterternary\": [{\"marker\": {\"colorbar\": {\"outlinewidth\": 0, \"ticks\": \"\"}}, \"type\": \"scatterternary\"}], \"surface\": [{\"colorbar\": {\"outlinewidth\": 0, \"ticks\": \"\"}, \"colorscale\": [[0.0, \"#0d0887\"], [0.1111111111111111, \"#46039f\"], [0.2222222222222222, \"#7201a8\"], [0.3333333333333333, \"#9c179e\"], [0.4444444444444444, \"#bd3786\"], [0.5555555555555556, \"#d8576b\"], [0.6666666666666666, \"#ed7953\"], [0.7777777777777778, \"#fb9f3a\"], [0.8888888888888888, \"#fdca26\"], [1.0, \"#f0f921\"]], \"type\": \"surface\"}], \"table\": [{\"cells\": {\"fill\": {\"color\": \"#EBF0F8\"}, \"line\": {\"color\": \"white\"}}, \"header\": {\"fill\": {\"color\": \"#C8D4E3\"}, \"line\": {\"color\": \"white\"}}, \"type\": \"table\"}]}, \"layout\": {\"annotationdefaults\": {\"arrowcolor\": \"#2a3f5f\", \"arrowhead\": 0, \"arrowwidth\": 1}, \"coloraxis\": {\"colorbar\": {\"outlinewidth\": 0, \"ticks\": \"\"}}, \"colorscale\": {\"diverging\": [[0, \"#8e0152\"], [0.1, \"#c51b7d\"], [0.2, \"#de77ae\"], [0.3, \"#f1b6da\"], [0.4, \"#fde0ef\"], [0.5, \"#f7f7f7\"], [0.6, \"#e6f5d0\"], [0.7, \"#b8e186\"], [0.8, \"#7fbc41\"], [0.9, \"#4d9221\"], [1, \"#276419\"]], \"sequential\": [[0.0, \"#0d0887\"], [0.1111111111111111, \"#46039f\"], [0.2222222222222222, \"#7201a8\"], [0.3333333333333333, \"#9c179e\"], [0.4444444444444444, \"#bd3786\"], [0.5555555555555556, \"#d8576b\"], [0.6666666666666666, \"#ed7953\"], [0.7777777777777778, \"#fb9f3a\"], [0.8888888888888888, \"#fdca26\"], [1.0, \"#f0f921\"]], \"sequentialminus\": [[0.0, \"#0d0887\"], [0.1111111111111111, \"#46039f\"], [0.2222222222222222, \"#7201a8\"], [0.3333333333333333, \"#9c179e\"], [0.4444444444444444, \"#bd3786\"], [0.5555555555555556, \"#d8576b\"], [0.6666666666666666, \"#ed7953\"], [0.7777777777777778, \"#fb9f3a\"], [0.8888888888888888, \"#fdca26\"], [1.0, \"#f0f921\"]]}, \"colorway\": [\"#636efa\", \"#EF553B\", \"#00cc96\", \"#ab63fa\", \"#FFA15A\", \"#19d3f3\", \"#FF6692\", \"#B6E880\", \"#FF97FF\", \"#FECB52\"], \"font\": {\"color\": \"#2a3f5f\"}, \"geo\": {\"bgcolor\": \"white\", \"lakecolor\": \"white\", \"landcolor\": \"#E5ECF6\", \"showlakes\": true, \"showland\": true, \"subunitcolor\": \"white\"}, \"hoverlabel\": {\"align\": \"left\"}, \"hovermode\": \"closest\", \"mapbox\": {\"style\": \"light\"}, \"paper_bgcolor\": \"white\", \"plot_bgcolor\": \"#E5ECF6\", \"polar\": {\"angularaxis\": {\"gridcolor\": \"white\", \"linecolor\": \"white\", \"ticks\": \"\"}, \"bgcolor\": \"#E5ECF6\", \"radialaxis\": {\"gridcolor\": \"white\", \"linecolor\": \"white\", \"ticks\": \"\"}}, \"scene\": {\"xaxis\": {\"backgroundcolor\": \"#E5ECF6\", \"gridcolor\": \"white\", \"gridwidth\": 2, \"linecolor\": \"white\", \"showbackground\": true, \"ticks\": \"\", \"zerolinecolor\": \"white\"}, \"yaxis\": {\"backgroundcolor\": \"#E5ECF6\", \"gridcolor\": \"white\", \"gridwidth\": 2, \"linecolor\": \"white\", \"showbackground\": true, \"ticks\": \"\", \"zerolinecolor\": \"white\"}, \"zaxis\": {\"backgroundcolor\": \"#E5ECF6\", \"gridcolor\": \"white\", \"gridwidth\": 2, \"linecolor\": \"white\", \"showbackground\": true, \"ticks\": \"\", \"zerolinecolor\": \"white\"}}, \"shapedefaults\": {\"line\": {\"color\": \"#2a3f5f\"}}, \"ternary\": {\"aaxis\": {\"gridcolor\": \"white\", \"linecolor\": \"white\", \"ticks\": \"\"}, \"baxis\": {\"gridcolor\": \"white\", \"linecolor\": \"white\", \"ticks\": \"\"}, \"bgcolor\": \"#E5ECF6\", \"caxis\": {\"gridcolor\": \"white\", \"linecolor\": \"white\", \"ticks\": \"\"}}, \"title\": {\"x\": 0.05}, \"xaxis\": {\"automargin\": true, \"gridcolor\": \"white\", \"linecolor\": \"white\", \"ticks\": \"\", \"title\": {\"standoff\": 15}, \"zerolinecolor\": \"white\", \"zerolinewidth\": 2}, \"yaxis\": {\"automargin\": true, \"gridcolor\": \"white\", \"linecolor\": \"white\", \"ticks\": \"\", \"title\": {\"standoff\": 15}, \"zerolinecolor\": \"white\", \"zerolinewidth\": 2}}}, \"title\": {\"text\": \"Average Word Length Distribution\"}, \"xaxis\": {\"anchor\": \"y\", \"domain\": [0.0, 1.0], \"title\": {\"text\": \"Average Word Length\"}}, \"yaxis\": {\"anchor\": \"x\", \"domain\": [0.0, 1.0], \"title\": {\"text\": \"Count\"}}},\n",
              "                        {\"responsive\": true}\n",
              "                    ).then(function(){\n",
              "                            \n",
              "var gd = document.getElementById('afa1398d-ac01-4c0e-a56e-9d9025a17177');\n",
              "var x = new MutationObserver(function (mutations, observer) {{\n",
              "        var display = window.getComputedStyle(gd).display;\n",
              "        if (!display || display === 'none') {{\n",
              "            console.log([gd, 'removed!']);\n",
              "            Plotly.purge(gd);\n",
              "            observer.disconnect();\n",
              "        }}\n",
              "}});\n",
              "\n",
              "// Listen for the removal of the full notebook cells\n",
              "var notebookContainer = gd.closest('#notebook-container');\n",
              "if (notebookContainer) {{\n",
              "    x.observe(notebookContainer, {childList: true});\n",
              "}}\n",
              "\n",
              "// Listen for the clearing of the current output cell\n",
              "var outputEl = gd.closest('.output');\n",
              "if (outputEl) {{\n",
              "    x.observe(outputEl, {childList: true});\n",
              "}}\n",
              "\n",
              "                        })\n",
              "                };\n",
              "                \n",
              "            </script>\n",
              "        </div>\n",
              "</body>\n",
              "</html>"
            ]
          },
          "metadata": {
            "tags": []
          }
        }
      ]
    },
    {
      "cell_type": "code",
      "metadata": {
        "colab": {
          "base_uri": "https://localhost:8080/",
          "height": 542
        },
        "id": "FcRH2W19WUlo",
        "outputId": "227b3f65-c177-444a-d4cb-ca8f1ac44179"
      },
      "source": [
        "import plotly.express as px\n",
        "fig = px.histogram(df, x=df['non_stop_words'], nbins=12,color_discrete_sequence=['turquoise'])\n",
        "                   \n",
        "fig.update_layout(xaxis_title_text='Non-Stop Words', yaxis_title_text='Count', title_text='Non-Stop Words Length Distribution')\n",
        "\n",
        "fig.show()"
      ],
      "execution_count": null,
      "outputs": [
        {
          "output_type": "display_data",
          "data": {
            "text/html": [
              "<html>\n",
              "<head><meta charset=\"utf-8\" /></head>\n",
              "<body>\n",
              "    <div>\n",
              "            <script src=\"https://cdnjs.cloudflare.com/ajax/libs/mathjax/2.7.5/MathJax.js?config=TeX-AMS-MML_SVG\"></script><script type=\"text/javascript\">if (window.MathJax) {MathJax.Hub.Config({SVG: {font: \"STIX-Web\"}});}</script>\n",
              "                <script type=\"text/javascript\">window.PlotlyConfig = {MathJaxConfig: 'local'};</script>\n",
              "        <script src=\"https://cdn.plot.ly/plotly-latest.min.js\"></script>    \n",
              "            <div id=\"1927a658-e6d6-45c1-9b32-3cb592ead903\" class=\"plotly-graph-div\" style=\"height:525px; width:100%;\"></div>\n",
              "            <script type=\"text/javascript\">\n",
              "                \n",
              "                    window.PLOTLYENV=window.PLOTLYENV || {};\n",
              "                    \n",
              "                if (document.getElementById(\"1927a658-e6d6-45c1-9b32-3cb592ead903\")) {\n",
              "                    Plotly.newPlot(\n",
              "                        '1927a658-e6d6-45c1-9b32-3cb592ead903',\n",
              "                        [{\"alignmentgroup\": \"True\", \"bingroup\": \"x\", \"hoverlabel\": {\"namelength\": 0}, \"hovertemplate\": \"non_stop_words=%{x}<br>count=%{y}\", \"legendgroup\": \"\", \"marker\": {\"color\": \"turquoise\"}, \"name\": \"\", \"nbinsx\": 12, \"offsetgroup\": \"\", \"orientation\": \"v\", \"showlegend\": false, \"type\": \"histogram\", \"x\": [132, 28, 51, 57, 7, 149, 10, 128, 24, 78, 30, 62, 4, 1, 0, 1, 71, 95, 40, 0, 1, 13, 24, 33, 65, 39, 105, 101, 39, 4, 39], \"xaxis\": \"x\", \"yaxis\": \"y\"}],\n",
              "                        {\"barmode\": \"relative\", \"legend\": {\"tracegroupgap\": 0}, \"margin\": {\"t\": 60}, \"template\": {\"data\": {\"bar\": [{\"error_x\": {\"color\": \"#2a3f5f\"}, \"error_y\": {\"color\": \"#2a3f5f\"}, \"marker\": {\"line\": {\"color\": \"#E5ECF6\", \"width\": 0.5}}, \"type\": \"bar\"}], \"barpolar\": [{\"marker\": {\"line\": {\"color\": \"#E5ECF6\", \"width\": 0.5}}, \"type\": \"barpolar\"}], \"carpet\": [{\"aaxis\": {\"endlinecolor\": \"#2a3f5f\", \"gridcolor\": \"white\", \"linecolor\": \"white\", \"minorgridcolor\": \"white\", \"startlinecolor\": \"#2a3f5f\"}, \"baxis\": {\"endlinecolor\": \"#2a3f5f\", \"gridcolor\": \"white\", \"linecolor\": \"white\", \"minorgridcolor\": \"white\", \"startlinecolor\": \"#2a3f5f\"}, \"type\": \"carpet\"}], \"choropleth\": [{\"colorbar\": {\"outlinewidth\": 0, \"ticks\": \"\"}, \"type\": \"choropleth\"}], \"contour\": [{\"colorbar\": {\"outlinewidth\": 0, \"ticks\": \"\"}, \"colorscale\": [[0.0, \"#0d0887\"], [0.1111111111111111, \"#46039f\"], [0.2222222222222222, \"#7201a8\"], [0.3333333333333333, \"#9c179e\"], [0.4444444444444444, \"#bd3786\"], [0.5555555555555556, \"#d8576b\"], [0.6666666666666666, \"#ed7953\"], [0.7777777777777778, \"#fb9f3a\"], [0.8888888888888888, \"#fdca26\"], [1.0, \"#f0f921\"]], \"type\": \"contour\"}], \"contourcarpet\": [{\"colorbar\": {\"outlinewidth\": 0, \"ticks\": \"\"}, \"type\": \"contourcarpet\"}], \"heatmap\": [{\"colorbar\": {\"outlinewidth\": 0, \"ticks\": \"\"}, \"colorscale\": [[0.0, \"#0d0887\"], [0.1111111111111111, \"#46039f\"], [0.2222222222222222, \"#7201a8\"], [0.3333333333333333, \"#9c179e\"], [0.4444444444444444, \"#bd3786\"], [0.5555555555555556, \"#d8576b\"], [0.6666666666666666, \"#ed7953\"], [0.7777777777777778, \"#fb9f3a\"], [0.8888888888888888, \"#fdca26\"], [1.0, \"#f0f921\"]], \"type\": \"heatmap\"}], \"heatmapgl\": [{\"colorbar\": {\"outlinewidth\": 0, \"ticks\": \"\"}, \"colorscale\": [[0.0, \"#0d0887\"], [0.1111111111111111, \"#46039f\"], [0.2222222222222222, \"#7201a8\"], [0.3333333333333333, \"#9c179e\"], [0.4444444444444444, \"#bd3786\"], [0.5555555555555556, \"#d8576b\"], [0.6666666666666666, \"#ed7953\"], [0.7777777777777778, \"#fb9f3a\"], [0.8888888888888888, \"#fdca26\"], [1.0, \"#f0f921\"]], \"type\": \"heatmapgl\"}], \"histogram\": [{\"marker\": {\"colorbar\": {\"outlinewidth\": 0, \"ticks\": \"\"}}, \"type\": \"histogram\"}], \"histogram2d\": [{\"colorbar\": {\"outlinewidth\": 0, \"ticks\": \"\"}, \"colorscale\": [[0.0, \"#0d0887\"], [0.1111111111111111, \"#46039f\"], [0.2222222222222222, \"#7201a8\"], [0.3333333333333333, \"#9c179e\"], [0.4444444444444444, \"#bd3786\"], [0.5555555555555556, \"#d8576b\"], [0.6666666666666666, \"#ed7953\"], [0.7777777777777778, \"#fb9f3a\"], [0.8888888888888888, \"#fdca26\"], [1.0, \"#f0f921\"]], \"type\": \"histogram2d\"}], \"histogram2dcontour\": [{\"colorbar\": {\"outlinewidth\": 0, \"ticks\": \"\"}, \"colorscale\": [[0.0, \"#0d0887\"], [0.1111111111111111, \"#46039f\"], [0.2222222222222222, \"#7201a8\"], [0.3333333333333333, \"#9c179e\"], [0.4444444444444444, \"#bd3786\"], [0.5555555555555556, \"#d8576b\"], [0.6666666666666666, \"#ed7953\"], [0.7777777777777778, \"#fb9f3a\"], [0.8888888888888888, \"#fdca26\"], [1.0, \"#f0f921\"]], \"type\": \"histogram2dcontour\"}], \"mesh3d\": [{\"colorbar\": {\"outlinewidth\": 0, \"ticks\": \"\"}, \"type\": \"mesh3d\"}], \"parcoords\": [{\"line\": {\"colorbar\": {\"outlinewidth\": 0, \"ticks\": \"\"}}, \"type\": \"parcoords\"}], \"pie\": [{\"automargin\": true, \"type\": \"pie\"}], \"scatter\": [{\"marker\": {\"colorbar\": {\"outlinewidth\": 0, \"ticks\": \"\"}}, \"type\": \"scatter\"}], \"scatter3d\": [{\"line\": {\"colorbar\": {\"outlinewidth\": 0, \"ticks\": \"\"}}, \"marker\": {\"colorbar\": {\"outlinewidth\": 0, \"ticks\": \"\"}}, \"type\": \"scatter3d\"}], \"scattercarpet\": [{\"marker\": {\"colorbar\": {\"outlinewidth\": 0, \"ticks\": \"\"}}, \"type\": \"scattercarpet\"}], \"scattergeo\": [{\"marker\": {\"colorbar\": {\"outlinewidth\": 0, \"ticks\": \"\"}}, \"type\": \"scattergeo\"}], \"scattergl\": [{\"marker\": {\"colorbar\": {\"outlinewidth\": 0, \"ticks\": \"\"}}, \"type\": \"scattergl\"}], \"scattermapbox\": [{\"marker\": {\"colorbar\": {\"outlinewidth\": 0, \"ticks\": \"\"}}, \"type\": \"scattermapbox\"}], \"scatterpolar\": [{\"marker\": {\"colorbar\": {\"outlinewidth\": 0, \"ticks\": \"\"}}, \"type\": \"scatterpolar\"}], \"scatterpolargl\": [{\"marker\": {\"colorbar\": {\"outlinewidth\": 0, \"ticks\": \"\"}}, \"type\": \"scatterpolargl\"}], \"scatterternary\": [{\"marker\": {\"colorbar\": {\"outlinewidth\": 0, \"ticks\": \"\"}}, \"type\": \"scatterternary\"}], \"surface\": [{\"colorbar\": {\"outlinewidth\": 0, \"ticks\": \"\"}, \"colorscale\": [[0.0, \"#0d0887\"], [0.1111111111111111, \"#46039f\"], [0.2222222222222222, \"#7201a8\"], [0.3333333333333333, \"#9c179e\"], [0.4444444444444444, \"#bd3786\"], [0.5555555555555556, \"#d8576b\"], [0.6666666666666666, \"#ed7953\"], [0.7777777777777778, \"#fb9f3a\"], [0.8888888888888888, \"#fdca26\"], [1.0, \"#f0f921\"]], \"type\": \"surface\"}], \"table\": [{\"cells\": {\"fill\": {\"color\": \"#EBF0F8\"}, \"line\": {\"color\": \"white\"}}, \"header\": {\"fill\": {\"color\": \"#C8D4E3\"}, \"line\": {\"color\": \"white\"}}, \"type\": \"table\"}]}, \"layout\": {\"annotationdefaults\": {\"arrowcolor\": \"#2a3f5f\", \"arrowhead\": 0, \"arrowwidth\": 1}, \"coloraxis\": {\"colorbar\": {\"outlinewidth\": 0, \"ticks\": \"\"}}, \"colorscale\": {\"diverging\": [[0, \"#8e0152\"], [0.1, \"#c51b7d\"], [0.2, \"#de77ae\"], [0.3, \"#f1b6da\"], [0.4, \"#fde0ef\"], [0.5, \"#f7f7f7\"], [0.6, \"#e6f5d0\"], [0.7, \"#b8e186\"], [0.8, \"#7fbc41\"], [0.9, \"#4d9221\"], [1, \"#276419\"]], \"sequential\": [[0.0, \"#0d0887\"], [0.1111111111111111, \"#46039f\"], [0.2222222222222222, \"#7201a8\"], [0.3333333333333333, \"#9c179e\"], [0.4444444444444444, \"#bd3786\"], [0.5555555555555556, \"#d8576b\"], [0.6666666666666666, \"#ed7953\"], [0.7777777777777778, \"#fb9f3a\"], [0.8888888888888888, \"#fdca26\"], [1.0, \"#f0f921\"]], \"sequentialminus\": [[0.0, \"#0d0887\"], [0.1111111111111111, \"#46039f\"], [0.2222222222222222, \"#7201a8\"], [0.3333333333333333, \"#9c179e\"], [0.4444444444444444, \"#bd3786\"], [0.5555555555555556, \"#d8576b\"], [0.6666666666666666, \"#ed7953\"], [0.7777777777777778, \"#fb9f3a\"], [0.8888888888888888, \"#fdca26\"], [1.0, \"#f0f921\"]]}, \"colorway\": [\"#636efa\", \"#EF553B\", \"#00cc96\", \"#ab63fa\", \"#FFA15A\", \"#19d3f3\", \"#FF6692\", \"#B6E880\", \"#FF97FF\", \"#FECB52\"], \"font\": {\"color\": \"#2a3f5f\"}, \"geo\": {\"bgcolor\": \"white\", \"lakecolor\": \"white\", \"landcolor\": \"#E5ECF6\", \"showlakes\": true, \"showland\": true, \"subunitcolor\": \"white\"}, \"hoverlabel\": {\"align\": \"left\"}, \"hovermode\": \"closest\", \"mapbox\": {\"style\": \"light\"}, \"paper_bgcolor\": \"white\", \"plot_bgcolor\": \"#E5ECF6\", \"polar\": {\"angularaxis\": {\"gridcolor\": \"white\", \"linecolor\": \"white\", \"ticks\": \"\"}, \"bgcolor\": \"#E5ECF6\", \"radialaxis\": {\"gridcolor\": \"white\", \"linecolor\": \"white\", \"ticks\": \"\"}}, \"scene\": {\"xaxis\": {\"backgroundcolor\": \"#E5ECF6\", \"gridcolor\": \"white\", \"gridwidth\": 2, \"linecolor\": \"white\", \"showbackground\": true, \"ticks\": \"\", \"zerolinecolor\": \"white\"}, \"yaxis\": {\"backgroundcolor\": \"#E5ECF6\", \"gridcolor\": \"white\", \"gridwidth\": 2, \"linecolor\": \"white\", \"showbackground\": true, \"ticks\": \"\", \"zerolinecolor\": \"white\"}, \"zaxis\": {\"backgroundcolor\": \"#E5ECF6\", \"gridcolor\": \"white\", \"gridwidth\": 2, \"linecolor\": \"white\", \"showbackground\": true, \"ticks\": \"\", \"zerolinecolor\": \"white\"}}, \"shapedefaults\": {\"line\": {\"color\": \"#2a3f5f\"}}, \"ternary\": {\"aaxis\": {\"gridcolor\": \"white\", \"linecolor\": \"white\", \"ticks\": \"\"}, \"baxis\": {\"gridcolor\": \"white\", \"linecolor\": \"white\", \"ticks\": \"\"}, \"bgcolor\": \"#E5ECF6\", \"caxis\": {\"gridcolor\": \"white\", \"linecolor\": \"white\", \"ticks\": \"\"}}, \"title\": {\"x\": 0.05}, \"xaxis\": {\"automargin\": true, \"gridcolor\": \"white\", \"linecolor\": \"white\", \"ticks\": \"\", \"title\": {\"standoff\": 15}, \"zerolinecolor\": \"white\", \"zerolinewidth\": 2}, \"yaxis\": {\"automargin\": true, \"gridcolor\": \"white\", \"linecolor\": \"white\", \"ticks\": \"\", \"title\": {\"standoff\": 15}, \"zerolinecolor\": \"white\", \"zerolinewidth\": 2}}}, \"title\": {\"text\": \"Non-Stop Words Length Distribution\"}, \"xaxis\": {\"anchor\": \"y\", \"domain\": [0.0, 1.0], \"title\": {\"text\": \"Non-Stop Words\"}}, \"yaxis\": {\"anchor\": \"x\", \"domain\": [0.0, 1.0], \"title\": {\"text\": \"Count\"}}},\n",
              "                        {\"responsive\": true}\n",
              "                    ).then(function(){\n",
              "                            \n",
              "var gd = document.getElementById('1927a658-e6d6-45c1-9b32-3cb592ead903');\n",
              "var x = new MutationObserver(function (mutations, observer) {{\n",
              "        var display = window.getComputedStyle(gd).display;\n",
              "        if (!display || display === 'none') {{\n",
              "            console.log([gd, 'removed!']);\n",
              "            Plotly.purge(gd);\n",
              "            observer.disconnect();\n",
              "        }}\n",
              "}});\n",
              "\n",
              "// Listen for the removal of the full notebook cells\n",
              "var notebookContainer = gd.closest('#notebook-container');\n",
              "if (notebookContainer) {{\n",
              "    x.observe(notebookContainer, {childList: true});\n",
              "}}\n",
              "\n",
              "// Listen for the clearing of the current output cell\n",
              "var outputEl = gd.closest('.output');\n",
              "if (outputEl) {{\n",
              "    x.observe(outputEl, {childList: true});\n",
              "}}\n",
              "\n",
              "                        })\n",
              "                };\n",
              "                \n",
              "            </script>\n",
              "        </div>\n",
              "</body>\n",
              "</html>"
            ]
          },
          "metadata": {
            "tags": []
          }
        }
      ]
    },
    {
      "cell_type": "code",
      "metadata": {
        "colab": {
          "base_uri": "https://localhost:8080/",
          "height": 542
        },
        "id": "ANI4NPZjW1tz",
        "outputId": "279d257d-311f-44c0-b154-2b5dabe73718"
      },
      "source": [
        "import plotly.express as px\n",
        "fig = px.histogram(df, x=top_rare_words, nbins=5,color_discrete_sequence=['turquoise'])\n",
        "                   \n",
        "fig.update_layout(xaxis_title_text='Rare Words', yaxis_title_text='Count', title_text='Top 20 Rare Words Length Distribution')\n",
        "\n",
        "fig.show()"
      ],
      "execution_count": null,
      "outputs": [
        {
          "output_type": "display_data",
          "data": {
            "text/html": [
              "<html>\n",
              "<head><meta charset=\"utf-8\" /></head>\n",
              "<body>\n",
              "    <div>\n",
              "            <script src=\"https://cdnjs.cloudflare.com/ajax/libs/mathjax/2.7.5/MathJax.js?config=TeX-AMS-MML_SVG\"></script><script type=\"text/javascript\">if (window.MathJax) {MathJax.Hub.Config({SVG: {font: \"STIX-Web\"}});}</script>\n",
              "                <script type=\"text/javascript\">window.PlotlyConfig = {MathJaxConfig: 'local'};</script>\n",
              "        <script src=\"https://cdn.plot.ly/plotly-latest.min.js\"></script>    \n",
              "            <div id=\"401b33d6-61e2-45b2-b872-196745bfb1f1\" class=\"plotly-graph-div\" style=\"height:525px; width:100%;\"></div>\n",
              "            <script type=\"text/javascript\">\n",
              "                \n",
              "                    window.PLOTLYENV=window.PLOTLYENV || {};\n",
              "                    \n",
              "                if (document.getElementById(\"401b33d6-61e2-45b2-b872-196745bfb1f1\")) {\n",
              "                    Plotly.newPlot(\n",
              "                        '401b33d6-61e2-45b2-b872-196745bfb1f1',\n",
              "                        [{\"alignmentgroup\": \"True\", \"bingroup\": \"x\", \"hoverlabel\": {\"namelength\": 0}, \"hovertemplate\": \"x=%{x}<br>count=%{y}\", \"legendgroup\": \"\", \"marker\": {\"color\": \"turquoise\"}, \"name\": \"\", \"nbinsx\": 5, \"offsetgroup\": \"\", \"orientation\": \"v\", \"showlegend\": false, \"type\": \"histogram\", \"x\": [49, 27, 25, 23, 16, 15, 14, 14, 13, 13, 12, 10, 10, 9, 9, 9, 9, 9, 9, 8], \"xaxis\": \"x\", \"yaxis\": \"y\"}],\n",
              "                        {\"barmode\": \"relative\", \"legend\": {\"tracegroupgap\": 0}, \"margin\": {\"t\": 60}, \"template\": {\"data\": {\"bar\": [{\"error_x\": {\"color\": \"#2a3f5f\"}, \"error_y\": {\"color\": \"#2a3f5f\"}, \"marker\": {\"line\": {\"color\": \"#E5ECF6\", \"width\": 0.5}}, \"type\": \"bar\"}], \"barpolar\": [{\"marker\": {\"line\": {\"color\": \"#E5ECF6\", \"width\": 0.5}}, \"type\": \"barpolar\"}], \"carpet\": [{\"aaxis\": {\"endlinecolor\": \"#2a3f5f\", \"gridcolor\": \"white\", \"linecolor\": \"white\", \"minorgridcolor\": \"white\", \"startlinecolor\": \"#2a3f5f\"}, \"baxis\": {\"endlinecolor\": \"#2a3f5f\", \"gridcolor\": \"white\", \"linecolor\": \"white\", \"minorgridcolor\": \"white\", \"startlinecolor\": \"#2a3f5f\"}, \"type\": \"carpet\"}], \"choropleth\": [{\"colorbar\": {\"outlinewidth\": 0, \"ticks\": \"\"}, \"type\": \"choropleth\"}], \"contour\": [{\"colorbar\": {\"outlinewidth\": 0, \"ticks\": \"\"}, \"colorscale\": [[0.0, \"#0d0887\"], [0.1111111111111111, \"#46039f\"], [0.2222222222222222, \"#7201a8\"], [0.3333333333333333, \"#9c179e\"], [0.4444444444444444, \"#bd3786\"], [0.5555555555555556, \"#d8576b\"], [0.6666666666666666, \"#ed7953\"], [0.7777777777777778, \"#fb9f3a\"], [0.8888888888888888, \"#fdca26\"], [1.0, \"#f0f921\"]], \"type\": \"contour\"}], \"contourcarpet\": [{\"colorbar\": {\"outlinewidth\": 0, \"ticks\": \"\"}, \"type\": \"contourcarpet\"}], \"heatmap\": [{\"colorbar\": {\"outlinewidth\": 0, \"ticks\": \"\"}, \"colorscale\": [[0.0, \"#0d0887\"], [0.1111111111111111, \"#46039f\"], [0.2222222222222222, \"#7201a8\"], [0.3333333333333333, \"#9c179e\"], [0.4444444444444444, \"#bd3786\"], [0.5555555555555556, \"#d8576b\"], [0.6666666666666666, \"#ed7953\"], [0.7777777777777778, \"#fb9f3a\"], [0.8888888888888888, \"#fdca26\"], [1.0, \"#f0f921\"]], \"type\": \"heatmap\"}], \"heatmapgl\": [{\"colorbar\": {\"outlinewidth\": 0, \"ticks\": \"\"}, \"colorscale\": [[0.0, \"#0d0887\"], [0.1111111111111111, \"#46039f\"], [0.2222222222222222, \"#7201a8\"], [0.3333333333333333, \"#9c179e\"], [0.4444444444444444, \"#bd3786\"], [0.5555555555555556, \"#d8576b\"], [0.6666666666666666, \"#ed7953\"], [0.7777777777777778, \"#fb9f3a\"], [0.8888888888888888, \"#fdca26\"], [1.0, \"#f0f921\"]], \"type\": \"heatmapgl\"}], \"histogram\": [{\"marker\": {\"colorbar\": {\"outlinewidth\": 0, \"ticks\": \"\"}}, \"type\": \"histogram\"}], \"histogram2d\": [{\"colorbar\": {\"outlinewidth\": 0, \"ticks\": \"\"}, \"colorscale\": [[0.0, \"#0d0887\"], [0.1111111111111111, \"#46039f\"], [0.2222222222222222, \"#7201a8\"], [0.3333333333333333, \"#9c179e\"], [0.4444444444444444, \"#bd3786\"], [0.5555555555555556, \"#d8576b\"], [0.6666666666666666, \"#ed7953\"], [0.7777777777777778, \"#fb9f3a\"], [0.8888888888888888, \"#fdca26\"], [1.0, \"#f0f921\"]], \"type\": \"histogram2d\"}], \"histogram2dcontour\": [{\"colorbar\": {\"outlinewidth\": 0, \"ticks\": \"\"}, \"colorscale\": [[0.0, \"#0d0887\"], [0.1111111111111111, \"#46039f\"], [0.2222222222222222, \"#7201a8\"], [0.3333333333333333, \"#9c179e\"], [0.4444444444444444, \"#bd3786\"], [0.5555555555555556, \"#d8576b\"], [0.6666666666666666, \"#ed7953\"], [0.7777777777777778, \"#fb9f3a\"], [0.8888888888888888, \"#fdca26\"], [1.0, \"#f0f921\"]], \"type\": \"histogram2dcontour\"}], \"mesh3d\": [{\"colorbar\": {\"outlinewidth\": 0, \"ticks\": \"\"}, \"type\": \"mesh3d\"}], \"parcoords\": [{\"line\": {\"colorbar\": {\"outlinewidth\": 0, \"ticks\": \"\"}}, \"type\": \"parcoords\"}], \"pie\": [{\"automargin\": true, \"type\": \"pie\"}], \"scatter\": [{\"marker\": {\"colorbar\": {\"outlinewidth\": 0, \"ticks\": \"\"}}, \"type\": \"scatter\"}], \"scatter3d\": [{\"line\": {\"colorbar\": {\"outlinewidth\": 0, \"ticks\": \"\"}}, \"marker\": {\"colorbar\": {\"outlinewidth\": 0, \"ticks\": \"\"}}, \"type\": \"scatter3d\"}], \"scattercarpet\": [{\"marker\": {\"colorbar\": {\"outlinewidth\": 0, \"ticks\": \"\"}}, \"type\": \"scattercarpet\"}], \"scattergeo\": [{\"marker\": {\"colorbar\": {\"outlinewidth\": 0, \"ticks\": \"\"}}, \"type\": \"scattergeo\"}], \"scattergl\": [{\"marker\": {\"colorbar\": {\"outlinewidth\": 0, \"ticks\": \"\"}}, \"type\": \"scattergl\"}], \"scattermapbox\": [{\"marker\": {\"colorbar\": {\"outlinewidth\": 0, \"ticks\": \"\"}}, \"type\": \"scattermapbox\"}], \"scatterpolar\": [{\"marker\": {\"colorbar\": {\"outlinewidth\": 0, \"ticks\": \"\"}}, \"type\": \"scatterpolar\"}], \"scatterpolargl\": [{\"marker\": {\"colorbar\": {\"outlinewidth\": 0, \"ticks\": \"\"}}, \"type\": \"scatterpolargl\"}], \"scatterternary\": [{\"marker\": {\"colorbar\": {\"outlinewidth\": 0, \"ticks\": \"\"}}, \"type\": \"scatterternary\"}], \"surface\": [{\"colorbar\": {\"outlinewidth\": 0, \"ticks\": \"\"}, \"colorscale\": [[0.0, \"#0d0887\"], [0.1111111111111111, \"#46039f\"], [0.2222222222222222, \"#7201a8\"], [0.3333333333333333, \"#9c179e\"], [0.4444444444444444, \"#bd3786\"], [0.5555555555555556, \"#d8576b\"], [0.6666666666666666, \"#ed7953\"], [0.7777777777777778, \"#fb9f3a\"], [0.8888888888888888, \"#fdca26\"], [1.0, \"#f0f921\"]], \"type\": \"surface\"}], \"table\": [{\"cells\": {\"fill\": {\"color\": \"#EBF0F8\"}, \"line\": {\"color\": \"white\"}}, \"header\": {\"fill\": {\"color\": \"#C8D4E3\"}, \"line\": {\"color\": \"white\"}}, \"type\": \"table\"}]}, \"layout\": {\"annotationdefaults\": {\"arrowcolor\": \"#2a3f5f\", \"arrowhead\": 0, \"arrowwidth\": 1}, \"coloraxis\": {\"colorbar\": {\"outlinewidth\": 0, \"ticks\": \"\"}}, \"colorscale\": {\"diverging\": [[0, \"#8e0152\"], [0.1, \"#c51b7d\"], [0.2, \"#de77ae\"], [0.3, \"#f1b6da\"], [0.4, \"#fde0ef\"], [0.5, \"#f7f7f7\"], [0.6, \"#e6f5d0\"], [0.7, \"#b8e186\"], [0.8, \"#7fbc41\"], [0.9, \"#4d9221\"], [1, \"#276419\"]], \"sequential\": [[0.0, \"#0d0887\"], [0.1111111111111111, \"#46039f\"], [0.2222222222222222, \"#7201a8\"], [0.3333333333333333, \"#9c179e\"], [0.4444444444444444, \"#bd3786\"], [0.5555555555555556, \"#d8576b\"], [0.6666666666666666, \"#ed7953\"], [0.7777777777777778, \"#fb9f3a\"], [0.8888888888888888, \"#fdca26\"], [1.0, \"#f0f921\"]], \"sequentialminus\": [[0.0, \"#0d0887\"], [0.1111111111111111, \"#46039f\"], [0.2222222222222222, \"#7201a8\"], [0.3333333333333333, \"#9c179e\"], [0.4444444444444444, \"#bd3786\"], [0.5555555555555556, \"#d8576b\"], [0.6666666666666666, \"#ed7953\"], [0.7777777777777778, \"#fb9f3a\"], [0.8888888888888888, \"#fdca26\"], [1.0, \"#f0f921\"]]}, \"colorway\": [\"#636efa\", \"#EF553B\", \"#00cc96\", \"#ab63fa\", \"#FFA15A\", \"#19d3f3\", \"#FF6692\", \"#B6E880\", \"#FF97FF\", \"#FECB52\"], \"font\": {\"color\": \"#2a3f5f\"}, \"geo\": {\"bgcolor\": \"white\", \"lakecolor\": \"white\", \"landcolor\": \"#E5ECF6\", \"showlakes\": true, \"showland\": true, \"subunitcolor\": \"white\"}, \"hoverlabel\": {\"align\": \"left\"}, \"hovermode\": \"closest\", \"mapbox\": {\"style\": \"light\"}, \"paper_bgcolor\": \"white\", \"plot_bgcolor\": \"#E5ECF6\", \"polar\": {\"angularaxis\": {\"gridcolor\": \"white\", \"linecolor\": \"white\", \"ticks\": \"\"}, \"bgcolor\": \"#E5ECF6\", \"radialaxis\": {\"gridcolor\": \"white\", \"linecolor\": \"white\", \"ticks\": \"\"}}, \"scene\": {\"xaxis\": {\"backgroundcolor\": \"#E5ECF6\", \"gridcolor\": \"white\", \"gridwidth\": 2, \"linecolor\": \"white\", \"showbackground\": true, \"ticks\": \"\", \"zerolinecolor\": \"white\"}, \"yaxis\": {\"backgroundcolor\": \"#E5ECF6\", \"gridcolor\": \"white\", \"gridwidth\": 2, \"linecolor\": \"white\", \"showbackground\": true, \"ticks\": \"\", \"zerolinecolor\": \"white\"}, \"zaxis\": {\"backgroundcolor\": \"#E5ECF6\", \"gridcolor\": \"white\", \"gridwidth\": 2, \"linecolor\": \"white\", \"showbackground\": true, \"ticks\": \"\", \"zerolinecolor\": \"white\"}}, \"shapedefaults\": {\"line\": {\"color\": \"#2a3f5f\"}}, \"ternary\": {\"aaxis\": {\"gridcolor\": \"white\", \"linecolor\": \"white\", \"ticks\": \"\"}, \"baxis\": {\"gridcolor\": \"white\", \"linecolor\": \"white\", \"ticks\": \"\"}, \"bgcolor\": \"#E5ECF6\", \"caxis\": {\"gridcolor\": \"white\", \"linecolor\": \"white\", \"ticks\": \"\"}}, \"title\": {\"x\": 0.05}, \"xaxis\": {\"automargin\": true, \"gridcolor\": \"white\", \"linecolor\": \"white\", \"ticks\": \"\", \"title\": {\"standoff\": 15}, \"zerolinecolor\": \"white\", \"zerolinewidth\": 2}, \"yaxis\": {\"automargin\": true, \"gridcolor\": \"white\", \"linecolor\": \"white\", \"ticks\": \"\", \"title\": {\"standoff\": 15}, \"zerolinecolor\": \"white\", \"zerolinewidth\": 2}}}, \"title\": {\"text\": \"Top 20 Rare Words Length Distribution\"}, \"xaxis\": {\"anchor\": \"y\", \"domain\": [0.0, 1.0], \"title\": {\"text\": \"Rare Words\"}}, \"yaxis\": {\"anchor\": \"x\", \"domain\": [0.0, 1.0], \"title\": {\"text\": \"Count\"}}},\n",
              "                        {\"responsive\": true}\n",
              "                    ).then(function(){\n",
              "                            \n",
              "var gd = document.getElementById('401b33d6-61e2-45b2-b872-196745bfb1f1');\n",
              "var x = new MutationObserver(function (mutations, observer) {{\n",
              "        var display = window.getComputedStyle(gd).display;\n",
              "        if (!display || display === 'none') {{\n",
              "            console.log([gd, 'removed!']);\n",
              "            Plotly.purge(gd);\n",
              "            observer.disconnect();\n",
              "        }}\n",
              "}});\n",
              "\n",
              "// Listen for the removal of the full notebook cells\n",
              "var notebookContainer = gd.closest('#notebook-container');\n",
              "if (notebookContainer) {{\n",
              "    x.observe(notebookContainer, {childList: true});\n",
              "}}\n",
              "\n",
              "// Listen for the clearing of the current output cell\n",
              "var outputEl = gd.closest('.output');\n",
              "if (outputEl) {{\n",
              "    x.observe(outputEl, {childList: true});\n",
              "}}\n",
              "\n",
              "                        })\n",
              "                };\n",
              "                \n",
              "            </script>\n",
              "        </div>\n",
              "</body>\n",
              "</html>"
            ]
          },
          "metadata": {
            "tags": []
          }
        }
      ]
    },
    {
      "cell_type": "code",
      "metadata": {
        "colab": {
          "base_uri": "https://localhost:8080/"
        },
        "id": "PjEJUPulabMU",
        "outputId": "f75e89ab-a6d4-4ac6-ea1d-cd5d469e0cbc"
      },
      "source": [
        "rare_words[:20]"
      ],
      "execution_count": null,
      "outputs": [
        {
          "output_type": "execute_result",
          "data": {
            "text/plain": [
              "work           49\n",
              "good           27\n",
              "man            25\n",
              "love           23\n",
              "mind           16\n",
              "help           15\n",
              "knowledge      14\n",
              "bad            14\n",
              "world          13\n",
              "impressions    13\n",
              "nature         12\n",
              "said           10\n",
              "evil           10\n",
              "attachment      9\n",
              "soul            9\n",
              "life            9\n",
              "let             9\n",
              "true            9\n",
              "physical        9\n",
              "poor            8\n",
              "dtype: int64"
            ]
          },
          "metadata": {
            "tags": []
          },
          "execution_count": 269
        }
      ]
    },
    {
      "cell_type": "code",
      "metadata": {
        "colab": {
          "base_uri": "https://localhost:8080/",
          "height": 542
        },
        "id": "zk67DxVNaaMY",
        "outputId": "0a51ede1-4ef5-49f3-8a52-dbe00dd2d68d"
      },
      "source": [
        "import plotly.graph_objects as go    \n",
        "fig = go.Figure([go.Bar(x=['work' ,'good', 'man', 'love', 'mind',\n",
        "                           'help','knowledge', 'bad' ,'world' ,'impressions', 'nature', 'said' ,\n",
        "                           'evil', 'attachment' ,'soul' ,'life','let','true','physcial','poor'],\n",
        "                        y =[49, 27, 25, 23, 16, 15, 14, 14, 13, 13, \n",
        "                            12, 10, 10, 9, 9, 9, 9, 9, 9,8],             \n",
        "                        marker_color='crimson')])\n",
        "fig.update_layout(xaxis_title='Rare words', yaxis_title='Count',title_text='Top 20 Rare Words Distribution')\n",
        "\n",
        "fig.show()"
      ],
      "execution_count": null,
      "outputs": [
        {
          "output_type": "display_data",
          "data": {
            "text/html": [
              "<html>\n",
              "<head><meta charset=\"utf-8\" /></head>\n",
              "<body>\n",
              "    <div>\n",
              "            <script src=\"https://cdnjs.cloudflare.com/ajax/libs/mathjax/2.7.5/MathJax.js?config=TeX-AMS-MML_SVG\"></script><script type=\"text/javascript\">if (window.MathJax) {MathJax.Hub.Config({SVG: {font: \"STIX-Web\"}});}</script>\n",
              "                <script type=\"text/javascript\">window.PlotlyConfig = {MathJaxConfig: 'local'};</script>\n",
              "        <script src=\"https://cdn.plot.ly/plotly-latest.min.js\"></script>    \n",
              "            <div id=\"d837d005-895f-4837-8985-381766773b2a\" class=\"plotly-graph-div\" style=\"height:525px; width:100%;\"></div>\n",
              "            <script type=\"text/javascript\">\n",
              "                \n",
              "                    window.PLOTLYENV=window.PLOTLYENV || {};\n",
              "                    \n",
              "                if (document.getElementById(\"d837d005-895f-4837-8985-381766773b2a\")) {\n",
              "                    Plotly.newPlot(\n",
              "                        'd837d005-895f-4837-8985-381766773b2a',\n",
              "                        [{\"marker\": {\"color\": \"crimson\"}, \"type\": \"bar\", \"x\": [\"work\", \"good\", \"man\", \"love\", \"mind\", \"help\", \"Vknowledge\", \"bad\", \"world\", \"impressions\", \"nature\", \"said\", \"evil\", \"attachment\", \"soul\", \"life\", \"let\", \"true\", \"physcial\", \"poor\"], \"y\": [49, 27, 25, 23, 16, 15, 14, 14, 13, 13, 12, 10, 10, 9, 9, 9, 9, 9, 9, 8]}],\n",
              "                        {\"template\": {\"data\": {\"bar\": [{\"error_x\": {\"color\": \"#2a3f5f\"}, \"error_y\": {\"color\": \"#2a3f5f\"}, \"marker\": {\"line\": {\"color\": \"#E5ECF6\", \"width\": 0.5}}, \"type\": \"bar\"}], \"barpolar\": [{\"marker\": {\"line\": {\"color\": \"#E5ECF6\", \"width\": 0.5}}, \"type\": \"barpolar\"}], \"carpet\": [{\"aaxis\": {\"endlinecolor\": \"#2a3f5f\", \"gridcolor\": \"white\", \"linecolor\": \"white\", \"minorgridcolor\": \"white\", \"startlinecolor\": \"#2a3f5f\"}, \"baxis\": {\"endlinecolor\": \"#2a3f5f\", \"gridcolor\": \"white\", \"linecolor\": \"white\", \"minorgridcolor\": \"white\", \"startlinecolor\": \"#2a3f5f\"}, \"type\": \"carpet\"}], \"choropleth\": [{\"colorbar\": {\"outlinewidth\": 0, \"ticks\": \"\"}, \"type\": \"choropleth\"}], \"contour\": [{\"colorbar\": {\"outlinewidth\": 0, \"ticks\": \"\"}, \"colorscale\": [[0.0, \"#0d0887\"], [0.1111111111111111, \"#46039f\"], [0.2222222222222222, \"#7201a8\"], [0.3333333333333333, \"#9c179e\"], [0.4444444444444444, \"#bd3786\"], [0.5555555555555556, \"#d8576b\"], [0.6666666666666666, \"#ed7953\"], [0.7777777777777778, \"#fb9f3a\"], [0.8888888888888888, \"#fdca26\"], [1.0, \"#f0f921\"]], \"type\": \"contour\"}], \"contourcarpet\": [{\"colorbar\": {\"outlinewidth\": 0, \"ticks\": \"\"}, \"type\": \"contourcarpet\"}], \"heatmap\": [{\"colorbar\": {\"outlinewidth\": 0, \"ticks\": \"\"}, \"colorscale\": [[0.0, \"#0d0887\"], [0.1111111111111111, \"#46039f\"], [0.2222222222222222, \"#7201a8\"], [0.3333333333333333, \"#9c179e\"], [0.4444444444444444, \"#bd3786\"], [0.5555555555555556, \"#d8576b\"], [0.6666666666666666, \"#ed7953\"], [0.7777777777777778, \"#fb9f3a\"], [0.8888888888888888, \"#fdca26\"], [1.0, \"#f0f921\"]], \"type\": \"heatmap\"}], \"heatmapgl\": [{\"colorbar\": {\"outlinewidth\": 0, \"ticks\": \"\"}, \"colorscale\": [[0.0, \"#0d0887\"], [0.1111111111111111, \"#46039f\"], [0.2222222222222222, \"#7201a8\"], [0.3333333333333333, \"#9c179e\"], [0.4444444444444444, \"#bd3786\"], [0.5555555555555556, \"#d8576b\"], [0.6666666666666666, \"#ed7953\"], [0.7777777777777778, \"#fb9f3a\"], [0.8888888888888888, \"#fdca26\"], [1.0, \"#f0f921\"]], \"type\": \"heatmapgl\"}], \"histogram\": [{\"marker\": {\"colorbar\": {\"outlinewidth\": 0, \"ticks\": \"\"}}, \"type\": \"histogram\"}], \"histogram2d\": [{\"colorbar\": {\"outlinewidth\": 0, \"ticks\": \"\"}, \"colorscale\": [[0.0, \"#0d0887\"], [0.1111111111111111, \"#46039f\"], [0.2222222222222222, \"#7201a8\"], [0.3333333333333333, \"#9c179e\"], [0.4444444444444444, \"#bd3786\"], [0.5555555555555556, \"#d8576b\"], [0.6666666666666666, \"#ed7953\"], [0.7777777777777778, \"#fb9f3a\"], [0.8888888888888888, \"#fdca26\"], [1.0, \"#f0f921\"]], \"type\": \"histogram2d\"}], \"histogram2dcontour\": [{\"colorbar\": {\"outlinewidth\": 0, \"ticks\": \"\"}, \"colorscale\": [[0.0, \"#0d0887\"], [0.1111111111111111, \"#46039f\"], [0.2222222222222222, \"#7201a8\"], [0.3333333333333333, \"#9c179e\"], [0.4444444444444444, \"#bd3786\"], [0.5555555555555556, \"#d8576b\"], [0.6666666666666666, \"#ed7953\"], [0.7777777777777778, \"#fb9f3a\"], [0.8888888888888888, \"#fdca26\"], [1.0, \"#f0f921\"]], \"type\": \"histogram2dcontour\"}], \"mesh3d\": [{\"colorbar\": {\"outlinewidth\": 0, \"ticks\": \"\"}, \"type\": \"mesh3d\"}], \"parcoords\": [{\"line\": {\"colorbar\": {\"outlinewidth\": 0, \"ticks\": \"\"}}, \"type\": \"parcoords\"}], \"pie\": [{\"automargin\": true, \"type\": \"pie\"}], \"scatter\": [{\"marker\": {\"colorbar\": {\"outlinewidth\": 0, \"ticks\": \"\"}}, \"type\": \"scatter\"}], \"scatter3d\": [{\"line\": {\"colorbar\": {\"outlinewidth\": 0, \"ticks\": \"\"}}, \"marker\": {\"colorbar\": {\"outlinewidth\": 0, \"ticks\": \"\"}}, \"type\": \"scatter3d\"}], \"scattercarpet\": [{\"marker\": {\"colorbar\": {\"outlinewidth\": 0, \"ticks\": \"\"}}, \"type\": \"scattercarpet\"}], \"scattergeo\": [{\"marker\": {\"colorbar\": {\"outlinewidth\": 0, \"ticks\": \"\"}}, \"type\": \"scattergeo\"}], \"scattergl\": [{\"marker\": {\"colorbar\": {\"outlinewidth\": 0, \"ticks\": \"\"}}, \"type\": \"scattergl\"}], \"scattermapbox\": [{\"marker\": {\"colorbar\": {\"outlinewidth\": 0, \"ticks\": \"\"}}, \"type\": \"scattermapbox\"}], \"scatterpolar\": [{\"marker\": {\"colorbar\": {\"outlinewidth\": 0, \"ticks\": \"\"}}, \"type\": \"scatterpolar\"}], \"scatterpolargl\": [{\"marker\": {\"colorbar\": {\"outlinewidth\": 0, \"ticks\": \"\"}}, \"type\": \"scatterpolargl\"}], \"scatterternary\": [{\"marker\": {\"colorbar\": {\"outlinewidth\": 0, \"ticks\": \"\"}}, \"type\": \"scatterternary\"}], \"surface\": [{\"colorbar\": {\"outlinewidth\": 0, \"ticks\": \"\"}, \"colorscale\": [[0.0, \"#0d0887\"], [0.1111111111111111, \"#46039f\"], [0.2222222222222222, \"#7201a8\"], [0.3333333333333333, \"#9c179e\"], [0.4444444444444444, \"#bd3786\"], [0.5555555555555556, \"#d8576b\"], [0.6666666666666666, \"#ed7953\"], [0.7777777777777778, \"#fb9f3a\"], [0.8888888888888888, \"#fdca26\"], [1.0, \"#f0f921\"]], \"type\": \"surface\"}], \"table\": [{\"cells\": {\"fill\": {\"color\": \"#EBF0F8\"}, \"line\": {\"color\": \"white\"}}, \"header\": {\"fill\": {\"color\": \"#C8D4E3\"}, \"line\": {\"color\": \"white\"}}, \"type\": \"table\"}]}, \"layout\": {\"annotationdefaults\": {\"arrowcolor\": \"#2a3f5f\", \"arrowhead\": 0, \"arrowwidth\": 1}, \"coloraxis\": {\"colorbar\": {\"outlinewidth\": 0, \"ticks\": \"\"}}, \"colorscale\": {\"diverging\": [[0, \"#8e0152\"], [0.1, \"#c51b7d\"], [0.2, \"#de77ae\"], [0.3, \"#f1b6da\"], [0.4, \"#fde0ef\"], [0.5, \"#f7f7f7\"], [0.6, \"#e6f5d0\"], [0.7, \"#b8e186\"], [0.8, \"#7fbc41\"], [0.9, \"#4d9221\"], [1, \"#276419\"]], \"sequential\": [[0.0, \"#0d0887\"], [0.1111111111111111, \"#46039f\"], [0.2222222222222222, \"#7201a8\"], [0.3333333333333333, \"#9c179e\"], [0.4444444444444444, \"#bd3786\"], [0.5555555555555556, \"#d8576b\"], [0.6666666666666666, \"#ed7953\"], [0.7777777777777778, \"#fb9f3a\"], [0.8888888888888888, \"#fdca26\"], [1.0, \"#f0f921\"]], \"sequentialminus\": [[0.0, \"#0d0887\"], [0.1111111111111111, \"#46039f\"], [0.2222222222222222, \"#7201a8\"], [0.3333333333333333, \"#9c179e\"], [0.4444444444444444, \"#bd3786\"], [0.5555555555555556, \"#d8576b\"], [0.6666666666666666, \"#ed7953\"], [0.7777777777777778, \"#fb9f3a\"], [0.8888888888888888, \"#fdca26\"], [1.0, \"#f0f921\"]]}, \"colorway\": [\"#636efa\", \"#EF553B\", \"#00cc96\", \"#ab63fa\", \"#FFA15A\", \"#19d3f3\", \"#FF6692\", \"#B6E880\", \"#FF97FF\", \"#FECB52\"], \"font\": {\"color\": \"#2a3f5f\"}, \"geo\": {\"bgcolor\": \"white\", \"lakecolor\": \"white\", \"landcolor\": \"#E5ECF6\", \"showlakes\": true, \"showland\": true, \"subunitcolor\": \"white\"}, \"hoverlabel\": {\"align\": \"left\"}, \"hovermode\": \"closest\", \"mapbox\": {\"style\": \"light\"}, \"paper_bgcolor\": \"white\", \"plot_bgcolor\": \"#E5ECF6\", \"polar\": {\"angularaxis\": {\"gridcolor\": \"white\", \"linecolor\": \"white\", \"ticks\": \"\"}, \"bgcolor\": \"#E5ECF6\", \"radialaxis\": {\"gridcolor\": \"white\", \"linecolor\": \"white\", \"ticks\": \"\"}}, \"scene\": {\"xaxis\": {\"backgroundcolor\": \"#E5ECF6\", \"gridcolor\": \"white\", \"gridwidth\": 2, \"linecolor\": \"white\", \"showbackground\": true, \"ticks\": \"\", \"zerolinecolor\": \"white\"}, \"yaxis\": {\"backgroundcolor\": \"#E5ECF6\", \"gridcolor\": \"white\", \"gridwidth\": 2, \"linecolor\": \"white\", \"showbackground\": true, \"ticks\": \"\", \"zerolinecolor\": \"white\"}, \"zaxis\": {\"backgroundcolor\": \"#E5ECF6\", \"gridcolor\": \"white\", \"gridwidth\": 2, \"linecolor\": \"white\", \"showbackground\": true, \"ticks\": \"\", \"zerolinecolor\": \"white\"}}, \"shapedefaults\": {\"line\": {\"color\": \"#2a3f5f\"}}, \"ternary\": {\"aaxis\": {\"gridcolor\": \"white\", \"linecolor\": \"white\", \"ticks\": \"\"}, \"baxis\": {\"gridcolor\": \"white\", \"linecolor\": \"white\", \"ticks\": \"\"}, \"bgcolor\": \"#E5ECF6\", \"caxis\": {\"gridcolor\": \"white\", \"linecolor\": \"white\", \"ticks\": \"\"}}, \"title\": {\"x\": 0.05}, \"xaxis\": {\"automargin\": true, \"gridcolor\": \"white\", \"linecolor\": \"white\", \"ticks\": \"\", \"title\": {\"standoff\": 15}, \"zerolinecolor\": \"white\", \"zerolinewidth\": 2}, \"yaxis\": {\"automargin\": true, \"gridcolor\": \"white\", \"linecolor\": \"white\", \"ticks\": \"\", \"title\": {\"standoff\": 15}, \"zerolinecolor\": \"white\", \"zerolinewidth\": 2}}}, \"title\": {\"text\": \"Top 20 Rare Words Distribution\"}, \"xaxis\": {\"title\": {\"text\": \"Rare words\"}}, \"yaxis\": {\"title\": {\"text\": \"Count\"}}},\n",
              "                        {\"responsive\": true}\n",
              "                    ).then(function(){\n",
              "                            \n",
              "var gd = document.getElementById('d837d005-895f-4837-8985-381766773b2a');\n",
              "var x = new MutationObserver(function (mutations, observer) {{\n",
              "        var display = window.getComputedStyle(gd).display;\n",
              "        if (!display || display === 'none') {{\n",
              "            console.log([gd, 'removed!']);\n",
              "            Plotly.purge(gd);\n",
              "            observer.disconnect();\n",
              "        }}\n",
              "}});\n",
              "\n",
              "// Listen for the removal of the full notebook cells\n",
              "var notebookContainer = gd.closest('#notebook-container');\n",
              "if (notebookContainer) {{\n",
              "    x.observe(notebookContainer, {childList: true});\n",
              "}}\n",
              "\n",
              "// Listen for the clearing of the current output cell\n",
              "var outputEl = gd.closest('.output');\n",
              "if (outputEl) {{\n",
              "    x.observe(outputEl, {childList: true});\n",
              "}}\n",
              "\n",
              "                        })\n",
              "                };\n",
              "                \n",
              "            </script>\n",
              "        </div>\n",
              "</body>\n",
              "</html>"
            ]
          },
          "metadata": {
            "tags": []
          }
        }
      ]
    },
    {
      "cell_type": "markdown",
      "metadata": {
        "id": "jzETzDVJ06E2"
      },
      "source": [
        "### Unigram, Bi-gram, Tri-gram with Stopwords Distribution"
      ]
    },
    {
      "cell_type": "code",
      "metadata": {
        "id": "PKrNcqzxpCYJ"
      },
      "source": [
        "from sklearn.feature_extraction.text import CountVectorizer"
      ],
      "execution_count": null,
      "outputs": []
    },
    {
      "cell_type": "code",
      "metadata": {
        "id": "IA5iGX2Brenb"
      },
      "source": [
        "def get_top_n_words(x,n):\n",
        "    vec = CountVectorizer().fit(x)\n",
        "    bow = vec.transform(x)\n",
        "    sum_words = bow.sum(axis=0)\n",
        "    words_freq = [(words, sum_words[0, idx]) for words, idx in vec.vocabulary_.items()]\n",
        "    words_freq = sorted(words_freq, key=lambda x:x[1], reverse=True ) # here x is word frequency\n",
        "    return words_freq[:n]"
      ],
      "execution_count": null,
      "outputs": []
    },
    {
      "cell_type": "code",
      "metadata": {
        "id": "haY9I0JertRN"
      },
      "source": [
        "words = get_top_n_words(df['Text'],20)"
      ],
      "execution_count": null,
      "outputs": []
    },
    {
      "cell_type": "code",
      "metadata": {
        "colab": {
          "base_uri": "https://localhost:8080/"
        },
        "id": "BrDkZfzlr8Kp",
        "outputId": "4ea0e66c-0359-40e8-9a5c-2481f73d2b94"
      },
      "source": [
        "words"
      ],
      "execution_count": null,
      "outputs": [
        {
          "output_type": "execute_result",
          "data": {
            "text/plain": [
              "[('the', 237),\n",
              " ('of', 128),\n",
              " ('and', 124),\n",
              " ('is', 111),\n",
              " ('to', 89),\n",
              " ('that', 60),\n",
              " ('in', 58),\n",
              " ('work', 51),\n",
              " ('be', 50),\n",
              " ('it', 48),\n",
              " ('we', 44),\n",
              " ('for', 42),\n",
              " ('as', 37),\n",
              " ('will', 37),\n",
              " ('not', 37),\n",
              " ('but', 31),\n",
              " ('this', 31),\n",
              " ('all', 28),\n",
              " ('there', 28),\n",
              " ('you', 28)]"
            ]
          },
          "metadata": {
            "tags": []
          },
          "execution_count": 74
        }
      ]
    },
    {
      "cell_type": "code",
      "metadata": {
        "id": "zbRtM-qnsE52"
      },
      "source": [
        "df2 = pd.DataFrame(words, columns=['Unigram','Frequency'])"
      ],
      "execution_count": null,
      "outputs": []
    },
    {
      "cell_type": "code",
      "metadata": {
        "colab": {
          "base_uri": "https://localhost:8080/",
          "height": 669
        },
        "id": "Pwwj1Z6csHNG",
        "outputId": "276043bc-2779-4008-bfa3-09022bcaa5e3"
      },
      "source": [
        "df2"
      ],
      "execution_count": null,
      "outputs": [
        {
          "output_type": "execute_result",
          "data": {
            "text/html": [
              "<div>\n",
              "<style scoped>\n",
              "    .dataframe tbody tr th:only-of-type {\n",
              "        vertical-align: middle;\n",
              "    }\n",
              "\n",
              "    .dataframe tbody tr th {\n",
              "        vertical-align: top;\n",
              "    }\n",
              "\n",
              "    .dataframe thead th {\n",
              "        text-align: right;\n",
              "    }\n",
              "</style>\n",
              "<table border=\"1\" class=\"dataframe\">\n",
              "  <thead>\n",
              "    <tr style=\"text-align: right;\">\n",
              "      <th></th>\n",
              "      <th>Unigram</th>\n",
              "      <th>Frequency</th>\n",
              "    </tr>\n",
              "  </thead>\n",
              "  <tbody>\n",
              "    <tr>\n",
              "      <th>0</th>\n",
              "      <td>the</td>\n",
              "      <td>237</td>\n",
              "    </tr>\n",
              "    <tr>\n",
              "      <th>1</th>\n",
              "      <td>of</td>\n",
              "      <td>128</td>\n",
              "    </tr>\n",
              "    <tr>\n",
              "      <th>2</th>\n",
              "      <td>and</td>\n",
              "      <td>124</td>\n",
              "    </tr>\n",
              "    <tr>\n",
              "      <th>3</th>\n",
              "      <td>is</td>\n",
              "      <td>111</td>\n",
              "    </tr>\n",
              "    <tr>\n",
              "      <th>4</th>\n",
              "      <td>to</td>\n",
              "      <td>89</td>\n",
              "    </tr>\n",
              "    <tr>\n",
              "      <th>5</th>\n",
              "      <td>that</td>\n",
              "      <td>60</td>\n",
              "    </tr>\n",
              "    <tr>\n",
              "      <th>6</th>\n",
              "      <td>in</td>\n",
              "      <td>58</td>\n",
              "    </tr>\n",
              "    <tr>\n",
              "      <th>7</th>\n",
              "      <td>work</td>\n",
              "      <td>51</td>\n",
              "    </tr>\n",
              "    <tr>\n",
              "      <th>8</th>\n",
              "      <td>be</td>\n",
              "      <td>50</td>\n",
              "    </tr>\n",
              "    <tr>\n",
              "      <th>9</th>\n",
              "      <td>it</td>\n",
              "      <td>48</td>\n",
              "    </tr>\n",
              "    <tr>\n",
              "      <th>10</th>\n",
              "      <td>we</td>\n",
              "      <td>44</td>\n",
              "    </tr>\n",
              "    <tr>\n",
              "      <th>11</th>\n",
              "      <td>for</td>\n",
              "      <td>42</td>\n",
              "    </tr>\n",
              "    <tr>\n",
              "      <th>12</th>\n",
              "      <td>as</td>\n",
              "      <td>37</td>\n",
              "    </tr>\n",
              "    <tr>\n",
              "      <th>13</th>\n",
              "      <td>will</td>\n",
              "      <td>37</td>\n",
              "    </tr>\n",
              "    <tr>\n",
              "      <th>14</th>\n",
              "      <td>not</td>\n",
              "      <td>37</td>\n",
              "    </tr>\n",
              "    <tr>\n",
              "      <th>15</th>\n",
              "      <td>but</td>\n",
              "      <td>31</td>\n",
              "    </tr>\n",
              "    <tr>\n",
              "      <th>16</th>\n",
              "      <td>this</td>\n",
              "      <td>31</td>\n",
              "    </tr>\n",
              "    <tr>\n",
              "      <th>17</th>\n",
              "      <td>all</td>\n",
              "      <td>28</td>\n",
              "    </tr>\n",
              "    <tr>\n",
              "      <th>18</th>\n",
              "      <td>there</td>\n",
              "      <td>28</td>\n",
              "    </tr>\n",
              "    <tr>\n",
              "      <th>19</th>\n",
              "      <td>you</td>\n",
              "      <td>28</td>\n",
              "    </tr>\n",
              "  </tbody>\n",
              "</table>\n",
              "</div>"
            ],
            "text/plain": [
              "   Unigram  Frequency\n",
              "0      the        237\n",
              "1       of        128\n",
              "2      and        124\n",
              "3       is        111\n",
              "4       to         89\n",
              "5     that         60\n",
              "6       in         58\n",
              "7     work         51\n",
              "8       be         50\n",
              "9       it         48\n",
              "10      we         44\n",
              "11     for         42\n",
              "12      as         37\n",
              "13    will         37\n",
              "14     not         37\n",
              "15     but         31\n",
              "16    this         31\n",
              "17     all         28\n",
              "18   there         28\n",
              "19     you         28"
            ]
          },
          "metadata": {
            "tags": []
          },
          "execution_count": 76
        }
      ]
    },
    {
      "cell_type": "code",
      "metadata": {
        "colab": {
          "base_uri": "https://localhost:8080/"
        },
        "id": "iPcVFLujsJqs",
        "outputId": "a4896fe6-d743-4e11-da3b-4426ad918ca0"
      },
      "source": [
        "df2['Frequency'].tolist()"
      ],
      "execution_count": null,
      "outputs": [
        {
          "output_type": "execute_result",
          "data": {
            "text/plain": [
              "[237,\n",
              " 128,\n",
              " 124,\n",
              " 111,\n",
              " 89,\n",
              " 60,\n",
              " 58,\n",
              " 51,\n",
              " 50,\n",
              " 48,\n",
              " 44,\n",
              " 42,\n",
              " 37,\n",
              " 37,\n",
              " 37,\n",
              " 31,\n",
              " 31,\n",
              " 28,\n",
              " 28,\n",
              " 28]"
            ]
          },
          "metadata": {
            "tags": []
          },
          "execution_count": 77
        }
      ]
    },
    {
      "cell_type": "code",
      "metadata": {
        "colab": {
          "base_uri": "https://localhost:8080/",
          "height": 542
        },
        "id": "gXKE2ssXsTiI",
        "outputId": "b8f976ec-e432-4258-dd06-dd362a0dd66a"
      },
      "source": [
        "import plotly.express as px\n",
        "fig = px.bar(\n",
        "             x=df2['Unigram'],\n",
        "        \n",
        "            y=df2['Frequency'])\n",
        "\n",
        "fig.update_layout(xaxis_title_text='Unigram', yaxis_title_text='Count', title_text='Top20 Unigram Distribution')\n",
        "\n",
        "fig.show()"
      ],
      "execution_count": null,
      "outputs": [
        {
          "output_type": "display_data",
          "data": {
            "text/html": [
              "<html>\n",
              "<head><meta charset=\"utf-8\" /></head>\n",
              "<body>\n",
              "    <div>\n",
              "            <script src=\"https://cdnjs.cloudflare.com/ajax/libs/mathjax/2.7.5/MathJax.js?config=TeX-AMS-MML_SVG\"></script><script type=\"text/javascript\">if (window.MathJax) {MathJax.Hub.Config({SVG: {font: \"STIX-Web\"}});}</script>\n",
              "                <script type=\"text/javascript\">window.PlotlyConfig = {MathJaxConfig: 'local'};</script>\n",
              "        <script src=\"https://cdn.plot.ly/plotly-latest.min.js\"></script>    \n",
              "            <div id=\"7ce2fae6-89c3-428b-b18f-1a2769d55117\" class=\"plotly-graph-div\" style=\"height:525px; width:100%;\"></div>\n",
              "            <script type=\"text/javascript\">\n",
              "                \n",
              "                    window.PLOTLYENV=window.PLOTLYENV || {};\n",
              "                    \n",
              "                if (document.getElementById(\"7ce2fae6-89c3-428b-b18f-1a2769d55117\")) {\n",
              "                    Plotly.newPlot(\n",
              "                        '7ce2fae6-89c3-428b-b18f-1a2769d55117',\n",
              "                        [{\"alignmentgroup\": \"True\", \"hoverlabel\": {\"namelength\": 0}, \"hovertemplate\": \"x=%{x}<br>y=%{y}\", \"legendgroup\": \"\", \"marker\": {\"color\": \"#636efa\"}, \"name\": \"\", \"offsetgroup\": \"\", \"orientation\": \"v\", \"showlegend\": false, \"textposition\": \"auto\", \"type\": \"bar\", \"x\": [\"the\", \"of\", \"and\", \"is\", \"to\", \"that\", \"in\", \"work\", \"be\", \"it\", \"we\", \"for\", \"as\", \"will\", \"not\", \"but\", \"this\", \"all\", \"there\", \"you\"], \"xaxis\": \"x\", \"y\": [237, 128, 124, 111, 89, 60, 58, 51, 50, 48, 44, 42, 37, 37, 37, 31, 31, 28, 28, 28], \"yaxis\": \"y\"}],\n",
              "                        {\"barmode\": \"relative\", \"legend\": {\"tracegroupgap\": 0}, \"margin\": {\"t\": 60}, \"template\": {\"data\": {\"bar\": [{\"error_x\": {\"color\": \"#2a3f5f\"}, \"error_y\": {\"color\": \"#2a3f5f\"}, \"marker\": {\"line\": {\"color\": \"#E5ECF6\", \"width\": 0.5}}, \"type\": \"bar\"}], \"barpolar\": [{\"marker\": {\"line\": {\"color\": \"#E5ECF6\", \"width\": 0.5}}, \"type\": \"barpolar\"}], \"carpet\": [{\"aaxis\": {\"endlinecolor\": \"#2a3f5f\", \"gridcolor\": \"white\", \"linecolor\": \"white\", \"minorgridcolor\": \"white\", \"startlinecolor\": \"#2a3f5f\"}, \"baxis\": {\"endlinecolor\": \"#2a3f5f\", \"gridcolor\": \"white\", \"linecolor\": \"white\", \"minorgridcolor\": \"white\", \"startlinecolor\": \"#2a3f5f\"}, \"type\": \"carpet\"}], \"choropleth\": [{\"colorbar\": {\"outlinewidth\": 0, \"ticks\": \"\"}, \"type\": \"choropleth\"}], \"contour\": [{\"colorbar\": {\"outlinewidth\": 0, \"ticks\": \"\"}, \"colorscale\": [[0.0, \"#0d0887\"], [0.1111111111111111, \"#46039f\"], [0.2222222222222222, \"#7201a8\"], [0.3333333333333333, \"#9c179e\"], [0.4444444444444444, \"#bd3786\"], [0.5555555555555556, \"#d8576b\"], [0.6666666666666666, \"#ed7953\"], [0.7777777777777778, \"#fb9f3a\"], [0.8888888888888888, \"#fdca26\"], [1.0, \"#f0f921\"]], \"type\": \"contour\"}], \"contourcarpet\": [{\"colorbar\": {\"outlinewidth\": 0, \"ticks\": \"\"}, \"type\": \"contourcarpet\"}], \"heatmap\": [{\"colorbar\": {\"outlinewidth\": 0, \"ticks\": \"\"}, \"colorscale\": [[0.0, \"#0d0887\"], [0.1111111111111111, \"#46039f\"], [0.2222222222222222, \"#7201a8\"], [0.3333333333333333, \"#9c179e\"], [0.4444444444444444, \"#bd3786\"], [0.5555555555555556, \"#d8576b\"], [0.6666666666666666, \"#ed7953\"], [0.7777777777777778, \"#fb9f3a\"], [0.8888888888888888, \"#fdca26\"], [1.0, \"#f0f921\"]], \"type\": \"heatmap\"}], \"heatmapgl\": [{\"colorbar\": {\"outlinewidth\": 0, \"ticks\": \"\"}, \"colorscale\": [[0.0, \"#0d0887\"], [0.1111111111111111, \"#46039f\"], [0.2222222222222222, \"#7201a8\"], [0.3333333333333333, \"#9c179e\"], [0.4444444444444444, \"#bd3786\"], [0.5555555555555556, \"#d8576b\"], [0.6666666666666666, \"#ed7953\"], [0.7777777777777778, \"#fb9f3a\"], [0.8888888888888888, \"#fdca26\"], [1.0, \"#f0f921\"]], \"type\": \"heatmapgl\"}], \"histogram\": [{\"marker\": {\"colorbar\": {\"outlinewidth\": 0, \"ticks\": \"\"}}, \"type\": \"histogram\"}], \"histogram2d\": [{\"colorbar\": {\"outlinewidth\": 0, \"ticks\": \"\"}, \"colorscale\": [[0.0, \"#0d0887\"], [0.1111111111111111, \"#46039f\"], [0.2222222222222222, \"#7201a8\"], [0.3333333333333333, \"#9c179e\"], [0.4444444444444444, \"#bd3786\"], [0.5555555555555556, \"#d8576b\"], [0.6666666666666666, \"#ed7953\"], [0.7777777777777778, \"#fb9f3a\"], [0.8888888888888888, \"#fdca26\"], [1.0, \"#f0f921\"]], \"type\": \"histogram2d\"}], \"histogram2dcontour\": [{\"colorbar\": {\"outlinewidth\": 0, \"ticks\": \"\"}, \"colorscale\": [[0.0, \"#0d0887\"], [0.1111111111111111, \"#46039f\"], [0.2222222222222222, \"#7201a8\"], [0.3333333333333333, \"#9c179e\"], [0.4444444444444444, \"#bd3786\"], [0.5555555555555556, \"#d8576b\"], [0.6666666666666666, \"#ed7953\"], [0.7777777777777778, \"#fb9f3a\"], [0.8888888888888888, \"#fdca26\"], [1.0, \"#f0f921\"]], \"type\": \"histogram2dcontour\"}], \"mesh3d\": [{\"colorbar\": {\"outlinewidth\": 0, \"ticks\": \"\"}, \"type\": \"mesh3d\"}], \"parcoords\": [{\"line\": {\"colorbar\": {\"outlinewidth\": 0, \"ticks\": \"\"}}, \"type\": \"parcoords\"}], \"pie\": [{\"automargin\": true, \"type\": \"pie\"}], \"scatter\": [{\"marker\": {\"colorbar\": {\"outlinewidth\": 0, \"ticks\": \"\"}}, \"type\": \"scatter\"}], \"scatter3d\": [{\"line\": {\"colorbar\": {\"outlinewidth\": 0, \"ticks\": \"\"}}, \"marker\": {\"colorbar\": {\"outlinewidth\": 0, \"ticks\": \"\"}}, \"type\": \"scatter3d\"}], \"scattercarpet\": [{\"marker\": {\"colorbar\": {\"outlinewidth\": 0, \"ticks\": \"\"}}, \"type\": \"scattercarpet\"}], \"scattergeo\": [{\"marker\": {\"colorbar\": {\"outlinewidth\": 0, \"ticks\": \"\"}}, \"type\": \"scattergeo\"}], \"scattergl\": [{\"marker\": {\"colorbar\": {\"outlinewidth\": 0, \"ticks\": \"\"}}, \"type\": \"scattergl\"}], \"scattermapbox\": [{\"marker\": {\"colorbar\": {\"outlinewidth\": 0, \"ticks\": \"\"}}, \"type\": \"scattermapbox\"}], \"scatterpolar\": [{\"marker\": {\"colorbar\": {\"outlinewidth\": 0, \"ticks\": \"\"}}, \"type\": \"scatterpolar\"}], \"scatterpolargl\": [{\"marker\": {\"colorbar\": {\"outlinewidth\": 0, \"ticks\": \"\"}}, \"type\": \"scatterpolargl\"}], \"scatterternary\": [{\"marker\": {\"colorbar\": {\"outlinewidth\": 0, \"ticks\": \"\"}}, \"type\": \"scatterternary\"}], \"surface\": [{\"colorbar\": {\"outlinewidth\": 0, \"ticks\": \"\"}, \"colorscale\": [[0.0, \"#0d0887\"], [0.1111111111111111, \"#46039f\"], [0.2222222222222222, \"#7201a8\"], [0.3333333333333333, \"#9c179e\"], [0.4444444444444444, \"#bd3786\"], [0.5555555555555556, \"#d8576b\"], [0.6666666666666666, \"#ed7953\"], [0.7777777777777778, \"#fb9f3a\"], [0.8888888888888888, \"#fdca26\"], [1.0, \"#f0f921\"]], \"type\": \"surface\"}], \"table\": [{\"cells\": {\"fill\": {\"color\": \"#EBF0F8\"}, \"line\": {\"color\": \"white\"}}, \"header\": {\"fill\": {\"color\": \"#C8D4E3\"}, \"line\": {\"color\": \"white\"}}, \"type\": \"table\"}]}, \"layout\": {\"annotationdefaults\": {\"arrowcolor\": \"#2a3f5f\", \"arrowhead\": 0, \"arrowwidth\": 1}, \"coloraxis\": {\"colorbar\": {\"outlinewidth\": 0, \"ticks\": \"\"}}, \"colorscale\": {\"diverging\": [[0, \"#8e0152\"], [0.1, \"#c51b7d\"], [0.2, \"#de77ae\"], [0.3, \"#f1b6da\"], [0.4, \"#fde0ef\"], [0.5, \"#f7f7f7\"], [0.6, \"#e6f5d0\"], [0.7, \"#b8e186\"], [0.8, \"#7fbc41\"], [0.9, \"#4d9221\"], [1, \"#276419\"]], \"sequential\": [[0.0, \"#0d0887\"], [0.1111111111111111, \"#46039f\"], [0.2222222222222222, \"#7201a8\"], [0.3333333333333333, \"#9c179e\"], [0.4444444444444444, \"#bd3786\"], [0.5555555555555556, \"#d8576b\"], [0.6666666666666666, \"#ed7953\"], [0.7777777777777778, \"#fb9f3a\"], [0.8888888888888888, \"#fdca26\"], [1.0, \"#f0f921\"]], \"sequentialminus\": [[0.0, \"#0d0887\"], [0.1111111111111111, \"#46039f\"], [0.2222222222222222, \"#7201a8\"], [0.3333333333333333, \"#9c179e\"], [0.4444444444444444, \"#bd3786\"], [0.5555555555555556, \"#d8576b\"], [0.6666666666666666, \"#ed7953\"], [0.7777777777777778, \"#fb9f3a\"], [0.8888888888888888, \"#fdca26\"], [1.0, \"#f0f921\"]]}, \"colorway\": [\"#636efa\", \"#EF553B\", \"#00cc96\", \"#ab63fa\", \"#FFA15A\", \"#19d3f3\", \"#FF6692\", \"#B6E880\", \"#FF97FF\", \"#FECB52\"], \"font\": {\"color\": \"#2a3f5f\"}, \"geo\": {\"bgcolor\": \"white\", \"lakecolor\": \"white\", \"landcolor\": \"#E5ECF6\", \"showlakes\": true, \"showland\": true, \"subunitcolor\": \"white\"}, \"hoverlabel\": {\"align\": \"left\"}, \"hovermode\": \"closest\", \"mapbox\": {\"style\": \"light\"}, \"paper_bgcolor\": \"white\", \"plot_bgcolor\": \"#E5ECF6\", \"polar\": {\"angularaxis\": {\"gridcolor\": \"white\", \"linecolor\": \"white\", \"ticks\": \"\"}, \"bgcolor\": \"#E5ECF6\", \"radialaxis\": {\"gridcolor\": \"white\", \"linecolor\": \"white\", \"ticks\": \"\"}}, \"scene\": {\"xaxis\": {\"backgroundcolor\": \"#E5ECF6\", \"gridcolor\": \"white\", \"gridwidth\": 2, \"linecolor\": \"white\", \"showbackground\": true, \"ticks\": \"\", \"zerolinecolor\": \"white\"}, \"yaxis\": {\"backgroundcolor\": \"#E5ECF6\", \"gridcolor\": \"white\", \"gridwidth\": 2, \"linecolor\": \"white\", \"showbackground\": true, \"ticks\": \"\", \"zerolinecolor\": \"white\"}, \"zaxis\": {\"backgroundcolor\": \"#E5ECF6\", \"gridcolor\": \"white\", \"gridwidth\": 2, \"linecolor\": \"white\", \"showbackground\": true, \"ticks\": \"\", \"zerolinecolor\": \"white\"}}, \"shapedefaults\": {\"line\": {\"color\": \"#2a3f5f\"}}, \"ternary\": {\"aaxis\": {\"gridcolor\": \"white\", \"linecolor\": \"white\", \"ticks\": \"\"}, \"baxis\": {\"gridcolor\": \"white\", \"linecolor\": \"white\", \"ticks\": \"\"}, \"bgcolor\": \"#E5ECF6\", \"caxis\": {\"gridcolor\": \"white\", \"linecolor\": \"white\", \"ticks\": \"\"}}, \"title\": {\"x\": 0.05}, \"xaxis\": {\"automargin\": true, \"gridcolor\": \"white\", \"linecolor\": \"white\", \"ticks\": \"\", \"title\": {\"standoff\": 15}, \"zerolinecolor\": \"white\", \"zerolinewidth\": 2}, \"yaxis\": {\"automargin\": true, \"gridcolor\": \"white\", \"linecolor\": \"white\", \"ticks\": \"\", \"title\": {\"standoff\": 15}, \"zerolinecolor\": \"white\", \"zerolinewidth\": 2}}}, \"title\": {\"text\": \"Top20 Unigram Distribution\"}, \"xaxis\": {\"anchor\": \"y\", \"domain\": [0.0, 1.0], \"title\": {\"text\": \"Unigram\"}}, \"yaxis\": {\"anchor\": \"x\", \"domain\": [0.0, 1.0], \"title\": {\"text\": \"Count\"}}},\n",
              "                        {\"responsive\": true}\n",
              "                    ).then(function(){\n",
              "                            \n",
              "var gd = document.getElementById('7ce2fae6-89c3-428b-b18f-1a2769d55117');\n",
              "var x = new MutationObserver(function (mutations, observer) {{\n",
              "        var display = window.getComputedStyle(gd).display;\n",
              "        if (!display || display === 'none') {{\n",
              "            console.log([gd, 'removed!']);\n",
              "            Plotly.purge(gd);\n",
              "            observer.disconnect();\n",
              "        }}\n",
              "}});\n",
              "\n",
              "// Listen for the removal of the full notebook cells\n",
              "var notebookContainer = gd.closest('#notebook-container');\n",
              "if (notebookContainer) {{\n",
              "    x.observe(notebookContainer, {childList: true});\n",
              "}}\n",
              "\n",
              "// Listen for the clearing of the current output cell\n",
              "var outputEl = gd.closest('.output');\n",
              "if (outputEl) {{\n",
              "    x.observe(outputEl, {childList: true});\n",
              "}}\n",
              "\n",
              "                        })\n",
              "                };\n",
              "                \n",
              "            </script>\n",
              "        </div>\n",
              "</body>\n",
              "</html>"
            ]
          },
          "metadata": {
            "tags": []
          }
        }
      ]
    },
    {
      "cell_type": "markdown",
      "metadata": {
        "id": "lYpFs1WX0uxK"
      },
      "source": [
        "### Top20 Bigram Distribution"
      ]
    },
    {
      "cell_type": "code",
      "metadata": {
        "id": "Iwc1Zu77s-kE"
      },
      "source": [
        "def get_top_n_words(x,n):\n",
        "    vec = CountVectorizer(ngram_range=(2,2)).fit(x)\n",
        "    bow = vec.transform(x)\n",
        "    sum_words = bow.sum(axis=0)\n",
        "    words_freq = [(words, sum_words[0, idx]) for words, idx in vec.vocabulary_.items()]\n",
        "    words_freq = sorted(words_freq, key=lambda x:x[1], reverse=True ) # here x is word frequency\n",
        "    return words_freq[:n]"
      ],
      "execution_count": null,
      "outputs": []
    },
    {
      "cell_type": "code",
      "metadata": {
        "colab": {
          "base_uri": "https://localhost:8080/"
        },
        "id": "-cIncLfJtN6Y",
        "outputId": "dbb6901a-7cc2-4aab-85b3-42de823f5c51"
      },
      "source": [
        "words = get_top_n_words(df['Text'],20)\n",
        "words"
      ],
      "execution_count": null,
      "outputs": [
        {
          "output_type": "execute_result",
          "data": {
            "text/plain": [
              "[('of the', 28),\n",
              " ('it is', 19),\n",
              " ('is the', 15),\n",
              " ('there is', 13),\n",
              " ('in the', 13),\n",
              " ('to the', 13),\n",
              " ('the world', 11),\n",
              " ('the mind', 11),\n",
              " ('on the', 11),\n",
              " ('can be', 10),\n",
              " ('will be', 10),\n",
              " ('all the', 9),\n",
              " ('the soul', 9),\n",
              " ('we are', 8),\n",
              " ('for the', 8),\n",
              " ('to be', 8),\n",
              " ('as the', 7),\n",
              " ('will not', 7),\n",
              " ('so the', 7),\n",
              " ('and the', 7)]"
            ]
          },
          "metadata": {
            "tags": []
          },
          "execution_count": 81
        }
      ]
    },
    {
      "cell_type": "code",
      "metadata": {
        "colab": {
          "base_uri": "https://localhost:8080/",
          "height": 669
        },
        "id": "O1bL4tzxtVgz",
        "outputId": "25794fd1-fae0-47db-a805-c6cb31a83f21"
      },
      "source": [
        "df2 = pd.DataFrame(words, columns=['Bigram','Frequency'])\n",
        "df2"
      ],
      "execution_count": null,
      "outputs": [
        {
          "output_type": "execute_result",
          "data": {
            "text/html": [
              "<div>\n",
              "<style scoped>\n",
              "    .dataframe tbody tr th:only-of-type {\n",
              "        vertical-align: middle;\n",
              "    }\n",
              "\n",
              "    .dataframe tbody tr th {\n",
              "        vertical-align: top;\n",
              "    }\n",
              "\n",
              "    .dataframe thead th {\n",
              "        text-align: right;\n",
              "    }\n",
              "</style>\n",
              "<table border=\"1\" class=\"dataframe\">\n",
              "  <thead>\n",
              "    <tr style=\"text-align: right;\">\n",
              "      <th></th>\n",
              "      <th>Bigram</th>\n",
              "      <th>Frequency</th>\n",
              "    </tr>\n",
              "  </thead>\n",
              "  <tbody>\n",
              "    <tr>\n",
              "      <th>0</th>\n",
              "      <td>of the</td>\n",
              "      <td>28</td>\n",
              "    </tr>\n",
              "    <tr>\n",
              "      <th>1</th>\n",
              "      <td>it is</td>\n",
              "      <td>19</td>\n",
              "    </tr>\n",
              "    <tr>\n",
              "      <th>2</th>\n",
              "      <td>is the</td>\n",
              "      <td>15</td>\n",
              "    </tr>\n",
              "    <tr>\n",
              "      <th>3</th>\n",
              "      <td>there is</td>\n",
              "      <td>13</td>\n",
              "    </tr>\n",
              "    <tr>\n",
              "      <th>4</th>\n",
              "      <td>in the</td>\n",
              "      <td>13</td>\n",
              "    </tr>\n",
              "    <tr>\n",
              "      <th>5</th>\n",
              "      <td>to the</td>\n",
              "      <td>13</td>\n",
              "    </tr>\n",
              "    <tr>\n",
              "      <th>6</th>\n",
              "      <td>the world</td>\n",
              "      <td>11</td>\n",
              "    </tr>\n",
              "    <tr>\n",
              "      <th>7</th>\n",
              "      <td>the mind</td>\n",
              "      <td>11</td>\n",
              "    </tr>\n",
              "    <tr>\n",
              "      <th>8</th>\n",
              "      <td>on the</td>\n",
              "      <td>11</td>\n",
              "    </tr>\n",
              "    <tr>\n",
              "      <th>9</th>\n",
              "      <td>can be</td>\n",
              "      <td>10</td>\n",
              "    </tr>\n",
              "    <tr>\n",
              "      <th>10</th>\n",
              "      <td>will be</td>\n",
              "      <td>10</td>\n",
              "    </tr>\n",
              "    <tr>\n",
              "      <th>11</th>\n",
              "      <td>all the</td>\n",
              "      <td>9</td>\n",
              "    </tr>\n",
              "    <tr>\n",
              "      <th>12</th>\n",
              "      <td>the soul</td>\n",
              "      <td>9</td>\n",
              "    </tr>\n",
              "    <tr>\n",
              "      <th>13</th>\n",
              "      <td>we are</td>\n",
              "      <td>8</td>\n",
              "    </tr>\n",
              "    <tr>\n",
              "      <th>14</th>\n",
              "      <td>for the</td>\n",
              "      <td>8</td>\n",
              "    </tr>\n",
              "    <tr>\n",
              "      <th>15</th>\n",
              "      <td>to be</td>\n",
              "      <td>8</td>\n",
              "    </tr>\n",
              "    <tr>\n",
              "      <th>16</th>\n",
              "      <td>as the</td>\n",
              "      <td>7</td>\n",
              "    </tr>\n",
              "    <tr>\n",
              "      <th>17</th>\n",
              "      <td>will not</td>\n",
              "      <td>7</td>\n",
              "    </tr>\n",
              "    <tr>\n",
              "      <th>18</th>\n",
              "      <td>so the</td>\n",
              "      <td>7</td>\n",
              "    </tr>\n",
              "    <tr>\n",
              "      <th>19</th>\n",
              "      <td>and the</td>\n",
              "      <td>7</td>\n",
              "    </tr>\n",
              "  </tbody>\n",
              "</table>\n",
              "</div>"
            ],
            "text/plain": [
              "       Bigram  Frequency\n",
              "0      of the         28\n",
              "1       it is         19\n",
              "2      is the         15\n",
              "3    there is         13\n",
              "4      in the         13\n",
              "5      to the         13\n",
              "6   the world         11\n",
              "7    the mind         11\n",
              "8      on the         11\n",
              "9      can be         10\n",
              "10    will be         10\n",
              "11    all the          9\n",
              "12   the soul          9\n",
              "13     we are          8\n",
              "14    for the          8\n",
              "15      to be          8\n",
              "16     as the          7\n",
              "17   will not          7\n",
              "18     so the          7\n",
              "19    and the          7"
            ]
          },
          "metadata": {
            "tags": []
          },
          "execution_count": 82
        }
      ]
    },
    {
      "cell_type": "code",
      "metadata": {
        "colab": {
          "base_uri": "https://localhost:8080/",
          "height": 542
        },
        "id": "HD1q3xfDtchY",
        "outputId": "0836bd4f-1e75-44fc-a46f-2eef7bd3c202"
      },
      "source": [
        "fig = px.bar(\n",
        "             x=df2['Bigram'],\n",
        "        \n",
        "            y=df2['Frequency'])\n",
        "\n",
        "fig.update_layout(xaxis_title_text='Bigram', yaxis_title_text='Count', title_text='Top20 Bigram Distribution')\n",
        "fig.show()"
      ],
      "execution_count": null,
      "outputs": [
        {
          "output_type": "display_data",
          "data": {
            "text/html": [
              "<html>\n",
              "<head><meta charset=\"utf-8\" /></head>\n",
              "<body>\n",
              "    <div>\n",
              "            <script src=\"https://cdnjs.cloudflare.com/ajax/libs/mathjax/2.7.5/MathJax.js?config=TeX-AMS-MML_SVG\"></script><script type=\"text/javascript\">if (window.MathJax) {MathJax.Hub.Config({SVG: {font: \"STIX-Web\"}});}</script>\n",
              "                <script type=\"text/javascript\">window.PlotlyConfig = {MathJaxConfig: 'local'};</script>\n",
              "        <script src=\"https://cdn.plot.ly/plotly-latest.min.js\"></script>    \n",
              "            <div id=\"eaf6d9e1-41a7-4f45-9e0d-8b82ca0fc1db\" class=\"plotly-graph-div\" style=\"height:525px; width:100%;\"></div>\n",
              "            <script type=\"text/javascript\">\n",
              "                \n",
              "                    window.PLOTLYENV=window.PLOTLYENV || {};\n",
              "                    \n",
              "                if (document.getElementById(\"eaf6d9e1-41a7-4f45-9e0d-8b82ca0fc1db\")) {\n",
              "                    Plotly.newPlot(\n",
              "                        'eaf6d9e1-41a7-4f45-9e0d-8b82ca0fc1db',\n",
              "                        [{\"alignmentgroup\": \"True\", \"hoverlabel\": {\"namelength\": 0}, \"hovertemplate\": \"x=%{x}<br>y=%{y}\", \"legendgroup\": \"\", \"marker\": {\"color\": \"#636efa\"}, \"name\": \"\", \"offsetgroup\": \"\", \"orientation\": \"v\", \"showlegend\": false, \"textposition\": \"auto\", \"type\": \"bar\", \"x\": [\"of the\", \"it is\", \"is the\", \"there is\", \"in the\", \"to the\", \"the world\", \"the mind\", \"on the\", \"can be\", \"will be\", \"all the\", \"the soul\", \"we are\", \"for the\", \"to be\", \"as the\", \"will not\", \"so the\", \"and the\"], \"xaxis\": \"x\", \"y\": [28, 19, 15, 13, 13, 13, 11, 11, 11, 10, 10, 9, 9, 8, 8, 8, 7, 7, 7, 7], \"yaxis\": \"y\"}],\n",
              "                        {\"barmode\": \"relative\", \"legend\": {\"tracegroupgap\": 0}, \"margin\": {\"t\": 60}, \"template\": {\"data\": {\"bar\": [{\"error_x\": {\"color\": \"#2a3f5f\"}, \"error_y\": {\"color\": \"#2a3f5f\"}, \"marker\": {\"line\": {\"color\": \"#E5ECF6\", \"width\": 0.5}}, \"type\": \"bar\"}], \"barpolar\": [{\"marker\": {\"line\": {\"color\": \"#E5ECF6\", \"width\": 0.5}}, \"type\": \"barpolar\"}], \"carpet\": [{\"aaxis\": {\"endlinecolor\": \"#2a3f5f\", \"gridcolor\": \"white\", \"linecolor\": \"white\", \"minorgridcolor\": \"white\", \"startlinecolor\": \"#2a3f5f\"}, \"baxis\": {\"endlinecolor\": \"#2a3f5f\", \"gridcolor\": \"white\", \"linecolor\": \"white\", \"minorgridcolor\": \"white\", \"startlinecolor\": \"#2a3f5f\"}, \"type\": \"carpet\"}], \"choropleth\": [{\"colorbar\": {\"outlinewidth\": 0, \"ticks\": \"\"}, \"type\": \"choropleth\"}], \"contour\": [{\"colorbar\": {\"outlinewidth\": 0, \"ticks\": \"\"}, \"colorscale\": [[0.0, \"#0d0887\"], [0.1111111111111111, \"#46039f\"], [0.2222222222222222, \"#7201a8\"], [0.3333333333333333, \"#9c179e\"], [0.4444444444444444, \"#bd3786\"], [0.5555555555555556, \"#d8576b\"], [0.6666666666666666, \"#ed7953\"], [0.7777777777777778, \"#fb9f3a\"], [0.8888888888888888, \"#fdca26\"], [1.0, \"#f0f921\"]], \"type\": \"contour\"}], \"contourcarpet\": [{\"colorbar\": {\"outlinewidth\": 0, \"ticks\": \"\"}, \"type\": \"contourcarpet\"}], \"heatmap\": [{\"colorbar\": {\"outlinewidth\": 0, \"ticks\": \"\"}, \"colorscale\": [[0.0, \"#0d0887\"], [0.1111111111111111, \"#46039f\"], [0.2222222222222222, \"#7201a8\"], [0.3333333333333333, \"#9c179e\"], [0.4444444444444444, \"#bd3786\"], [0.5555555555555556, \"#d8576b\"], [0.6666666666666666, \"#ed7953\"], [0.7777777777777778, \"#fb9f3a\"], [0.8888888888888888, \"#fdca26\"], [1.0, \"#f0f921\"]], \"type\": \"heatmap\"}], \"heatmapgl\": [{\"colorbar\": {\"outlinewidth\": 0, \"ticks\": \"\"}, \"colorscale\": [[0.0, \"#0d0887\"], [0.1111111111111111, \"#46039f\"], [0.2222222222222222, \"#7201a8\"], [0.3333333333333333, \"#9c179e\"], [0.4444444444444444, \"#bd3786\"], [0.5555555555555556, \"#d8576b\"], [0.6666666666666666, \"#ed7953\"], [0.7777777777777778, \"#fb9f3a\"], [0.8888888888888888, \"#fdca26\"], [1.0, \"#f0f921\"]], \"type\": \"heatmapgl\"}], \"histogram\": [{\"marker\": {\"colorbar\": {\"outlinewidth\": 0, \"ticks\": \"\"}}, \"type\": \"histogram\"}], \"histogram2d\": [{\"colorbar\": {\"outlinewidth\": 0, \"ticks\": \"\"}, \"colorscale\": [[0.0, \"#0d0887\"], [0.1111111111111111, \"#46039f\"], [0.2222222222222222, \"#7201a8\"], [0.3333333333333333, \"#9c179e\"], [0.4444444444444444, \"#bd3786\"], [0.5555555555555556, \"#d8576b\"], [0.6666666666666666, \"#ed7953\"], [0.7777777777777778, \"#fb9f3a\"], [0.8888888888888888, \"#fdca26\"], [1.0, \"#f0f921\"]], \"type\": \"histogram2d\"}], \"histogram2dcontour\": [{\"colorbar\": {\"outlinewidth\": 0, \"ticks\": \"\"}, \"colorscale\": [[0.0, \"#0d0887\"], [0.1111111111111111, \"#46039f\"], [0.2222222222222222, \"#7201a8\"], [0.3333333333333333, \"#9c179e\"], [0.4444444444444444, \"#bd3786\"], [0.5555555555555556, \"#d8576b\"], [0.6666666666666666, \"#ed7953\"], [0.7777777777777778, \"#fb9f3a\"], [0.8888888888888888, \"#fdca26\"], [1.0, \"#f0f921\"]], \"type\": \"histogram2dcontour\"}], \"mesh3d\": [{\"colorbar\": {\"outlinewidth\": 0, \"ticks\": \"\"}, \"type\": \"mesh3d\"}], \"parcoords\": [{\"line\": {\"colorbar\": {\"outlinewidth\": 0, \"ticks\": \"\"}}, \"type\": \"parcoords\"}], \"pie\": [{\"automargin\": true, \"type\": \"pie\"}], \"scatter\": [{\"marker\": {\"colorbar\": {\"outlinewidth\": 0, \"ticks\": \"\"}}, \"type\": \"scatter\"}], \"scatter3d\": [{\"line\": {\"colorbar\": {\"outlinewidth\": 0, \"ticks\": \"\"}}, \"marker\": {\"colorbar\": {\"outlinewidth\": 0, \"ticks\": \"\"}}, \"type\": \"scatter3d\"}], \"scattercarpet\": [{\"marker\": {\"colorbar\": {\"outlinewidth\": 0, \"ticks\": \"\"}}, \"type\": \"scattercarpet\"}], \"scattergeo\": [{\"marker\": {\"colorbar\": {\"outlinewidth\": 0, \"ticks\": \"\"}}, \"type\": \"scattergeo\"}], \"scattergl\": [{\"marker\": {\"colorbar\": {\"outlinewidth\": 0, \"ticks\": \"\"}}, \"type\": \"scattergl\"}], \"scattermapbox\": [{\"marker\": {\"colorbar\": {\"outlinewidth\": 0, \"ticks\": \"\"}}, \"type\": \"scattermapbox\"}], \"scatterpolar\": [{\"marker\": {\"colorbar\": {\"outlinewidth\": 0, \"ticks\": \"\"}}, \"type\": \"scatterpolar\"}], \"scatterpolargl\": [{\"marker\": {\"colorbar\": {\"outlinewidth\": 0, \"ticks\": \"\"}}, \"type\": \"scatterpolargl\"}], \"scatterternary\": [{\"marker\": {\"colorbar\": {\"outlinewidth\": 0, \"ticks\": \"\"}}, \"type\": \"scatterternary\"}], \"surface\": [{\"colorbar\": {\"outlinewidth\": 0, \"ticks\": \"\"}, \"colorscale\": [[0.0, \"#0d0887\"], [0.1111111111111111, \"#46039f\"], [0.2222222222222222, \"#7201a8\"], [0.3333333333333333, \"#9c179e\"], [0.4444444444444444, \"#bd3786\"], [0.5555555555555556, \"#d8576b\"], [0.6666666666666666, \"#ed7953\"], [0.7777777777777778, \"#fb9f3a\"], [0.8888888888888888, \"#fdca26\"], [1.0, \"#f0f921\"]], \"type\": \"surface\"}], \"table\": [{\"cells\": {\"fill\": {\"color\": \"#EBF0F8\"}, \"line\": {\"color\": \"white\"}}, \"header\": {\"fill\": {\"color\": \"#C8D4E3\"}, \"line\": {\"color\": \"white\"}}, \"type\": \"table\"}]}, \"layout\": {\"annotationdefaults\": {\"arrowcolor\": \"#2a3f5f\", \"arrowhead\": 0, \"arrowwidth\": 1}, \"coloraxis\": {\"colorbar\": {\"outlinewidth\": 0, \"ticks\": \"\"}}, \"colorscale\": {\"diverging\": [[0, \"#8e0152\"], [0.1, \"#c51b7d\"], [0.2, \"#de77ae\"], [0.3, \"#f1b6da\"], [0.4, \"#fde0ef\"], [0.5, \"#f7f7f7\"], [0.6, \"#e6f5d0\"], [0.7, \"#b8e186\"], [0.8, \"#7fbc41\"], [0.9, \"#4d9221\"], [1, \"#276419\"]], \"sequential\": [[0.0, \"#0d0887\"], [0.1111111111111111, \"#46039f\"], [0.2222222222222222, \"#7201a8\"], [0.3333333333333333, \"#9c179e\"], [0.4444444444444444, \"#bd3786\"], [0.5555555555555556, \"#d8576b\"], [0.6666666666666666, \"#ed7953\"], [0.7777777777777778, \"#fb9f3a\"], [0.8888888888888888, \"#fdca26\"], [1.0, \"#f0f921\"]], \"sequentialminus\": [[0.0, \"#0d0887\"], [0.1111111111111111, \"#46039f\"], [0.2222222222222222, \"#7201a8\"], [0.3333333333333333, \"#9c179e\"], [0.4444444444444444, \"#bd3786\"], [0.5555555555555556, \"#d8576b\"], [0.6666666666666666, \"#ed7953\"], [0.7777777777777778, \"#fb9f3a\"], [0.8888888888888888, \"#fdca26\"], [1.0, \"#f0f921\"]]}, \"colorway\": [\"#636efa\", \"#EF553B\", \"#00cc96\", \"#ab63fa\", \"#FFA15A\", \"#19d3f3\", \"#FF6692\", \"#B6E880\", \"#FF97FF\", \"#FECB52\"], \"font\": {\"color\": \"#2a3f5f\"}, \"geo\": {\"bgcolor\": \"white\", \"lakecolor\": \"white\", \"landcolor\": \"#E5ECF6\", \"showlakes\": true, \"showland\": true, \"subunitcolor\": \"white\"}, \"hoverlabel\": {\"align\": \"left\"}, \"hovermode\": \"closest\", \"mapbox\": {\"style\": \"light\"}, \"paper_bgcolor\": \"white\", \"plot_bgcolor\": \"#E5ECF6\", \"polar\": {\"angularaxis\": {\"gridcolor\": \"white\", \"linecolor\": \"white\", \"ticks\": \"\"}, \"bgcolor\": \"#E5ECF6\", \"radialaxis\": {\"gridcolor\": \"white\", \"linecolor\": \"white\", \"ticks\": \"\"}}, \"scene\": {\"xaxis\": {\"backgroundcolor\": \"#E5ECF6\", \"gridcolor\": \"white\", \"gridwidth\": 2, \"linecolor\": \"white\", \"showbackground\": true, \"ticks\": \"\", \"zerolinecolor\": \"white\"}, \"yaxis\": {\"backgroundcolor\": \"#E5ECF6\", \"gridcolor\": \"white\", \"gridwidth\": 2, \"linecolor\": \"white\", \"showbackground\": true, \"ticks\": \"\", \"zerolinecolor\": \"white\"}, \"zaxis\": {\"backgroundcolor\": \"#E5ECF6\", \"gridcolor\": \"white\", \"gridwidth\": 2, \"linecolor\": \"white\", \"showbackground\": true, \"ticks\": \"\", \"zerolinecolor\": \"white\"}}, \"shapedefaults\": {\"line\": {\"color\": \"#2a3f5f\"}}, \"ternary\": {\"aaxis\": {\"gridcolor\": \"white\", \"linecolor\": \"white\", \"ticks\": \"\"}, \"baxis\": {\"gridcolor\": \"white\", \"linecolor\": \"white\", \"ticks\": \"\"}, \"bgcolor\": \"#E5ECF6\", \"caxis\": {\"gridcolor\": \"white\", \"linecolor\": \"white\", \"ticks\": \"\"}}, \"title\": {\"x\": 0.05}, \"xaxis\": {\"automargin\": true, \"gridcolor\": \"white\", \"linecolor\": \"white\", \"ticks\": \"\", \"title\": {\"standoff\": 15}, \"zerolinecolor\": \"white\", \"zerolinewidth\": 2}, \"yaxis\": {\"automargin\": true, \"gridcolor\": \"white\", \"linecolor\": \"white\", \"ticks\": \"\", \"title\": {\"standoff\": 15}, \"zerolinecolor\": \"white\", \"zerolinewidth\": 2}}}, \"title\": {\"text\": \"Top20 Bigram Distribution\"}, \"xaxis\": {\"anchor\": \"y\", \"domain\": [0.0, 1.0], \"title\": {\"text\": \"Bigram\"}}, \"yaxis\": {\"anchor\": \"x\", \"domain\": [0.0, 1.0], \"title\": {\"text\": \"Count\"}}},\n",
              "                        {\"responsive\": true}\n",
              "                    ).then(function(){\n",
              "                            \n",
              "var gd = document.getElementById('eaf6d9e1-41a7-4f45-9e0d-8b82ca0fc1db');\n",
              "var x = new MutationObserver(function (mutations, observer) {{\n",
              "        var display = window.getComputedStyle(gd).display;\n",
              "        if (!display || display === 'none') {{\n",
              "            console.log([gd, 'removed!']);\n",
              "            Plotly.purge(gd);\n",
              "            observer.disconnect();\n",
              "        }}\n",
              "}});\n",
              "\n",
              "// Listen for the removal of the full notebook cells\n",
              "var notebookContainer = gd.closest('#notebook-container');\n",
              "if (notebookContainer) {{\n",
              "    x.observe(notebookContainer, {childList: true});\n",
              "}}\n",
              "\n",
              "// Listen for the clearing of the current output cell\n",
              "var outputEl = gd.closest('.output');\n",
              "if (outputEl) {{\n",
              "    x.observe(outputEl, {childList: true});\n",
              "}}\n",
              "\n",
              "                        })\n",
              "                };\n",
              "                \n",
              "            </script>\n",
              "        </div>\n",
              "</body>\n",
              "</html>"
            ]
          },
          "metadata": {
            "tags": []
          }
        }
      ]
    },
    {
      "cell_type": "markdown",
      "metadata": {
        "id": "l3_hugIl0qYL"
      },
      "source": [
        "### Top20 Trigram Distribution"
      ]
    },
    {
      "cell_type": "code",
      "metadata": {
        "id": "A5udfsv8tiF_"
      },
      "source": [
        "def get_top_n_words(x,n):\n",
        "    vec = CountVectorizer(ngram_range=(3,3)).fit(x)\n",
        "    bow = vec.transform(x)\n",
        "    sum_words = bow.sum(axis=0)\n",
        "    words_freq = [(words, sum_words[0, idx]) for words, idx in vec.vocabulary_.items()]\n",
        "    words_freq = sorted(words_freq, key=lambda x:x[1], reverse=True ) # here x is word frequency\n",
        "    return words_freq[:n]"
      ],
      "execution_count": null,
      "outputs": []
    },
    {
      "cell_type": "code",
      "metadata": {
        "colab": {
          "base_uri": "https://localhost:8080/"
        },
        "id": "tq7384h9tlfT",
        "outputId": "64efb5b4-3959-4b1d-e278-55a356d3bcaa"
      },
      "source": [
        "words = get_top_n_words(df['Text'],20)\n",
        "words"
      ],
      "execution_count": null,
      "outputs": [
        {
          "output_type": "execute_result",
          "data": {
            "text/plain": [
              "[('the sum total', 6),\n",
              " ('sum total of', 6),\n",
              " ('of the world', 4),\n",
              " ('work incessantly but', 4),\n",
              " ('impression on the', 4),\n",
              " ('total of these', 4),\n",
              " ('of these impressions', 4),\n",
              " ('on the mind', 4),\n",
              " ('him to do', 4),\n",
              " ('there is no', 4),\n",
              " ('wants can be', 3),\n",
              " ('can be removed', 3),\n",
              " ('be removed for', 3),\n",
              " ('help that can', 3),\n",
              " ('that can be', 3),\n",
              " ('can be given', 3),\n",
              " ('of all the', 3),\n",
              " ('good and evil', 3),\n",
              " ('of the soul', 3),\n",
              " ('the work we', 3)]"
            ]
          },
          "metadata": {
            "tags": []
          },
          "execution_count": 86
        }
      ]
    },
    {
      "cell_type": "code",
      "metadata": {
        "colab": {
          "base_uri": "https://localhost:8080/",
          "height": 669
        },
        "id": "i3g8sj7zts1F",
        "outputId": "4a5ea902-30a2-4db6-93e6-925384aea92a"
      },
      "source": [
        "df2 = pd.DataFrame(words, columns=['Trigram','Frequency'])\n",
        "df2"
      ],
      "execution_count": null,
      "outputs": [
        {
          "output_type": "execute_result",
          "data": {
            "text/html": [
              "<div>\n",
              "<style scoped>\n",
              "    .dataframe tbody tr th:only-of-type {\n",
              "        vertical-align: middle;\n",
              "    }\n",
              "\n",
              "    .dataframe tbody tr th {\n",
              "        vertical-align: top;\n",
              "    }\n",
              "\n",
              "    .dataframe thead th {\n",
              "        text-align: right;\n",
              "    }\n",
              "</style>\n",
              "<table border=\"1\" class=\"dataframe\">\n",
              "  <thead>\n",
              "    <tr style=\"text-align: right;\">\n",
              "      <th></th>\n",
              "      <th>Trigram</th>\n",
              "      <th>Frequency</th>\n",
              "    </tr>\n",
              "  </thead>\n",
              "  <tbody>\n",
              "    <tr>\n",
              "      <th>0</th>\n",
              "      <td>the sum total</td>\n",
              "      <td>6</td>\n",
              "    </tr>\n",
              "    <tr>\n",
              "      <th>1</th>\n",
              "      <td>sum total of</td>\n",
              "      <td>6</td>\n",
              "    </tr>\n",
              "    <tr>\n",
              "      <th>2</th>\n",
              "      <td>of the world</td>\n",
              "      <td>4</td>\n",
              "    </tr>\n",
              "    <tr>\n",
              "      <th>3</th>\n",
              "      <td>work incessantly but</td>\n",
              "      <td>4</td>\n",
              "    </tr>\n",
              "    <tr>\n",
              "      <th>4</th>\n",
              "      <td>impression on the</td>\n",
              "      <td>4</td>\n",
              "    </tr>\n",
              "    <tr>\n",
              "      <th>5</th>\n",
              "      <td>total of these</td>\n",
              "      <td>4</td>\n",
              "    </tr>\n",
              "    <tr>\n",
              "      <th>6</th>\n",
              "      <td>of these impressions</td>\n",
              "      <td>4</td>\n",
              "    </tr>\n",
              "    <tr>\n",
              "      <th>7</th>\n",
              "      <td>on the mind</td>\n",
              "      <td>4</td>\n",
              "    </tr>\n",
              "    <tr>\n",
              "      <th>8</th>\n",
              "      <td>him to do</td>\n",
              "      <td>4</td>\n",
              "    </tr>\n",
              "    <tr>\n",
              "      <th>9</th>\n",
              "      <td>there is no</td>\n",
              "      <td>4</td>\n",
              "    </tr>\n",
              "    <tr>\n",
              "      <th>10</th>\n",
              "      <td>wants can be</td>\n",
              "      <td>3</td>\n",
              "    </tr>\n",
              "    <tr>\n",
              "      <th>11</th>\n",
              "      <td>can be removed</td>\n",
              "      <td>3</td>\n",
              "    </tr>\n",
              "    <tr>\n",
              "      <th>12</th>\n",
              "      <td>be removed for</td>\n",
              "      <td>3</td>\n",
              "    </tr>\n",
              "    <tr>\n",
              "      <th>13</th>\n",
              "      <td>help that can</td>\n",
              "      <td>3</td>\n",
              "    </tr>\n",
              "    <tr>\n",
              "      <th>14</th>\n",
              "      <td>that can be</td>\n",
              "      <td>3</td>\n",
              "    </tr>\n",
              "    <tr>\n",
              "      <th>15</th>\n",
              "      <td>can be given</td>\n",
              "      <td>3</td>\n",
              "    </tr>\n",
              "    <tr>\n",
              "      <th>16</th>\n",
              "      <td>of all the</td>\n",
              "      <td>3</td>\n",
              "    </tr>\n",
              "    <tr>\n",
              "      <th>17</th>\n",
              "      <td>good and evil</td>\n",
              "      <td>3</td>\n",
              "    </tr>\n",
              "    <tr>\n",
              "      <th>18</th>\n",
              "      <td>of the soul</td>\n",
              "      <td>3</td>\n",
              "    </tr>\n",
              "    <tr>\n",
              "      <th>19</th>\n",
              "      <td>the work we</td>\n",
              "      <td>3</td>\n",
              "    </tr>\n",
              "  </tbody>\n",
              "</table>\n",
              "</div>"
            ],
            "text/plain": [
              "                 Trigram  Frequency\n",
              "0          the sum total          6\n",
              "1           sum total of          6\n",
              "2           of the world          4\n",
              "3   work incessantly but          4\n",
              "4      impression on the          4\n",
              "5         total of these          4\n",
              "6   of these impressions          4\n",
              "7            on the mind          4\n",
              "8              him to do          4\n",
              "9            there is no          4\n",
              "10          wants can be          3\n",
              "11        can be removed          3\n",
              "12        be removed for          3\n",
              "13         help that can          3\n",
              "14           that can be          3\n",
              "15          can be given          3\n",
              "16            of all the          3\n",
              "17         good and evil          3\n",
              "18           of the soul          3\n",
              "19           the work we          3"
            ]
          },
          "metadata": {
            "tags": []
          },
          "execution_count": 88
        }
      ]
    },
    {
      "cell_type": "code",
      "metadata": {
        "colab": {
          "base_uri": "https://localhost:8080/",
          "height": 542
        },
        "id": "10mW3iOttxtp",
        "outputId": "dfdd22ec-84ee-43fa-d3ea-c811ad724186"
      },
      "source": [
        "fig = px.bar(\n",
        "             x=df2['Trigram'],\n",
        "        \n",
        "            y=df2['Frequency'])\n",
        "\n",
        "fig.update_layout(xaxis_title_text='Trigram', yaxis_title_text='Count', title_text='Top20 Trigram Distribution')\n",
        "fig.show()"
      ],
      "execution_count": null,
      "outputs": [
        {
          "output_type": "display_data",
          "data": {
            "text/html": [
              "<html>\n",
              "<head><meta charset=\"utf-8\" /></head>\n",
              "<body>\n",
              "    <div>\n",
              "            <script src=\"https://cdnjs.cloudflare.com/ajax/libs/mathjax/2.7.5/MathJax.js?config=TeX-AMS-MML_SVG\"></script><script type=\"text/javascript\">if (window.MathJax) {MathJax.Hub.Config({SVG: {font: \"STIX-Web\"}});}</script>\n",
              "                <script type=\"text/javascript\">window.PlotlyConfig = {MathJaxConfig: 'local'};</script>\n",
              "        <script src=\"https://cdn.plot.ly/plotly-latest.min.js\"></script>    \n",
              "            <div id=\"1121e3a5-d057-4e96-b43f-5546a6280f96\" class=\"plotly-graph-div\" style=\"height:525px; width:100%;\"></div>\n",
              "            <script type=\"text/javascript\">\n",
              "                \n",
              "                    window.PLOTLYENV=window.PLOTLYENV || {};\n",
              "                    \n",
              "                if (document.getElementById(\"1121e3a5-d057-4e96-b43f-5546a6280f96\")) {\n",
              "                    Plotly.newPlot(\n",
              "                        '1121e3a5-d057-4e96-b43f-5546a6280f96',\n",
              "                        [{\"alignmentgroup\": \"True\", \"hoverlabel\": {\"namelength\": 0}, \"hovertemplate\": \"x=%{x}<br>y=%{y}\", \"legendgroup\": \"\", \"marker\": {\"color\": \"#636efa\"}, \"name\": \"\", \"offsetgroup\": \"\", \"orientation\": \"v\", \"showlegend\": false, \"textposition\": \"auto\", \"type\": \"bar\", \"x\": [\"the sum total\", \"sum total of\", \"of the world\", \"work incessantly but\", \"impression on the\", \"total of these\", \"of these impressions\", \"on the mind\", \"him to do\", \"there is no\", \"wants can be\", \"can be removed\", \"be removed for\", \"help that can\", \"that can be\", \"can be given\", \"of all the\", \"good and evil\", \"of the soul\", \"the work we\"], \"xaxis\": \"x\", \"y\": [6, 6, 4, 4, 4, 4, 4, 4, 4, 4, 3, 3, 3, 3, 3, 3, 3, 3, 3, 3], \"yaxis\": \"y\"}],\n",
              "                        {\"barmode\": \"relative\", \"legend\": {\"tracegroupgap\": 0}, \"margin\": {\"t\": 60}, \"template\": {\"data\": {\"bar\": [{\"error_x\": {\"color\": \"#2a3f5f\"}, \"error_y\": {\"color\": \"#2a3f5f\"}, \"marker\": {\"line\": {\"color\": \"#E5ECF6\", \"width\": 0.5}}, \"type\": \"bar\"}], \"barpolar\": [{\"marker\": {\"line\": {\"color\": \"#E5ECF6\", \"width\": 0.5}}, \"type\": \"barpolar\"}], \"carpet\": [{\"aaxis\": {\"endlinecolor\": \"#2a3f5f\", \"gridcolor\": \"white\", \"linecolor\": \"white\", \"minorgridcolor\": \"white\", \"startlinecolor\": \"#2a3f5f\"}, \"baxis\": {\"endlinecolor\": \"#2a3f5f\", \"gridcolor\": \"white\", \"linecolor\": \"white\", \"minorgridcolor\": \"white\", \"startlinecolor\": \"#2a3f5f\"}, \"type\": \"carpet\"}], \"choropleth\": [{\"colorbar\": {\"outlinewidth\": 0, \"ticks\": \"\"}, \"type\": \"choropleth\"}], \"contour\": [{\"colorbar\": {\"outlinewidth\": 0, \"ticks\": \"\"}, \"colorscale\": [[0.0, \"#0d0887\"], [0.1111111111111111, \"#46039f\"], [0.2222222222222222, \"#7201a8\"], [0.3333333333333333, \"#9c179e\"], [0.4444444444444444, \"#bd3786\"], [0.5555555555555556, \"#d8576b\"], [0.6666666666666666, \"#ed7953\"], [0.7777777777777778, \"#fb9f3a\"], [0.8888888888888888, \"#fdca26\"], [1.0, \"#f0f921\"]], \"type\": \"contour\"}], \"contourcarpet\": [{\"colorbar\": {\"outlinewidth\": 0, \"ticks\": \"\"}, \"type\": \"contourcarpet\"}], \"heatmap\": [{\"colorbar\": {\"outlinewidth\": 0, \"ticks\": \"\"}, \"colorscale\": [[0.0, \"#0d0887\"], [0.1111111111111111, \"#46039f\"], [0.2222222222222222, \"#7201a8\"], [0.3333333333333333, \"#9c179e\"], [0.4444444444444444, \"#bd3786\"], [0.5555555555555556, \"#d8576b\"], [0.6666666666666666, \"#ed7953\"], [0.7777777777777778, \"#fb9f3a\"], [0.8888888888888888, \"#fdca26\"], [1.0, \"#f0f921\"]], \"type\": \"heatmap\"}], \"heatmapgl\": [{\"colorbar\": {\"outlinewidth\": 0, \"ticks\": \"\"}, \"colorscale\": [[0.0, \"#0d0887\"], [0.1111111111111111, \"#46039f\"], [0.2222222222222222, \"#7201a8\"], [0.3333333333333333, \"#9c179e\"], [0.4444444444444444, \"#bd3786\"], [0.5555555555555556, \"#d8576b\"], [0.6666666666666666, \"#ed7953\"], [0.7777777777777778, \"#fb9f3a\"], [0.8888888888888888, \"#fdca26\"], [1.0, \"#f0f921\"]], \"type\": \"heatmapgl\"}], \"histogram\": [{\"marker\": {\"colorbar\": {\"outlinewidth\": 0, \"ticks\": \"\"}}, \"type\": \"histogram\"}], \"histogram2d\": [{\"colorbar\": {\"outlinewidth\": 0, \"ticks\": \"\"}, \"colorscale\": [[0.0, \"#0d0887\"], [0.1111111111111111, \"#46039f\"], [0.2222222222222222, \"#7201a8\"], [0.3333333333333333, \"#9c179e\"], [0.4444444444444444, \"#bd3786\"], [0.5555555555555556, \"#d8576b\"], [0.6666666666666666, \"#ed7953\"], [0.7777777777777778, \"#fb9f3a\"], [0.8888888888888888, \"#fdca26\"], [1.0, \"#f0f921\"]], \"type\": \"histogram2d\"}], \"histogram2dcontour\": [{\"colorbar\": {\"outlinewidth\": 0, \"ticks\": \"\"}, \"colorscale\": [[0.0, \"#0d0887\"], [0.1111111111111111, \"#46039f\"], [0.2222222222222222, \"#7201a8\"], [0.3333333333333333, \"#9c179e\"], [0.4444444444444444, \"#bd3786\"], [0.5555555555555556, \"#d8576b\"], [0.6666666666666666, \"#ed7953\"], [0.7777777777777778, \"#fb9f3a\"], [0.8888888888888888, \"#fdca26\"], [1.0, \"#f0f921\"]], \"type\": \"histogram2dcontour\"}], \"mesh3d\": [{\"colorbar\": {\"outlinewidth\": 0, \"ticks\": \"\"}, \"type\": \"mesh3d\"}], \"parcoords\": [{\"line\": {\"colorbar\": {\"outlinewidth\": 0, \"ticks\": \"\"}}, \"type\": \"parcoords\"}], \"pie\": [{\"automargin\": true, \"type\": \"pie\"}], \"scatter\": [{\"marker\": {\"colorbar\": {\"outlinewidth\": 0, \"ticks\": \"\"}}, \"type\": \"scatter\"}], \"scatter3d\": [{\"line\": {\"colorbar\": {\"outlinewidth\": 0, \"ticks\": \"\"}}, \"marker\": {\"colorbar\": {\"outlinewidth\": 0, \"ticks\": \"\"}}, \"type\": \"scatter3d\"}], \"scattercarpet\": [{\"marker\": {\"colorbar\": {\"outlinewidth\": 0, \"ticks\": \"\"}}, \"type\": \"scattercarpet\"}], \"scattergeo\": [{\"marker\": {\"colorbar\": {\"outlinewidth\": 0, \"ticks\": \"\"}}, \"type\": \"scattergeo\"}], \"scattergl\": [{\"marker\": {\"colorbar\": {\"outlinewidth\": 0, \"ticks\": \"\"}}, \"type\": \"scattergl\"}], \"scattermapbox\": [{\"marker\": {\"colorbar\": {\"outlinewidth\": 0, \"ticks\": \"\"}}, \"type\": \"scattermapbox\"}], \"scatterpolar\": [{\"marker\": {\"colorbar\": {\"outlinewidth\": 0, \"ticks\": \"\"}}, \"type\": \"scatterpolar\"}], \"scatterpolargl\": [{\"marker\": {\"colorbar\": {\"outlinewidth\": 0, \"ticks\": \"\"}}, \"type\": \"scatterpolargl\"}], \"scatterternary\": [{\"marker\": {\"colorbar\": {\"outlinewidth\": 0, \"ticks\": \"\"}}, \"type\": \"scatterternary\"}], \"surface\": [{\"colorbar\": {\"outlinewidth\": 0, \"ticks\": \"\"}, \"colorscale\": [[0.0, \"#0d0887\"], [0.1111111111111111, \"#46039f\"], [0.2222222222222222, \"#7201a8\"], [0.3333333333333333, \"#9c179e\"], [0.4444444444444444, \"#bd3786\"], [0.5555555555555556, \"#d8576b\"], [0.6666666666666666, \"#ed7953\"], [0.7777777777777778, \"#fb9f3a\"], [0.8888888888888888, \"#fdca26\"], [1.0, \"#f0f921\"]], \"type\": \"surface\"}], \"table\": [{\"cells\": {\"fill\": {\"color\": \"#EBF0F8\"}, \"line\": {\"color\": \"white\"}}, \"header\": {\"fill\": {\"color\": \"#C8D4E3\"}, \"line\": {\"color\": \"white\"}}, \"type\": \"table\"}]}, \"layout\": {\"annotationdefaults\": {\"arrowcolor\": \"#2a3f5f\", \"arrowhead\": 0, \"arrowwidth\": 1}, \"coloraxis\": {\"colorbar\": {\"outlinewidth\": 0, \"ticks\": \"\"}}, \"colorscale\": {\"diverging\": [[0, \"#8e0152\"], [0.1, \"#c51b7d\"], [0.2, \"#de77ae\"], [0.3, \"#f1b6da\"], [0.4, \"#fde0ef\"], [0.5, \"#f7f7f7\"], [0.6, \"#e6f5d0\"], [0.7, \"#b8e186\"], [0.8, \"#7fbc41\"], [0.9, \"#4d9221\"], [1, \"#276419\"]], \"sequential\": [[0.0, \"#0d0887\"], [0.1111111111111111, \"#46039f\"], [0.2222222222222222, \"#7201a8\"], [0.3333333333333333, \"#9c179e\"], [0.4444444444444444, \"#bd3786\"], [0.5555555555555556, \"#d8576b\"], [0.6666666666666666, \"#ed7953\"], [0.7777777777777778, \"#fb9f3a\"], [0.8888888888888888, \"#fdca26\"], [1.0, \"#f0f921\"]], \"sequentialminus\": [[0.0, \"#0d0887\"], [0.1111111111111111, \"#46039f\"], [0.2222222222222222, \"#7201a8\"], [0.3333333333333333, \"#9c179e\"], [0.4444444444444444, \"#bd3786\"], [0.5555555555555556, \"#d8576b\"], [0.6666666666666666, \"#ed7953\"], [0.7777777777777778, \"#fb9f3a\"], [0.8888888888888888, \"#fdca26\"], [1.0, \"#f0f921\"]]}, \"colorway\": [\"#636efa\", \"#EF553B\", \"#00cc96\", \"#ab63fa\", \"#FFA15A\", \"#19d3f3\", \"#FF6692\", \"#B6E880\", \"#FF97FF\", \"#FECB52\"], \"font\": {\"color\": \"#2a3f5f\"}, \"geo\": {\"bgcolor\": \"white\", \"lakecolor\": \"white\", \"landcolor\": \"#E5ECF6\", \"showlakes\": true, \"showland\": true, \"subunitcolor\": \"white\"}, \"hoverlabel\": {\"align\": \"left\"}, \"hovermode\": \"closest\", \"mapbox\": {\"style\": \"light\"}, \"paper_bgcolor\": \"white\", \"plot_bgcolor\": \"#E5ECF6\", \"polar\": {\"angularaxis\": {\"gridcolor\": \"white\", \"linecolor\": \"white\", \"ticks\": \"\"}, \"bgcolor\": \"#E5ECF6\", \"radialaxis\": {\"gridcolor\": \"white\", \"linecolor\": \"white\", \"ticks\": \"\"}}, \"scene\": {\"xaxis\": {\"backgroundcolor\": \"#E5ECF6\", \"gridcolor\": \"white\", \"gridwidth\": 2, \"linecolor\": \"white\", \"showbackground\": true, \"ticks\": \"\", \"zerolinecolor\": \"white\"}, \"yaxis\": {\"backgroundcolor\": \"#E5ECF6\", \"gridcolor\": \"white\", \"gridwidth\": 2, \"linecolor\": \"white\", \"showbackground\": true, \"ticks\": \"\", \"zerolinecolor\": \"white\"}, \"zaxis\": {\"backgroundcolor\": \"#E5ECF6\", \"gridcolor\": \"white\", \"gridwidth\": 2, \"linecolor\": \"white\", \"showbackground\": true, \"ticks\": \"\", \"zerolinecolor\": \"white\"}}, \"shapedefaults\": {\"line\": {\"color\": \"#2a3f5f\"}}, \"ternary\": {\"aaxis\": {\"gridcolor\": \"white\", \"linecolor\": \"white\", \"ticks\": \"\"}, \"baxis\": {\"gridcolor\": \"white\", \"linecolor\": \"white\", \"ticks\": \"\"}, \"bgcolor\": \"#E5ECF6\", \"caxis\": {\"gridcolor\": \"white\", \"linecolor\": \"white\", \"ticks\": \"\"}}, \"title\": {\"x\": 0.05}, \"xaxis\": {\"automargin\": true, \"gridcolor\": \"white\", \"linecolor\": \"white\", \"ticks\": \"\", \"title\": {\"standoff\": 15}, \"zerolinecolor\": \"white\", \"zerolinewidth\": 2}, \"yaxis\": {\"automargin\": true, \"gridcolor\": \"white\", \"linecolor\": \"white\", \"ticks\": \"\", \"title\": {\"standoff\": 15}, \"zerolinecolor\": \"white\", \"zerolinewidth\": 2}}}, \"title\": {\"text\": \"Top20 Trigram Distribution\"}, \"xaxis\": {\"anchor\": \"y\", \"domain\": [0.0, 1.0], \"title\": {\"text\": \"Trigram\"}}, \"yaxis\": {\"anchor\": \"x\", \"domain\": [0.0, 1.0], \"title\": {\"text\": \"Count\"}}},\n",
              "                        {\"responsive\": true}\n",
              "                    ).then(function(){\n",
              "                            \n",
              "var gd = document.getElementById('1121e3a5-d057-4e96-b43f-5546a6280f96');\n",
              "var x = new MutationObserver(function (mutations, observer) {{\n",
              "        var display = window.getComputedStyle(gd).display;\n",
              "        if (!display || display === 'none') {{\n",
              "            console.log([gd, 'removed!']);\n",
              "            Plotly.purge(gd);\n",
              "            observer.disconnect();\n",
              "        }}\n",
              "}});\n",
              "\n",
              "// Listen for the removal of the full notebook cells\n",
              "var notebookContainer = gd.closest('#notebook-container');\n",
              "if (notebookContainer) {{\n",
              "    x.observe(notebookContainer, {childList: true});\n",
              "}}\n",
              "\n",
              "// Listen for the clearing of the current output cell\n",
              "var outputEl = gd.closest('.output');\n",
              "if (outputEl) {{\n",
              "    x.observe(outputEl, {childList: true});\n",
              "}}\n",
              "\n",
              "                        })\n",
              "                };\n",
              "                \n",
              "            </script>\n",
              "        </div>\n",
              "</body>\n",
              "</html>"
            ]
          },
          "metadata": {
            "tags": []
          }
        }
      ]
    },
    {
      "cell_type": "markdown",
      "metadata": {
        "id": "Z7E7u8Uqt6qZ"
      },
      "source": [
        "### Unigram, Bi-gram,Tri-gram without Stopwords"
      ]
    },
    {
      "cell_type": "code",
      "metadata": {
        "id": "NpKMmtRYuC2d"
      },
      "source": [
        "def get_top_n_words(x,n):\n",
        "    vec = CountVectorizer(ngram_range=(1,1), stop_words='english').fit(x)\n",
        "    bow = vec.transform(x)\n",
        "    sum_words = bow.sum(axis=0)\n",
        "    words_freq = [(words, sum_words[0, idx]) for words, idx in vec.vocabulary_.items()]\n",
        "    words_freq = sorted(words_freq, key=lambda x:x[1], reverse=True ) # here x is word frequency\n",
        "    return words_freq[:n]"
      ],
      "execution_count": null,
      "outputs": []
    },
    {
      "cell_type": "code",
      "metadata": {
        "colab": {
          "base_uri": "https://localhost:8080/"
        },
        "id": "fVn1u2tQuFG1",
        "outputId": "fc1b72ce-3908-4a10-c0ba-37c00c78f155"
      },
      "source": [
        "words = get_top_n_words(df['Text'],20)\n",
        "words"
      ],
      "execution_count": null,
      "outputs": [
        {
          "output_type": "execute_result",
          "data": {
            "text/plain": [
              "[('work', 51),\n",
              " ('good', 27),\n",
              " ('man', 25),\n",
              " ('love', 24),\n",
              " ('mind', 17),\n",
              " ('help', 16),\n",
              " ('knowledge', 14),\n",
              " ('bad', 14),\n",
              " ('world', 13),\n",
              " ('impressions', 13),\n",
              " ('nature', 12),\n",
              " ('evil', 10),\n",
              " ('soul', 10),\n",
              " ('said', 10),\n",
              " ('physical', 9),\n",
              " ('true', 9),\n",
              " ('life', 9),\n",
              " ('let', 9),\n",
              " ('attachment', 9),\n",
              " ('misery', 8)]"
            ]
          },
          "metadata": {
            "tags": []
          },
          "execution_count": 91
        }
      ]
    },
    {
      "cell_type": "code",
      "metadata": {
        "colab": {
          "base_uri": "https://localhost:8080/",
          "height": 669
        },
        "id": "BaA6C-PWuKbN",
        "outputId": "4e4f3dc2-5f74-4e5d-e6c5-b821a197e349"
      },
      "source": [
        "df2 = pd.DataFrame(words, columns=['Unigram','Frequency'])\n",
        "df2"
      ],
      "execution_count": null,
      "outputs": [
        {
          "output_type": "execute_result",
          "data": {
            "text/html": [
              "<div>\n",
              "<style scoped>\n",
              "    .dataframe tbody tr th:only-of-type {\n",
              "        vertical-align: middle;\n",
              "    }\n",
              "\n",
              "    .dataframe tbody tr th {\n",
              "        vertical-align: top;\n",
              "    }\n",
              "\n",
              "    .dataframe thead th {\n",
              "        text-align: right;\n",
              "    }\n",
              "</style>\n",
              "<table border=\"1\" class=\"dataframe\">\n",
              "  <thead>\n",
              "    <tr style=\"text-align: right;\">\n",
              "      <th></th>\n",
              "      <th>Unigram</th>\n",
              "      <th>Frequency</th>\n",
              "    </tr>\n",
              "  </thead>\n",
              "  <tbody>\n",
              "    <tr>\n",
              "      <th>0</th>\n",
              "      <td>work</td>\n",
              "      <td>51</td>\n",
              "    </tr>\n",
              "    <tr>\n",
              "      <th>1</th>\n",
              "      <td>good</td>\n",
              "      <td>27</td>\n",
              "    </tr>\n",
              "    <tr>\n",
              "      <th>2</th>\n",
              "      <td>man</td>\n",
              "      <td>25</td>\n",
              "    </tr>\n",
              "    <tr>\n",
              "      <th>3</th>\n",
              "      <td>love</td>\n",
              "      <td>24</td>\n",
              "    </tr>\n",
              "    <tr>\n",
              "      <th>4</th>\n",
              "      <td>mind</td>\n",
              "      <td>17</td>\n",
              "    </tr>\n",
              "    <tr>\n",
              "      <th>5</th>\n",
              "      <td>help</td>\n",
              "      <td>16</td>\n",
              "    </tr>\n",
              "    <tr>\n",
              "      <th>6</th>\n",
              "      <td>knowledge</td>\n",
              "      <td>14</td>\n",
              "    </tr>\n",
              "    <tr>\n",
              "      <th>7</th>\n",
              "      <td>bad</td>\n",
              "      <td>14</td>\n",
              "    </tr>\n",
              "    <tr>\n",
              "      <th>8</th>\n",
              "      <td>world</td>\n",
              "      <td>13</td>\n",
              "    </tr>\n",
              "    <tr>\n",
              "      <th>9</th>\n",
              "      <td>impressions</td>\n",
              "      <td>13</td>\n",
              "    </tr>\n",
              "    <tr>\n",
              "      <th>10</th>\n",
              "      <td>nature</td>\n",
              "      <td>12</td>\n",
              "    </tr>\n",
              "    <tr>\n",
              "      <th>11</th>\n",
              "      <td>evil</td>\n",
              "      <td>10</td>\n",
              "    </tr>\n",
              "    <tr>\n",
              "      <th>12</th>\n",
              "      <td>soul</td>\n",
              "      <td>10</td>\n",
              "    </tr>\n",
              "    <tr>\n",
              "      <th>13</th>\n",
              "      <td>said</td>\n",
              "      <td>10</td>\n",
              "    </tr>\n",
              "    <tr>\n",
              "      <th>14</th>\n",
              "      <td>physical</td>\n",
              "      <td>9</td>\n",
              "    </tr>\n",
              "    <tr>\n",
              "      <th>15</th>\n",
              "      <td>true</td>\n",
              "      <td>9</td>\n",
              "    </tr>\n",
              "    <tr>\n",
              "      <th>16</th>\n",
              "      <td>life</td>\n",
              "      <td>9</td>\n",
              "    </tr>\n",
              "    <tr>\n",
              "      <th>17</th>\n",
              "      <td>let</td>\n",
              "      <td>9</td>\n",
              "    </tr>\n",
              "    <tr>\n",
              "      <th>18</th>\n",
              "      <td>attachment</td>\n",
              "      <td>9</td>\n",
              "    </tr>\n",
              "    <tr>\n",
              "      <th>19</th>\n",
              "      <td>misery</td>\n",
              "      <td>8</td>\n",
              "    </tr>\n",
              "  </tbody>\n",
              "</table>\n",
              "</div>"
            ],
            "text/plain": [
              "        Unigram  Frequency\n",
              "0          work         51\n",
              "1          good         27\n",
              "2           man         25\n",
              "3          love         24\n",
              "4          mind         17\n",
              "5          help         16\n",
              "6     knowledge         14\n",
              "7           bad         14\n",
              "8         world         13\n",
              "9   impressions         13\n",
              "10       nature         12\n",
              "11         evil         10\n",
              "12         soul         10\n",
              "13         said         10\n",
              "14     physical          9\n",
              "15         true          9\n",
              "16         life          9\n",
              "17          let          9\n",
              "18   attachment          9\n",
              "19       misery          8"
            ]
          },
          "metadata": {
            "tags": []
          },
          "execution_count": 92
        }
      ]
    },
    {
      "cell_type": "code",
      "metadata": {
        "colab": {
          "base_uri": "https://localhost:8080/",
          "height": 542
        },
        "id": "RSUjLeb6uObJ",
        "outputId": "ead06922-520a-4b26-fc7f-903a19dab69a"
      },
      "source": [
        "fig = px.bar(\n",
        "             x=df2['Unigram'],\n",
        "        \n",
        "            y=df2['Frequency'],color_discrete_sequence=['purple'])\n",
        "fig.update_layout(xaxis_title_text='Unigram', yaxis_title_text='Count', title_text='Top20 Unigram w/o stopwords Distribution')\n",
        "fig.show()"
      ],
      "execution_count": null,
      "outputs": [
        {
          "output_type": "display_data",
          "data": {
            "text/html": [
              "<html>\n",
              "<head><meta charset=\"utf-8\" /></head>\n",
              "<body>\n",
              "    <div>\n",
              "            <script src=\"https://cdnjs.cloudflare.com/ajax/libs/mathjax/2.7.5/MathJax.js?config=TeX-AMS-MML_SVG\"></script><script type=\"text/javascript\">if (window.MathJax) {MathJax.Hub.Config({SVG: {font: \"STIX-Web\"}});}</script>\n",
              "                <script type=\"text/javascript\">window.PlotlyConfig = {MathJaxConfig: 'local'};</script>\n",
              "        <script src=\"https://cdn.plot.ly/plotly-latest.min.js\"></script>    \n",
              "            <div id=\"c8c3c788-78df-4908-9992-5068ad69fd72\" class=\"plotly-graph-div\" style=\"height:525px; width:100%;\"></div>\n",
              "            <script type=\"text/javascript\">\n",
              "                \n",
              "                    window.PLOTLYENV=window.PLOTLYENV || {};\n",
              "                    \n",
              "                if (document.getElementById(\"c8c3c788-78df-4908-9992-5068ad69fd72\")) {\n",
              "                    Plotly.newPlot(\n",
              "                        'c8c3c788-78df-4908-9992-5068ad69fd72',\n",
              "                        [{\"alignmentgroup\": \"True\", \"hoverlabel\": {\"namelength\": 0}, \"hovertemplate\": \"x=%{x}<br>y=%{y}\", \"legendgroup\": \"\", \"marker\": {\"color\": \"purple\"}, \"name\": \"\", \"offsetgroup\": \"\", \"orientation\": \"v\", \"showlegend\": false, \"textposition\": \"auto\", \"type\": \"bar\", \"x\": [\"work\", \"good\", \"man\", \"love\", \"mind\", \"help\", \"knowledge\", \"bad\", \"world\", \"impressions\", \"nature\", \"evil\", \"soul\", \"said\", \"physical\", \"true\", \"life\", \"let\", \"attachment\", \"misery\"], \"xaxis\": \"x\", \"y\": [51, 27, 25, 24, 17, 16, 14, 14, 13, 13, 12, 10, 10, 10, 9, 9, 9, 9, 9, 8], \"yaxis\": \"y\"}],\n",
              "                        {\"barmode\": \"relative\", \"legend\": {\"tracegroupgap\": 0}, \"margin\": {\"t\": 60}, \"template\": {\"data\": {\"bar\": [{\"error_x\": {\"color\": \"#2a3f5f\"}, \"error_y\": {\"color\": \"#2a3f5f\"}, \"marker\": {\"line\": {\"color\": \"#E5ECF6\", \"width\": 0.5}}, \"type\": \"bar\"}], \"barpolar\": [{\"marker\": {\"line\": {\"color\": \"#E5ECF6\", \"width\": 0.5}}, \"type\": \"barpolar\"}], \"carpet\": [{\"aaxis\": {\"endlinecolor\": \"#2a3f5f\", \"gridcolor\": \"white\", \"linecolor\": \"white\", \"minorgridcolor\": \"white\", \"startlinecolor\": \"#2a3f5f\"}, \"baxis\": {\"endlinecolor\": \"#2a3f5f\", \"gridcolor\": \"white\", \"linecolor\": \"white\", \"minorgridcolor\": \"white\", \"startlinecolor\": \"#2a3f5f\"}, \"type\": \"carpet\"}], \"choropleth\": [{\"colorbar\": {\"outlinewidth\": 0, \"ticks\": \"\"}, \"type\": \"choropleth\"}], \"contour\": [{\"colorbar\": {\"outlinewidth\": 0, \"ticks\": \"\"}, \"colorscale\": [[0.0, \"#0d0887\"], [0.1111111111111111, \"#46039f\"], [0.2222222222222222, \"#7201a8\"], [0.3333333333333333, \"#9c179e\"], [0.4444444444444444, \"#bd3786\"], [0.5555555555555556, \"#d8576b\"], [0.6666666666666666, \"#ed7953\"], [0.7777777777777778, \"#fb9f3a\"], [0.8888888888888888, \"#fdca26\"], [1.0, \"#f0f921\"]], \"type\": \"contour\"}], \"contourcarpet\": [{\"colorbar\": {\"outlinewidth\": 0, \"ticks\": \"\"}, \"type\": \"contourcarpet\"}], \"heatmap\": [{\"colorbar\": {\"outlinewidth\": 0, \"ticks\": \"\"}, \"colorscale\": [[0.0, \"#0d0887\"], [0.1111111111111111, \"#46039f\"], [0.2222222222222222, \"#7201a8\"], [0.3333333333333333, \"#9c179e\"], [0.4444444444444444, \"#bd3786\"], [0.5555555555555556, \"#d8576b\"], [0.6666666666666666, \"#ed7953\"], [0.7777777777777778, \"#fb9f3a\"], [0.8888888888888888, \"#fdca26\"], [1.0, \"#f0f921\"]], \"type\": \"heatmap\"}], \"heatmapgl\": [{\"colorbar\": {\"outlinewidth\": 0, \"ticks\": \"\"}, \"colorscale\": [[0.0, \"#0d0887\"], [0.1111111111111111, \"#46039f\"], [0.2222222222222222, \"#7201a8\"], [0.3333333333333333, \"#9c179e\"], [0.4444444444444444, \"#bd3786\"], [0.5555555555555556, \"#d8576b\"], [0.6666666666666666, \"#ed7953\"], [0.7777777777777778, \"#fb9f3a\"], [0.8888888888888888, \"#fdca26\"], [1.0, \"#f0f921\"]], \"type\": \"heatmapgl\"}], \"histogram\": [{\"marker\": {\"colorbar\": {\"outlinewidth\": 0, \"ticks\": \"\"}}, \"type\": \"histogram\"}], \"histogram2d\": [{\"colorbar\": {\"outlinewidth\": 0, \"ticks\": \"\"}, \"colorscale\": [[0.0, \"#0d0887\"], [0.1111111111111111, \"#46039f\"], [0.2222222222222222, \"#7201a8\"], [0.3333333333333333, \"#9c179e\"], [0.4444444444444444, \"#bd3786\"], [0.5555555555555556, \"#d8576b\"], [0.6666666666666666, \"#ed7953\"], [0.7777777777777778, \"#fb9f3a\"], [0.8888888888888888, \"#fdca26\"], [1.0, \"#f0f921\"]], \"type\": \"histogram2d\"}], \"histogram2dcontour\": [{\"colorbar\": {\"outlinewidth\": 0, \"ticks\": \"\"}, \"colorscale\": [[0.0, \"#0d0887\"], [0.1111111111111111, \"#46039f\"], [0.2222222222222222, \"#7201a8\"], [0.3333333333333333, \"#9c179e\"], [0.4444444444444444, \"#bd3786\"], [0.5555555555555556, \"#d8576b\"], [0.6666666666666666, \"#ed7953\"], [0.7777777777777778, \"#fb9f3a\"], [0.8888888888888888, \"#fdca26\"], [1.0, \"#f0f921\"]], \"type\": \"histogram2dcontour\"}], \"mesh3d\": [{\"colorbar\": {\"outlinewidth\": 0, \"ticks\": \"\"}, \"type\": \"mesh3d\"}], \"parcoords\": [{\"line\": {\"colorbar\": {\"outlinewidth\": 0, \"ticks\": \"\"}}, \"type\": \"parcoords\"}], \"pie\": [{\"automargin\": true, \"type\": \"pie\"}], \"scatter\": [{\"marker\": {\"colorbar\": {\"outlinewidth\": 0, \"ticks\": \"\"}}, \"type\": \"scatter\"}], \"scatter3d\": [{\"line\": {\"colorbar\": {\"outlinewidth\": 0, \"ticks\": \"\"}}, \"marker\": {\"colorbar\": {\"outlinewidth\": 0, \"ticks\": \"\"}}, \"type\": \"scatter3d\"}], \"scattercarpet\": [{\"marker\": {\"colorbar\": {\"outlinewidth\": 0, \"ticks\": \"\"}}, \"type\": \"scattercarpet\"}], \"scattergeo\": [{\"marker\": {\"colorbar\": {\"outlinewidth\": 0, \"ticks\": \"\"}}, \"type\": \"scattergeo\"}], \"scattergl\": [{\"marker\": {\"colorbar\": {\"outlinewidth\": 0, \"ticks\": \"\"}}, \"type\": \"scattergl\"}], \"scattermapbox\": [{\"marker\": {\"colorbar\": {\"outlinewidth\": 0, \"ticks\": \"\"}}, \"type\": \"scattermapbox\"}], \"scatterpolar\": [{\"marker\": {\"colorbar\": {\"outlinewidth\": 0, \"ticks\": \"\"}}, \"type\": \"scatterpolar\"}], \"scatterpolargl\": [{\"marker\": {\"colorbar\": {\"outlinewidth\": 0, \"ticks\": \"\"}}, \"type\": \"scatterpolargl\"}], \"scatterternary\": [{\"marker\": {\"colorbar\": {\"outlinewidth\": 0, \"ticks\": \"\"}}, \"type\": \"scatterternary\"}], \"surface\": [{\"colorbar\": {\"outlinewidth\": 0, \"ticks\": \"\"}, \"colorscale\": [[0.0, \"#0d0887\"], [0.1111111111111111, \"#46039f\"], [0.2222222222222222, \"#7201a8\"], [0.3333333333333333, \"#9c179e\"], [0.4444444444444444, \"#bd3786\"], [0.5555555555555556, \"#d8576b\"], [0.6666666666666666, \"#ed7953\"], [0.7777777777777778, \"#fb9f3a\"], [0.8888888888888888, \"#fdca26\"], [1.0, \"#f0f921\"]], \"type\": \"surface\"}], \"table\": [{\"cells\": {\"fill\": {\"color\": \"#EBF0F8\"}, \"line\": {\"color\": \"white\"}}, \"header\": {\"fill\": {\"color\": \"#C8D4E3\"}, \"line\": {\"color\": \"white\"}}, \"type\": \"table\"}]}, \"layout\": {\"annotationdefaults\": {\"arrowcolor\": \"#2a3f5f\", \"arrowhead\": 0, \"arrowwidth\": 1}, \"coloraxis\": {\"colorbar\": {\"outlinewidth\": 0, \"ticks\": \"\"}}, \"colorscale\": {\"diverging\": [[0, \"#8e0152\"], [0.1, \"#c51b7d\"], [0.2, \"#de77ae\"], [0.3, \"#f1b6da\"], [0.4, \"#fde0ef\"], [0.5, \"#f7f7f7\"], [0.6, \"#e6f5d0\"], [0.7, \"#b8e186\"], [0.8, \"#7fbc41\"], [0.9, \"#4d9221\"], [1, \"#276419\"]], \"sequential\": [[0.0, \"#0d0887\"], [0.1111111111111111, \"#46039f\"], [0.2222222222222222, \"#7201a8\"], [0.3333333333333333, \"#9c179e\"], [0.4444444444444444, \"#bd3786\"], [0.5555555555555556, \"#d8576b\"], [0.6666666666666666, \"#ed7953\"], [0.7777777777777778, \"#fb9f3a\"], [0.8888888888888888, \"#fdca26\"], [1.0, \"#f0f921\"]], \"sequentialminus\": [[0.0, \"#0d0887\"], [0.1111111111111111, \"#46039f\"], [0.2222222222222222, \"#7201a8\"], [0.3333333333333333, \"#9c179e\"], [0.4444444444444444, \"#bd3786\"], [0.5555555555555556, \"#d8576b\"], [0.6666666666666666, \"#ed7953\"], [0.7777777777777778, \"#fb9f3a\"], [0.8888888888888888, \"#fdca26\"], [1.0, \"#f0f921\"]]}, \"colorway\": [\"#636efa\", \"#EF553B\", \"#00cc96\", \"#ab63fa\", \"#FFA15A\", \"#19d3f3\", \"#FF6692\", \"#B6E880\", \"#FF97FF\", \"#FECB52\"], \"font\": {\"color\": \"#2a3f5f\"}, \"geo\": {\"bgcolor\": \"white\", \"lakecolor\": \"white\", \"landcolor\": \"#E5ECF6\", \"showlakes\": true, \"showland\": true, \"subunitcolor\": \"white\"}, \"hoverlabel\": {\"align\": \"left\"}, \"hovermode\": \"closest\", \"mapbox\": {\"style\": \"light\"}, \"paper_bgcolor\": \"white\", \"plot_bgcolor\": \"#E5ECF6\", \"polar\": {\"angularaxis\": {\"gridcolor\": \"white\", \"linecolor\": \"white\", \"ticks\": \"\"}, \"bgcolor\": \"#E5ECF6\", \"radialaxis\": {\"gridcolor\": \"white\", \"linecolor\": \"white\", \"ticks\": \"\"}}, \"scene\": {\"xaxis\": {\"backgroundcolor\": \"#E5ECF6\", \"gridcolor\": \"white\", \"gridwidth\": 2, \"linecolor\": \"white\", \"showbackground\": true, \"ticks\": \"\", \"zerolinecolor\": \"white\"}, \"yaxis\": {\"backgroundcolor\": \"#E5ECF6\", \"gridcolor\": \"white\", \"gridwidth\": 2, \"linecolor\": \"white\", \"showbackground\": true, \"ticks\": \"\", \"zerolinecolor\": \"white\"}, \"zaxis\": {\"backgroundcolor\": \"#E5ECF6\", \"gridcolor\": \"white\", \"gridwidth\": 2, \"linecolor\": \"white\", \"showbackground\": true, \"ticks\": \"\", \"zerolinecolor\": \"white\"}}, \"shapedefaults\": {\"line\": {\"color\": \"#2a3f5f\"}}, \"ternary\": {\"aaxis\": {\"gridcolor\": \"white\", \"linecolor\": \"white\", \"ticks\": \"\"}, \"baxis\": {\"gridcolor\": \"white\", \"linecolor\": \"white\", \"ticks\": \"\"}, \"bgcolor\": \"#E5ECF6\", \"caxis\": {\"gridcolor\": \"white\", \"linecolor\": \"white\", \"ticks\": \"\"}}, \"title\": {\"x\": 0.05}, \"xaxis\": {\"automargin\": true, \"gridcolor\": \"white\", \"linecolor\": \"white\", \"ticks\": \"\", \"title\": {\"standoff\": 15}, \"zerolinecolor\": \"white\", \"zerolinewidth\": 2}, \"yaxis\": {\"automargin\": true, \"gridcolor\": \"white\", \"linecolor\": \"white\", \"ticks\": \"\", \"title\": {\"standoff\": 15}, \"zerolinecolor\": \"white\", \"zerolinewidth\": 2}}}, \"title\": {\"text\": \"Top20 Unigram w/o stopwords Distribution\"}, \"xaxis\": {\"anchor\": \"y\", \"domain\": [0.0, 1.0], \"title\": {\"text\": \"Unigram\"}}, \"yaxis\": {\"anchor\": \"x\", \"domain\": [0.0, 1.0], \"title\": {\"text\": \"Count\"}}},\n",
              "                        {\"responsive\": true}\n",
              "                    ).then(function(){\n",
              "                            \n",
              "var gd = document.getElementById('c8c3c788-78df-4908-9992-5068ad69fd72');\n",
              "var x = new MutationObserver(function (mutations, observer) {{\n",
              "        var display = window.getComputedStyle(gd).display;\n",
              "        if (!display || display === 'none') {{\n",
              "            console.log([gd, 'removed!']);\n",
              "            Plotly.purge(gd);\n",
              "            observer.disconnect();\n",
              "        }}\n",
              "}});\n",
              "\n",
              "// Listen for the removal of the full notebook cells\n",
              "var notebookContainer = gd.closest('#notebook-container');\n",
              "if (notebookContainer) {{\n",
              "    x.observe(notebookContainer, {childList: true});\n",
              "}}\n",
              "\n",
              "// Listen for the clearing of the current output cell\n",
              "var outputEl = gd.closest('.output');\n",
              "if (outputEl) {{\n",
              "    x.observe(outputEl, {childList: true});\n",
              "}}\n",
              "\n",
              "                        })\n",
              "                };\n",
              "                \n",
              "            </script>\n",
              "        </div>\n",
              "</body>\n",
              "</html>"
            ]
          },
          "metadata": {
            "tags": []
          }
        }
      ]
    },
    {
      "cell_type": "markdown",
      "metadata": {
        "id": "r-4I6_gw0jB3"
      },
      "source": [
        "### Top20 Bigram w/o stopwords Distribution"
      ]
    },
    {
      "cell_type": "code",
      "metadata": {
        "id": "7yqCOyVOuV08"
      },
      "source": [
        "def get_top_n_words(x,n):\n",
        "    vec = CountVectorizer(ngram_range=(2,2), stop_words='english').fit(x)\n",
        "    bow = vec.transform(x)\n",
        "    sum_words = bow.sum(axis=0)\n",
        "    words_freq = [(words, sum_words[0, idx]) for words, idx in vec.vocabulary_.items()]\n",
        "    words_freq = sorted(words_freq, key=lambda x:x[1], reverse=True ) # here x is word frequency\n",
        "    return words_freq[:n]"
      ],
      "execution_count": null,
      "outputs": []
    },
    {
      "cell_type": "code",
      "metadata": {
        "colab": {
          "base_uri": "https://localhost:8080/"
        },
        "id": "dT8L5sn0uZQJ",
        "outputId": "ed9fb703-518a-4e08-d85e-9292e1bd1fd8"
      },
      "source": [
        "words = get_top_n_words(df['Text'],20)\n",
        "words"
      ],
      "execution_count": null,
      "outputs": [
        {
          "output_type": "execute_result",
          "data": {
            "text/plain": [
              "[('work incessantly', 6),\n",
              " ('sum total', 6),\n",
              " ('total impressions', 5),\n",
              " ('physical help', 4),\n",
              " ('physical needs', 3),\n",
              " ('wants removed', 3),\n",
              " ('help given', 3),\n",
              " ('good evil', 3),\n",
              " ('bad impressions', 3),\n",
              " ('good thoughts', 3),\n",
              " ('deep impression', 3),\n",
              " ('work work', 3),\n",
              " ('like slaves', 3),\n",
              " ('work like', 3),\n",
              " ('true love', 3),\n",
              " ('things world', 3),\n",
              " ('true work', 3),\n",
              " ('love does', 3),\n",
              " ('poor brahmin', 3),\n",
              " ('spiritual knowledge', 2)]"
            ]
          },
          "metadata": {
            "tags": []
          },
          "execution_count": 95
        }
      ]
    },
    {
      "cell_type": "code",
      "metadata": {
        "colab": {
          "base_uri": "https://localhost:8080/",
          "height": 669
        },
        "id": "d6feKgfIudKm",
        "outputId": "a2ffd179-2d7f-4148-a773-58523e0d3c25"
      },
      "source": [
        "df2 = pd.DataFrame(words, columns=['Bigram','Frequency'])\n",
        "df2"
      ],
      "execution_count": null,
      "outputs": [
        {
          "output_type": "execute_result",
          "data": {
            "text/html": [
              "<div>\n",
              "<style scoped>\n",
              "    .dataframe tbody tr th:only-of-type {\n",
              "        vertical-align: middle;\n",
              "    }\n",
              "\n",
              "    .dataframe tbody tr th {\n",
              "        vertical-align: top;\n",
              "    }\n",
              "\n",
              "    .dataframe thead th {\n",
              "        text-align: right;\n",
              "    }\n",
              "</style>\n",
              "<table border=\"1\" class=\"dataframe\">\n",
              "  <thead>\n",
              "    <tr style=\"text-align: right;\">\n",
              "      <th></th>\n",
              "      <th>Bigram</th>\n",
              "      <th>Frequency</th>\n",
              "    </tr>\n",
              "  </thead>\n",
              "  <tbody>\n",
              "    <tr>\n",
              "      <th>0</th>\n",
              "      <td>work incessantly</td>\n",
              "      <td>6</td>\n",
              "    </tr>\n",
              "    <tr>\n",
              "      <th>1</th>\n",
              "      <td>sum total</td>\n",
              "      <td>6</td>\n",
              "    </tr>\n",
              "    <tr>\n",
              "      <th>2</th>\n",
              "      <td>total impressions</td>\n",
              "      <td>5</td>\n",
              "    </tr>\n",
              "    <tr>\n",
              "      <th>3</th>\n",
              "      <td>physical help</td>\n",
              "      <td>4</td>\n",
              "    </tr>\n",
              "    <tr>\n",
              "      <th>4</th>\n",
              "      <td>physical needs</td>\n",
              "      <td>3</td>\n",
              "    </tr>\n",
              "    <tr>\n",
              "      <th>5</th>\n",
              "      <td>wants removed</td>\n",
              "      <td>3</td>\n",
              "    </tr>\n",
              "    <tr>\n",
              "      <th>6</th>\n",
              "      <td>help given</td>\n",
              "      <td>3</td>\n",
              "    </tr>\n",
              "    <tr>\n",
              "      <th>7</th>\n",
              "      <td>good evil</td>\n",
              "      <td>3</td>\n",
              "    </tr>\n",
              "    <tr>\n",
              "      <th>8</th>\n",
              "      <td>bad impressions</td>\n",
              "      <td>3</td>\n",
              "    </tr>\n",
              "    <tr>\n",
              "      <th>9</th>\n",
              "      <td>good thoughts</td>\n",
              "      <td>3</td>\n",
              "    </tr>\n",
              "    <tr>\n",
              "      <th>10</th>\n",
              "      <td>deep impression</td>\n",
              "      <td>3</td>\n",
              "    </tr>\n",
              "    <tr>\n",
              "      <th>11</th>\n",
              "      <td>work work</td>\n",
              "      <td>3</td>\n",
              "    </tr>\n",
              "    <tr>\n",
              "      <th>12</th>\n",
              "      <td>like slaves</td>\n",
              "      <td>3</td>\n",
              "    </tr>\n",
              "    <tr>\n",
              "      <th>13</th>\n",
              "      <td>work like</td>\n",
              "      <td>3</td>\n",
              "    </tr>\n",
              "    <tr>\n",
              "      <th>14</th>\n",
              "      <td>true love</td>\n",
              "      <td>3</td>\n",
              "    </tr>\n",
              "    <tr>\n",
              "      <th>15</th>\n",
              "      <td>things world</td>\n",
              "      <td>3</td>\n",
              "    </tr>\n",
              "    <tr>\n",
              "      <th>16</th>\n",
              "      <td>true work</td>\n",
              "      <td>3</td>\n",
              "    </tr>\n",
              "    <tr>\n",
              "      <th>17</th>\n",
              "      <td>love does</td>\n",
              "      <td>3</td>\n",
              "    </tr>\n",
              "    <tr>\n",
              "      <th>18</th>\n",
              "      <td>poor brahmin</td>\n",
              "      <td>3</td>\n",
              "    </tr>\n",
              "    <tr>\n",
              "      <th>19</th>\n",
              "      <td>spiritual knowledge</td>\n",
              "      <td>2</td>\n",
              "    </tr>\n",
              "  </tbody>\n",
              "</table>\n",
              "</div>"
            ],
            "text/plain": [
              "                 Bigram  Frequency\n",
              "0      work incessantly          6\n",
              "1             sum total          6\n",
              "2     total impressions          5\n",
              "3         physical help          4\n",
              "4        physical needs          3\n",
              "5         wants removed          3\n",
              "6            help given          3\n",
              "7             good evil          3\n",
              "8       bad impressions          3\n",
              "9         good thoughts          3\n",
              "10      deep impression          3\n",
              "11            work work          3\n",
              "12          like slaves          3\n",
              "13            work like          3\n",
              "14            true love          3\n",
              "15         things world          3\n",
              "16            true work          3\n",
              "17            love does          3\n",
              "18         poor brahmin          3\n",
              "19  spiritual knowledge          2"
            ]
          },
          "metadata": {
            "tags": []
          },
          "execution_count": 97
        }
      ]
    },
    {
      "cell_type": "code",
      "metadata": {
        "colab": {
          "base_uri": "https://localhost:8080/",
          "height": 542
        },
        "id": "1AgXwy3QujmE",
        "outputId": "50b913b4-8347-48d7-eb7b-7a20a16c71c7"
      },
      "source": [
        "fig = px.bar(\n",
        "             x=df2['Bigram'],\n",
        "        \n",
        "            y=df2['Frequency'],color_discrete_sequence=['coral'])\n",
        "\n",
        "fig.update_layout(xaxis_title_text='Bigram', yaxis_title_text='Count', title_text='Top20 Bigram w/o stopwords Distribution')\n",
        "\n",
        "fig.show()"
      ],
      "execution_count": null,
      "outputs": [
        {
          "output_type": "display_data",
          "data": {
            "text/html": [
              "<html>\n",
              "<head><meta charset=\"utf-8\" /></head>\n",
              "<body>\n",
              "    <div>\n",
              "            <script src=\"https://cdnjs.cloudflare.com/ajax/libs/mathjax/2.7.5/MathJax.js?config=TeX-AMS-MML_SVG\"></script><script type=\"text/javascript\">if (window.MathJax) {MathJax.Hub.Config({SVG: {font: \"STIX-Web\"}});}</script>\n",
              "                <script type=\"text/javascript\">window.PlotlyConfig = {MathJaxConfig: 'local'};</script>\n",
              "        <script src=\"https://cdn.plot.ly/plotly-latest.min.js\"></script>    \n",
              "            <div id=\"ef3803a7-46bc-4321-96a4-f7edf17af12f\" class=\"plotly-graph-div\" style=\"height:525px; width:100%;\"></div>\n",
              "            <script type=\"text/javascript\">\n",
              "                \n",
              "                    window.PLOTLYENV=window.PLOTLYENV || {};\n",
              "                    \n",
              "                if (document.getElementById(\"ef3803a7-46bc-4321-96a4-f7edf17af12f\")) {\n",
              "                    Plotly.newPlot(\n",
              "                        'ef3803a7-46bc-4321-96a4-f7edf17af12f',\n",
              "                        [{\"alignmentgroup\": \"True\", \"hoverlabel\": {\"namelength\": 0}, \"hovertemplate\": \"x=%{x}<br>y=%{y}\", \"legendgroup\": \"\", \"marker\": {\"color\": \"coral\"}, \"name\": \"\", \"offsetgroup\": \"\", \"orientation\": \"v\", \"showlegend\": false, \"textposition\": \"auto\", \"type\": \"bar\", \"x\": [\"work incessantly\", \"sum total\", \"total impressions\", \"physical help\", \"physical needs\", \"wants removed\", \"help given\", \"good evil\", \"bad impressions\", \"good thoughts\", \"deep impression\", \"work work\", \"like slaves\", \"work like\", \"true love\", \"things world\", \"true work\", \"love does\", \"poor brahmin\", \"spiritual knowledge\"], \"xaxis\": \"x\", \"y\": [6, 6, 5, 4, 3, 3, 3, 3, 3, 3, 3, 3, 3, 3, 3, 3, 3, 3, 3, 2], \"yaxis\": \"y\"}],\n",
              "                        {\"barmode\": \"relative\", \"legend\": {\"tracegroupgap\": 0}, \"margin\": {\"t\": 60}, \"template\": {\"data\": {\"bar\": [{\"error_x\": {\"color\": \"#2a3f5f\"}, \"error_y\": {\"color\": \"#2a3f5f\"}, \"marker\": {\"line\": {\"color\": \"#E5ECF6\", \"width\": 0.5}}, \"type\": \"bar\"}], \"barpolar\": [{\"marker\": {\"line\": {\"color\": \"#E5ECF6\", \"width\": 0.5}}, \"type\": \"barpolar\"}], \"carpet\": [{\"aaxis\": {\"endlinecolor\": \"#2a3f5f\", \"gridcolor\": \"white\", \"linecolor\": \"white\", \"minorgridcolor\": \"white\", \"startlinecolor\": \"#2a3f5f\"}, \"baxis\": {\"endlinecolor\": \"#2a3f5f\", \"gridcolor\": \"white\", \"linecolor\": \"white\", \"minorgridcolor\": \"white\", \"startlinecolor\": \"#2a3f5f\"}, \"type\": \"carpet\"}], \"choropleth\": [{\"colorbar\": {\"outlinewidth\": 0, \"ticks\": \"\"}, \"type\": \"choropleth\"}], \"contour\": [{\"colorbar\": {\"outlinewidth\": 0, \"ticks\": \"\"}, \"colorscale\": [[0.0, \"#0d0887\"], [0.1111111111111111, \"#46039f\"], [0.2222222222222222, \"#7201a8\"], [0.3333333333333333, \"#9c179e\"], [0.4444444444444444, \"#bd3786\"], [0.5555555555555556, \"#d8576b\"], [0.6666666666666666, \"#ed7953\"], [0.7777777777777778, \"#fb9f3a\"], [0.8888888888888888, \"#fdca26\"], [1.0, \"#f0f921\"]], \"type\": \"contour\"}], \"contourcarpet\": [{\"colorbar\": {\"outlinewidth\": 0, \"ticks\": \"\"}, \"type\": \"contourcarpet\"}], \"heatmap\": [{\"colorbar\": {\"outlinewidth\": 0, \"ticks\": \"\"}, \"colorscale\": [[0.0, \"#0d0887\"], [0.1111111111111111, \"#46039f\"], [0.2222222222222222, \"#7201a8\"], [0.3333333333333333, \"#9c179e\"], [0.4444444444444444, \"#bd3786\"], [0.5555555555555556, \"#d8576b\"], [0.6666666666666666, \"#ed7953\"], [0.7777777777777778, \"#fb9f3a\"], [0.8888888888888888, \"#fdca26\"], [1.0, \"#f0f921\"]], \"type\": \"heatmap\"}], \"heatmapgl\": [{\"colorbar\": {\"outlinewidth\": 0, \"ticks\": \"\"}, \"colorscale\": [[0.0, \"#0d0887\"], [0.1111111111111111, \"#46039f\"], [0.2222222222222222, \"#7201a8\"], [0.3333333333333333, \"#9c179e\"], [0.4444444444444444, \"#bd3786\"], [0.5555555555555556, \"#d8576b\"], [0.6666666666666666, \"#ed7953\"], [0.7777777777777778, \"#fb9f3a\"], [0.8888888888888888, \"#fdca26\"], [1.0, \"#f0f921\"]], \"type\": \"heatmapgl\"}], \"histogram\": [{\"marker\": {\"colorbar\": {\"outlinewidth\": 0, \"ticks\": \"\"}}, \"type\": \"histogram\"}], \"histogram2d\": [{\"colorbar\": {\"outlinewidth\": 0, \"ticks\": \"\"}, \"colorscale\": [[0.0, \"#0d0887\"], [0.1111111111111111, \"#46039f\"], [0.2222222222222222, \"#7201a8\"], [0.3333333333333333, \"#9c179e\"], [0.4444444444444444, \"#bd3786\"], [0.5555555555555556, \"#d8576b\"], [0.6666666666666666, \"#ed7953\"], [0.7777777777777778, \"#fb9f3a\"], [0.8888888888888888, \"#fdca26\"], [1.0, \"#f0f921\"]], \"type\": \"histogram2d\"}], \"histogram2dcontour\": [{\"colorbar\": {\"outlinewidth\": 0, \"ticks\": \"\"}, \"colorscale\": [[0.0, \"#0d0887\"], [0.1111111111111111, \"#46039f\"], [0.2222222222222222, \"#7201a8\"], [0.3333333333333333, \"#9c179e\"], [0.4444444444444444, \"#bd3786\"], [0.5555555555555556, \"#d8576b\"], [0.6666666666666666, \"#ed7953\"], [0.7777777777777778, \"#fb9f3a\"], [0.8888888888888888, \"#fdca26\"], [1.0, \"#f0f921\"]], \"type\": \"histogram2dcontour\"}], \"mesh3d\": [{\"colorbar\": {\"outlinewidth\": 0, \"ticks\": \"\"}, \"type\": \"mesh3d\"}], \"parcoords\": [{\"line\": {\"colorbar\": {\"outlinewidth\": 0, \"ticks\": \"\"}}, \"type\": \"parcoords\"}], \"pie\": [{\"automargin\": true, \"type\": \"pie\"}], \"scatter\": [{\"marker\": {\"colorbar\": {\"outlinewidth\": 0, \"ticks\": \"\"}}, \"type\": \"scatter\"}], \"scatter3d\": [{\"line\": {\"colorbar\": {\"outlinewidth\": 0, \"ticks\": \"\"}}, \"marker\": {\"colorbar\": {\"outlinewidth\": 0, \"ticks\": \"\"}}, \"type\": \"scatter3d\"}], \"scattercarpet\": [{\"marker\": {\"colorbar\": {\"outlinewidth\": 0, \"ticks\": \"\"}}, \"type\": \"scattercarpet\"}], \"scattergeo\": [{\"marker\": {\"colorbar\": {\"outlinewidth\": 0, \"ticks\": \"\"}}, \"type\": \"scattergeo\"}], \"scattergl\": [{\"marker\": {\"colorbar\": {\"outlinewidth\": 0, \"ticks\": \"\"}}, \"type\": \"scattergl\"}], \"scattermapbox\": [{\"marker\": {\"colorbar\": {\"outlinewidth\": 0, \"ticks\": \"\"}}, \"type\": \"scattermapbox\"}], \"scatterpolar\": [{\"marker\": {\"colorbar\": {\"outlinewidth\": 0, \"ticks\": \"\"}}, \"type\": \"scatterpolar\"}], \"scatterpolargl\": [{\"marker\": {\"colorbar\": {\"outlinewidth\": 0, \"ticks\": \"\"}}, \"type\": \"scatterpolargl\"}], \"scatterternary\": [{\"marker\": {\"colorbar\": {\"outlinewidth\": 0, \"ticks\": \"\"}}, \"type\": \"scatterternary\"}], \"surface\": [{\"colorbar\": {\"outlinewidth\": 0, \"ticks\": \"\"}, \"colorscale\": [[0.0, \"#0d0887\"], [0.1111111111111111, \"#46039f\"], [0.2222222222222222, \"#7201a8\"], [0.3333333333333333, \"#9c179e\"], [0.4444444444444444, \"#bd3786\"], [0.5555555555555556, \"#d8576b\"], [0.6666666666666666, \"#ed7953\"], [0.7777777777777778, \"#fb9f3a\"], [0.8888888888888888, \"#fdca26\"], [1.0, \"#f0f921\"]], \"type\": \"surface\"}], \"table\": [{\"cells\": {\"fill\": {\"color\": \"#EBF0F8\"}, \"line\": {\"color\": \"white\"}}, \"header\": {\"fill\": {\"color\": \"#C8D4E3\"}, \"line\": {\"color\": \"white\"}}, \"type\": \"table\"}]}, \"layout\": {\"annotationdefaults\": {\"arrowcolor\": \"#2a3f5f\", \"arrowhead\": 0, \"arrowwidth\": 1}, \"coloraxis\": {\"colorbar\": {\"outlinewidth\": 0, \"ticks\": \"\"}}, \"colorscale\": {\"diverging\": [[0, \"#8e0152\"], [0.1, \"#c51b7d\"], [0.2, \"#de77ae\"], [0.3, \"#f1b6da\"], [0.4, \"#fde0ef\"], [0.5, \"#f7f7f7\"], [0.6, \"#e6f5d0\"], [0.7, \"#b8e186\"], [0.8, \"#7fbc41\"], [0.9, \"#4d9221\"], [1, \"#276419\"]], \"sequential\": [[0.0, \"#0d0887\"], [0.1111111111111111, \"#46039f\"], [0.2222222222222222, \"#7201a8\"], [0.3333333333333333, \"#9c179e\"], [0.4444444444444444, \"#bd3786\"], [0.5555555555555556, \"#d8576b\"], [0.6666666666666666, \"#ed7953\"], [0.7777777777777778, \"#fb9f3a\"], [0.8888888888888888, \"#fdca26\"], [1.0, \"#f0f921\"]], \"sequentialminus\": [[0.0, \"#0d0887\"], [0.1111111111111111, \"#46039f\"], [0.2222222222222222, \"#7201a8\"], [0.3333333333333333, \"#9c179e\"], [0.4444444444444444, \"#bd3786\"], [0.5555555555555556, \"#d8576b\"], [0.6666666666666666, \"#ed7953\"], [0.7777777777777778, \"#fb9f3a\"], [0.8888888888888888, \"#fdca26\"], [1.0, \"#f0f921\"]]}, \"colorway\": [\"#636efa\", \"#EF553B\", \"#00cc96\", \"#ab63fa\", \"#FFA15A\", \"#19d3f3\", \"#FF6692\", \"#B6E880\", \"#FF97FF\", \"#FECB52\"], \"font\": {\"color\": \"#2a3f5f\"}, \"geo\": {\"bgcolor\": \"white\", \"lakecolor\": \"white\", \"landcolor\": \"#E5ECF6\", \"showlakes\": true, \"showland\": true, \"subunitcolor\": \"white\"}, \"hoverlabel\": {\"align\": \"left\"}, \"hovermode\": \"closest\", \"mapbox\": {\"style\": \"light\"}, \"paper_bgcolor\": \"white\", \"plot_bgcolor\": \"#E5ECF6\", \"polar\": {\"angularaxis\": {\"gridcolor\": \"white\", \"linecolor\": \"white\", \"ticks\": \"\"}, \"bgcolor\": \"#E5ECF6\", \"radialaxis\": {\"gridcolor\": \"white\", \"linecolor\": \"white\", \"ticks\": \"\"}}, \"scene\": {\"xaxis\": {\"backgroundcolor\": \"#E5ECF6\", \"gridcolor\": \"white\", \"gridwidth\": 2, \"linecolor\": \"white\", \"showbackground\": true, \"ticks\": \"\", \"zerolinecolor\": \"white\"}, \"yaxis\": {\"backgroundcolor\": \"#E5ECF6\", \"gridcolor\": \"white\", \"gridwidth\": 2, \"linecolor\": \"white\", \"showbackground\": true, \"ticks\": \"\", \"zerolinecolor\": \"white\"}, \"zaxis\": {\"backgroundcolor\": \"#E5ECF6\", \"gridcolor\": \"white\", \"gridwidth\": 2, \"linecolor\": \"white\", \"showbackground\": true, \"ticks\": \"\", \"zerolinecolor\": \"white\"}}, \"shapedefaults\": {\"line\": {\"color\": \"#2a3f5f\"}}, \"ternary\": {\"aaxis\": {\"gridcolor\": \"white\", \"linecolor\": \"white\", \"ticks\": \"\"}, \"baxis\": {\"gridcolor\": \"white\", \"linecolor\": \"white\", \"ticks\": \"\"}, \"bgcolor\": \"#E5ECF6\", \"caxis\": {\"gridcolor\": \"white\", \"linecolor\": \"white\", \"ticks\": \"\"}}, \"title\": {\"x\": 0.05}, \"xaxis\": {\"automargin\": true, \"gridcolor\": \"white\", \"linecolor\": \"white\", \"ticks\": \"\", \"title\": {\"standoff\": 15}, \"zerolinecolor\": \"white\", \"zerolinewidth\": 2}, \"yaxis\": {\"automargin\": true, \"gridcolor\": \"white\", \"linecolor\": \"white\", \"ticks\": \"\", \"title\": {\"standoff\": 15}, \"zerolinecolor\": \"white\", \"zerolinewidth\": 2}}}, \"title\": {\"text\": \"Top20 Bigram w/o stopwords Distribution\"}, \"xaxis\": {\"anchor\": \"y\", \"domain\": [0.0, 1.0], \"title\": {\"text\": \"Bigram\"}}, \"yaxis\": {\"anchor\": \"x\", \"domain\": [0.0, 1.0], \"title\": {\"text\": \"Count\"}}},\n",
              "                        {\"responsive\": true}\n",
              "                    ).then(function(){\n",
              "                            \n",
              "var gd = document.getElementById('ef3803a7-46bc-4321-96a4-f7edf17af12f');\n",
              "var x = new MutationObserver(function (mutations, observer) {{\n",
              "        var display = window.getComputedStyle(gd).display;\n",
              "        if (!display || display === 'none') {{\n",
              "            console.log([gd, 'removed!']);\n",
              "            Plotly.purge(gd);\n",
              "            observer.disconnect();\n",
              "        }}\n",
              "}});\n",
              "\n",
              "// Listen for the removal of the full notebook cells\n",
              "var notebookContainer = gd.closest('#notebook-container');\n",
              "if (notebookContainer) {{\n",
              "    x.observe(notebookContainer, {childList: true});\n",
              "}}\n",
              "\n",
              "// Listen for the clearing of the current output cell\n",
              "var outputEl = gd.closest('.output');\n",
              "if (outputEl) {{\n",
              "    x.observe(outputEl, {childList: true});\n",
              "}}\n",
              "\n",
              "                        })\n",
              "                };\n",
              "                \n",
              "            </script>\n",
              "        </div>\n",
              "</body>\n",
              "</html>"
            ]
          },
          "metadata": {
            "tags": []
          }
        }
      ]
    },
    {
      "cell_type": "markdown",
      "metadata": {
        "id": "pMBwWqRe0VKs"
      },
      "source": [
        "### Top20 Trigram w/o Stopword Distribution"
      ]
    },
    {
      "cell_type": "code",
      "metadata": {
        "id": "D-c_tMfYuoeI"
      },
      "source": [
        "def get_top_n_words(x,n):\n",
        "    vec = CountVectorizer(ngram_range=(3,3), stop_words='english').fit(x)\n",
        "    bow = vec.transform(x)\n",
        "    sum_words = bow.sum(axis=0)\n",
        "    words_freq = [(words, sum_words[0, idx]) for words, idx in vec.vocabulary_.items()]\n",
        "    words_freq = sorted(words_freq, key=lambda x:x[1], reverse=True ) # here x is word frequency\n",
        "    return words_freq[:n]"
      ],
      "execution_count": null,
      "outputs": []
    },
    {
      "cell_type": "code",
      "metadata": {
        "colab": {
          "base_uri": "https://localhost:8080/"
        },
        "id": "ONb58M4justY",
        "outputId": "9652ea63-0ed1-448c-96c5-9e85220df0c5"
      },
      "source": [
        "words = get_top_n_words(df['Text'],20)\n",
        "words"
      ],
      "execution_count": null,
      "outputs": [
        {
          "output_type": "execute_result",
          "data": {
            "text/plain": [
              "[('sum total impressions', 5),\n",
              " ('comes intellectual help', 2),\n",
              " ('determined sum total', 2),\n",
              " ('total impressions good', 2),\n",
              " ('deep impression soul', 2),\n",
              " ('work true work', 2),\n",
              " ('helping physically removing', 1),\n",
              " ('physically removing physical', 1),\n",
              " ('removing physical needs', 1),\n",
              " ('physical needs great', 1),\n",
              " ('needs great help', 1),\n",
              " ('great help great', 1),\n",
              " ('help great according', 1),\n",
              " ('great according need', 1),\n",
              " ('according need greater', 1),\n",
              " ('need greater according', 1),\n",
              " ('greater according help', 1),\n",
              " ('according help far', 1),\n",
              " ('help far reaching', 1),\n",
              " ('far reaching mans', 1)]"
            ]
          },
          "metadata": {
            "tags": []
          },
          "execution_count": 101
        }
      ]
    },
    {
      "cell_type": "code",
      "metadata": {
        "colab": {
          "base_uri": "https://localhost:8080/",
          "height": 669
        },
        "id": "RWBoofBFuyby",
        "outputId": "3c5066b6-e059-49e6-8b0f-7b2bf37280e9"
      },
      "source": [
        "df2 = pd.DataFrame(words, columns=['Trigram','Frequency'])\n",
        "df2"
      ],
      "execution_count": null,
      "outputs": [
        {
          "output_type": "execute_result",
          "data": {
            "text/html": [
              "<div>\n",
              "<style scoped>\n",
              "    .dataframe tbody tr th:only-of-type {\n",
              "        vertical-align: middle;\n",
              "    }\n",
              "\n",
              "    .dataframe tbody tr th {\n",
              "        vertical-align: top;\n",
              "    }\n",
              "\n",
              "    .dataframe thead th {\n",
              "        text-align: right;\n",
              "    }\n",
              "</style>\n",
              "<table border=\"1\" class=\"dataframe\">\n",
              "  <thead>\n",
              "    <tr style=\"text-align: right;\">\n",
              "      <th></th>\n",
              "      <th>Trigram</th>\n",
              "      <th>Frequency</th>\n",
              "    </tr>\n",
              "  </thead>\n",
              "  <tbody>\n",
              "    <tr>\n",
              "      <th>0</th>\n",
              "      <td>sum total impressions</td>\n",
              "      <td>5</td>\n",
              "    </tr>\n",
              "    <tr>\n",
              "      <th>1</th>\n",
              "      <td>comes intellectual help</td>\n",
              "      <td>2</td>\n",
              "    </tr>\n",
              "    <tr>\n",
              "      <th>2</th>\n",
              "      <td>determined sum total</td>\n",
              "      <td>2</td>\n",
              "    </tr>\n",
              "    <tr>\n",
              "      <th>3</th>\n",
              "      <td>total impressions good</td>\n",
              "      <td>2</td>\n",
              "    </tr>\n",
              "    <tr>\n",
              "      <th>4</th>\n",
              "      <td>deep impression soul</td>\n",
              "      <td>2</td>\n",
              "    </tr>\n",
              "    <tr>\n",
              "      <th>5</th>\n",
              "      <td>work true work</td>\n",
              "      <td>2</td>\n",
              "    </tr>\n",
              "    <tr>\n",
              "      <th>6</th>\n",
              "      <td>helping physically removing</td>\n",
              "      <td>1</td>\n",
              "    </tr>\n",
              "    <tr>\n",
              "      <th>7</th>\n",
              "      <td>physically removing physical</td>\n",
              "      <td>1</td>\n",
              "    </tr>\n",
              "    <tr>\n",
              "      <th>8</th>\n",
              "      <td>removing physical needs</td>\n",
              "      <td>1</td>\n",
              "    </tr>\n",
              "    <tr>\n",
              "      <th>9</th>\n",
              "      <td>physical needs great</td>\n",
              "      <td>1</td>\n",
              "    </tr>\n",
              "    <tr>\n",
              "      <th>10</th>\n",
              "      <td>needs great help</td>\n",
              "      <td>1</td>\n",
              "    </tr>\n",
              "    <tr>\n",
              "      <th>11</th>\n",
              "      <td>great help great</td>\n",
              "      <td>1</td>\n",
              "    </tr>\n",
              "    <tr>\n",
              "      <th>12</th>\n",
              "      <td>help great according</td>\n",
              "      <td>1</td>\n",
              "    </tr>\n",
              "    <tr>\n",
              "      <th>13</th>\n",
              "      <td>great according need</td>\n",
              "      <td>1</td>\n",
              "    </tr>\n",
              "    <tr>\n",
              "      <th>14</th>\n",
              "      <td>according need greater</td>\n",
              "      <td>1</td>\n",
              "    </tr>\n",
              "    <tr>\n",
              "      <th>15</th>\n",
              "      <td>need greater according</td>\n",
              "      <td>1</td>\n",
              "    </tr>\n",
              "    <tr>\n",
              "      <th>16</th>\n",
              "      <td>greater according help</td>\n",
              "      <td>1</td>\n",
              "    </tr>\n",
              "    <tr>\n",
              "      <th>17</th>\n",
              "      <td>according help far</td>\n",
              "      <td>1</td>\n",
              "    </tr>\n",
              "    <tr>\n",
              "      <th>18</th>\n",
              "      <td>help far reaching</td>\n",
              "      <td>1</td>\n",
              "    </tr>\n",
              "    <tr>\n",
              "      <th>19</th>\n",
              "      <td>far reaching mans</td>\n",
              "      <td>1</td>\n",
              "    </tr>\n",
              "  </tbody>\n",
              "</table>\n",
              "</div>"
            ],
            "text/plain": [
              "                         Trigram  Frequency\n",
              "0          sum total impressions          5\n",
              "1        comes intellectual help          2\n",
              "2           determined sum total          2\n",
              "3         total impressions good          2\n",
              "4           deep impression soul          2\n",
              "5                 work true work          2\n",
              "6    helping physically removing          1\n",
              "7   physically removing physical          1\n",
              "8        removing physical needs          1\n",
              "9           physical needs great          1\n",
              "10              needs great help          1\n",
              "11              great help great          1\n",
              "12          help great according          1\n",
              "13          great according need          1\n",
              "14        according need greater          1\n",
              "15        need greater according          1\n",
              "16        greater according help          1\n",
              "17            according help far          1\n",
              "18             help far reaching          1\n",
              "19             far reaching mans          1"
            ]
          },
          "metadata": {
            "tags": []
          },
          "execution_count": 102
        }
      ]
    },
    {
      "cell_type": "code",
      "metadata": {
        "colab": {
          "base_uri": "https://localhost:8080/",
          "height": 542
        },
        "id": "Ztz1xpHcu4PB",
        "outputId": "aefc98e9-e0d9-4198-989c-cf3ca89c92ed"
      },
      "source": [
        "fig = px.bar(\n",
        "             x=df2['Trigram'],\n",
        "        \n",
        "            y=df2['Frequency'],color_discrete_sequence=['lime'])\n",
        "fig.update_layout(xaxis_title_text='Trigram', yaxis_title_text='Count', title_text='Top20 Trigram w/o stopwords Distribution')\n",
        "fig.show()"
      ],
      "execution_count": null,
      "outputs": [
        {
          "output_type": "display_data",
          "data": {
            "text/html": [
              "<html>\n",
              "<head><meta charset=\"utf-8\" /></head>\n",
              "<body>\n",
              "    <div>\n",
              "            <script src=\"https://cdnjs.cloudflare.com/ajax/libs/mathjax/2.7.5/MathJax.js?config=TeX-AMS-MML_SVG\"></script><script type=\"text/javascript\">if (window.MathJax) {MathJax.Hub.Config({SVG: {font: \"STIX-Web\"}});}</script>\n",
              "                <script type=\"text/javascript\">window.PlotlyConfig = {MathJaxConfig: 'local'};</script>\n",
              "        <script src=\"https://cdn.plot.ly/plotly-latest.min.js\"></script>    \n",
              "            <div id=\"aa44fa5c-7730-4978-a2c5-aab540a6ddb5\" class=\"plotly-graph-div\" style=\"height:525px; width:100%;\"></div>\n",
              "            <script type=\"text/javascript\">\n",
              "                \n",
              "                    window.PLOTLYENV=window.PLOTLYENV || {};\n",
              "                    \n",
              "                if (document.getElementById(\"aa44fa5c-7730-4978-a2c5-aab540a6ddb5\")) {\n",
              "                    Plotly.newPlot(\n",
              "                        'aa44fa5c-7730-4978-a2c5-aab540a6ddb5',\n",
              "                        [{\"alignmentgroup\": \"True\", \"hoverlabel\": {\"namelength\": 0}, \"hovertemplate\": \"x=%{x}<br>y=%{y}\", \"legendgroup\": \"\", \"marker\": {\"color\": \"lime\"}, \"name\": \"\", \"offsetgroup\": \"\", \"orientation\": \"v\", \"showlegend\": false, \"textposition\": \"auto\", \"type\": \"bar\", \"x\": [\"sum total impressions\", \"comes intellectual help\", \"determined sum total\", \"total impressions good\", \"deep impression soul\", \"work true work\", \"helping physically removing\", \"physically removing physical\", \"removing physical needs\", \"physical needs great\", \"needs great help\", \"great help great\", \"help great according\", \"great according need\", \"according need greater\", \"need greater according\", \"greater according help\", \"according help far\", \"help far reaching\", \"far reaching mans\"], \"xaxis\": \"x\", \"y\": [5, 2, 2, 2, 2, 2, 1, 1, 1, 1, 1, 1, 1, 1, 1, 1, 1, 1, 1, 1], \"yaxis\": \"y\"}],\n",
              "                        {\"barmode\": \"relative\", \"legend\": {\"tracegroupgap\": 0}, \"margin\": {\"t\": 60}, \"template\": {\"data\": {\"bar\": [{\"error_x\": {\"color\": \"#2a3f5f\"}, \"error_y\": {\"color\": \"#2a3f5f\"}, \"marker\": {\"line\": {\"color\": \"#E5ECF6\", \"width\": 0.5}}, \"type\": \"bar\"}], \"barpolar\": [{\"marker\": {\"line\": {\"color\": \"#E5ECF6\", \"width\": 0.5}}, \"type\": \"barpolar\"}], \"carpet\": [{\"aaxis\": {\"endlinecolor\": \"#2a3f5f\", \"gridcolor\": \"white\", \"linecolor\": \"white\", \"minorgridcolor\": \"white\", \"startlinecolor\": \"#2a3f5f\"}, \"baxis\": {\"endlinecolor\": \"#2a3f5f\", \"gridcolor\": \"white\", \"linecolor\": \"white\", \"minorgridcolor\": \"white\", \"startlinecolor\": \"#2a3f5f\"}, \"type\": \"carpet\"}], \"choropleth\": [{\"colorbar\": {\"outlinewidth\": 0, \"ticks\": \"\"}, \"type\": \"choropleth\"}], \"contour\": [{\"colorbar\": {\"outlinewidth\": 0, \"ticks\": \"\"}, \"colorscale\": [[0.0, \"#0d0887\"], [0.1111111111111111, \"#46039f\"], [0.2222222222222222, \"#7201a8\"], [0.3333333333333333, \"#9c179e\"], [0.4444444444444444, \"#bd3786\"], [0.5555555555555556, \"#d8576b\"], [0.6666666666666666, \"#ed7953\"], [0.7777777777777778, \"#fb9f3a\"], [0.8888888888888888, \"#fdca26\"], [1.0, \"#f0f921\"]], \"type\": \"contour\"}], \"contourcarpet\": [{\"colorbar\": {\"outlinewidth\": 0, \"ticks\": \"\"}, \"type\": \"contourcarpet\"}], \"heatmap\": [{\"colorbar\": {\"outlinewidth\": 0, \"ticks\": \"\"}, \"colorscale\": [[0.0, \"#0d0887\"], [0.1111111111111111, \"#46039f\"], [0.2222222222222222, \"#7201a8\"], [0.3333333333333333, \"#9c179e\"], [0.4444444444444444, \"#bd3786\"], [0.5555555555555556, \"#d8576b\"], [0.6666666666666666, \"#ed7953\"], [0.7777777777777778, \"#fb9f3a\"], [0.8888888888888888, \"#fdca26\"], [1.0, \"#f0f921\"]], \"type\": \"heatmap\"}], \"heatmapgl\": [{\"colorbar\": {\"outlinewidth\": 0, \"ticks\": \"\"}, \"colorscale\": [[0.0, \"#0d0887\"], [0.1111111111111111, \"#46039f\"], [0.2222222222222222, \"#7201a8\"], [0.3333333333333333, \"#9c179e\"], [0.4444444444444444, \"#bd3786\"], [0.5555555555555556, \"#d8576b\"], [0.6666666666666666, \"#ed7953\"], [0.7777777777777778, \"#fb9f3a\"], [0.8888888888888888, \"#fdca26\"], [1.0, \"#f0f921\"]], \"type\": \"heatmapgl\"}], \"histogram\": [{\"marker\": {\"colorbar\": {\"outlinewidth\": 0, \"ticks\": \"\"}}, \"type\": \"histogram\"}], \"histogram2d\": [{\"colorbar\": {\"outlinewidth\": 0, \"ticks\": \"\"}, \"colorscale\": [[0.0, \"#0d0887\"], [0.1111111111111111, \"#46039f\"], [0.2222222222222222, \"#7201a8\"], [0.3333333333333333, \"#9c179e\"], [0.4444444444444444, \"#bd3786\"], [0.5555555555555556, \"#d8576b\"], [0.6666666666666666, \"#ed7953\"], [0.7777777777777778, \"#fb9f3a\"], [0.8888888888888888, \"#fdca26\"], [1.0, \"#f0f921\"]], \"type\": \"histogram2d\"}], \"histogram2dcontour\": [{\"colorbar\": {\"outlinewidth\": 0, \"ticks\": \"\"}, \"colorscale\": [[0.0, \"#0d0887\"], [0.1111111111111111, \"#46039f\"], [0.2222222222222222, \"#7201a8\"], [0.3333333333333333, \"#9c179e\"], [0.4444444444444444, \"#bd3786\"], [0.5555555555555556, \"#d8576b\"], [0.6666666666666666, \"#ed7953\"], [0.7777777777777778, \"#fb9f3a\"], [0.8888888888888888, \"#fdca26\"], [1.0, \"#f0f921\"]], \"type\": \"histogram2dcontour\"}], \"mesh3d\": [{\"colorbar\": {\"outlinewidth\": 0, \"ticks\": \"\"}, \"type\": \"mesh3d\"}], \"parcoords\": [{\"line\": {\"colorbar\": {\"outlinewidth\": 0, \"ticks\": \"\"}}, \"type\": \"parcoords\"}], \"pie\": [{\"automargin\": true, \"type\": \"pie\"}], \"scatter\": [{\"marker\": {\"colorbar\": {\"outlinewidth\": 0, \"ticks\": \"\"}}, \"type\": \"scatter\"}], \"scatter3d\": [{\"line\": {\"colorbar\": {\"outlinewidth\": 0, \"ticks\": \"\"}}, \"marker\": {\"colorbar\": {\"outlinewidth\": 0, \"ticks\": \"\"}}, \"type\": \"scatter3d\"}], \"scattercarpet\": [{\"marker\": {\"colorbar\": {\"outlinewidth\": 0, \"ticks\": \"\"}}, \"type\": \"scattercarpet\"}], \"scattergeo\": [{\"marker\": {\"colorbar\": {\"outlinewidth\": 0, \"ticks\": \"\"}}, \"type\": \"scattergeo\"}], \"scattergl\": [{\"marker\": {\"colorbar\": {\"outlinewidth\": 0, \"ticks\": \"\"}}, \"type\": \"scattergl\"}], \"scattermapbox\": [{\"marker\": {\"colorbar\": {\"outlinewidth\": 0, \"ticks\": \"\"}}, \"type\": \"scattermapbox\"}], \"scatterpolar\": [{\"marker\": {\"colorbar\": {\"outlinewidth\": 0, \"ticks\": \"\"}}, \"type\": \"scatterpolar\"}], \"scatterpolargl\": [{\"marker\": {\"colorbar\": {\"outlinewidth\": 0, \"ticks\": \"\"}}, \"type\": \"scatterpolargl\"}], \"scatterternary\": [{\"marker\": {\"colorbar\": {\"outlinewidth\": 0, \"ticks\": \"\"}}, \"type\": \"scatterternary\"}], \"surface\": [{\"colorbar\": {\"outlinewidth\": 0, \"ticks\": \"\"}, \"colorscale\": [[0.0, \"#0d0887\"], [0.1111111111111111, \"#46039f\"], [0.2222222222222222, \"#7201a8\"], [0.3333333333333333, \"#9c179e\"], [0.4444444444444444, \"#bd3786\"], [0.5555555555555556, \"#d8576b\"], [0.6666666666666666, \"#ed7953\"], [0.7777777777777778, \"#fb9f3a\"], [0.8888888888888888, \"#fdca26\"], [1.0, \"#f0f921\"]], \"type\": \"surface\"}], \"table\": [{\"cells\": {\"fill\": {\"color\": \"#EBF0F8\"}, \"line\": {\"color\": \"white\"}}, \"header\": {\"fill\": {\"color\": \"#C8D4E3\"}, \"line\": {\"color\": \"white\"}}, \"type\": \"table\"}]}, \"layout\": {\"annotationdefaults\": {\"arrowcolor\": \"#2a3f5f\", \"arrowhead\": 0, \"arrowwidth\": 1}, \"coloraxis\": {\"colorbar\": {\"outlinewidth\": 0, \"ticks\": \"\"}}, \"colorscale\": {\"diverging\": [[0, \"#8e0152\"], [0.1, \"#c51b7d\"], [0.2, \"#de77ae\"], [0.3, \"#f1b6da\"], [0.4, \"#fde0ef\"], [0.5, \"#f7f7f7\"], [0.6, \"#e6f5d0\"], [0.7, \"#b8e186\"], [0.8, \"#7fbc41\"], [0.9, \"#4d9221\"], [1, \"#276419\"]], \"sequential\": [[0.0, \"#0d0887\"], [0.1111111111111111, \"#46039f\"], [0.2222222222222222, \"#7201a8\"], [0.3333333333333333, \"#9c179e\"], [0.4444444444444444, \"#bd3786\"], [0.5555555555555556, \"#d8576b\"], [0.6666666666666666, \"#ed7953\"], [0.7777777777777778, \"#fb9f3a\"], [0.8888888888888888, \"#fdca26\"], [1.0, \"#f0f921\"]], \"sequentialminus\": [[0.0, \"#0d0887\"], [0.1111111111111111, \"#46039f\"], [0.2222222222222222, \"#7201a8\"], [0.3333333333333333, \"#9c179e\"], [0.4444444444444444, \"#bd3786\"], [0.5555555555555556, \"#d8576b\"], [0.6666666666666666, \"#ed7953\"], [0.7777777777777778, \"#fb9f3a\"], [0.8888888888888888, \"#fdca26\"], [1.0, \"#f0f921\"]]}, \"colorway\": [\"#636efa\", \"#EF553B\", \"#00cc96\", \"#ab63fa\", \"#FFA15A\", \"#19d3f3\", \"#FF6692\", \"#B6E880\", \"#FF97FF\", \"#FECB52\"], \"font\": {\"color\": \"#2a3f5f\"}, \"geo\": {\"bgcolor\": \"white\", \"lakecolor\": \"white\", \"landcolor\": \"#E5ECF6\", \"showlakes\": true, \"showland\": true, \"subunitcolor\": \"white\"}, \"hoverlabel\": {\"align\": \"left\"}, \"hovermode\": \"closest\", \"mapbox\": {\"style\": \"light\"}, \"paper_bgcolor\": \"white\", \"plot_bgcolor\": \"#E5ECF6\", \"polar\": {\"angularaxis\": {\"gridcolor\": \"white\", \"linecolor\": \"white\", \"ticks\": \"\"}, \"bgcolor\": \"#E5ECF6\", \"radialaxis\": {\"gridcolor\": \"white\", \"linecolor\": \"white\", \"ticks\": \"\"}}, \"scene\": {\"xaxis\": {\"backgroundcolor\": \"#E5ECF6\", \"gridcolor\": \"white\", \"gridwidth\": 2, \"linecolor\": \"white\", \"showbackground\": true, \"ticks\": \"\", \"zerolinecolor\": \"white\"}, \"yaxis\": {\"backgroundcolor\": \"#E5ECF6\", \"gridcolor\": \"white\", \"gridwidth\": 2, \"linecolor\": \"white\", \"showbackground\": true, \"ticks\": \"\", \"zerolinecolor\": \"white\"}, \"zaxis\": {\"backgroundcolor\": \"#E5ECF6\", \"gridcolor\": \"white\", \"gridwidth\": 2, \"linecolor\": \"white\", \"showbackground\": true, \"ticks\": \"\", \"zerolinecolor\": \"white\"}}, \"shapedefaults\": {\"line\": {\"color\": \"#2a3f5f\"}}, \"ternary\": {\"aaxis\": {\"gridcolor\": \"white\", \"linecolor\": \"white\", \"ticks\": \"\"}, \"baxis\": {\"gridcolor\": \"white\", \"linecolor\": \"white\", \"ticks\": \"\"}, \"bgcolor\": \"#E5ECF6\", \"caxis\": {\"gridcolor\": \"white\", \"linecolor\": \"white\", \"ticks\": \"\"}}, \"title\": {\"x\": 0.05}, \"xaxis\": {\"automargin\": true, \"gridcolor\": \"white\", \"linecolor\": \"white\", \"ticks\": \"\", \"title\": {\"standoff\": 15}, \"zerolinecolor\": \"white\", \"zerolinewidth\": 2}, \"yaxis\": {\"automargin\": true, \"gridcolor\": \"white\", \"linecolor\": \"white\", \"ticks\": \"\", \"title\": {\"standoff\": 15}, \"zerolinecolor\": \"white\", \"zerolinewidth\": 2}}}, \"title\": {\"text\": \"Top20 Trigram w/o stopwords Distribution\"}, \"xaxis\": {\"anchor\": \"y\", \"domain\": [0.0, 1.0], \"title\": {\"text\": \"Trigram\"}}, \"yaxis\": {\"anchor\": \"x\", \"domain\": [0.0, 1.0], \"title\": {\"text\": \"Count\"}}},\n",
              "                        {\"responsive\": true}\n",
              "                    ).then(function(){\n",
              "                            \n",
              "var gd = document.getElementById('aa44fa5c-7730-4978-a2c5-aab540a6ddb5');\n",
              "var x = new MutationObserver(function (mutations, observer) {{\n",
              "        var display = window.getComputedStyle(gd).display;\n",
              "        if (!display || display === 'none') {{\n",
              "            console.log([gd, 'removed!']);\n",
              "            Plotly.purge(gd);\n",
              "            observer.disconnect();\n",
              "        }}\n",
              "}});\n",
              "\n",
              "// Listen for the removal of the full notebook cells\n",
              "var notebookContainer = gd.closest('#notebook-container');\n",
              "if (notebookContainer) {{\n",
              "    x.observe(notebookContainer, {childList: true});\n",
              "}}\n",
              "\n",
              "// Listen for the clearing of the current output cell\n",
              "var outputEl = gd.closest('.output');\n",
              "if (outputEl) {{\n",
              "    x.observe(outputEl, {childList: true});\n",
              "}}\n",
              "\n",
              "                        })\n",
              "                };\n",
              "                \n",
              "            </script>\n",
              "        </div>\n",
              "</body>\n",
              "</html>"
            ]
          },
          "metadata": {
            "tags": []
          }
        }
      ]
    },
    {
      "cell_type": "markdown",
      "metadata": {
        "id": "GJyugMp10Le-"
      },
      "source": [
        "### Top 20 Parts of Speech Tags Distribution"
      ]
    },
    {
      "cell_type": "code",
      "metadata": {
        "colab": {
          "base_uri": "https://localhost:8080/"
        },
        "id": "2D_w1Slnu-iH",
        "outputId": "5a97da20-3ea0-4a63-f13e-9d9161567cd5"
      },
      "source": [
        "!pip install nltk"
      ],
      "execution_count": null,
      "outputs": [
        {
          "output_type": "stream",
          "text": [
            "Requirement already satisfied: nltk in /usr/local/lib/python3.7/dist-packages (3.2.5)\n",
            "Requirement already satisfied: six in /usr/local/lib/python3.7/dist-packages (from nltk) (1.15.0)\n"
          ],
          "name": "stdout"
        }
      ]
    },
    {
      "cell_type": "code",
      "metadata": {
        "id": "t0x-LPPQvApg"
      },
      "source": [
        "import nltk"
      ],
      "execution_count": null,
      "outputs": []
    },
    {
      "cell_type": "code",
      "metadata": {
        "id": "tBan85h0vCpX"
      },
      "source": [
        "nltk.download('punkt')\n",
        "nltk.download('averaged_perceptron_tagger')"
      ],
      "execution_count": null,
      "outputs": []
    },
    {
      "cell_type": "code",
      "metadata": {
        "id": "olDia1LBvNou"
      },
      "source": [
        "!pip install textblob"
      ],
      "execution_count": null,
      "outputs": []
    },
    {
      "cell_type": "code",
      "metadata": {
        "id": "yp3kt5mUvPbS"
      },
      "source": [
        "from textblob import TextBlob"
      ],
      "execution_count": null,
      "outputs": []
    },
    {
      "cell_type": "code",
      "metadata": {
        "id": "OvcqEG0nvFoE"
      },
      "source": [
        "blob = TextBlob(str(df['Text']))"
      ],
      "execution_count": null,
      "outputs": []
    },
    {
      "cell_type": "code",
      "metadata": {
        "colab": {
          "base_uri": "https://localhost:8080/"
        },
        "id": "YcQxfNlKvbEy",
        "outputId": "9ff6c262-22ae-4ad7-93cf-f633b582a0b0"
      },
      "source": [
        "blob"
      ],
      "execution_count": null,
      "outputs": [
        {
          "output_type": "execute_result",
          "data": {
            "text/plain": [
              "TextBlob(\"0     helping others physically by removing their ph...\n",
              "1     about permanent satisfaction the misery that i...\n",
              "2     the miseries of the world cannot be cured by p...\n",
              "3     we read in the bhagavadgita again and again th...\n",
              "4     this is the one central idea in the gita work ...\n",
              "5     translated very nearly by inherent tendency us...\n",
              "6     back he is completely under the influence of t...\n",
              "7     as the tortoise tucks its feet and head inside...\n",
              "8     have also to be conquered thus the attached be...\n",
              "9     how can this be done we see that the impressio...\n",
              "10    therefore be unattached let things work let br...\n",
              "11    sânkhya the whole of nature is for the soul no...\n",
              "12    the whole gist of this teaching is that you sh...\n",
              "13                                               master\n",
              "14                                         and not as a\n",
              "15                                                slave\n",
              "16     work incessantly but do not do slaves work do...\n",
              "17    its reaction real existence real knowledge and...\n",
              "18    krishna says look at me arjuna if i stop from ...\n",
              "19                                             there is\n",
              "20                                                 real\n",
              "21    love it does not rest on physical attachment a...\n",
              "22    to attain this unattachment is almost a lifewo...\n",
              "23    do you ask anything from your children in retu...\n",
              "24    if working like slaves results in selfishness ...\n",
              "25    case we believe in a personal god here we give...\n",
              "26    this idea of complete selfsacrifice is illustr...\n",
              "27    india a guest is a sacred person he is as a go...\n",
              "28    this idea of charity is going out of india gre...\n",
              "29    children go to the wall that should never and ...\n",
              "30    now you see what karmayoga means even at the p...\n",
              "Name: Text, dtype: object\")"
            ]
          },
          "metadata": {
            "tags": []
          },
          "execution_count": 111
        }
      ]
    },
    {
      "cell_type": "code",
      "metadata": {
        "colab": {
          "base_uri": "https://localhost:8080/"
        },
        "id": "L-hzYltavbB7",
        "outputId": "14bb7272-0be1-4e80-9057-f47acf90595a"
      },
      "source": [
        "blob.tags"
      ],
      "execution_count": null,
      "outputs": [
        {
          "output_type": "execute_result",
          "data": {
            "text/plain": [
              "[('0', 'CD'),\n",
              " ('helping', 'VBG'),\n",
              " ('others', 'NNS'),\n",
              " ('physically', 'RB'),\n",
              " ('by', 'IN'),\n",
              " ('removing', 'VBG'),\n",
              " ('their', 'PRP$'),\n",
              " ('ph', 'NN'),\n",
              " ('1', 'CD'),\n",
              " ('about', 'IN'),\n",
              " ('permanent', 'JJ'),\n",
              " ('satisfaction', 'NN'),\n",
              " ('the', 'DT'),\n",
              " ('misery', 'NN'),\n",
              " ('that', 'IN'),\n",
              " ('i', 'NN'),\n",
              " ('2', 'CD'),\n",
              " ('the', 'DT'),\n",
              " ('miseries', 'NNS'),\n",
              " ('of', 'IN'),\n",
              " ('the', 'DT'),\n",
              " ('world', 'NN'),\n",
              " ('can', 'MD'),\n",
              " ('not', 'RB'),\n",
              " ('be', 'VB'),\n",
              " ('cured', 'VBN'),\n",
              " ('by', 'IN'),\n",
              " ('p', 'NN'),\n",
              " ('3', 'CD'),\n",
              " ('we', 'PRP'),\n",
              " ('read', 'VBP'),\n",
              " ('in', 'IN'),\n",
              " ('the', 'DT'),\n",
              " ('bhagavadgita', 'NN'),\n",
              " ('again', 'RB'),\n",
              " ('and', 'CC'),\n",
              " ('again', 'RB'),\n",
              " ('th', 'NNS'),\n",
              " ('4', 'CD'),\n",
              " ('this', 'DT'),\n",
              " ('is', 'VBZ'),\n",
              " ('the', 'DT'),\n",
              " ('one', 'CD'),\n",
              " ('central', 'JJ'),\n",
              " ('idea', 'NN'),\n",
              " ('in', 'IN'),\n",
              " ('the', 'DT'),\n",
              " ('gita', 'JJ'),\n",
              " ('work', 'NN'),\n",
              " ('5', 'CD'),\n",
              " ('translated', 'VBD'),\n",
              " ('very', 'RB'),\n",
              " ('nearly', 'RB'),\n",
              " ('by', 'IN'),\n",
              " ('inherent', 'JJ'),\n",
              " ('tendency', 'NN'),\n",
              " ('us', 'PRP'),\n",
              " ('6', 'CD'),\n",
              " ('back', 'RB'),\n",
              " ('he', 'PRP'),\n",
              " ('is', 'VBZ'),\n",
              " ('completely', 'RB'),\n",
              " ('under', 'IN'),\n",
              " ('the', 'DT'),\n",
              " ('influence', 'NN'),\n",
              " ('of', 'IN'),\n",
              " ('t', 'NN'),\n",
              " ('7', 'CD'),\n",
              " ('as', 'IN'),\n",
              " ('the', 'DT'),\n",
              " ('tortoise', 'NN'),\n",
              " ('tucks', 'VBZ'),\n",
              " ('its', 'PRP$'),\n",
              " ('feet', 'NNS'),\n",
              " ('and', 'CC'),\n",
              " ('head', 'NN'),\n",
              " ('inside', 'IN'),\n",
              " ('8', 'CD'),\n",
              " ('have', 'VBP'),\n",
              " ('also', 'RB'),\n",
              " ('to', 'TO'),\n",
              " ('be', 'VB'),\n",
              " ('conquered', 'VBN'),\n",
              " ('thus', 'RB'),\n",
              " ('the', 'DT'),\n",
              " ('attached', 'JJ'),\n",
              " ('be', 'VB'),\n",
              " ('9', 'CD'),\n",
              " ('how', 'WRB'),\n",
              " ('can', 'MD'),\n",
              " ('this', 'DT'),\n",
              " ('be', 'VB'),\n",
              " ('done', 'VBN'),\n",
              " ('we', 'PRP'),\n",
              " ('see', 'VBP'),\n",
              " ('that', 'IN'),\n",
              " ('the', 'DT'),\n",
              " ('impressio', 'NN'),\n",
              " ('10', 'CD'),\n",
              " ('therefore', 'RB'),\n",
              " ('be', 'VB'),\n",
              " ('unattached', 'JJ'),\n",
              " ('let', 'JJ'),\n",
              " ('things', 'NNS'),\n",
              " ('work', 'VB'),\n",
              " ('let', 'RB'),\n",
              " ('br', 'VB'),\n",
              " ('11', 'CD'),\n",
              " ('sânkhya', 'VBD'),\n",
              " ('the', 'DT'),\n",
              " ('whole', 'NN'),\n",
              " ('of', 'IN'),\n",
              " ('nature', 'NN'),\n",
              " ('is', 'VBZ'),\n",
              " ('for', 'IN'),\n",
              " ('the', 'DT'),\n",
              " ('soul', 'NN'),\n",
              " ('no', 'DT'),\n",
              " ('12', 'CD'),\n",
              " ('the', 'DT'),\n",
              " ('whole', 'JJ'),\n",
              " ('gist', 'NN'),\n",
              " ('of', 'IN'),\n",
              " ('this', 'DT'),\n",
              " ('teaching', 'NN'),\n",
              " ('is', 'VBZ'),\n",
              " ('that', 'IN'),\n",
              " ('you', 'PRP'),\n",
              " ('sh', 'VBP'),\n",
              " ('13', 'CD'),\n",
              " ('master', 'NN'),\n",
              " ('14', 'CD'),\n",
              " ('and', 'CC'),\n",
              " ('not', 'RB'),\n",
              " ('as', 'IN'),\n",
              " ('a', 'DT'),\n",
              " ('15', 'CD'),\n",
              " ('slave', 'NN'),\n",
              " ('16', 'CD'),\n",
              " ('work', 'NN'),\n",
              " ('incessantly', 'RB'),\n",
              " ('but', 'CC'),\n",
              " ('do', 'VBP'),\n",
              " ('not', 'RB'),\n",
              " ('do', 'VB'),\n",
              " ('slaves', 'NNS'),\n",
              " ('work', 'VB'),\n",
              " ('do', 'VBP'),\n",
              " ('17', 'CD'),\n",
              " ('its', 'PRP$'),\n",
              " ('reaction', 'NN'),\n",
              " ('real', 'JJ'),\n",
              " ('existence', 'NN'),\n",
              " ('real', 'JJ'),\n",
              " ('knowledge', 'NN'),\n",
              " ('and', 'CC'),\n",
              " ('18', 'CD'),\n",
              " ('krishna', 'NN'),\n",
              " ('says', 'VBZ'),\n",
              " ('look', 'NN'),\n",
              " ('at', 'IN'),\n",
              " ('me', 'PRP'),\n",
              " ('arjuna', 'VBP'),\n",
              " ('if', 'IN'),\n",
              " ('i', 'JJ'),\n",
              " ('stop', 'VBP'),\n",
              " ('from', 'IN'),\n",
              " ('19', 'CD'),\n",
              " ('there', 'EX'),\n",
              " ('is', 'VBZ'),\n",
              " ('20', 'CD'),\n",
              " ('real', 'JJ'),\n",
              " ('21', 'CD'),\n",
              " ('love', 'IN'),\n",
              " ('it', 'PRP'),\n",
              " ('does', 'VBZ'),\n",
              " ('not', 'RB'),\n",
              " ('rest', 'VB'),\n",
              " ('on', 'IN'),\n",
              " ('physical', 'JJ'),\n",
              " ('attachment', 'NN'),\n",
              " ('a', 'DT'),\n",
              " ('22', 'CD'),\n",
              " ('to', 'TO'),\n",
              " ('attain', 'VB'),\n",
              " ('this', 'DT'),\n",
              " ('unattachment', 'NN'),\n",
              " ('is', 'VBZ'),\n",
              " ('almost', 'RB'),\n",
              " ('a', 'DT'),\n",
              " ('lifewo', 'NN'),\n",
              " ('23', 'CD'),\n",
              " ('do', 'VBP'),\n",
              " ('you', 'PRP'),\n",
              " ('ask', 'VB'),\n",
              " ('anything', 'NN'),\n",
              " ('from', 'IN'),\n",
              " ('your', 'PRP$'),\n",
              " ('children', 'NNS'),\n",
              " ('in', 'IN'),\n",
              " ('retu', 'NN'),\n",
              " ('24', 'CD'),\n",
              " ('if', 'IN'),\n",
              " ('working', 'VBG'),\n",
              " ('like', 'IN'),\n",
              " ('slaves', 'NNS'),\n",
              " ('results', 'NNS'),\n",
              " ('in', 'IN'),\n",
              " ('selfishness', 'NN'),\n",
              " ('25', 'CD'),\n",
              " ('case', 'NN'),\n",
              " ('we', 'PRP'),\n",
              " ('believe', 'VBP'),\n",
              " ('in', 'IN'),\n",
              " ('a', 'DT'),\n",
              " ('personal', 'JJ'),\n",
              " ('god', 'NN'),\n",
              " ('here', 'RB'),\n",
              " ('we', 'PRP'),\n",
              " ('give', 'VBP'),\n",
              " ('26', 'CD'),\n",
              " ('this', 'DT'),\n",
              " ('idea', 'NN'),\n",
              " ('of', 'IN'),\n",
              " ('complete', 'JJ'),\n",
              " ('selfsacrifice', 'NN'),\n",
              " ('is', 'VBZ'),\n",
              " ('illustr', 'JJ'),\n",
              " ('27', 'CD'),\n",
              " ('india', 'NN'),\n",
              " ('a', 'DT'),\n",
              " ('guest', 'NN'),\n",
              " ('is', 'VBZ'),\n",
              " ('a', 'DT'),\n",
              " ('sacred', 'JJ'),\n",
              " ('person', 'NN'),\n",
              " ('he', 'PRP'),\n",
              " ('is', 'VBZ'),\n",
              " ('as', 'IN'),\n",
              " ('a', 'DT'),\n",
              " ('go', 'NN'),\n",
              " ('28', 'CD'),\n",
              " ('this', 'DT'),\n",
              " ('idea', 'NN'),\n",
              " ('of', 'IN'),\n",
              " ('charity', 'NN'),\n",
              " ('is', 'VBZ'),\n",
              " ('going', 'VBG'),\n",
              " ('out', 'IN'),\n",
              " ('of', 'IN'),\n",
              " ('india', 'JJ'),\n",
              " ('gre', 'NN'),\n",
              " ('29', 'CD'),\n",
              " ('children', 'NNS'),\n",
              " ('go', 'VBP'),\n",
              " ('to', 'TO'),\n",
              " ('the', 'DT'),\n",
              " ('wall', 'NN'),\n",
              " ('that', 'WDT'),\n",
              " ('should', 'MD'),\n",
              " ('never', 'RB'),\n",
              " ('and', 'CC'),\n",
              " ('30', 'CD'),\n",
              " ('now', 'RB'),\n",
              " ('you', 'PRP'),\n",
              " ('see', 'VBP'),\n",
              " ('what', 'WP'),\n",
              " ('karmayoga', 'VBP'),\n",
              " ('means', 'VBZ'),\n",
              " ('even', 'RB'),\n",
              " ('at', 'IN'),\n",
              " ('the', 'DT'),\n",
              " ('p', 'NN'),\n",
              " ('Name', 'NN'),\n",
              " ('Text', 'NN'),\n",
              " ('dtype', 'NN'),\n",
              " ('object', 'NN')]"
            ]
          },
          "metadata": {
            "tags": []
          },
          "execution_count": 112
        }
      ]
    },
    {
      "cell_type": "code",
      "metadata": {
        "id": "Fk4tj_rQvjBH"
      },
      "source": [
        "nltk.download('tagsets')"
      ],
      "execution_count": null,
      "outputs": []
    },
    {
      "cell_type": "code",
      "metadata": {
        "colab": {
          "base_uri": "https://localhost:8080/"
        },
        "id": "NpoFjhHEvmDc",
        "outputId": "78abfd3e-0392-4bc9-9285-b71f2e62f1c5"
      },
      "source": [
        "nltk.help.upenn_tagset()"
      ],
      "execution_count": null,
      "outputs": [
        {
          "output_type": "stream",
          "text": [
            "$: dollar\n",
            "    $ -$ --$ A$ C$ HK$ M$ NZ$ S$ U.S.$ US$\n",
            "'': closing quotation mark\n",
            "    ' ''\n",
            "(: opening parenthesis\n",
            "    ( [ {\n",
            "): closing parenthesis\n",
            "    ) ] }\n",
            ",: comma\n",
            "    ,\n",
            "--: dash\n",
            "    --\n",
            ".: sentence terminator\n",
            "    . ! ?\n",
            ":: colon or ellipsis\n",
            "    : ; ...\n",
            "CC: conjunction, coordinating\n",
            "    & 'n and both but either et for less minus neither nor or plus so\n",
            "    therefore times v. versus vs. whether yet\n",
            "CD: numeral, cardinal\n",
            "    mid-1890 nine-thirty forty-two one-tenth ten million 0.5 one forty-\n",
            "    seven 1987 twenty '79 zero two 78-degrees eighty-four IX '60s .025\n",
            "    fifteen 271,124 dozen quintillion DM2,000 ...\n",
            "DT: determiner\n",
            "    all an another any both del each either every half la many much nary\n",
            "    neither no some such that the them these this those\n",
            "EX: existential there\n",
            "    there\n",
            "FW: foreign word\n",
            "    gemeinschaft hund ich jeux habeas Haementeria Herr K'ang-si vous\n",
            "    lutihaw alai je jour objets salutaris fille quibusdam pas trop Monte\n",
            "    terram fiche oui corporis ...\n",
            "IN: preposition or conjunction, subordinating\n",
            "    astride among uppon whether out inside pro despite on by throughout\n",
            "    below within for towards near behind atop around if like until below\n",
            "    next into if beside ...\n",
            "JJ: adjective or numeral, ordinal\n",
            "    third ill-mannered pre-war regrettable oiled calamitous first separable\n",
            "    ectoplasmic battery-powered participatory fourth still-to-be-named\n",
            "    multilingual multi-disciplinary ...\n",
            "JJR: adjective, comparative\n",
            "    bleaker braver breezier briefer brighter brisker broader bumper busier\n",
            "    calmer cheaper choosier cleaner clearer closer colder commoner costlier\n",
            "    cozier creamier crunchier cuter ...\n",
            "JJS: adjective, superlative\n",
            "    calmest cheapest choicest classiest cleanest clearest closest commonest\n",
            "    corniest costliest crassest creepiest crudest cutest darkest deadliest\n",
            "    dearest deepest densest dinkiest ...\n",
            "LS: list item marker\n",
            "    A A. B B. C C. D E F First G H I J K One SP-44001 SP-44002 SP-44005\n",
            "    SP-44007 Second Third Three Two * a b c d first five four one six three\n",
            "    two\n",
            "MD: modal auxiliary\n",
            "    can cannot could couldn't dare may might must need ought shall should\n",
            "    shouldn't will would\n",
            "NN: noun, common, singular or mass\n",
            "    common-carrier cabbage knuckle-duster Casino afghan shed thermostat\n",
            "    investment slide humour falloff slick wind hyena override subhumanity\n",
            "    machinist ...\n",
            "NNP: noun, proper, singular\n",
            "    Motown Venneboerger Czestochwa Ranzer Conchita Trumplane Christos\n",
            "    Oceanside Escobar Kreisler Sawyer Cougar Yvette Ervin ODI Darryl CTCA\n",
            "    Shannon A.K.C. Meltex Liverpool ...\n",
            "NNPS: noun, proper, plural\n",
            "    Americans Americas Amharas Amityvilles Amusements Anarcho-Syndicalists\n",
            "    Andalusians Andes Andruses Angels Animals Anthony Antilles Antiques\n",
            "    Apache Apaches Apocrypha ...\n",
            "NNS: noun, common, plural\n",
            "    undergraduates scotches bric-a-brac products bodyguards facets coasts\n",
            "    divestitures storehouses designs clubs fragrances averages\n",
            "    subjectivists apprehensions muses factory-jobs ...\n",
            "PDT: pre-determiner\n",
            "    all both half many quite such sure this\n",
            "POS: genitive marker\n",
            "    ' 's\n",
            "PRP: pronoun, personal\n",
            "    hers herself him himself hisself it itself me myself one oneself ours\n",
            "    ourselves ownself self she thee theirs them themselves they thou thy us\n",
            "PRP$: pronoun, possessive\n",
            "    her his mine my our ours their thy your\n",
            "RB: adverb\n",
            "    occasionally unabatingly maddeningly adventurously professedly\n",
            "    stirringly prominently technologically magisterially predominately\n",
            "    swiftly fiscally pitilessly ...\n",
            "RBR: adverb, comparative\n",
            "    further gloomier grander graver greater grimmer harder harsher\n",
            "    healthier heavier higher however larger later leaner lengthier less-\n",
            "    perfectly lesser lonelier longer louder lower more ...\n",
            "RBS: adverb, superlative\n",
            "    best biggest bluntest earliest farthest first furthest hardest\n",
            "    heartiest highest largest least less most nearest second tightest worst\n",
            "RP: particle\n",
            "    aboard about across along apart around aside at away back before behind\n",
            "    by crop down ever fast for forth from go high i.e. in into just later\n",
            "    low more off on open out over per pie raising start teeth that through\n",
            "    under unto up up-pp upon whole with you\n",
            "SYM: symbol\n",
            "    % & ' '' ''. ) ). * + ,. < = > @ A[fj] U.S U.S.S.R * ** ***\n",
            "TO: \"to\" as preposition or infinitive marker\n",
            "    to\n",
            "UH: interjection\n",
            "    Goodbye Goody Gosh Wow Jeepers Jee-sus Hubba Hey Kee-reist Oops amen\n",
            "    huh howdy uh dammit whammo shucks heck anyways whodunnit honey golly\n",
            "    man baby diddle hush sonuvabitch ...\n",
            "VB: verb, base form\n",
            "    ask assemble assess assign assume atone attention avoid bake balkanize\n",
            "    bank begin behold believe bend benefit bevel beware bless boil bomb\n",
            "    boost brace break bring broil brush build ...\n",
            "VBD: verb, past tense\n",
            "    dipped pleaded swiped regummed soaked tidied convened halted registered\n",
            "    cushioned exacted snubbed strode aimed adopted belied figgered\n",
            "    speculated wore appreciated contemplated ...\n",
            "VBG: verb, present participle or gerund\n",
            "    telegraphing stirring focusing angering judging stalling lactating\n",
            "    hankerin' alleging veering capping approaching traveling besieging\n",
            "    encrypting interrupting erasing wincing ...\n",
            "VBN: verb, past participle\n",
            "    multihulled dilapidated aerosolized chaired languished panelized used\n",
            "    experimented flourished imitated reunifed factored condensed sheared\n",
            "    unsettled primed dubbed desired ...\n",
            "VBP: verb, present tense, not 3rd person singular\n",
            "    predominate wrap resort sue twist spill cure lengthen brush terminate\n",
            "    appear tend stray glisten obtain comprise detest tease attract\n",
            "    emphasize mold postpone sever return wag ...\n",
            "VBZ: verb, present tense, 3rd person singular\n",
            "    bases reconstructs marks mixes displeases seals carps weaves snatches\n",
            "    slumps stretches authorizes smolders pictures emerges stockpiles\n",
            "    seduces fizzes uses bolsters slaps speaks pleads ...\n",
            "WDT: WH-determiner\n",
            "    that what whatever which whichever\n",
            "WP: WH-pronoun\n",
            "    that what whatever whatsoever which who whom whosoever\n",
            "WP$: WH-pronoun, possessive\n",
            "    whose\n",
            "WRB: Wh-adverb\n",
            "    how however whence whenever where whereby whereever wherein whereof why\n",
            "``: opening quotation mark\n",
            "    ` ``\n"
          ],
          "name": "stdout"
        }
      ]
    },
    {
      "cell_type": "code",
      "metadata": {
        "id": "8xMeQG-7vr9e"
      },
      "source": [
        "pos_df = pd.DataFrame(blob.tags, columns=['words','pos'])"
      ],
      "execution_count": null,
      "outputs": []
    },
    {
      "cell_type": "code",
      "metadata": {
        "colab": {
          "base_uri": "https://localhost:8080/"
        },
        "id": "rBKdxIF7wH-k",
        "outputId": "e7c46fe1-a321-411d-d2c9-c6a3fbaeff0c"
      },
      "source": [
        "pos_df1 = pos_df['pos'].value_counts()\n",
        "pos_df1"
      ],
      "execution_count": null,
      "outputs": [
        {
          "output_type": "execute_result",
          "data": {
            "text/plain": [
              "NN      51\n",
              "IN      35\n",
              "CD      32\n",
              "DT      29\n",
              "RB      21\n",
              "JJ      18\n",
              "VBP     14\n",
              "VBZ     14\n",
              "PRP     12\n",
              "VB      12\n",
              "NNS     10\n",
              "CC       6\n",
              "PRP$     4\n",
              "VBG      4\n",
              "TO       3\n",
              "VBN      3\n",
              "MD       3\n",
              "VBD      2\n",
              "WDT      1\n",
              "EX       1\n",
              "WRB      1\n",
              "WP       1\n",
              "Name: pos, dtype: int64"
            ]
          },
          "metadata": {
            "tags": []
          },
          "execution_count": 116
        }
      ]
    },
    {
      "cell_type": "code",
      "metadata": {
        "colab": {
          "base_uri": "https://localhost:8080/"
        },
        "id": "fFjOIX4pwV8n",
        "outputId": "9ed4b13f-2492-47b5-d80a-92783a7d5252"
      },
      "source": [
        "pos_df['pos'][:]"
      ],
      "execution_count": null,
      "outputs": [
        {
          "output_type": "execute_result",
          "data": {
            "text/plain": [
              "0       CD\n",
              "1      VBG\n",
              "2      NNS\n",
              "3       RB\n",
              "4       IN\n",
              "      ... \n",
              "272     NN\n",
              "273     NN\n",
              "274     NN\n",
              "275     NN\n",
              "276     NN\n",
              "Name: pos, Length: 277, dtype: object"
            ]
          },
          "metadata": {
            "tags": []
          },
          "execution_count": 117
        }
      ]
    },
    {
      "cell_type": "code",
      "metadata": {
        "colab": {
          "base_uri": "https://localhost:8080/",
          "height": 542
        },
        "id": "ptdG3juhwcxx",
        "outputId": "3087767e-9fa9-4dce-c42a-d914b41a709a"
      },
      "source": [
        "import plotly.graph_objects as go    \n",
        "fig = go.Figure([go.Bar(x=['NN','IN','CD','DT','RB','JJ','VBP','VBZ','PRP','VB','NNS','CC','PRP$','VBG','TO','VBN','MD','VBD','WDT','EX','WRB','WP'],\n",
        "                        y =[51,35,32,29,21,18,14,14,12,12,10,6.4,4,3,3,3,2,1,1,1,1],             \n",
        "                        marker_color='crimson')])\n",
        "fig.update_layout(xaxis_title='POS', yaxis_title='Count',title_text='Top 20 POS Distribution')\n",
        "\n",
        "fig.show()"
      ],
      "execution_count": null,
      "outputs": [
        {
          "output_type": "display_data",
          "data": {
            "text/html": [
              "<html>\n",
              "<head><meta charset=\"utf-8\" /></head>\n",
              "<body>\n",
              "    <div>\n",
              "            <script src=\"https://cdnjs.cloudflare.com/ajax/libs/mathjax/2.7.5/MathJax.js?config=TeX-AMS-MML_SVG\"></script><script type=\"text/javascript\">if (window.MathJax) {MathJax.Hub.Config({SVG: {font: \"STIX-Web\"}});}</script>\n",
              "                <script type=\"text/javascript\">window.PlotlyConfig = {MathJaxConfig: 'local'};</script>\n",
              "        <script src=\"https://cdn.plot.ly/plotly-latest.min.js\"></script>    \n",
              "            <div id=\"f87e484b-4ef0-4312-85d4-12a252d675d5\" class=\"plotly-graph-div\" style=\"height:525px; width:100%;\"></div>\n",
              "            <script type=\"text/javascript\">\n",
              "                \n",
              "                    window.PLOTLYENV=window.PLOTLYENV || {};\n",
              "                    \n",
              "                if (document.getElementById(\"f87e484b-4ef0-4312-85d4-12a252d675d5\")) {\n",
              "                    Plotly.newPlot(\n",
              "                        'f87e484b-4ef0-4312-85d4-12a252d675d5',\n",
              "                        [{\"marker\": {\"color\": \"crimson\"}, \"type\": \"bar\", \"x\": [\"NN\", \"IN\", \"CD\", \"DT\", \"RB\", \"JJ\", \"VBP\", \"VBZ\", \"PRP\", \"VB\", \"NNS\", \"CC\", \"PRP$\", \"VBG\", \"TO\", \"VBN\", \"MD\", \"VBD\", \"WDT\", \"EX\", \"WRB\", \"WP\"], \"y\": [51, 35, 32, 29, 21, 18, 14, 14, 12, 12, 10, 6.4, 4, 3, 3, 3, 2, 1, 1, 1, 1]}],\n",
              "                        {\"template\": {\"data\": {\"bar\": [{\"error_x\": {\"color\": \"#2a3f5f\"}, \"error_y\": {\"color\": \"#2a3f5f\"}, \"marker\": {\"line\": {\"color\": \"#E5ECF6\", \"width\": 0.5}}, \"type\": \"bar\"}], \"barpolar\": [{\"marker\": {\"line\": {\"color\": \"#E5ECF6\", \"width\": 0.5}}, \"type\": \"barpolar\"}], \"carpet\": [{\"aaxis\": {\"endlinecolor\": \"#2a3f5f\", \"gridcolor\": \"white\", \"linecolor\": \"white\", \"minorgridcolor\": \"white\", \"startlinecolor\": \"#2a3f5f\"}, \"baxis\": {\"endlinecolor\": \"#2a3f5f\", \"gridcolor\": \"white\", \"linecolor\": \"white\", \"minorgridcolor\": \"white\", \"startlinecolor\": \"#2a3f5f\"}, \"type\": \"carpet\"}], \"choropleth\": [{\"colorbar\": {\"outlinewidth\": 0, \"ticks\": \"\"}, \"type\": \"choropleth\"}], \"contour\": [{\"colorbar\": {\"outlinewidth\": 0, \"ticks\": \"\"}, \"colorscale\": [[0.0, \"#0d0887\"], [0.1111111111111111, \"#46039f\"], [0.2222222222222222, \"#7201a8\"], [0.3333333333333333, \"#9c179e\"], [0.4444444444444444, \"#bd3786\"], [0.5555555555555556, \"#d8576b\"], [0.6666666666666666, \"#ed7953\"], [0.7777777777777778, \"#fb9f3a\"], [0.8888888888888888, \"#fdca26\"], [1.0, \"#f0f921\"]], \"type\": \"contour\"}], \"contourcarpet\": [{\"colorbar\": {\"outlinewidth\": 0, \"ticks\": \"\"}, \"type\": \"contourcarpet\"}], \"heatmap\": [{\"colorbar\": {\"outlinewidth\": 0, \"ticks\": \"\"}, \"colorscale\": [[0.0, \"#0d0887\"], [0.1111111111111111, \"#46039f\"], [0.2222222222222222, \"#7201a8\"], [0.3333333333333333, \"#9c179e\"], [0.4444444444444444, \"#bd3786\"], [0.5555555555555556, \"#d8576b\"], [0.6666666666666666, \"#ed7953\"], [0.7777777777777778, \"#fb9f3a\"], [0.8888888888888888, \"#fdca26\"], [1.0, \"#f0f921\"]], \"type\": \"heatmap\"}], \"heatmapgl\": [{\"colorbar\": {\"outlinewidth\": 0, \"ticks\": \"\"}, \"colorscale\": [[0.0, \"#0d0887\"], [0.1111111111111111, \"#46039f\"], [0.2222222222222222, \"#7201a8\"], [0.3333333333333333, \"#9c179e\"], [0.4444444444444444, \"#bd3786\"], [0.5555555555555556, \"#d8576b\"], [0.6666666666666666, \"#ed7953\"], [0.7777777777777778, \"#fb9f3a\"], [0.8888888888888888, \"#fdca26\"], [1.0, \"#f0f921\"]], \"type\": \"heatmapgl\"}], \"histogram\": [{\"marker\": {\"colorbar\": {\"outlinewidth\": 0, \"ticks\": \"\"}}, \"type\": \"histogram\"}], \"histogram2d\": [{\"colorbar\": {\"outlinewidth\": 0, \"ticks\": \"\"}, \"colorscale\": [[0.0, \"#0d0887\"], [0.1111111111111111, \"#46039f\"], [0.2222222222222222, \"#7201a8\"], [0.3333333333333333, \"#9c179e\"], [0.4444444444444444, \"#bd3786\"], [0.5555555555555556, \"#d8576b\"], [0.6666666666666666, \"#ed7953\"], [0.7777777777777778, \"#fb9f3a\"], [0.8888888888888888, \"#fdca26\"], [1.0, \"#f0f921\"]], \"type\": \"histogram2d\"}], \"histogram2dcontour\": [{\"colorbar\": {\"outlinewidth\": 0, \"ticks\": \"\"}, \"colorscale\": [[0.0, \"#0d0887\"], [0.1111111111111111, \"#46039f\"], [0.2222222222222222, \"#7201a8\"], [0.3333333333333333, \"#9c179e\"], [0.4444444444444444, \"#bd3786\"], [0.5555555555555556, \"#d8576b\"], [0.6666666666666666, \"#ed7953\"], [0.7777777777777778, \"#fb9f3a\"], [0.8888888888888888, \"#fdca26\"], [1.0, \"#f0f921\"]], \"type\": \"histogram2dcontour\"}], \"mesh3d\": [{\"colorbar\": {\"outlinewidth\": 0, \"ticks\": \"\"}, \"type\": \"mesh3d\"}], \"parcoords\": [{\"line\": {\"colorbar\": {\"outlinewidth\": 0, \"ticks\": \"\"}}, \"type\": \"parcoords\"}], \"pie\": [{\"automargin\": true, \"type\": \"pie\"}], \"scatter\": [{\"marker\": {\"colorbar\": {\"outlinewidth\": 0, \"ticks\": \"\"}}, \"type\": \"scatter\"}], \"scatter3d\": [{\"line\": {\"colorbar\": {\"outlinewidth\": 0, \"ticks\": \"\"}}, \"marker\": {\"colorbar\": {\"outlinewidth\": 0, \"ticks\": \"\"}}, \"type\": \"scatter3d\"}], \"scattercarpet\": [{\"marker\": {\"colorbar\": {\"outlinewidth\": 0, \"ticks\": \"\"}}, \"type\": \"scattercarpet\"}], \"scattergeo\": [{\"marker\": {\"colorbar\": {\"outlinewidth\": 0, \"ticks\": \"\"}}, \"type\": \"scattergeo\"}], \"scattergl\": [{\"marker\": {\"colorbar\": {\"outlinewidth\": 0, \"ticks\": \"\"}}, \"type\": \"scattergl\"}], \"scattermapbox\": [{\"marker\": {\"colorbar\": {\"outlinewidth\": 0, \"ticks\": \"\"}}, \"type\": \"scattermapbox\"}], \"scatterpolar\": [{\"marker\": {\"colorbar\": {\"outlinewidth\": 0, \"ticks\": \"\"}}, \"type\": \"scatterpolar\"}], \"scatterpolargl\": [{\"marker\": {\"colorbar\": {\"outlinewidth\": 0, \"ticks\": \"\"}}, \"type\": \"scatterpolargl\"}], \"scatterternary\": [{\"marker\": {\"colorbar\": {\"outlinewidth\": 0, \"ticks\": \"\"}}, \"type\": \"scatterternary\"}], \"surface\": [{\"colorbar\": {\"outlinewidth\": 0, \"ticks\": \"\"}, \"colorscale\": [[0.0, \"#0d0887\"], [0.1111111111111111, \"#46039f\"], [0.2222222222222222, \"#7201a8\"], [0.3333333333333333, \"#9c179e\"], [0.4444444444444444, \"#bd3786\"], [0.5555555555555556, \"#d8576b\"], [0.6666666666666666, \"#ed7953\"], [0.7777777777777778, \"#fb9f3a\"], [0.8888888888888888, \"#fdca26\"], [1.0, \"#f0f921\"]], \"type\": \"surface\"}], \"table\": [{\"cells\": {\"fill\": {\"color\": \"#EBF0F8\"}, \"line\": {\"color\": \"white\"}}, \"header\": {\"fill\": {\"color\": \"#C8D4E3\"}, \"line\": {\"color\": \"white\"}}, \"type\": \"table\"}]}, \"layout\": {\"annotationdefaults\": {\"arrowcolor\": \"#2a3f5f\", \"arrowhead\": 0, \"arrowwidth\": 1}, \"coloraxis\": {\"colorbar\": {\"outlinewidth\": 0, \"ticks\": \"\"}}, \"colorscale\": {\"diverging\": [[0, \"#8e0152\"], [0.1, \"#c51b7d\"], [0.2, \"#de77ae\"], [0.3, \"#f1b6da\"], [0.4, \"#fde0ef\"], [0.5, \"#f7f7f7\"], [0.6, \"#e6f5d0\"], [0.7, \"#b8e186\"], [0.8, \"#7fbc41\"], [0.9, \"#4d9221\"], [1, \"#276419\"]], \"sequential\": [[0.0, \"#0d0887\"], [0.1111111111111111, \"#46039f\"], [0.2222222222222222, \"#7201a8\"], [0.3333333333333333, \"#9c179e\"], [0.4444444444444444, \"#bd3786\"], [0.5555555555555556, \"#d8576b\"], [0.6666666666666666, \"#ed7953\"], [0.7777777777777778, \"#fb9f3a\"], [0.8888888888888888, \"#fdca26\"], [1.0, \"#f0f921\"]], \"sequentialminus\": [[0.0, \"#0d0887\"], [0.1111111111111111, \"#46039f\"], [0.2222222222222222, \"#7201a8\"], [0.3333333333333333, \"#9c179e\"], [0.4444444444444444, \"#bd3786\"], [0.5555555555555556, \"#d8576b\"], [0.6666666666666666, \"#ed7953\"], [0.7777777777777778, \"#fb9f3a\"], [0.8888888888888888, \"#fdca26\"], [1.0, \"#f0f921\"]]}, \"colorway\": [\"#636efa\", \"#EF553B\", \"#00cc96\", \"#ab63fa\", \"#FFA15A\", \"#19d3f3\", \"#FF6692\", \"#B6E880\", \"#FF97FF\", \"#FECB52\"], \"font\": {\"color\": \"#2a3f5f\"}, \"geo\": {\"bgcolor\": \"white\", \"lakecolor\": \"white\", \"landcolor\": \"#E5ECF6\", \"showlakes\": true, \"showland\": true, \"subunitcolor\": \"white\"}, \"hoverlabel\": {\"align\": \"left\"}, \"hovermode\": \"closest\", \"mapbox\": {\"style\": \"light\"}, \"paper_bgcolor\": \"white\", \"plot_bgcolor\": \"#E5ECF6\", \"polar\": {\"angularaxis\": {\"gridcolor\": \"white\", \"linecolor\": \"white\", \"ticks\": \"\"}, \"bgcolor\": \"#E5ECF6\", \"radialaxis\": {\"gridcolor\": \"white\", \"linecolor\": \"white\", \"ticks\": \"\"}}, \"scene\": {\"xaxis\": {\"backgroundcolor\": \"#E5ECF6\", \"gridcolor\": \"white\", \"gridwidth\": 2, \"linecolor\": \"white\", \"showbackground\": true, \"ticks\": \"\", \"zerolinecolor\": \"white\"}, \"yaxis\": {\"backgroundcolor\": \"#E5ECF6\", \"gridcolor\": \"white\", \"gridwidth\": 2, \"linecolor\": \"white\", \"showbackground\": true, \"ticks\": \"\", \"zerolinecolor\": \"white\"}, \"zaxis\": {\"backgroundcolor\": \"#E5ECF6\", \"gridcolor\": \"white\", \"gridwidth\": 2, \"linecolor\": \"white\", \"showbackground\": true, \"ticks\": \"\", \"zerolinecolor\": \"white\"}}, \"shapedefaults\": {\"line\": {\"color\": \"#2a3f5f\"}}, \"ternary\": {\"aaxis\": {\"gridcolor\": \"white\", \"linecolor\": \"white\", \"ticks\": \"\"}, \"baxis\": {\"gridcolor\": \"white\", \"linecolor\": \"white\", \"ticks\": \"\"}, \"bgcolor\": \"#E5ECF6\", \"caxis\": {\"gridcolor\": \"white\", \"linecolor\": \"white\", \"ticks\": \"\"}}, \"title\": {\"x\": 0.05}, \"xaxis\": {\"automargin\": true, \"gridcolor\": \"white\", \"linecolor\": \"white\", \"ticks\": \"\", \"title\": {\"standoff\": 15}, \"zerolinecolor\": \"white\", \"zerolinewidth\": 2}, \"yaxis\": {\"automargin\": true, \"gridcolor\": \"white\", \"linecolor\": \"white\", \"ticks\": \"\", \"title\": {\"standoff\": 15}, \"zerolinecolor\": \"white\", \"zerolinewidth\": 2}}}, \"title\": {\"text\": \"Top 20 POS Distribution\"}, \"xaxis\": {\"title\": {\"text\": \"POS\"}}, \"yaxis\": {\"title\": {\"text\": \"Count\"}}},\n",
              "                        {\"responsive\": true}\n",
              "                    ).then(function(){\n",
              "                            \n",
              "var gd = document.getElementById('f87e484b-4ef0-4312-85d4-12a252d675d5');\n",
              "var x = new MutationObserver(function (mutations, observer) {{\n",
              "        var display = window.getComputedStyle(gd).display;\n",
              "        if (!display || display === 'none') {{\n",
              "            console.log([gd, 'removed!']);\n",
              "            Plotly.purge(gd);\n",
              "            observer.disconnect();\n",
              "        }}\n",
              "}});\n",
              "\n",
              "// Listen for the removal of the full notebook cells\n",
              "var notebookContainer = gd.closest('#notebook-container');\n",
              "if (notebookContainer) {{\n",
              "    x.observe(notebookContainer, {childList: true});\n",
              "}}\n",
              "\n",
              "// Listen for the clearing of the current output cell\n",
              "var outputEl = gd.closest('.output');\n",
              "if (outputEl) {{\n",
              "    x.observe(outputEl, {childList: true});\n",
              "}}\n",
              "\n",
              "                        })\n",
              "                };\n",
              "                \n",
              "            </script>\n",
              "        </div>\n",
              "</body>\n",
              "</html>"
            ]
          },
          "metadata": {
            "tags": []
          }
        }
      ]
    },
    {
      "cell_type": "markdown",
      "metadata": {
        "id": "2og9fF9Tag5e"
      },
      "source": [
        "Useful Links :\n",
        "- https://www.kite.com/python/answers/how-to-extract-text-from-an-html-file-in-python\n",
        "\n",
        "- https://www.kaggle.com/roydatascience/extracting-text-from-html-file-using-python"
      ]
    }
  ]
}